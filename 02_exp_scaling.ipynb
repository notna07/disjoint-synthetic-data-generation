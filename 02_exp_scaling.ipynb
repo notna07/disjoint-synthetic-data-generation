{
 "cells": [
  {
   "cell_type": "markdown",
   "metadata": {},
   "source": [
    "# 02 Experiments with scaling\n",
    "\n",
    "In this document we continue our investigation of disjoint generative model. In paticular, we inspect the behaviour of the model when we do multiple splits beyond the original 2 splits. We compare to the efficiency of the original model and check the privacy and utility parameters under repeted rounds of experiments."
   ]
  },
  {
   "cell_type": "code",
   "execution_count": 30,
   "metadata": {},
   "outputs": [],
   "source": [
    "### Generate figures for the paper\n",
    "\n",
    "import os\n",
    "import time\n",
    "import pandas as pd\n",
    "\n",
    "from typing import Dict\n",
    "from pandas import DataFrame\n",
    "\n",
    "import matplotlib.pyplot as plt\n",
    "rcp = {'font.size': 10, 'font.family': 'serif', \"mathtext.fontset\": \"dejavuserif\"}\n",
    "plt.rcParams.update(**rcp)\n",
    "\n",
    "from disjoint_generative_model import DisjointGenerativeModels\n",
    "\n",
    "from disjoint_generative_model.utils.joining_strategies import JoinStrategy\n",
    "from disjoint_generative_model.utils.generative_model_adapters import generate_synthetic_data\n",
    "\n",
    "from syntheval import SynthEval\n",
    "\n",
    "metrics = {\n",
    "    \"corr_diff\" : {\"mixed_corr\": True},\n",
    "    \"auroc_diff\" : {\"model\": \"rf_cls\"},\n",
    "    \"cls_acc\"   : {\"F1_type\": \"macro\"},\n",
    "    \"eps_risk\"  : {},\n",
    "}\n",
    "\n",
    "def data_for_time_privacy_and_utility_figure(\n",
    "    model: str,\n",
    "    num_repetitions: int,\n",
    "    dgms_strategy: JoinStrategy,\n",
    "    train_data: Dict[str, DataFrame],\n",
    "    test_data: Dict[str, DataFrame],\n",
    "    target_vars: Dict[str, str]) -> DataFrame:\n",
    "    \"\"\" Generate a figure for training times and utility/privacy trade-off \"\"\"\n",
    "\n",
    "    steps = [2,3,4]\n",
    "\n",
    "    results_df = pd.DataFrame(columns=['data','step','rep_idx','time','utility','privacy'])\n",
    "\n",
    "    # do baselines first\n",
    "    for data_name, data_df in train_data.items():\n",
    "        syn_data = {}\n",
    "        for i in range(num_repetitions):\n",
    "            start = time.time()\n",
    "            df_syn = generate_synthetic_data(data_df, model)\n",
    "            end = time.time()\n",
    "\n",
    "            syn_data[data_name+'0'+'r'+str(i)] = df_syn\n",
    "            \n",
    "            results_df.loc[len(results_df)] = {'data':data_name, 'step': 1, 'rep_idx':i,'time':end-start, 'utility':0,'privacy':0}\n",
    "            \n",
    "            for step in steps:\n",
    "                start = time.time()\n",
    "                dgms = DisjointGenerativeModels(data_df, step*[model], dgms_strategy)   \n",
    "                df_dgms = dgms.fit_generate()\n",
    "                end = time.time()\n",
    "\n",
    "                syn_data[data_name+str(step)+'r'+str(i)] = df_dgms\n",
    "                results_df.loc[len(results_df)] = {'data':data_name, 'step': step, 'rep_idx':i, 'time':end-start, 'utility':0,'privacy':0}\n",
    "\n",
    "        SE = SynthEval(data_df, test_data[data_name], verbose=False)\n",
    "        res, _ = SE.benchmark(syn_data, analysis_target_var=target_vars[data_name], **metrics, rank_strategy='summation')\n",
    "\n",
    "        print(res['u_rank'].tolist())\n",
    "        results_df.loc[results_df['data']==data_name, 'utility'] = res['u_rank'].tolist()\n",
    "        results_df.loc[results_df['data']==data_name, 'privacy'] = res['p_rank'].tolist()\n",
    "\n",
    "    return results_df"
   ]
  },
  {
   "cell_type": "code",
   "execution_count": null,
   "metadata": {},
   "outputs": [
    {
     "name": "stderr",
     "output_type": "stream",
     "text": [
      "Find out more at https://www.synthpop.org.uk/\n"
     ]
    },
    {
     "name": "stdout",
     "output_type": "stream",
     "text": [
      "\n",
      "Variable(s): Race, Marital.Status, T.Stage, N.Stage, Sixth.Stage, differentiate, A.Stage, Estrogen.Status, Progesterone.Status, Status have been changed for synthesis from character to factor.\n",
      "Warning: In your synthesis there are numeric variables with 5 or fewer levels: Grade.\n",
      "Consider changing them to factors. You can do it using parameter 'minnumlevels'.\n",
      "Synthetic data exported as csv file(s).\n",
      "Information on synthetic data written to\n",
      "  /home/lautrup/repositories/disjoint-synthetic-data-generation/synthesis_info_synthpop_temp_0_synthpop.txt \n"
     ]
    },
    {
     "name": "stderr",
     "output_type": "stream",
     "text": [
      "Find out more at https://www.synthpop.org.uk/\n",
      "Find out more at https://www.synthpop.org.uk/\n"
     ]
    },
    {
     "name": "stdout",
     "output_type": "stream",
     "text": [
      "Warning: In your synthesis there are numeric variables with 5 or fewer levels: Sixth.Stage.\n",
      "Consider changing them to factors. You can do it using parameter 'minnumlevels'.\n",
      "\n",
      "Variable(s): Estrogen.Status, Status, A.Stage, Progesterone.Status numeric but with only 3 or fewer distinct values turned into factor(s) for synthesis.\n",
      "\n",
      "Warning: In your synthesis there are numeric variables with 5 or fewer levels: differentiate, Marital.Status, Grade, T.Stage.\n",
      "Consider changing them to factors. You can do it using parameter 'minnumlevels'.\n",
      "\n",
      "Variable(s): N.Stage, Race numeric but with only 3 or fewer distinct values turned into factor(s) for synthesis.\n",
      "\n",
      "Synthetic data exported as csv file(s).\n",
      "Information on synthetic data written to\n",
      "  /home/lautrup/repositories/disjoint-synthetic-data-generation/synthesis_info_synthpop_temp_1_synthpop.txt \n",
      "Synthetic data exported as csv file(s).\n",
      "Information on synthetic data written to\n",
      "  /home/lautrup/repositories/disjoint-synthetic-data-generation/synthesis_info_synthpop_temp_0_synthpop.txt \n"
     ]
    },
    {
     "name": "stderr",
     "output_type": "stream",
     "text": [
      "/home/lautrup/repositories/disjoint-synthetic-data-generation/disjoint_generative_model/utils/dataset_manager.py:35: UserWarning: Split sizes adjusted to {'split0': 6, 'split1': 5, 'split2': 5}\n",
      "  warnings.warn(f\"Split sizes adjusted to {split_sizes}\")\n",
      "Find out more at https://www.synthpop.org.uk/\n",
      "Find out more at https://www.synthpop.org.uk/\n",
      "Find out more at https://www.synthpop.org.uk/\n"
     ]
    },
    {
     "name": "stdout",
     "output_type": "stream",
     "text": [
      "Warning: In your synthesis there are numeric variables with 5 or fewer levels: differentiate.\n",
      "Consider changing them to factors. You can do it using parameter 'minnumlevels'.\n",
      "\n",
      "Variable(s): A.Stage numeric but with only 3 or fewer distinct values turned into factor(s) for synthesis.\n",
      "\n",
      "Warning: In your synthesis there are numeric variables with 5 or fewer levels: Marital.Status, Grade, T.Stage.\n",
      "Consider changing them to factors. You can do it using parameter 'minnumlevels'.\n",
      "Warning: In your synthesis there are numeric variables with 5 or fewer levels: Sixth.Stage.\n",
      "Consider changing them to factors. You can do it using parameter 'minnumlevels'.\n",
      "\n",
      "Variable(s): Estrogen.Status numeric but with only 3 or fewer distinct values turned into factor(s) for synthesis.\n",
      "\n",
      "\n",
      "Variable(s): N.Stage, Race, Status, Progesterone.Status numeric but with only 3 or fewer distinct values turned into factor(s) for synthesis.\n",
      "\n",
      "Synthetic data exported as csv file(s).\n",
      "Information on synthetic data written to\n",
      "  /home/lautrup/repositories/disjoint-synthetic-data-generation/synthesis_info_synthpop_temp_2_synthpop.txt \n",
      "Synthetic data exported as csv file(s).\n",
      "Information on synthetic data written to\n",
      "  /home/lautrup/repositories/disjoint-synthetic-data-generation/synthesis_info_synthpop_temp_1_synthpop.txt \n",
      "Synthetic data exported as csv file(s).\n",
      "Information on synthetic data written to\n",
      "  /home/lautrup/repositories/disjoint-synthetic-data-generation/synthesis_info_synthpop_temp_0_synthpop.txt \n"
     ]
    },
    {
     "name": "stderr",
     "output_type": "stream",
     "text": [
      "Find out more at https://www.synthpop.org.uk/\n",
      "Find out more at https://www.synthpop.org.uk/\n",
      "Find out more at https://www.synthpop.org.uk/\n",
      "Find out more at https://www.synthpop.org.uk/\n"
     ]
    },
    {
     "name": "stdout",
     "output_type": "stream",
     "text": [
      "Warning: In your synthesis there are numeric variables with 5 or fewer levels: Sixth.Stage, Marital.Status, Grade.\n",
      "Consider changing them to factors. You can do it using parameter 'minnumlevels'.\n",
      "Warning: In your synthesis there are numeric variables with 5 or fewer levels: differentiate.\n",
      "Consider changing them to factors. You can do it using parameter 'minnumlevels'.\n",
      "\n",
      "Variable(s): Progesterone.Status numeric but with only 3 or fewer distinct values turned into factor(s) for synthesis.\n",
      "\n",
      "\n",
      "Variable(s): A.Stage, Race, Status numeric but with only 3 or fewer distinct values turned into factor(s) for synthesis.\n",
      "\n",
      "Warning: In your synthesis there are numeric variables with 5 or fewer levels: T.Stage.\n",
      "Consider changing them to factors. You can do it using parameter 'minnumlevels'.\n",
      "\n",
      "Variable(s): N.Stage, Estrogen.Status numeric but with only 3 or fewer distinct values turned into factor(s) for synthesis.\n",
      "\n",
      "Synthetic data exported as csv file(s).\n",
      "Information on synthetic data written to\n",
      "  /home/lautrup/repositories/disjoint-synthetic-data-generation/synthesis_info_synthpop_temp_2_synthpop.txt \n",
      "Synthetic data exported as csv file(s).\n",
      "Information on synthetic data written to\n",
      "  /home/lautrup/repositories/disjoint-synthetic-data-generation/synthesis_info_synthpop_temp_3_synthpop.txt \n",
      "Synthetic data exported as csv file(s).\n",
      "Information on synthetic data written to\n",
      "  /home/lautrup/repositories/disjoint-synthetic-data-generation/synthesis_info_synthpop_temp_0_synthpop.txt \n",
      "Synthetic data exported as csv file(s).\n",
      "Information on synthetic data written to\n",
      "  /home/lautrup/repositories/disjoint-synthetic-data-generation/synthesis_info_synthpop_temp_1_synthpop.txt \n"
     ]
    },
    {
     "name": "stderr",
     "output_type": "stream",
     "text": [
      "Find out more at https://www.synthpop.org.uk/\n"
     ]
    },
    {
     "name": "stdout",
     "output_type": "stream",
     "text": [
      "\n",
      "Variable(s): Race, Marital.Status, T.Stage, N.Stage, Sixth.Stage, differentiate, A.Stage, Estrogen.Status, Progesterone.Status, Status have been changed for synthesis from character to factor.\n",
      "Warning: In your synthesis there are numeric variables with 5 or fewer levels: Grade.\n",
      "Consider changing them to factors. You can do it using parameter 'minnumlevels'.\n",
      "Synthetic data exported as csv file(s).\n",
      "Information on synthetic data written to\n",
      "  /home/lautrup/repositories/disjoint-synthetic-data-generation/synthesis_info_synthpop_temp_0_synthpop.txt \n"
     ]
    },
    {
     "name": "stderr",
     "output_type": "stream",
     "text": [
      "Find out more at https://www.synthpop.org.uk/\n",
      "Find out more at https://www.synthpop.org.uk/\n"
     ]
    },
    {
     "name": "stdout",
     "output_type": "stream",
     "text": [
      "\n",
      "Variable(s): Estrogen.Status, A.Stage, N.Stage, Race numeric but with only 3 or fewer distinct values turned into factor(s) for synthesis.\n",
      "\n",
      "Warning: In your synthesis there are numeric variables with 5 or fewer levels: differentiate, T.Stage, Grade, Marital.Status, Sixth.Stage.\n",
      "Consider changing them to factors. You can do it using parameter 'minnumlevels'.\n",
      "\n",
      "Variable(s): Progesterone.Status, Status numeric but with only 3 or fewer distinct values turned into factor(s) for synthesis.\n",
      "\n",
      "Synthetic data exported as csv file(s).\n",
      "Information on synthetic data written to\n",
      "  /home/lautrup/repositories/disjoint-synthetic-data-generation/synthesis_info_synthpop_temp_0_synthpop.txt \n",
      "Synthetic data exported as csv file(s).\n",
      "Information on synthetic data written to\n",
      "  /home/lautrup/repositories/disjoint-synthetic-data-generation/synthesis_info_synthpop_temp_1_synthpop.txt \n"
     ]
    },
    {
     "name": "stderr",
     "output_type": "stream",
     "text": [
      "/home/lautrup/repositories/disjoint-synthetic-data-generation/disjoint_generative_model/utils/dataset_manager.py:35: UserWarning: Split sizes adjusted to {'split0': 6, 'split1': 5, 'split2': 5}\n",
      "  warnings.warn(f\"Split sizes adjusted to {split_sizes}\")\n",
      "Find out more at https://www.synthpop.org.uk/\n",
      "Find out more at https://www.synthpop.org.uk/\n",
      "Find out more at https://www.synthpop.org.uk/\n"
     ]
    },
    {
     "name": "stdout",
     "output_type": "stream",
     "text": [
      "Warning: In your synthesis there are numeric variables with 5 or fewer levels: Sixth.Stage, differentiate, Marital.Status.\n",
      "Consider changing them to factors. You can do it using parameter 'minnumlevels'.\n",
      "\n",
      "Variable(s): N.Stage, Status numeric but with only 3 or fewer distinct values turned into factor(s) for synthesis.\n",
      "\n",
      "\n",
      "Variable(s): Estrogen.Status numeric but with only 3 or fewer distinct values turned into factor(s) for synthesis.\n",
      "\n",
      "Warning: In your synthesis there are numeric variables with 5 or fewer levels: T.Stage, Grade.\n",
      "Consider changing them to factors. You can do it using parameter 'minnumlevels'.\n",
      "\n",
      "Variable(s): A.Stage, Progesterone.Status, Race numeric but with only 3 or fewer distinct values turned into factor(s) for synthesis.\n",
      "\n",
      "Synthetic data exported as csv file(s).\n",
      "Information on synthetic data written to\n",
      "  /home/lautrup/repositories/disjoint-synthetic-data-generation/synthesis_info_synthpop_temp_1_synthpop.txt \n",
      "Synthetic data exported as csv file(s).\n",
      "Information on synthetic data written to\n",
      "  /home/lautrup/repositories/disjoint-synthetic-data-generation/synthesis_info_synthpop_temp_2_synthpop.txt \n",
      "Synthetic data exported as csv file(s).\n",
      "Information on synthetic data written to\n",
      "  /home/lautrup/repositories/disjoint-synthetic-data-generation/synthesis_info_synthpop_temp_0_synthpop.txt \n"
     ]
    },
    {
     "name": "stderr",
     "output_type": "stream",
     "text": [
      "Find out more at https://www.synthpop.org.uk/\n",
      "Find out more at https://www.synthpop.org.uk/\n",
      "Find out more at https://www.synthpop.org.uk/\n",
      "Find out more at https://www.synthpop.org.uk/\n"
     ]
    },
    {
     "name": "stdout",
     "output_type": "stream",
     "text": [
      "Warning: In your synthesis there are numeric variables with 5 or fewer levels: Marital.Status.\n",
      "Consider changing them to factors. You can do it using parameter 'minnumlevels'.\n",
      "Warning: In your synthesis there are numeric variables with 5 or fewer levels: T.Stage.\n",
      "Consider changing them to factors. You can do it using parameter 'minnumlevels'.\n",
      "\n",
      "Variable(s): Progesterone.Status, Estrogen.Status numeric but with only 3 or fewer distinct values turned into factor(s) for synthesis.\n",
      "\n",
      "\n",
      "Variable(s): N.Stage numeric but with only 3 or fewer distinct values turned into factor(s) for synthesis.\n",
      "\n",
      "Warning: In your synthesis there are numeric variables with 5 or fewer levels: Grade.\n",
      "Consider changing them to factors. You can do it using parameter 'minnumlevels'.\n",
      "\n",
      "Variable(s): Status, Race numeric but with only 3 or fewer distinct values turned into factor(s) for synthesis.\n",
      "\n",
      "Warning: In your synthesis there are numeric variables with 5 or fewer levels: Sixth.Stage, differentiate.\n",
      "Consider changing them to factors. You can do it using parameter 'minnumlevels'.\n",
      "\n",
      "Variable(s): A.Stage numeric but with only 3 or fewer distinct values turned into factor(s) for synthesis.\n",
      "\n",
      "Synthetic data exported as csv file(s).\n",
      "Information on synthetic data written to\n",
      "  /home/lautrup/repositories/disjoint-synthetic-data-generation/synthesis_info_synthpop_temp_2_synthpop.txt \n",
      "Synthetic data exported as csv file(s).\n",
      "Information on synthetic data written to\n",
      "  /home/lautrup/repositories/disjoint-synthetic-data-generation/synthesis_info_synthpop_temp_0_synthpop.txt \n",
      "Synthetic data exported as csv file(s).\n",
      "Information on synthetic data written to\n",
      "  /home/lautrup/repositories/disjoint-synthetic-data-generation/synthesis_info_synthpop_temp_1_synthpop.txt \n",
      "Synthetic data exported as csv file(s).\n",
      "Information on synthetic data written to\n",
      "  /home/lautrup/repositories/disjoint-synthetic-data-generation/synthesis_info_synthpop_temp_3_synthpop.txt \n"
     ]
    },
    {
     "name": "stderr",
     "output_type": "stream",
     "text": [
      "Find out more at https://www.synthpop.org.uk/\n"
     ]
    },
    {
     "name": "stdout",
     "output_type": "stream",
     "text": [
      "\n",
      "Variable(s): Race, Marital.Status, T.Stage, N.Stage, Sixth.Stage, differentiate, A.Stage, Estrogen.Status, Progesterone.Status, Status have been changed for synthesis from character to factor.\n",
      "Warning: In your synthesis there are numeric variables with 5 or fewer levels: Grade.\n",
      "Consider changing them to factors. You can do it using parameter 'minnumlevels'.\n",
      "Synthetic data exported as csv file(s).\n",
      "Information on synthetic data written to\n",
      "  /home/lautrup/repositories/disjoint-synthetic-data-generation/synthesis_info_synthpop_temp_0_synthpop.txt \n"
     ]
    },
    {
     "name": "stderr",
     "output_type": "stream",
     "text": [
      "Find out more at https://www.synthpop.org.uk/\n",
      "Find out more at https://www.synthpop.org.uk/\n"
     ]
    },
    {
     "name": "stdout",
     "output_type": "stream",
     "text": [
      "Warning: In your synthesis there are numeric variables with 5 or fewer levels: Marital.Status.\n",
      "Consider changing them to factors. You can do it using parameter 'minnumlevels'.\n",
      "\n",
      "Variable(s): A.Stage, Race, Progesterone.Status, Estrogen.Status numeric but with only 3 or fewer distinct values turned into factor(s) for synthesis.\n",
      "\n",
      "Warning: In your synthesis there are numeric variables with 5 or fewer levels: T.Stage, Sixth.Stage, Grade, differentiate.\n",
      "Consider changing them to factors. You can do it using parameter 'minnumlevels'.\n",
      "\n",
      "Variable(s): N.Stage, Status numeric but with only 3 or fewer distinct values turned into factor(s) for synthesis.\n",
      "\n",
      "Synthetic data exported as csv file(s).\n",
      "Information on synthetic data written to\n",
      "  /home/lautrup/repositories/disjoint-synthetic-data-generation/synthesis_info_synthpop_temp_0_synthpop.txt \n",
      "Synthetic data exported as csv file(s).\n",
      "Information on synthetic data written to\n",
      "  /home/lautrup/repositories/disjoint-synthetic-data-generation/synthesis_info_synthpop_temp_1_synthpop.txt \n"
     ]
    },
    {
     "name": "stderr",
     "output_type": "stream",
     "text": [
      "/home/lautrup/repositories/disjoint-synthetic-data-generation/disjoint_generative_model/utils/dataset_manager.py:35: UserWarning: Split sizes adjusted to {'split0': 6, 'split1': 5, 'split2': 5}\n",
      "  warnings.warn(f\"Split sizes adjusted to {split_sizes}\")\n",
      "Find out more at https://www.synthpop.org.uk/\n",
      "Find out more at https://www.synthpop.org.uk/\n",
      "Find out more at https://www.synthpop.org.uk/\n"
     ]
    },
    {
     "name": "stdout",
     "output_type": "stream",
     "text": [
      "Warning: In your synthesis there are numeric variables with 5 or fewer levels: Sixth.Stage, T.Stage.\n",
      "Consider changing them to factors. You can do it using parameter 'minnumlevels'.\n",
      "\n",
      "Variable(s): A.Stage numeric but with only 3 or fewer distinct values turned into factor(s) for synthesis.\n",
      "\n",
      "Warning: In your synthesis there are numeric variables with 5 or fewer levels: Marital.Status.\n",
      "Consider changing them to factors. You can do it using parameter 'minnumlevels'.\n",
      "\n",
      "Variable(s): N.Stage, Estrogen.Status, Race numeric but with only 3 or fewer distinct values turned into factor(s) for synthesis.\n",
      "\n",
      "Warning: In your synthesis there are numeric variables with 5 or fewer levels: Grade, differentiate.\n",
      "Consider changing them to factors. You can do it using parameter 'minnumlevels'.\n",
      "\n",
      "Variable(s): Status, Progesterone.Status numeric but with only 3 or fewer distinct values turned into factor(s) for synthesis.\n",
      "\n",
      "Synthetic data exported as csv file(s).\n",
      "Information on synthetic data written to\n",
      "  /home/lautrup/repositories/disjoint-synthetic-data-generation/synthesis_info_synthpop_temp_1_synthpop.txt \n",
      "Synthetic data exported as csv file(s).\n",
      "Information on synthetic data written to\n",
      "  /home/lautrup/repositories/disjoint-synthetic-data-generation/synthesis_info_synthpop_temp_2_synthpop.txt \n",
      "Synthetic data exported as csv file(s).\n",
      "Information on synthetic data written to\n",
      "  /home/lautrup/repositories/disjoint-synthetic-data-generation/synthesis_info_synthpop_temp_0_synthpop.txt \n"
     ]
    },
    {
     "name": "stderr",
     "output_type": "stream",
     "text": [
      "Find out more at https://www.synthpop.org.uk/\n",
      "Find out more at https://www.synthpop.org.uk/\n",
      "Find out more at https://www.synthpop.org.uk/\n",
      "Find out more at https://www.synthpop.org.uk/\n"
     ]
    },
    {
     "name": "stdout",
     "output_type": "stream",
     "text": [
      "Warning: In your synthesis there are numeric variables with 5 or fewer levels: differentiate.\n",
      "Consider changing them to factors. You can do it using parameter 'minnumlevels'.\n",
      "\n",
      "Variable(s): A.Stage numeric but with only 3 or fewer distinct values turned into factor(s) for synthesis.\n",
      "\n",
      "Warning: In your synthesis there are numeric variables with 5 or fewer levels: Marital.Status.\n",
      "Consider changing them to factors. You can do it using parameter 'minnumlevels'.\n",
      "\n",
      "Variable(s): Estrogen.Status numeric but with only 3 or fewer distinct values turned into factor(s) for synthesis.\n",
      "\n",
      "Warning: In your synthesis there are numeric variables with 5 or fewer levels: Sixth.Stage, T.Stage.\n",
      "Consider changing them to factors. You can do it using parameter 'minnumlevels'.\n",
      "\n",
      "Variable(s): N.Stage, Race numeric but with only 3 or fewer distinct values turned into factor(s) for synthesis.\n",
      "\n",
      "Synthetic data exported as csv file(s).\n",
      "Information on synthetic data written to\n",
      "  /home/lautrup/repositories/disjoint-synthetic-data-generation/synthesis_info_synthpop_temp_2_synthpop.txt \n",
      "Synthetic data exported as csv file(s).\n",
      "Information on synthetic data written to\n",
      "  /home/lautrup/repositories/disjoint-synthetic-data-generation/synthesis_info_synthpop_temp_0_synthpop.txt \n",
      "Warning: In your synthesis there are numeric variables with 5 or fewer levels: Grade.\n",
      "Consider changing them to factors. You can do it using parameter 'minnumlevels'.\n",
      "\n",
      "Variable(s): Status, Progesterone.Status numeric but with only 3 or fewer distinct values turned into factor(s) for synthesis.\n",
      "\n",
      "Synthetic data exported as csv file(s).\n",
      "Information on synthetic data written to\n",
      "  /home/lautrup/repositories/disjoint-synthetic-data-generation/synthesis_info_synthpop_temp_3_synthpop.txt \n",
      "Synthetic data exported as csv file(s).\n",
      "Information on synthetic data written to\n",
      "  /home/lautrup/repositories/disjoint-synthetic-data-generation/synthesis_info_synthpop_temp_1_synthpop.txt \n",
      "[3.978336315208332, 3.42063672558794, 3.385757079056603, 3.2180537601799055, 3.9492904329051086, 3.4658276225084936, 3.9325579275925886, 3.392312779225989, 3.9695635349976053, 3.4113272547996845, 3.3254956382627734, 3.273027834564508]\n"
     ]
    },
    {
     "name": "stderr",
     "output_type": "stream",
     "text": [
      "/tmp/ipykernel_1173930/4135256040.py:63: FutureWarning: Setting an item of incompatible dtype is deprecated and will raise an error in a future version of pandas. Value '[3.978336315208332, 3.42063672558794, 3.385757079056603, 3.2180537601799055, 3.9492904329051086, 3.4658276225084936, 3.9325579275925886, 3.392312779225989, 3.9695635349976053, 3.4113272547996845, 3.3254956382627734, 3.273027834564508]' has dtype incompatible with int64, please explicitly cast to a compatible dtype first.\n",
      "  results_df.loc[results_df['data']==data_name, 'utility'] = res['u_rank'].tolist()\n",
      "/tmp/ipykernel_1173930/4135256040.py:64: FutureWarning: Setting an item of incompatible dtype is deprecated and will raise an error in a future version of pandas. Value '[1.1174496644295302, 1.6610738255033557, 1.8210290827740492, 1.8333333333333335, 1.1524981357196122, 1.4843400447427293, 1.8586875466070096, 1.8765846383296048, 1.1196868008948546, 1.5712155108128263, 1.6677852348993287, 1.8501118568232662]' has dtype incompatible with int64, please explicitly cast to a compatible dtype first.\n",
      "  results_df.loc[results_df['data']==data_name, 'privacy'] = res['p_rank'].tolist()\n",
      "Find out more at https://www.synthpop.org.uk/\n"
     ]
    },
    {
     "name": "stdout",
     "output_type": "stream",
     "text": [
      "Warning: In your synthesis there are numeric variables with 5 or fewer levels: STDs..number..\n",
      "Consider changing them to factors. You can do it using parameter 'minnumlevels'.\n",
      "\n",
      "Variable(s): Smokes, Hormonal.Contraceptives, IUD, STDs, STDs.condylomatosis, STDs.cervical.condylomatosis, STDs.vaginal.condylomatosis, STDs.vulvo.perineal.condylomatosis, STDs.syphilis, STDs.pelvic.inflammatory.disease, STDs.genital.herpes, STDs.molluscum.contagiosum, STDs.AIDS, STDs.HIV, STDs.Hepatitis.B, STDs.HPV, STDs..Number.of.diagnosis, Dx.Cancer, Dx.CIN, Dx.HPV, Dx, Hinselmann, Schiller, Citology, Biopsy numeric but with only 3 or fewer distinct values turned into factor(s) for synthesis.\n",
      "\n",
      "Synthetic data exported as csv file(s).\n",
      "Information on synthetic data written to\n",
      "  /home/lautrup/repositories/disjoint-synthetic-data-generation/synthesis_info_synthpop_temp_0_synthpop.txt \n"
     ]
    },
    {
     "name": "stderr",
     "output_type": "stream",
     "text": [
      "Find out more at https://www.synthpop.org.uk/\n",
      "Find out more at https://www.synthpop.org.uk/\n"
     ]
    },
    {
     "name": "stdout",
     "output_type": "stream",
     "text": [
      "\n",
      "Variable(s): STDs.cervical.condylomatosis, STDs.HPV, STDs.vaginal.condylomatosis, STDs.pelvic.inflammatory.disease, STDs.Hepatitis.B, STDs..Number.of.diagnosis, STDs.genital.herpes, Biopsy, STDs.HIV, Dx.HPV, Hinselmann, IUD, STDs, STDs.vulvo.perineal.condylomatosis numeric but with only 3 or fewer distinct values turned into factor(s) for synthesis.\n",
      "\n",
      "Warning: In your synthesis there are numeric variables with 5 or fewer levels: STDs..number..\n",
      "Consider changing them to factors. You can do it using parameter 'minnumlevels'.\n",
      "\n",
      "Variable(s): Citology, Dx.Cancer, STDs.AIDS, Smokes, STDs.condylomatosis, Dx, Schiller, STDs.syphilis, STDs.molluscum.contagiosum, Dx.CIN, Hormonal.Contraceptives numeric but with only 3 or fewer distinct values turned into factor(s) for synthesis.\n",
      "\n",
      "Synthetic data exported as csv file(s).\n",
      "Information on synthetic data written to\n",
      "  /home/lautrup/repositories/disjoint-synthetic-data-generation/synthesis_info_synthpop_temp_0_synthpop.txt \n",
      "Synthetic data exported as csv file(s).\n",
      "Information on synthetic data written to\n",
      "  /home/lautrup/repositories/disjoint-synthetic-data-generation/synthesis_info_synthpop_temp_1_synthpop.txt \n"
     ]
    },
    {
     "name": "stderr",
     "output_type": "stream",
     "text": [
      "/home/lautrup/repositories/disjoint-synthetic-data-generation/disjoint_generative_model/utils/dataset_manager.py:35: UserWarning: Split sizes adjusted to {'split0': 12, 'split1': 11, 'split2': 11}\n",
      "  warnings.warn(f\"Split sizes adjusted to {split_sizes}\")\n",
      "Find out more at https://www.synthpop.org.uk/\n",
      "Find out more at https://www.synthpop.org.uk/\n",
      "Find out more at https://www.synthpop.org.uk/\n"
     ]
    },
    {
     "name": "stdout",
     "output_type": "stream",
     "text": [
      "\n",
      "Variable(s): STDs.AIDS, STDs.molluscum.contagiosum, STDs..Number.of.diagnosis, Dx.Cancer, IUD, STDs.condylomatosis, Biopsy numeric but with only 3 or fewer distinct values turned into factor(s) for synthesis.\n",
      "\n",
      "Warning: In your synthesis there are numeric variables with 5 or fewer levels: STDs..number..\n",
      "Consider changing them to factors. You can do it using parameter 'minnumlevels'.\n",
      "\n",
      "Variable(s): STDs.vulvo.perineal.condylomatosis, Hormonal.Contraceptives, STDs.Hepatitis.B, STDs.pelvic.inflammatory.disease, STDs.HIV, Citology, Hinselmann, STDs.cervical.condylomatosis, Smokes numeric but with only 3 or fewer distinct values turned into factor(s) for synthesis.\n",
      "\n",
      "\n",
      "Variable(s): STDs.syphilis, Dx.CIN, STDs.genital.herpes, Schiller, STDs, Dx.HPV, STDs.vaginal.condylomatosis, STDs.HPV, Dx numeric but with only 3 or fewer distinct values turned into factor(s) for synthesis.\n",
      "\n",
      "Synthetic data exported as csv file(s).\n",
      "Information on synthetic data written to\n",
      "  /home/lautrup/repositories/disjoint-synthetic-data-generation/synthesis_info_synthpop_temp_1_synthpop.txt \n",
      "Synthetic data exported as csv file(s).\n",
      "Information on synthetic data written to\n",
      "  /home/lautrup/repositories/disjoint-synthetic-data-generation/synthesis_info_synthpop_temp_2_synthpop.txt \n",
      "Synthetic data exported as csv file(s).\n",
      "Information on synthetic data written to\n",
      "  /home/lautrup/repositories/disjoint-synthetic-data-generation/synthesis_info_synthpop_temp_0_synthpop.txt \n"
     ]
    },
    {
     "name": "stderr",
     "output_type": "stream",
     "text": [
      "/home/lautrup/repositories/disjoint-synthetic-data-generation/disjoint_generative_model/utils/dataset_manager.py:35: UserWarning: Split sizes adjusted to {'split0': 10, 'split1': 8, 'split2': 8, 'split3': 8}\n",
      "  warnings.warn(f\"Split sizes adjusted to {split_sizes}\")\n",
      "Find out more at https://www.synthpop.org.uk/\n",
      "Find out more at https://www.synthpop.org.uk/\n",
      "Find out more at https://www.synthpop.org.uk/\n",
      "Find out more at https://www.synthpop.org.uk/\n"
     ]
    },
    {
     "name": "stdout",
     "output_type": "stream",
     "text": [
      "Warning: In your synthesis there are numeric variables with 5 or fewer levels: STDs..number..\n",
      "Consider changing them to factors. You can do it using parameter 'minnumlevels'.\n",
      "\n",
      "Variable(s): Smokes, STDs.Hepatitis.B, Dx.CIN, STDs.vulvo.perineal.condylomatosis, Dx.Cancer, STDs.genital.herpes numeric but with only 3 or fewer distinct values turned into factor(s) for synthesis.\n",
      "\n",
      "\n",
      "Variable(s): Dx.HPV, STDs, STDs.cervical.condylomatosis, STDs.AIDS, STDs.vaginal.condylomatosis, STDs.syphilis, STDs.pelvic.inflammatory.disease, Dx numeric but with only 3 or fewer distinct values turned into factor(s) for synthesis.\n",
      "\n",
      "\n",
      "Variable(s): Hinselmann, STDs.HPV, Citology, Hormonal.Contraceptives, IUD numeric but with only 3 or fewer distinct values turned into factor(s) for synthesis.\n",
      "\n",
      "Synthetic data exported as csv file(s).\n",
      "Information on synthetic data written to\n",
      "  /home/lautrup/repositories/disjoint-synthetic-data-generation/synthesis_info_synthpop_temp_1_synthpop.txt \n",
      "\n",
      "Variable(s): STDs..Number.of.diagnosis, STDs.condylomatosis, Biopsy, Schiller, STDs.molluscum.contagiosum, STDs.HIV numeric but with only 3 or fewer distinct values turned into factor(s) for synthesis.\n",
      "\n",
      "Synthetic data exported as csv file(s).\n",
      "Information on synthetic data written to\n",
      "  /home/lautrup/repositories/disjoint-synthetic-data-generation/synthesis_info_synthpop_temp_2_synthpop.txt \n",
      "Synthetic data exported as csv file(s).\n",
      "Information on synthetic data written to\n",
      "  /home/lautrup/repositories/disjoint-synthetic-data-generation/synthesis_info_synthpop_temp_3_synthpop.txt \n",
      "Synthetic data exported as csv file(s).\n",
      "Information on synthetic data written to\n",
      "  /home/lautrup/repositories/disjoint-synthetic-data-generation/synthesis_info_synthpop_temp_0_synthpop.txt \n"
     ]
    },
    {
     "name": "stderr",
     "output_type": "stream",
     "text": [
      "Find out more at https://www.synthpop.org.uk/\n"
     ]
    },
    {
     "name": "stdout",
     "output_type": "stream",
     "text": [
      "Warning: In your synthesis there are numeric variables with 5 or fewer levels: STDs..number..\n",
      "Consider changing them to factors. You can do it using parameter 'minnumlevels'.\n",
      "\n",
      "Variable(s): Smokes, Hormonal.Contraceptives, IUD, STDs, STDs.condylomatosis, STDs.cervical.condylomatosis, STDs.vaginal.condylomatosis, STDs.vulvo.perineal.condylomatosis, STDs.syphilis, STDs.pelvic.inflammatory.disease, STDs.genital.herpes, STDs.molluscum.contagiosum, STDs.AIDS, STDs.HIV, STDs.Hepatitis.B, STDs.HPV, STDs..Number.of.diagnosis, Dx.Cancer, Dx.CIN, Dx.HPV, Dx, Hinselmann, Schiller, Citology, Biopsy numeric but with only 3 or fewer distinct values turned into factor(s) for synthesis.\n",
      "\n",
      "Synthetic data exported as csv file(s).\n",
      "Information on synthetic data written to\n",
      "  /home/lautrup/repositories/disjoint-synthetic-data-generation/synthesis_info_synthpop_temp_0_synthpop.txt \n"
     ]
    },
    {
     "name": "stderr",
     "output_type": "stream",
     "text": [
      "Find out more at https://www.synthpop.org.uk/\n",
      "Find out more at https://www.synthpop.org.uk/\n"
     ]
    },
    {
     "name": "stdout",
     "output_type": "stream",
     "text": [
      "\n",
      "Variable(s): STDs.molluscum.contagiosum, Hormonal.Contraceptives, Biopsy, Dx, STDs.syphilis, Smokes, STDs.vulvo.perineal.condylomatosis, STDs.condylomatosis, STDs.HPV, STDs.AIDS, Schiller, STDs.genital.herpes, Citology numeric but with only 3 or fewer distinct values turned into factor(s) for synthesis.\n",
      "\n",
      "Warning: In your synthesis there are numeric variables with 5 or fewer levels: STDs..number..\n",
      "Consider changing them to factors. You can do it using parameter 'minnumlevels'.\n",
      "\n",
      "Variable(s): IUD, STDs.HIV, Dx.HPV, STDs.cervical.condylomatosis, STDs, STDs.pelvic.inflammatory.disease, STDs.Hepatitis.B, Dx.CIN, Dx.Cancer, STDs..Number.of.diagnosis, Hinselmann, STDs.vaginal.condylomatosis numeric but with only 3 or fewer distinct values turned into factor(s) for synthesis.\n",
      "\n",
      "Synthetic data exported as csv file(s).\n",
      "Information on synthetic data written to\n",
      "  /home/lautrup/repositories/disjoint-synthetic-data-generation/synthesis_info_synthpop_temp_0_synthpop.txt \n",
      "Synthetic data exported as csv file(s).\n",
      "Information on synthetic data written to\n",
      "  /home/lautrup/repositories/disjoint-synthetic-data-generation/synthesis_info_synthpop_temp_1_synthpop.txt \n"
     ]
    },
    {
     "name": "stderr",
     "output_type": "stream",
     "text": [
      "/home/lautrup/repositories/disjoint-synthetic-data-generation/disjoint_generative_model/utils/dataset_manager.py:35: UserWarning: Split sizes adjusted to {'split0': 12, 'split1': 11, 'split2': 11}\n",
      "  warnings.warn(f\"Split sizes adjusted to {split_sizes}\")\n",
      "Find out more at https://www.synthpop.org.uk/\n",
      "Find out more at https://www.synthpop.org.uk/\n",
      "Find out more at https://www.synthpop.org.uk/\n"
     ]
    },
    {
     "name": "stdout",
     "output_type": "stream",
     "text": [
      "\n",
      "Variable(s): STDs.cervical.condylomatosis, Hinselmann, STDs.molluscum.contagiosum, Dx.Cancer, STDs.Hepatitis.B, Hormonal.Contraceptives, STDs..Number.of.diagnosis, STDs.vaginal.condylomatosis numeric but with only 3 or fewer distinct values turned into factor(s) for synthesis.\n",
      "\n",
      "Warning: In your synthesis there are numeric variables with 5 or fewer levels: STDs..number..\n",
      "Consider changing them to factors. You can do it using parameter 'minnumlevels'.\n",
      "\n",
      "Variable(s): Schiller, Citology, Dx.HPV, Smokes, Biopsy, STDs.AIDS, Dx, STDs.syphilis, STDs.pelvic.inflammatory.disease numeric but with only 3 or fewer distinct values turned into factor(s) for synthesis.\n",
      "\n",
      "\n",
      "Variable(s): IUD, STDs.HPV, STDs.vulvo.perineal.condylomatosis, STDs.HIV, STDs.genital.herpes, STDs.condylomatosis, STDs, Dx.CIN numeric but with only 3 or fewer distinct values turned into factor(s) for synthesis.\n",
      "\n",
      "Synthetic data exported as csv file(s).\n",
      "Information on synthetic data written to\n",
      "  /home/lautrup/repositories/disjoint-synthetic-data-generation/synthesis_info_synthpop_temp_2_synthpop.txt \n",
      "Synthetic data exported as csv file(s).\n",
      "Information on synthetic data written to\n",
      "  /home/lautrup/repositories/disjoint-synthetic-data-generation/synthesis_info_synthpop_temp_0_synthpop.txt \n",
      "Synthetic data exported as csv file(s).\n",
      "Information on synthetic data written to\n",
      "  /home/lautrup/repositories/disjoint-synthetic-data-generation/synthesis_info_synthpop_temp_1_synthpop.txt \n"
     ]
    },
    {
     "name": "stderr",
     "output_type": "stream",
     "text": [
      "/home/lautrup/repositories/disjoint-synthetic-data-generation/disjoint_generative_model/utils/dataset_manager.py:35: UserWarning: Split sizes adjusted to {'split0': 10, 'split1': 8, 'split2': 8, 'split3': 8}\n",
      "  warnings.warn(f\"Split sizes adjusted to {split_sizes}\")\n",
      "Find out more at https://www.synthpop.org.uk/\n",
      "Find out more at https://www.synthpop.org.uk/\n",
      "Find out more at https://www.synthpop.org.uk/\n"
     ]
    },
    {
     "name": "stdout",
     "output_type": "stream",
     "text": [
      "Warning: In your synthesis there are numeric variables with 5 or fewer levels: STDs..number..\n",
      "Consider changing them to factors. You can do it using parameter 'minnumlevels'.\n",
      "\n",
      "Variable(s): Dx, STDs.cervical.condylomatosis, Biopsy, Schiller, STDs..Number.of.diagnosis, Dx.HPV, Smokes, STDs.pelvic.inflammatory.disease numeric but with only 3 or fewer distinct values turned into factor(s) for synthesis.\n",
      "\n",
      "\n",
      "Variable(s): Hinselmann, STDs.HPV, STDs.AIDS, STDs.Hepatitis.B, STDs.genital.herpes numeric but with only 3 or fewer distinct values turned into factor(s) for synthesis.\n",
      "\n",
      "\n",
      "Variable(s): STDs.HIV, STDs, STDs.condylomatosis, STDs.vulvo.perineal.condylomatosis, Dx.Cancer, Citology, IUD, STDs.vaginal.condylomatosis numeric but with only 3 or fewer distinct values turned into factor(s) for synthesis.\n",
      "\n",
      "Synthetic data exported as csv file(s).\n",
      "Information on synthetic data written to\n",
      "  /home/lautrup/repositories/disjoint-synthetic-data-generation/synthesis_info_synthpop_temp_3_synthpop.txt \n",
      "Synthetic data exported as csv file(s).\n",
      "Information on synthetic data written to\n",
      "  /home/lautrup/repositories/disjoint-synthetic-data-generation/synthesis_info_synthpop_temp_0_synthpop.txt \n",
      "Synthetic data exported as csv file(s).\n",
      "Information on synthetic data written to\n",
      "  /home/lautrup/repositories/disjoint-synthetic-data-generation/synthesis_info_synthpop_temp_1_synthpop.txt \n",
      "\n",
      "Variable(s): Dx.CIN, STDs.syphilis, STDs.molluscum.contagiosum, Hormonal.Contraceptives numeric but with only 3 or fewer distinct values turned into factor(s) for synthesis.\n",
      "\n"
     ]
    },
    {
     "name": "stderr",
     "output_type": "stream",
     "text": [
      "Find out more at https://www.synthpop.org.uk/\n"
     ]
    },
    {
     "name": "stdout",
     "output_type": "stream",
     "text": [
      "Synthetic data exported as csv file(s).\n",
      "Information on synthetic data written to\n",
      "  /home/lautrup/repositories/disjoint-synthetic-data-generation/synthesis_info_synthpop_temp_2_synthpop.txt \n"
     ]
    },
    {
     "name": "stderr",
     "output_type": "stream",
     "text": [
      "Find out more at https://www.synthpop.org.uk/\n"
     ]
    },
    {
     "name": "stdout",
     "output_type": "stream",
     "text": [
      "Warning: In your synthesis there are numeric variables with 5 or fewer levels: STDs..number..\n",
      "Consider changing them to factors. You can do it using parameter 'minnumlevels'.\n",
      "\n",
      "Variable(s): Smokes, Hormonal.Contraceptives, IUD, STDs, STDs.condylomatosis, STDs.cervical.condylomatosis, STDs.vaginal.condylomatosis, STDs.vulvo.perineal.condylomatosis, STDs.syphilis, STDs.pelvic.inflammatory.disease, STDs.genital.herpes, STDs.molluscum.contagiosum, STDs.AIDS, STDs.HIV, STDs.Hepatitis.B, STDs.HPV, STDs..Number.of.diagnosis, Dx.Cancer, Dx.CIN, Dx.HPV, Dx, Hinselmann, Schiller, Citology, Biopsy numeric but with only 3 or fewer distinct values turned into factor(s) for synthesis.\n",
      "\n",
      "Synthetic data exported as csv file(s).\n",
      "Information on synthetic data written to\n",
      "  /home/lautrup/repositories/disjoint-synthetic-data-generation/synthesis_info_synthpop_temp_0_synthpop.txt \n"
     ]
    },
    {
     "name": "stderr",
     "output_type": "stream",
     "text": [
      "Find out more at https://www.synthpop.org.uk/\n",
      "Find out more at https://www.synthpop.org.uk/\n"
     ]
    },
    {
     "name": "stdout",
     "output_type": "stream",
     "text": [
      "Warning: In your synthesis there are numeric variables with 5 or fewer levels: STDs..number..\n",
      "Consider changing them to factors. You can do it using parameter 'minnumlevels'.\n",
      "\n",
      "Variable(s): STDs.molluscum.contagiosum, STDs.condylomatosis, STDs.HIV, STDs.pelvic.inflammatory.disease, Dx.HPV, STDs..Number.of.diagnosis, Smokes, Citology, STDs.Hepatitis.B, IUD, Hinselmann, STDs.vulvo.perineal.condylomatosis, Dx numeric but with only 3 or fewer distinct values turned into factor(s) for synthesis.\n",
      "\n",
      "\n",
      "Variable(s): Dx.Cancer, Biopsy, Schiller, STDs.cervical.condylomatosis, STDs.syphilis, Hormonal.Contraceptives, STDs.genital.herpes, STDs, STDs.AIDS, Dx.CIN, STDs.vaginal.condylomatosis, STDs.HPV numeric but with only 3 or fewer distinct values turned into factor(s) for synthesis.\n",
      "\n",
      "Synthetic data exported as csv file(s).\n",
      "Information on synthetic data written to\n",
      "  /home/lautrup/repositories/disjoint-synthetic-data-generation/synthesis_info_synthpop_temp_0_synthpop.txt \n",
      "Synthetic data exported as csv file(s).\n",
      "Information on synthetic data written to\n",
      "  /home/lautrup/repositories/disjoint-synthetic-data-generation/synthesis_info_synthpop_temp_1_synthpop.txt \n"
     ]
    },
    {
     "name": "stderr",
     "output_type": "stream",
     "text": [
      "/home/lautrup/repositories/disjoint-synthetic-data-generation/disjoint_generative_model/utils/dataset_manager.py:35: UserWarning: Split sizes adjusted to {'split0': 12, 'split1': 11, 'split2': 11}\n",
      "  warnings.warn(f\"Split sizes adjusted to {split_sizes}\")\n",
      "Find out more at https://www.synthpop.org.uk/\n",
      "Find out more at https://www.synthpop.org.uk/\n",
      "Find out more at https://www.synthpop.org.uk/\n"
     ]
    },
    {
     "name": "stdout",
     "output_type": "stream",
     "text": [
      "\n",
      "Variable(s): Hinselmann, STDs.condylomatosis, IUD, STDs.pelvic.inflammatory.disease, Smokes, Dx.CIN, STDs.vulvo.perineal.condylomatosis, STDs.HIV, STDs.AIDS numeric but with only 3 or fewer distinct values turned into factor(s) for synthesis.\n",
      "\n",
      "\n",
      "Variable(s): Schiller, STDs.vaginal.condylomatosis, STDs.syphilis, STDs.genital.herpes, Citology, Hormonal.Contraceptives, Dx, STDs.cervical.condylomatosis, Dx.Cancer numeric but with only 3 or fewer distinct values turned into factor(s) for synthesis.\n",
      "\n",
      "Warning: In your synthesis there are numeric variables with 5 or fewer levels: STDs..number..\n",
      "Consider changing them to factors. You can do it using parameter 'minnumlevels'.\n",
      "\n",
      "Variable(s): STDs.Hepatitis.B, STDs.HPV, Biopsy, STDs..Number.of.diagnosis, Dx.HPV, STDs.molluscum.contagiosum, STDs numeric but with only 3 or fewer distinct values turned into factor(s) for synthesis.\n",
      "\n",
      "Synthetic data exported as csv file(s).\n",
      "Information on synthetic data written to\n",
      "  /home/lautrup/repositories/disjoint-synthetic-data-generation/synthesis_info_synthpop_temp_0_synthpop.txt \n",
      "Synthetic data exported as csv file(s).\n",
      "Information on synthetic data written to\n",
      "  /home/lautrup/repositories/disjoint-synthetic-data-generation/synthesis_info_synthpop_temp_1_synthpop.txt \n",
      "Synthetic data exported as csv file(s).\n",
      "Information on synthetic data written to\n",
      "  /home/lautrup/repositories/disjoint-synthetic-data-generation/synthesis_info_synthpop_temp_2_synthpop.txt \n"
     ]
    },
    {
     "name": "stderr",
     "output_type": "stream",
     "text": [
      "/home/lautrup/repositories/disjoint-synthetic-data-generation/disjoint_generative_model/utils/dataset_manager.py:35: UserWarning: Split sizes adjusted to {'split0': 10, 'split1': 8, 'split2': 8, 'split3': 8}\n",
      "  warnings.warn(f\"Split sizes adjusted to {split_sizes}\")\n",
      "Find out more at https://www.synthpop.org.uk/\n",
      "Find out more at https://www.synthpop.org.uk/\n",
      "Find out more at https://www.synthpop.org.uk/\n"
     ]
    },
    {
     "name": "stdout",
     "output_type": "stream",
     "text": [
      "\n",
      "Variable(s): STDs.pelvic.inflammatory.disease, STDs.cervical.condylomatosis, STDs.HIV, Dx.CIN, STDs.condylomatosis, Dx numeric but with only 3 or fewer distinct values turned into factor(s) for synthesis.\n",
      "\n",
      "Warning: In your synthesis there are numeric variables with 5 or fewer levels: STDs..number..\n",
      "Consider changing them to factors. You can do it using parameter 'minnumlevels'.\n",
      "\n",
      "Variable(s): Hinselmann, STDs.syphilis, STDs.genital.herpes, STDs.vaginal.condylomatosis, STDs.AIDS, Citology, Dx.Cancer numeric but with only 3 or fewer distinct values turned into factor(s) for synthesis.\n",
      "\n",
      "\n",
      "Variable(s): Dx.HPV, IUD, STDs.Hepatitis.B, STDs.molluscum.contagiosum, Hormonal.Contraceptives numeric but with only 3 or fewer distinct values turned into factor(s) for synthesis.\n",
      "\n",
      "Synthetic data exported as csv file(s).\n",
      "Information on synthetic data written to\n",
      "  /home/lautrup/repositories/disjoint-synthetic-data-generation/synthesis_info_synthpop_temp_3_synthpop.txt \n",
      "Synthetic data exported as csv file(s).\n",
      "Information on synthetic data written to\n",
      "  /home/lautrup/repositories/disjoint-synthetic-data-generation/synthesis_info_synthpop_temp_2_synthpop.txt \n",
      "Synthetic data exported as csv file(s).\n",
      "Information on synthetic data written to\n",
      "  /home/lautrup/repositories/disjoint-synthetic-data-generation/synthesis_info_synthpop_temp_1_synthpop.txt \n"
     ]
    },
    {
     "name": "stderr",
     "output_type": "stream",
     "text": [
      "Find out more at https://www.synthpop.org.uk/\n"
     ]
    },
    {
     "name": "stdout",
     "output_type": "stream",
     "text": [
      "\n",
      "Variable(s): STDs.vulvo.perineal.condylomatosis, STDs.HPV, STDs, Smokes, Biopsy, STDs..Number.of.diagnosis, Schiller numeric but with only 3 or fewer distinct values turned into factor(s) for synthesis.\n",
      "\n",
      "Synthetic data exported as csv file(s).\n",
      "Information on synthetic data written to\n",
      "  /home/lautrup/repositories/disjoint-synthetic-data-generation/synthesis_info_synthpop_temp_0_synthpop.txt \n",
      "[3.854967363452894, 3.35352403773629, 3.06748314366435, 3.860719509359166, 3.9475667699101447, 3.8602010194720617, 3.889249864595529, 3.846567183283204, 3.8621642902013824, 3.7778189409931793, 3.0217932675188965, 3.834279215293297]\n"
     ]
    }
   ],
   "source": [
    "\n",
    "df_bc = pd.read_csv('datasets/breast_cancer_train.csv')\n",
    "df_bc_t = pd.read_csv('datasets/breast_cancer_test.csv')\n",
    "\n",
    "df_cc = pd.read_csv('datasets/cervical_cancer_train.csv')\n",
    "df_cc_t = pd.read_csv('datasets/cervical_cancer_test.csv')\n",
    "\n",
    "train_data = {'bc':df_bc, 'cc':df_cc}\n",
    "test_data = {'bc':df_bc_t, 'cc':df_cc_t}\n",
    "target_vars = {'bc':'Status', 'cc':'Biopsy'}\n",
    "\n",
    "res = data_for_time_privacy_and_utility_figure('synthpop', 3, None, train_data, test_data, target_vars)"
   ]
  },
  {
   "cell_type": "code",
   "execution_count": 44,
   "metadata": {},
   "outputs": [
    {
     "data": {
      "text/html": [
       "<div>\n",
       "<style scoped>\n",
       "    .dataframe tbody tr th:only-of-type {\n",
       "        vertical-align: middle;\n",
       "    }\n",
       "\n",
       "    .dataframe tbody tr th {\n",
       "        vertical-align: top;\n",
       "    }\n",
       "\n",
       "    .dataframe thead th {\n",
       "        text-align: right;\n",
       "    }\n",
       "</style>\n",
       "<table border=\"1\" class=\"dataframe\">\n",
       "  <thead>\n",
       "    <tr style=\"text-align: right;\">\n",
       "      <th></th>\n",
       "      <th>data_</th>\n",
       "      <th>step_</th>\n",
       "      <th>time_mean</th>\n",
       "      <th>time_std</th>\n",
       "      <th>utility_mean</th>\n",
       "      <th>utility_std</th>\n",
       "      <th>privacy_mean</th>\n",
       "      <th>privacy_std</th>\n",
       "    </tr>\n",
       "  </thead>\n",
       "  <tbody>\n",
       "    <tr>\n",
       "      <th>0</th>\n",
       "      <td>bc</td>\n",
       "      <td>1</td>\n",
       "      <td>4.110818</td>\n",
       "      <td>0.091318</td>\n",
       "      <td>3.965730</td>\n",
       "      <td>0.014898</td>\n",
       "      <td>1.129878</td>\n",
       "      <td>0.019621</td>\n",
       "    </tr>\n",
       "    <tr>\n",
       "      <th>1</th>\n",
       "      <td>bc</td>\n",
       "      <td>2</td>\n",
       "      <td>3.837085</td>\n",
       "      <td>0.765644</td>\n",
       "      <td>3.432597</td>\n",
       "      <td>0.029152</td>\n",
       "      <td>1.572210</td>\n",
       "      <td>0.088371</td>\n",
       "    </tr>\n",
       "    <tr>\n",
       "      <th>2</th>\n",
       "      <td>bc</td>\n",
       "      <td>3</td>\n",
       "      <td>3.345661</td>\n",
       "      <td>0.061733</td>\n",
       "      <td>3.547937</td>\n",
       "      <td>0.334452</td>\n",
       "      <td>1.782501</td>\n",
       "      <td>0.101115</td>\n",
       "    </tr>\n",
       "    <tr>\n",
       "      <th>3</th>\n",
       "      <td>bc</td>\n",
       "      <td>4</td>\n",
       "      <td>3.279078</td>\n",
       "      <td>0.028367</td>\n",
       "      <td>3.294465</td>\n",
       "      <td>0.089085</td>\n",
       "      <td>1.853343</td>\n",
       "      <td>0.021806</td>\n",
       "    </tr>\n",
       "    <tr>\n",
       "      <th>4</th>\n",
       "      <td>cc</td>\n",
       "      <td>1</td>\n",
       "      <td>3.038263</td>\n",
       "      <td>0.088778</td>\n",
       "      <td>3.888233</td>\n",
       "      <td>0.051511</td>\n",
       "      <td>1.148315</td>\n",
       "      <td>0.024307</td>\n",
       "    </tr>\n",
       "    <tr>\n",
       "      <th>5</th>\n",
       "      <td>cc</td>\n",
       "      <td>2</td>\n",
       "      <td>3.256356</td>\n",
       "      <td>0.087437</td>\n",
       "      <td>3.663848</td>\n",
       "      <td>0.271887</td>\n",
       "      <td>1.363296</td>\n",
       "      <td>0.103232</td>\n",
       "    </tr>\n",
       "    <tr>\n",
       "      <th>6</th>\n",
       "      <td>cc</td>\n",
       "      <td>3</td>\n",
       "      <td>3.210241</td>\n",
       "      <td>0.055869</td>\n",
       "      <td>3.326175</td>\n",
       "      <td>0.488172</td>\n",
       "      <td>1.451685</td>\n",
       "      <td>0.042697</td>\n",
       "    </tr>\n",
       "    <tr>\n",
       "      <th>7</th>\n",
       "      <td>cc</td>\n",
       "      <td>4</td>\n",
       "      <td>3.313619</td>\n",
       "      <td>0.171412</td>\n",
       "      <td>3.847189</td>\n",
       "      <td>0.013231</td>\n",
       "      <td>1.361049</td>\n",
       "      <td>0.079334</td>\n",
       "    </tr>\n",
       "  </tbody>\n",
       "</table>\n",
       "</div>"
      ],
      "text/plain": [
       "  data_  step_  time_mean  ...  utility_std  privacy_mean  privacy_std\n",
       "0    bc      1   4.110818  ...     0.014898      1.129878     0.019621\n",
       "1    bc      2   3.837085  ...     0.029152      1.572210     0.088371\n",
       "2    bc      3   3.345661  ...     0.334452      1.782501     0.101115\n",
       "3    bc      4   3.279078  ...     0.089085      1.853343     0.021806\n",
       "4    cc      1   3.038263  ...     0.051511      1.148315     0.024307\n",
       "5    cc      2   3.256356  ...     0.271887      1.363296     0.103232\n",
       "6    cc      3   3.210241  ...     0.488172      1.451685     0.042697\n",
       "7    cc      4   3.313619  ...     0.013231      1.361049     0.079334\n",
       "\n",
       "[8 rows x 8 columns]"
      ]
     },
     "execution_count": 44,
     "metadata": {},
     "output_type": "execute_result"
    }
   ],
   "source": [
    "### calculate mean and std for each step\n",
    "res_mean = res.groupby(['data','step'])\n",
    "res_mean = res_mean.agg({'time':['mean', 'std'], 'utility':['mean', 'std'], 'privacy':['mean', 'std']}).reset_index()\n",
    "\n",
    "res_mean.columns = ['_'.join(col) for col in res_mean.columns.values]\n",
    "\n",
    "res_mean"
   ]
  },
  {
   "cell_type": "code",
   "execution_count": 67,
   "metadata": {},
   "outputs": [
    {
     "name": "stderr",
     "output_type": "stream",
     "text": [
      "/home/lautrup/sdg_env/lib/python3.10/site-packages/seaborn/_base.py:948: FutureWarning: When grouping with a length-1 list-like, you will need to pass a length-1 tuple to get_group in a future version of pandas. Pass `(name,)` instead of `name` to silence this warning.\n",
      "  data_subset = grouped_data.get_group(pd_key)\n",
      "/home/lautrup/sdg_env/lib/python3.10/site-packages/seaborn/_base.py:948: FutureWarning: When grouping with a length-1 list-like, you will need to pass a length-1 tuple to get_group in a future version of pandas. Pass `(name,)` instead of `name` to silence this warning.\n",
      "  data_subset = grouped_data.get_group(pd_key)\n"
     ]
    },
    {
     "data": {
      "image/png": "[encoded data removed]",
      "text/plain": [
       "<Figure size 1200x400 with 2 Axes>"
      ]
     },
     "metadata": {},
     "output_type": "display_data"
    }
   ],
   "source": [
    "import seaborn as sns\n",
    "import matplotlib.pyplot as plt\n",
    "rcp = {'font.size': 10, 'font.family': 'serif', \"mathtext.fontset\": \"dejavuserif\"}\n",
    "plt.rcParams.update(**rcp)\n",
    "\n",
    "def time_privacy_and_utility_figure(res_mean):\n",
    "\n",
    "    fig, ax = plt.subplots(1, 2, figsize=(12, 4))\n",
    "\n",
    "    ax_time = ax[0]\n",
    "\n",
    "    sns.pointplot(data=res, x=\"step\", y=\"time\", hue=\"data\", ax=ax_time, palette='tab10', capsize=.1, linewidth=2, errorbar='sd')\n",
    "\n",
    "    # sns.regplot(data=res, x=\"privacy\", y=\"utility\", hue=\"data\", ax=ax[1], ci=None, scatter_kws={'s': 100})\n",
    "    # sns.lmplot(data=res, x=\"privacy\", y=\"utility\", hue=\"data\", ax=ax[1], palette='tab10', ci=None)\n",
    "    # sns.pointplot(data=res, x=\"privacy\", y=\"utility\", hue=\"data\", ax=ax[1], palette='tab10', capsize=.1, linewidth=2, errorbar='sd')\n",
    "\n",
    "\n",
    "    ax[1].errorbar(res_mean[res_mean['data_']=='bc']['privacy_mean'], \n",
    "                   res_mean[res_mean['data_']=='bc']['utility_mean'], \n",
    "                   xerr=res_mean[res_mean['data_']=='bc']['privacy_std'], \n",
    "                   yerr=res_mean[res_mean['data_']=='bc']['utility_std'], label='bc')\n",
    "    ax[1].errorbar(res_mean[res_mean['data_']=='cc']['privacy_mean'], \n",
    "                   res_mean[res_mean['data_']=='cc']['utility_mean'], \n",
    "                   xerr=res_mean[res_mean['data_']=='cc']['privacy_std'], \n",
    "                   yerr=res_mean[res_mean['data_']=='cc']['utility_std'], label='cc')\n",
    "\n",
    "\n",
    "\n",
    "    # for i, data in enumerate(['bc', 'cc']):\n",
    "    #     data_res = res_mean[res_mean['data']==data]\n",
    "    #     ax[i].errorbar(data_res['step'], data_res['time']['mean'], yerr=data_res['time']['std'], label='Time')\n",
    "    #     ax[i].errorbar(data_res['step'], data_res['utility']['mean'], yerr=data_res['utility']['std'], label='Utility')\n",
    "    #     ax[i].errorbar(data_res['step'], data_res['privacy']['mean'], yerr=data_res['privacy']['std'], label='Privacy')\n",
    "    #     ax[i].set_title(data)\n",
    "    #     ax[i].set_xlabel('Step')\n",
    "    #     ax[i].set_ylabel('Time/Utility/Privacy')\n",
    "    #     ax[i].legend()\n",
    "\n",
    "    plt.tight_layout()\n",
    "    plt.show()\n",
    "\n",
    "time_privacy_and_utility_figure(res_mean)"
   ]
  }
 ],
 "metadata": {
  "kernelspec": {
   "display_name": "sdg_env",
   "language": "python",
   "name": "python3"
  },
  "language_info": {
   "codemirror_mode": {
    "name": "ipython",
    "version": 3
   },
   "file_extension": ".py",
   "mimetype": "text/x-python",
   "name": "python",
   "nbconvert_exporter": "python",
   "pygments_lexer": "ipython3",
   "version": "3.10.12"
  }
 },
 "nbformat": 4,
 "nbformat_minor": 2
}
