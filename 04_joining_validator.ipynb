{
 "cells": [
  {
   "cell_type": "markdown",
   "metadata": {},
   "source": [
    "# Experiments with the joining validator\n",
    "\n",
    "In this notebook we experiment with different configurations of the joining validator. In the previous experiments we have been using the default configuration of the joining validator, namely a RandomForestClassifier with 100 trees. In this notebook we will experiment with different configurations of the joining validator, other classifiers and also trying to adjust the threshold parameter."
   ]
  },
  {
   "cell_type": "code",
   "execution_count": null,
   "metadata": {},
   "outputs": [],
   "source": [
    "import pandas as pd\n",
    "\n",
    "from pandas import DataFrame\n",
    "from typing import List, Dict\n",
    "\n",
    "from sklearn.linear_model import LogisticRegression\n",
    "from sklearn.ensemble import RandomForestClassifier\n",
    "from sklearn.svm import SVC\n",
    "\n",
    "from disjoint_generative_model import DisjointGenerativeModels\n",
    "from disjoint_generative_model.utils.joining_validator import JoiningValidator\n",
    "from disjoint_generative_model.utils.joining_strategies import UsingJoiningValidator\n",
    "\n",
    "def single_mixed_model_experiment(df_train: DataFrame, gms: Dict[str, List[str]], id) -> DataFrame:\n",
    "    \"\"\" Function to do runs of the mixed model. \"\"\"\n",
    "\n",
    "    dgms = DisjointGenerativeModels(df_train, gms, worker_id=id*10)\n",
    "    dgms.joining_strategy = UsingJoiningValidator()\n",
    "\n",
    "    dgms.join_multiplier = 8    # to ensure high enough resolution\n",
    "\n",
    "    df_dgms = dgms.fit_generate()\n",
    "\n",
    "    return df_dgms[:len(df_train)]"
   ]
  }
 ],
 "metadata": {
  "kernelspec": {
   "display_name": "sdg_env",
   "language": "python",
   "name": "python3"
  },
  "language_info": {
   "name": "python",
   "version": "3.10.12"
  }
 },
 "nbformat": 4,
 "nbformat_minor": 2
}
