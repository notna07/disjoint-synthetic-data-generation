{
 "cells": [
  {
   "cell_type": "markdown",
   "metadata": {},
   "source": [
    "# Experiments with the joining validator\n",
    "\n",
    "In this notebook we experiment with different configurations of the joining validator. In the previous experiments we have been using the default configuration of the joining validator, namely a RandomForestClassifier with 100 trees with a predefined and static threshold. In this notebook we will experiment with different configurations of the joining validator strategy, namely:\n",
    "\n",
    "- Different classifiers: we will experiment with different classifiers, such as KNN, SVM, and MLP.\n",
    "- One class classifiers: we will experiment with one class classifiers such as IsolationForest and LocalOutlierFactor.\n",
    "- Different thresholds: we will experiment with different thresholds to see if privacy/utility trade-offs can be controlled.\n",
    "- Adaptive vs. static thresholds: we will experiment with adaptive thresholds to see if they can improve the performance of the joining validator.\n",
    "\n",
    "Alltogether we hope to begin to answer the question; If better or worse performance of the joining validator is desired, what configurations should be used?\n",
    "\n",
    "For the comparison we will continue to work off the previous experiments, the Hepatitis dataset split into categorical and numerical partitions, and the DataSynthesizer-DPGAN DGM."
   ]
  },
  {
   "cell_type": "code",
   "execution_count": 1,
   "metadata": {},
   "outputs": [],
   "source": [
    "### Imports\n",
    "import pandas as pd\n",
    "\n",
    "from pandas import DataFrame\n",
    "from typing import List, Dict\n",
    "\n",
    "from syntheval import SynthEval\n",
    "\n",
    "from disjoint_generative_model import DisjointGenerativeModels\n",
    "from disjoint_generative_model.utils.joining_validator import JoiningValidator, OneClassValidator\n",
    "from disjoint_generative_model.utils.joining_strategies import UsingJoiningValidator\n",
    "\n",
    "from experiments.auxiliaries.exp_repeater import repeated_experiment\n",
    "\n",
    "### Constants\n",
    "NUM_REPS = 10\n",
    "\n",
    "### Metrics\n",
    "metrics = {\n",
    "    \"pca\"       : {},\n",
    "    \"h_dist\"    : {},\n",
    "    \"corr_diff\" : {\"mixed_corr\": True},\n",
    "    \"auroc_diff\" : {\"model\": \"rf_cls\"},\n",
    "    \"cls_acc\"   : {\"F1_type\": \"macro\"},\n",
    "    \"eps_risk\"  : {},\n",
    "    \"dcr\"       : {},\n",
    "    \"mia\"  : {\"num_eval_iter\": 5},\n",
    "}"
   ]
  },
  {
   "cell_type": "code",
   "execution_count": 2,
   "metadata": {},
   "outputs": [],
   "source": [
    "### Load data\n",
    "df_train = pd.read_csv('experiments/datasets/hepatitis_train.csv')\n",
    "df_test = pd.read_csv('experiments/datasets/hepatitis_test.csv')\n",
    "\n",
    "label = 'b_class'\n",
    "\n",
    "cat_atts = df_train.select_dtypes(include='object').columns.tolist()\n",
    "\n",
    "for att in [att for att in df_train.columns if att not in cat_atts]:\n",
    "    if len(df_train[att].unique()) <= 5:\n",
    "        cat_atts.append(att)\n",
    "\n",
    "num_atts = [att for att in df_train.columns if att not in cat_atts]"
   ]
  },
  {
   "cell_type": "code",
   "execution_count": 3,
   "metadata": {},
   "outputs": [
    {
     "data": {
      "text/html": [
       "<div>\n",
       "<style scoped>\n",
       "    .dataframe tbody tr th:only-of-type {\n",
       "        vertical-align: middle;\n",
       "    }\n",
       "\n",
       "    .dataframe tbody tr th {\n",
       "        vertical-align: top;\n",
       "    }\n",
       "\n",
       "    .dataframe thead th {\n",
       "        text-align: right;\n",
       "    }\n",
       "</style>\n",
       "<table border=\"1\" class=\"dataframe\">\n",
       "  <thead>\n",
       "    <tr style=\"text-align: right;\">\n",
       "      <th></th>\n",
       "      <th>Unnamed: 0</th>\n",
       "      <th>mean</th>\n",
       "      <th>sem</th>\n",
       "    </tr>\n",
       "  </thead>\n",
       "  <tbody>\n",
       "    <tr>\n",
       "      <th>0</th>\n",
       "      <td>avg_h_dist</td>\n",
       "      <td>0.069660</td>\n",
       "      <td>0.002684</td>\n",
       "    </tr>\n",
       "    <tr>\n",
       "      <th>1</th>\n",
       "      <td>corr_mat_diff</td>\n",
       "      <td>1.320259</td>\n",
       "      <td>0.090476</td>\n",
       "    </tr>\n",
       "    <tr>\n",
       "      <th>2</th>\n",
       "      <td>auroc</td>\n",
       "      <td>0.039425</td>\n",
       "      <td>0.006946</td>\n",
       "    </tr>\n",
       "    <tr>\n",
       "      <th>3</th>\n",
       "      <td>cls_F1_diff</td>\n",
       "      <td>0.023549</td>\n",
       "      <td>0.004164</td>\n",
       "    </tr>\n",
       "    <tr>\n",
       "      <th>4</th>\n",
       "      <td>cls_F1_diff_hout</td>\n",
       "      <td>0.048643</td>\n",
       "      <td>0.008506</td>\n",
       "    </tr>\n",
       "    <tr>\n",
       "      <th>5</th>\n",
       "      <td>eps_identif_risk</td>\n",
       "      <td>0.029774</td>\n",
       "      <td>0.007723</td>\n",
       "    </tr>\n",
       "    <tr>\n",
       "      <th>6</th>\n",
       "      <td>priv_loss_eps</td>\n",
       "      <td>0.010407</td>\n",
       "      <td>0.003291</td>\n",
       "    </tr>\n",
       "    <tr>\n",
       "      <th>7</th>\n",
       "      <td>median_DCR</td>\n",
       "      <td>0.962430</td>\n",
       "      <td>0.027905</td>\n",
       "    </tr>\n",
       "    <tr>\n",
       "      <th>8</th>\n",
       "      <td>mia_recall</td>\n",
       "      <td>0.006087</td>\n",
       "      <td>0.001856</td>\n",
       "    </tr>\n",
       "    <tr>\n",
       "      <th>9</th>\n",
       "      <td>mia_precision</td>\n",
       "      <td>0.316667</td>\n",
       "      <td>0.072903</td>\n",
       "    </tr>\n",
       "  </tbody>\n",
       "</table>\n",
       "</div>"
      ],
      "text/plain": [
       "         Unnamed: 0      mean       sem\n",
       "0        avg_h_dist  0.069660  0.002684\n",
       "1     corr_mat_diff  1.320259  0.090476\n",
       "2             auroc  0.039425  0.006946\n",
       "3       cls_F1_diff  0.023549  0.004164\n",
       "4  cls_F1_diff_hout  0.048643  0.008506\n",
       "5  eps_identif_risk  0.029774  0.007723\n",
       "6     priv_loss_eps  0.010407  0.003291\n",
       "7        median_DCR  0.962430  0.027905\n",
       "8        mia_recall  0.006087  0.001856\n",
       "9     mia_precision  0.316667  0.072903"
      ]
     },
     "execution_count": 3,
     "metadata": {},
     "output_type": "execute_result"
    }
   ],
   "source": [
    "### Define evaluation\n",
    "SE = SynthEval(df_train, df_test, verbose=False)\n",
    "\n",
    "### Reload baseline\n",
    "baseline = pd.read_csv('experiments/results/mixed_model_results/hepatitis_case_study/datasynthesizer_dpgan.csv')\n",
    "baseline"
   ]
  },
  {
   "cell_type": "markdown",
   "metadata": {},
   "source": [
    "## Different classifiers\n",
    "\n",
    "We will start by experimenting with different classifiers. This experiment aims to explore if the default choice of the RandomForestClassifier is was justified, compared to other obvious choices."
   ]
  },
  {
   "cell_type": "markdown",
   "metadata": {},
   "source": [
    "### K-Nearest Neighbours\n",
    "\n",
    "A K-Nearest Neighbours (KNN) classifier is a simple and interpretable model that is often used for binary classification tasks. Since odd joins will likely fall outside of a hyper-sphere of good joins, a KNN classifier might be a good choice for the joining validator."
   ]
  },
  {
   "cell_type": "code",
   "execution_count": 5,
   "metadata": {},
   "outputs": [],
   "source": [
    "from sklearn.neighbors import KNeighborsClassifier"
   ]
  },
  {
   "cell_type": "code",
   "execution_count": 7,
   "metadata": {},
   "outputs": [
    {
     "name": "stdout",
     "output_type": "stream",
     "text": [
      "Cross-validated accuracies: [0.5641025641025641, 0.5656108597285068, 0.579185520361991, 0.5776772247360482, 0.5882352941176471]\n",
      "Mean accuracy: 0.5749622926093514\n",
      "Final model trained!\n",
      "Cross-validated accuracies: [0.5806938159879337, 0.5520361990950227, 0.5806938159879337, 0.5686274509803921, 0.5641025641025641]\n",
      "Mean accuracy: 0.5692307692307692\n",
      "Final model trained!\n",
      "Cross-validated accuracies: [0.5897435897435898, 0.5535444947209653, 0.5731523378582202, 0.5912518853695324, 0.5761689291101055]\n",
      "Mean accuracy: 0.5767722473604826\n",
      "Cross-validated accuracies: [0.5776772247360482, 0.5746606334841629, 0.5746606334841629, 0.5927601809954751, 0.583710407239819]\n",
      "Mean accuracy: 0.5806938159879336\n",
      "Final model trained!\n",
      "Cross-validated accuracies: [0.5686274509803921, 0.5565610859728507, 0.5490196078431373, 0.6184012066365008, 0.5822021116138764]\n",
      "Mean accuracy: 0.5749622926093514\n",
      "Final model trained!\n",
      "Final model trained!\n",
      "Cross-validated accuracies: [0.5806938159879337, 0.5897435897435898, 0.5822021116138764, 0.5656108597285068, 0.5701357466063348]\n",
      "Mean accuracy: 0.5776772247360482\n",
      "Final model trained!\n",
      "Cross-validated accuracies: [0.5716440422322775, 0.5927601809954751, 0.5686274509803921, 0.5957767722473605, 0.5957767722473605]\n",
      "Mean accuracy: 0.5849170437405731\n",
      "Final model trained!\n",
      "Cross-validated accuracies: [0.5671191553544495, 0.5610859728506787, 0.5776772247360482, 0.5882352941176471, 0.5656108597285068]\n",
      "Mean accuracy: 0.571945701357466\n",
      "Final model trained!\n",
      "Cross-validated accuracies: [0.5746606334841629, 0.5852187028657617, 0.5686274509803921, 0.5686274509803921, 0.5656108597285068]\n",
      "Mean accuracy: 0.5725490196078431\n",
      "Final model trained!\n",
      "Cross-validated accuracies: [0.5520361990950227, 0.5490196078431373, 0.5625942684766214, 0.5897435897435898, 0.5882352941176471]\n",
      "Mean accuracy: 0.5683257918552036\n",
      "Final model trained!\n",
      "================ Constructing Bayesian Network (BN) ================\n",
      "Adding ROOT RNA EF\n",
      "================ Constructing Bayesian Network (BN) ================\n",
      "Adding ROOT Jaundice\n",
      "================ Constructing Bayesian Network (BN) ================\n",
      "Adding ROOT Nausea/Vomting\n",
      "================ Constructing Bayesian Network (BN) ================\n",
      "Adding ROOT Diarrhea\n",
      "================ Constructing Bayesian Network (BN) ================\n",
      "Adding ROOT Plat\n",
      "================ Constructing Bayesian Network (BN) ================\n",
      "Adding ROOT Gender\n",
      "================ Constructing Bayesian Network (BN) ================\n",
      "Adding ROOT RBC\n",
      "================ Constructing Bayesian Network (BN) ================\n",
      "================ Constructing Bayesian Network (BN) ================\n",
      "Adding ROOT RNA EF\n",
      "Adding ROOT RNA 4\n",
      "================ Constructing Bayesian Network (BN) ================\n",
      "Adding ROOT RNA EF\n"
     ]
    },
    {
     "name": "stderr",
     "output_type": "stream",
     "text": [
      "Exception ignored in: <built-in method release of _thread.lock object at 0x7f1410105cc0>\n",
      "Traceback (most recent call last):\n",
      "  File \"/home/lautrup/sdg_env/lib/python3.10/site-packages/joblib/externals/loky/backend/fork_exec.py\", line 38, in fork_exec\n",
      "    pid = os.fork()\n",
      "RuntimeError: release unlocked lock\n",
      "Exception ignored in: <built-in method release of _thread.lock object at 0x7fc86871b3c0>\n",
      "Traceback (most recent call last):\n",
      "  File \"/home/lautrup/sdg_env/lib/python3.10/site-packages/joblib/externals/loky/backend/fork_exec.py\", line 38, in fork_exec\n",
      "    pid = os.fork()\n",
      "RuntimeError: release unlocked lock\n",
      "Exception ignored in: <built-in method release of _thread.lock object at 0x7f78401bf700>\n",
      "Traceback (most recent call last):\n",
      "  File \"/home/lautrup/sdg_env/lib/python3.10/site-packages/joblib/externals/loky/backend/fork_exec.py\", line 38, in fork_exec\n",
      "    pid = os.fork()\n",
      "RuntimeError: release unlocked lock\n",
      "Exception ignored in: <function release_locks at 0x7f4120471bd0>\n",
      "Traceback (most recent call last):\n",
      "  File \"/home/lautrup/sdg_env/lib/python3.10/site-packages/loguru/_locks_machinery.py\", line 31, in release_locks\n",
      "    lock.release()\n",
      "RuntimeError: release unlocked lock\n",
      "Exception ignored in: <function release_locks at 0x7f4120471bd0>\n",
      "Traceback (most recent call last):\n",
      "  File \"/home/lautrup/sdg_env/lib/python3.10/site-packages/loguru/_locks_machinery.py\", line 31, in release_locks\n",
      "    lock.release()\n",
      "RuntimeError: release unlocked lock\n",
      "Exception ignored in: <function release_locks at 0x7f153c579bd0>\n",
      "Traceback (most recent call last):\n",
      "  File \"/home/lautrup/sdg_env/lib/python3.10/site-packages/loguru/_locks_machinery.py\", line 31, in release_locks\n",
      "    lock.release()\n",
      "RuntimeError: release unlocked lock\n",
      "Exception ignored in: <function release_locks at 0x7f153c579bd0>\n",
      "Traceback (most recent call last):\n",
      "  File \"/home/lautrup/sdg_env/lib/python3.10/site-packages/loguru/_locks_machinery.py\", line 31, in release_locks\n",
      "    lock.release()\n",
      "RuntimeError: release unlocked lock\n"
     ]
    },
    {
     "name": "stdout",
     "output_type": "stream",
     "text": [
      "Adding attribute RNA EOT\n",
      "Adding attribute Diarrhea\n",
      "Adding attribute RNA EOTAdding attribute Gender\n",
      "\n",
      "Adding attribute WBC\n",
      "Adding attribute Plat\n",
      "Adding attribute WBC\n",
      "Adding attribute RNA EOT\n",
      "Adding attribute Plat\n",
      "Adding attribute RNA EOT\n",
      "Adding attribute Plat\n",
      "Adding attribute RNA 12\n",
      "Adding attribute WBC\n",
      "Adding attribute WBC\n",
      "Adding attribute Nausea/Vomting\n",
      "Adding attribute RNA 12\n",
      "Adding attribute Fatigue & generalized bone ache\n",
      "Adding attribute RNA EF\n",
      "Adding attribute RNA 12\n",
      "Adding attribute WBC\n",
      "Adding attribute Headache\n",
      "Adding attribute Jaundice\n",
      "Adding attribute RNA 4\n",
      "Adding attribute Plat\n",
      "Adding attribute RNA 4\n",
      "Adding attribute Diarrhea\n",
      "Adding attribute RNA 4\n",
      "Adding attribute Jaundice\n",
      "Adding attribute Jaundice\n",
      "Adding attribute RNA 12\n"
     ]
    },
    {
     "name": "stderr",
     "output_type": "stream",
     "text": [
      "[2025-01-13T16:52:28.246906+0100][1597241][CRITICAL] module disabled: /home/lautrup/sdg_env/lib/python3.10/site-packages/synthcity/plugins/generic/plugin_goggle.py\n"
     ]
    },
    {
     "name": "stdout",
     "output_type": "stream",
     "text": [
      "Adding attribute RNA 12\n",
      "Adding attribute Headache\n"
     ]
    },
    {
     "name": "stderr",
     "output_type": "stream",
     "text": [
      "[2025-01-13T16:52:36.389973+0100][1597244][CRITICAL] module disabled: /home/lautrup/sdg_env/lib/python3.10/site-packages/synthcity/plugins/generic/plugin_goggle.py\n"
     ]
    },
    {
     "name": "stdout",
     "output_type": "stream",
     "text": [
      "Adding attribute Gender\n",
      "Adding attribute Headache\n",
      "Adding attribute Gender\n",
      "Adding attribute RNA EOT\n",
      "Adding attribute Gender\n",
      "Adding attribute Jaundice\n",
      "Adding attribute RNA 12\n",
      "Adding attribute Plat\n",
      "Adding attribute Headache\n",
      "Adding attribute Gender\n"
     ]
    },
    {
     "name": "stderr",
     "output_type": "stream",
     "text": [
      "[2025-01-13T16:52:46.644173+0100][1597239][CRITICAL] module disabled: /home/lautrup/sdg_env/lib/python3.10/site-packages/synthcity/plugins/generic/plugin_goggle.py\n"
     ]
    },
    {
     "name": "stdout",
     "output_type": "stream",
     "text": [
      "Adding attribute Epigastric pain\n"
     ]
    },
    {
     "name": "stderr",
     "output_type": "stream",
     "text": [
      "[2025-01-13T16:52:50.388663+0100][1597231][CRITICAL] module disabled: /home/lautrup/sdg_env/lib/python3.10/site-packages/synthcity/plugins/generic/plugin_goggle.py\n",
      "[2025-01-13T16:52:58.518089+0100][1597243][CRITICAL] module disabled: /home/lautrup/sdg_env/lib/python3.10/site-packages/synthcity/plugins/generic/plugin_goggle.py\n",
      "  0%|          | 0/2000 [00:00<?, ?it/s][2025-01-13T16:52:59.458185+0100][1597230][CRITICAL] module disabled: /home/lautrup/sdg_env/lib/python3.10/site-packages/synthcity/plugins/generic/plugin_goggle.py\n"
     ]
    },
    {
     "name": "stdout",
     "output_type": "stream",
     "text": [
      "Adding attribute RNA 12\n"
     ]
    },
    {
     "name": "stderr",
     "output_type": "stream",
     "text": [
      "[2025-01-13T16:53:01.040073+0100][1597240][CRITICAL] module disabled: /home/lautrup/sdg_env/lib/python3.10/site-packages/synthcity/plugins/generic/plugin_goggle.py\n",
      "  0%|          | 1/2000 [00:02<1:22:09,  2.47s/it]"
     ]
    },
    {
     "name": "stdout",
     "output_type": "stream",
     "text": [
      "Adding attribute RNA EF\n"
     ]
    },
    {
     "name": "stderr",
     "output_type": "stream",
     "text": [
      "  0%|          | 2/2000 [00:03<45:38,  1.37s/it]  "
     ]
    },
    {
     "name": "stdout",
     "output_type": "stream",
     "text": [
      "Adding attribute Epigastric pain\n"
     ]
    },
    {
     "name": "stderr",
     "output_type": "stream",
     "text": [
      "  0%|          | 4/2000 [00:03<24:13,  1.37it/s][2025-01-13T16:53:03.178732+0100][1597237][CRITICAL] module disabled: /home/lautrup/sdg_env/lib/python3.10/site-packages/synthcity/plugins/generic/plugin_goggle.py\n",
      "  0%|          | 5/2000 [00:04<22:32,  1.47it/s]"
     ]
    },
    {
     "name": "stdout",
     "output_type": "stream",
     "text": [
      "Adding attribute RNA EOT\n"
     ]
    },
    {
     "name": "stderr",
     "output_type": "stream",
     "text": [
      "[2025-01-13T16:53:04.585623+0100][1597238][CRITICAL] module disabled: /home/lautrup/sdg_env/lib/python3.10/site-packages/synthcity/plugins/generic/plugin_goggle.py\n"
     ]
    },
    {
     "name": "stdout",
     "output_type": "stream",
     "text": [
      "Adding attribute Headache\n"
     ]
    },
    {
     "name": "stderr",
     "output_type": "stream",
     "text": [
      "[2025-01-13T16:53:07.946109+0100][1597242][CRITICAL] module disabled: /home/lautrup/sdg_env/lib/python3.10/site-packages/synthcity/plugins/generic/plugin_goggle.py\n",
      "  0%|          | 6/2000 [00:09<1:08:04,  2.05s/it]"
     ]
    },
    {
     "name": "stdout",
     "output_type": "stream",
     "text": [
      "Adding attribute Epigastric pain\n",
      "Adding attribute Epigastric pain\n",
      "Adding attribute Gender\n",
      "Adding attribute Fever\n",
      "Adding attribute Plat\n"
     ]
    },
    {
     "name": "stderr",
     "output_type": "stream",
     "text": [
      "  0%|          | 10/2000 [00:14<45:43,  1.38s/it] "
     ]
    },
    {
     "name": "stdout",
     "output_type": "stream",
     "text": [
      "Adding attribute RNA 4\n"
     ]
    },
    {
     "name": "stderr",
     "output_type": "stream",
     "text": [
      "  1%|          | 17/2000 [00:18<19:39,  1.68it/s]"
     ]
    },
    {
     "name": "stdout",
     "output_type": "stream",
     "text": [
      "Adding attribute RNA EF\n",
      "Adding attribute RNA EOT\n",
      "Adding attribute Plat\n"
     ]
    },
    {
     "name": "stderr",
     "output_type": "stream",
     "text": [
      "  1%|▏         | 25/2000 [00:33<31:35,  1.04it/s]  "
     ]
    },
    {
     "name": "stdout",
     "output_type": "stream",
     "text": [
      "Adding attribute Epigastric pain\n"
     ]
    },
    {
     "name": "stderr",
     "output_type": "stream",
     "text": [
      "  1%|▏         | 27/2000 [00:34<30:04,  1.09it/s]"
     ]
    },
    {
     "name": "stdout",
     "output_type": "stream",
     "text": [
      "Adding attribute Plat\n",
      "Adding attribute WBC\n",
      "Adding attribute RNA 12\n"
     ]
    },
    {
     "name": "stderr",
     "output_type": "stream",
     "text": [
      "  1%|▏         | 29/2000 [00:35<24:39,  1.33it/s]"
     ]
    },
    {
     "name": "stdout",
     "output_type": "stream",
     "text": [
      "Adding attribute RNA 4\n",
      "Adding attribute Plat\n",
      "Adding attribute WBC\n",
      "Adding attribute RNA 12\n"
     ]
    },
    {
     "name": "stderr",
     "output_type": "stream",
     "text": [
      "  2%|▏         | 33/2000 [00:44<51:55,  1.58s/it]  "
     ]
    },
    {
     "name": "stdout",
     "output_type": "stream",
     "text": [
      "Adding attribute RNA EF\n"
     ]
    },
    {
     "name": "stderr",
     "output_type": "stream",
     "text": [
      "  2%|▏         | 34/2000 [00:45<47:35,  1.45s/it]"
     ]
    },
    {
     "name": "stdout",
     "output_type": "stream",
     "text": [
      "Adding attribute WBC\n"
     ]
    },
    {
     "name": "stderr",
     "output_type": "stream",
     "text": [
      "  2%|▎         | 50/2000 [00:56<22:13,  1.46it/s] "
     ]
    },
    {
     "name": "stdout",
     "output_type": "stream",
     "text": [
      "Adding attribute b_class\n"
     ]
    },
    {
     "name": "stderr",
     "output_type": "stream",
     "text": [
      "  3%|▎         | 51/2000 [00:57<20:35,  1.58it/s]"
     ]
    },
    {
     "name": "stdout",
     "output_type": "stream",
     "text": [
      "Adding attribute Jaundice\n"
     ]
    },
    {
     "name": "stderr",
     "output_type": "stream",
     "text": [
      "  3%|▎         | 52/2000 [00:57<20:25,  1.59it/s]"
     ]
    },
    {
     "name": "stdout",
     "output_type": "stream",
     "text": [
      "Adding attribute Epigastric pain\n"
     ]
    },
    {
     "name": "stderr",
     "output_type": "stream",
     "text": [
      "  0%|          | 4/2000 [00:04<30:51,  1.08it/s]]"
     ]
    },
    {
     "name": "stdout",
     "output_type": "stream",
     "text": [
      "Adding attribute Jaundice\n"
     ]
    },
    {
     "name": "stderr",
     "output_type": "stream",
     "text": [
      "  0%|          | 5/2000 [00:04<29:19,  1.13it/s]"
     ]
    },
    {
     "name": "stdout",
     "output_type": "stream",
     "text": [
      "Adding attribute RNA EOT\n",
      "Adding attribute WBC\n",
      "Adding attribute WBC\n",
      "Adding attribute RNA EOT\n"
     ]
    },
    {
     "name": "stderr",
     "output_type": "stream",
     "text": [
      "  3%|▎         | 58/2000 [01:08<39:10,  1.21s/it]t]"
     ]
    },
    {
     "name": "stdout",
     "output_type": "stream",
     "text": [
      "Adding attribute Jaundice\n"
     ]
    },
    {
     "name": "stderr",
     "output_type": "stream",
     "text": [
      "  0%|          | 6/2000 [00:11<1:37:01,  2.92s/it]"
     ]
    },
    {
     "name": "stdout",
     "output_type": "stream",
     "text": [
      "Adding attribute RNA 4\n"
     ]
    },
    {
     "name": "stderr",
     "output_type": "stream",
     "text": [
      "  3%|▎         | 64/2000 [01:13<21:42,  1.49it/s]  "
     ]
    },
    {
     "name": "stdout",
     "output_type": "stream",
     "text": [
      "Adding attribute b_class\n"
     ]
    },
    {
     "name": "stderr",
     "output_type": "stream",
     "text": [
      "  1%|          | 15/2000 [00:32<41:33,  1.26s/it] "
     ]
    },
    {
     "name": "stdout",
     "output_type": "stream",
     "text": [
      "Adding attribute Headache\n",
      "Adding attribute Diarrhea\n"
     ]
    },
    {
     "name": "stderr",
     "output_type": "stream",
     "text": [
      "  4%|▎         | 70/2000 [01:27<51:11,  1.59s/it]  "
     ]
    },
    {
     "name": "stdout",
     "output_type": "stream",
     "text": [
      "Adding attribute RNA EF\n"
     ]
    },
    {
     "name": "stderr",
     "output_type": "stream",
     "text": [
      "  0%|          | 2/2000 [00:20<4:52:59,  8.80s/it] "
     ]
    },
    {
     "name": "stdout",
     "output_type": "stream",
     "text": [
      "Adding attribute Jaundice\n"
     ]
    },
    {
     "name": "stderr",
     "output_type": "stream",
     "text": [
      "  1%|          | 11/2000 [00:27<29:40,  1.12it/s]] "
     ]
    },
    {
     "name": "stdout",
     "output_type": "stream",
     "text": [
      "Adding attribute Headache\n"
     ]
    },
    {
     "name": "stderr",
     "output_type": "stream",
     "text": [
      "  1%|          | 16/2000 [00:34<46:23,  1.40s/it]]]"
     ]
    },
    {
     "name": "stdout",
     "output_type": "stream",
     "text": [
      "Adding attribute Headache\n",
      "Adding attribute Jaundice\n"
     ]
    },
    {
     "name": "stderr",
     "output_type": "stream",
     "text": [
      "  4%|▍         | 79/2000 [01:33<23:00,  1.39it/s]]]"
     ]
    },
    {
     "name": "stdout",
     "output_type": "stream",
     "text": [
      "Adding attribute RNA EF\n"
     ]
    },
    {
     "name": "stderr",
     "output_type": "stream",
     "text": [
      "  0%|          | 7/2000 [00:29<2:25:31,  4.38s/it]]"
     ]
    },
    {
     "name": "stdout",
     "output_type": "stream",
     "text": [
      "Adding attribute Nausea/Vomting\n"
     ]
    },
    {
     "name": "stderr",
     "output_type": "stream",
     "text": [
      "  0%|          | 2/2000 [00:17<4:38:48,  8.37s/it]]"
     ]
    },
    {
     "name": "stdout",
     "output_type": "stream",
     "text": [
      "Adding attribute Epigastric pain\n"
     ]
    },
    {
     "name": "stderr",
     "output_type": "stream",
     "text": [
      "  1%|▏         | 28/2000 [00:57<25:05,  1.31it/s]t]"
     ]
    },
    {
     "name": "stdout",
     "output_type": "stream",
     "text": [
      "Adding attribute Nausea/Vomting\n"
     ]
    },
    {
     "name": "stderr",
     "output_type": "stream",
     "text": [
      "  1%|          | 17/2000 [00:42<1:49:58,  3.33s/it]"
     ]
    },
    {
     "name": "stdout",
     "output_type": "stream",
     "text": [
      "Adding attribute Nausea/Vomting\n"
     ]
    },
    {
     "name": "stderr",
     "output_type": "stream",
     "text": [
      "  0%|          | 10/2000 [00:43<3:01:51,  5.48s/it]"
     ]
    },
    {
     "name": "stdout",
     "output_type": "stream",
     "text": [
      "Adding attribute Gender\n"
     ]
    },
    {
     "name": "stderr",
     "output_type": "stream",
     "text": [
      "  0%|          | 9/2000 [00:29<1:04:37,  1.95s/it]]"
     ]
    },
    {
     "name": "stdout",
     "output_type": "stream",
     "text": [
      "Adding attribute Headache\n"
     ]
    },
    {
     "name": "stderr",
     "output_type": "stream",
     "text": [
      "  1%|          | 20/2000 [00:51<1:24:07,  2.55s/it]"
     ]
    },
    {
     "name": "stdout",
     "output_type": "stream",
     "text": [
      "Adding attribute RNA 4\n"
     ]
    },
    {
     "name": "stderr",
     "output_type": "stream",
     "text": [
      "  0%|          | 10/2000 [00:32<1:08:39,  2.07s/it]"
     ]
    },
    {
     "name": "stdout",
     "output_type": "stream",
     "text": [
      "Adding attribute Nausea/Vomting\n"
     ]
    },
    {
     "name": "stderr",
     "output_type": "stream",
     "text": [
      "  5%|▍         | 97/2000 [01:59<1:37:02,  3.06s/it]"
     ]
    },
    {
     "name": "stdout",
     "output_type": "stream",
     "text": [
      "Adding attribute Headache\n"
     ]
    },
    {
     "name": "stderr",
     "output_type": "stream",
     "text": [
      "  1%|          | 12/2000 [00:41<1:54:41,  3.46s/it]"
     ]
    },
    {
     "name": "stdout",
     "output_type": "stream",
     "text": [
      "Adding attribute RNA 12\n",
      "Adding attribute RNA 4\n"
     ]
    },
    {
     "name": "stderr",
     "output_type": "stream",
     "text": [
      "  5%|▍         | 99/2000 [02:03<1:16:37,  2.42s/it]"
     ]
    },
    {
     "name": "stdout",
     "output_type": "stream",
     "text": [
      "Adding attribute Gender\n"
     ]
    },
    {
     "name": "stderr",
     "output_type": "stream",
     "text": [
      "  5%|▌         | 103/2000 [02:06<37:00,  1.17s/it]] "
     ]
    },
    {
     "name": "stdout",
     "output_type": "stream",
     "text": [
      "Adding attribute b_class\n",
      "Adding attribute b_class\n"
     ]
    },
    {
     "name": "stderr",
     "output_type": "stream",
     "text": [
      "  1%|          | 17/2000 [00:49<52:37,  1.59s/it]  "
     ]
    },
    {
     "name": "stdout",
     "output_type": "stream",
     "text": [
      "Adding attribute Fatigue & generalized bone ache\n"
     ]
    },
    {
     "name": "stderr",
     "output_type": "stream",
     "text": [
      "  1%|          | 14/2000 [00:49<1:38:17,  2.97s/it]"
     ]
    },
    {
     "name": "stdout",
     "output_type": "stream",
     "text": [
      "Adding attribute Nausea/Vomting\n"
     ]
    },
    {
     "name": "stderr",
     "output_type": "stream",
     "text": [
      "  1%|▏         | 28/2000 [01:18<1:10:51,  2.16s/it]]"
     ]
    },
    {
     "name": "stdout",
     "output_type": "stream",
     "text": [
      "Adding attribute Fatigue & generalized bone ache\n"
     ]
    },
    {
     "name": "stderr",
     "output_type": "stream",
     "text": [
      "  6%|▌         | 112/2000 [02:24<48:41,  1.55s/it]  "
     ]
    },
    {
     "name": "stdout",
     "output_type": "stream",
     "text": [
      "Adding attribute Epigastric pain\n"
     ]
    },
    {
     "name": "stderr",
     "output_type": "stream",
     "text": [
      "  2%|▏         | 35/2000 [01:28<55:04,  1.68s/it]  "
     ]
    },
    {
     "name": "stdout",
     "output_type": "stream",
     "text": [
      "Adding attribute Epigastric pain\n",
      "Adding attribute RNA EOT\n",
      "Adding attribute b_class\n",
      "Adding attribute Nausea/Vomting\n"
     ]
    },
    {
     "name": "stderr",
     "output_type": "stream",
     "text": [
      "  1%|          | 20/2000 [01:19<3:02:23,  5.53s/it]"
     ]
    },
    {
     "name": "stdout",
     "output_type": "stream",
     "text": [
      "Adding attribute Fever\n"
     ]
    },
    {
     "name": "stderr",
     "output_type": "stream",
     "text": [
      "  1%|          | 22/2000 [01:10<2:55:08,  5.31s/it]"
     ]
    },
    {
     "name": "stdout",
     "output_type": "stream",
     "text": [
      "Adding attribute Diarrhea\n"
     ]
    },
    {
     "name": "stderr",
     "output_type": "stream",
     "text": [
      "  1%|▏         | 27/2000 [01:16<1:00:40,  1.85s/it]"
     ]
    },
    {
     "name": "stdout",
     "output_type": "stream",
     "text": [
      "Adding attribute Nausea/Vomting\n"
     ]
    },
    {
     "name": "stderr",
     "output_type": "stream",
     "text": [
      "  3%|▎         | 65/2000 [01:53<26:13,  1.23it/s]  "
     ]
    },
    {
     "name": "stdout",
     "output_type": "stream",
     "text": [
      "Adding attribute b_class\n"
     ]
    },
    {
     "name": "stderr",
     "output_type": "stream",
     "text": [
      "  6%|▌         | 120/2000 [02:37<1:07:43,  2.16s/it]"
     ]
    },
    {
     "name": "stdout",
     "output_type": "stream",
     "text": [
      "Adding attribute Fever\n"
     ]
    },
    {
     "name": "stderr",
     "output_type": "stream",
     "text": [
      "  1%|          | 22/2000 [01:19<2:13:09,  4.04s/it] "
     ]
    },
    {
     "name": "stdout",
     "output_type": "stream",
     "text": [
      "Adding attribute RBC\n"
     ]
    },
    {
     "name": "stderr",
     "output_type": "stream",
     "text": [
      "  1%|          | 23/2000 [01:22<1:57:50,  3.58s/it]"
     ]
    },
    {
     "name": "stdout",
     "output_type": "stream",
     "text": [
      "Adding attribute RNA EF\n"
     ]
    },
    {
     "name": "stderr",
     "output_type": "stream",
     "text": [
      "  4%|▍         | 76/2000 [02:09<27:09,  1.18it/s]t]]"
     ]
    },
    {
     "name": "stdout",
     "output_type": "stream",
     "text": [
      "Adding attribute b_class\n"
     ]
    },
    {
     "name": "stderr",
     "output_type": "stream",
     "text": [
      "  4%|▍         | 77/2000 [02:10<24:12,  1.32it/s]t]"
     ]
    },
    {
     "name": "stdout",
     "output_type": "stream",
     "text": [
      "Adding attribute b_class\n"
     ]
    },
    {
     "name": "stderr",
     "output_type": "stream",
     "text": [
      "  4%|▍         | 78/2000 [02:10<24:11,  1.32it/s]t]]"
     ]
    },
    {
     "name": "stdout",
     "output_type": "stream",
     "text": [
      "Adding attribute RBC\n",
      "Adding attribute Fatigue & generalized bone ache\n",
      "Adding attribute b_class\n"
     ]
    },
    {
     "name": "stderr",
     "output_type": "stream",
     "text": [
      "  7%|▋         | 136/2000 [02:53<48:59,  1.58s/it]  "
     ]
    },
    {
     "name": "stdout",
     "output_type": "stream",
     "text": [
      "Adding attribute Diarrhea\n"
     ]
    },
    {
     "name": "stderr",
     "output_type": "stream",
     "text": [
      "  2%|▏         | 37/2000 [01:37<38:41,  1.18s/it]t]"
     ]
    },
    {
     "name": "stdout",
     "output_type": "stream",
     "text": [
      "Adding attribute RNA Base\n",
      "========================== BN constructed ==========================\n",
      "Adding attribute Diarrhea\n"
     ]
    },
    {
     "name": "stderr",
     "output_type": "stream",
     "text": [
      "  2%|▏         | 44/2000 [02:03<51:32,  1.58s/it]t]"
     ]
    },
    {
     "name": "stdout",
     "output_type": "stream",
     "text": [
      "Adding attribute Gender\n"
     ]
    },
    {
     "name": "stderr",
     "output_type": "stream",
     "text": [
      "  2%|▏         | 48/2000 [02:07<2:05:52,  3.87s/it]"
     ]
    },
    {
     "name": "stdout",
     "output_type": "stream",
     "text": [
      "Adding attribute RNA Base\n",
      "========================== BN constructed ==========================\n"
     ]
    },
    {
     "name": "stderr",
     "output_type": "stream",
     "text": [
      "  2%|▏         | 49/2000 [02:08<1:42:11,  3.14s/it]]"
     ]
    },
    {
     "name": "stdout",
     "output_type": "stream",
     "text": [
      "Adding attribute RNA 4\n"
     ]
    },
    {
     "name": "stderr",
     "output_type": "stream",
     "text": [
      "  8%|▊         | 153/2000 [03:08<34:06,  1.11s/it]] "
     ]
    },
    {
     "name": "stdout",
     "output_type": "stream",
     "text": [
      "Adding attribute Diarrhea\n"
     ]
    },
    {
     "name": "stderr",
     "output_type": "stream",
     "text": [
      "  2%|▎         | 50/2000 [02:11<1:37:59,  3.01s/it]"
     ]
    },
    {
     "name": "stdout",
     "output_type": "stream",
     "text": [
      "Adding attribute Fever\n"
     ]
    },
    {
     "name": "stderr",
     "output_type": "stream",
     "text": [
      "  8%|▊         | 168/2000 [03:15<13:26,  2.27it/s] "
     ]
    },
    {
     "name": "stdout",
     "output_type": "stream",
     "text": [
      "Adding attribute Diarrhea\n",
      "Adding attribute Diarrhea\n",
      "Adding attribute Fatigue & generalized bone ache\n"
     ]
    },
    {
     "name": "stderr",
     "output_type": "stream",
     "text": [
      "  8%|▊         | 169/2000 [03:15<13:44,  2.22it/s]"
     ]
    },
    {
     "name": "stdout",
     "output_type": "stream",
     "text": [
      "Adding attribute Fatigue & generalized bone ache\n"
     ]
    },
    {
     "name": "stderr",
     "output_type": "stream",
     "text": [
      "  3%|▎         | 54/2000 [02:16<41:22,  1.28s/it]]  "
     ]
    },
    {
     "name": "stdout",
     "output_type": "stream",
     "text": [
      "Adding attribute RBC\n"
     ]
    },
    {
     "name": "stderr",
     "output_type": "stream",
     "text": [
      "  3%|▎         | 51/2000 [02:22<1:26:39,  2.67s/it]"
     ]
    },
    {
     "name": "stdout",
     "output_type": "stream",
     "text": [
      "Adding attribute Fatigue & generalized bone ache\n"
     ]
    },
    {
     "name": "stderr",
     "output_type": "stream",
     "text": [
      "  2%|▏         | 37/2000 [02:01<2:15:44,  4.15s/it]"
     ]
    },
    {
     "name": "stdout",
     "output_type": "stream",
     "text": [
      "Adding attribute Fatigue & generalized bone ache\n"
     ]
    },
    {
     "name": "stderr",
     "output_type": "stream",
     "text": [
      "  3%|▎         | 54/2000 [02:24<46:36,  1.44s/it]]]"
     ]
    },
    {
     "name": "stdout",
     "output_type": "stream",
     "text": [
      "Adding attribute Epigastric pain\n"
     ]
    },
    {
     "name": "stderr",
     "output_type": "stream",
     "text": [
      "  6%|▌         | 122/2000 [02:49<15:59,  1.96it/s]]"
     ]
    },
    {
     "name": "stdout",
     "output_type": "stream",
     "text": [
      "Adding attribute Fever\n",
      "Adding attribute Fatigue & generalized bone ache\n"
     ]
    },
    {
     "name": "stderr",
     "output_type": "stream",
     "text": [
      "  3%|▎         | 56/2000 [02:26<1:39:15,  3.06s/it]"
     ]
    },
    {
     "name": "stdout",
     "output_type": "stream",
     "text": [
      "Adding attribute Fever\n"
     ]
    },
    {
     "name": "stderr",
     "output_type": "stream",
     "text": [
      "  3%|▎         | 62/2000 [02:34<39:26,  1.22s/it]]]"
     ]
    },
    {
     "name": "stdout",
     "output_type": "stream",
     "text": [
      "Adding attribute Fatigue & generalized bone ache\n"
     ]
    },
    {
     "name": "stderr",
     "output_type": "stream",
     "text": [
      "  6%|▋         | 128/2000 [02:51<13:59,  2.23it/s] "
     ]
    },
    {
     "name": "stdout",
     "output_type": "stream",
     "text": [
      "Adding attribute RNA Base\n",
      "========================== BN constructed ==========================\n"
     ]
    },
    {
     "name": "stderr",
     "output_type": "stream",
     "text": [
      "  2%|▏         | 47/2000 [02:29<1:12:28,  2.23s/it]"
     ]
    },
    {
     "name": "stdout",
     "output_type": "stream",
     "text": [
      "Adding attribute Fever\n"
     ]
    },
    {
     "name": "stderr",
     "output_type": "stream",
     "text": [
      " 10%|█         | 203/2000 [03:39<34:36,  1.16s/it]] "
     ]
    },
    {
     "name": "stdout",
     "output_type": "stream",
     "text": [
      "Adding attribute Fever\n"
     ]
    },
    {
     "name": "stderr",
     "output_type": "stream",
     "text": [
      "  3%|▎         | 67/2000 [02:35<22:56,  1.40it/s]t]"
     ]
    },
    {
     "name": "stdout",
     "output_type": "stream",
     "text": [
      "Adding attribute b_class\n"
     ]
    },
    {
     "name": "stderr",
     "output_type": "stream",
     "text": [
      "  3%|▎         | 51/2000 [02:16<41:01,  1.26s/it]  "
     ]
    },
    {
     "name": "stdout",
     "output_type": "stream",
     "text": [
      "Adding attribute RBC\n"
     ]
    },
    {
     "name": "stderr",
     "output_type": "stream",
     "text": [
      "  3%|▎         | 66/2000 [02:46<1:05:44,  2.04s/it]"
     ]
    },
    {
     "name": "stdout",
     "output_type": "stream",
     "text": [
      "Adding attribute Fever\n",
      "Adding attribute RBC\n"
     ]
    },
    {
     "name": "stderr",
     "output_type": "stream",
     "text": [
      "  3%|▎         | 68/2000 [02:43<1:12:34,  2.25s/it]"
     ]
    },
    {
     "name": "stdout",
     "output_type": "stream",
     "text": [
      "Adding attribute Fever\n"
     ]
    },
    {
     "name": "stderr",
     "output_type": "stream",
     "text": [
      "  3%|▎         | 51/2000 [02:40<1:30:08,  2.77s/it]"
     ]
    },
    {
     "name": "stdout",
     "output_type": "stream",
     "text": [
      "Adding attribute RBC\n"
     ]
    },
    {
     "name": "stderr",
     "output_type": "stream",
     "text": [
      "  4%|▍         | 85/2000 [02:45<18:35,  1.72it/s]it]"
     ]
    },
    {
     "name": "stdout",
     "output_type": "stream",
     "text": [
      "Adding attribute RBC\n"
     ]
    },
    {
     "name": "stderr",
     "output_type": "stream",
     "text": [
      "  8%|▊         | 153/2000 [03:09<32:58,  1.07s/it]] "
     ]
    },
    {
     "name": "stdout",
     "output_type": "stream",
     "text": [
      "Adding attribute Nausea/Vomting\n",
      "Adding attribute RNA Base\n",
      "========================== BN constructed ==========================\n"
     ]
    },
    {
     "name": "stderr",
     "output_type": "stream",
     "text": [
      "  3%|▎         | 56/2000 [02:30<46:17,  1.43s/it]] "
     ]
    },
    {
     "name": "stdout",
     "output_type": "stream",
     "text": [
      "Adding attribute RNA Base\n",
      "========================== BN constructed ==========================\n"
     ]
    },
    {
     "name": "stderr",
     "output_type": "stream",
     "text": [
      "  5%|▍         | 91/2000 [02:49<18:42,  1.70it/s]]"
     ]
    },
    {
     "name": "stdout",
     "output_type": "stream",
     "text": [
      "Adding attribute RBC\n"
     ]
    },
    {
     "name": "stderr",
     "output_type": "stream",
     "text": [
      "  3%|▎         | 65/2000 [02:31<18:27,  1.75it/s]]]"
     ]
    },
    {
     "name": "stdout",
     "output_type": "stream",
     "text": [
      "Adding attribute RNA Base\n",
      "========================== BN constructed ==========================\n"
     ]
    },
    {
     "name": "stderr",
     "output_type": "stream",
     "text": [
      "  3%|▎         | 66/2000 [02:32<17:19,  1.86it/s]]"
     ]
    },
    {
     "name": "stdout",
     "output_type": "stream",
     "text": [
      "Adding attribute RBC\n"
     ]
    },
    {
     "name": "stderr",
     "output_type": "stream",
     "text": [
      " 12%|█▏        | 243/2000 [03:59<16:05,  1.82it/s] "
     ]
    },
    {
     "name": "stdout",
     "output_type": "stream",
     "text": [
      "Adding attribute RNA Base\n",
      "========================== BN constructed ==========================\n",
      "Adding attribute RNA Base\n",
      "========================== BN constructed ==========================\n"
     ]
    },
    {
     "name": "stderr",
     "output_type": "stream",
     "text": [
      "  9%|▊         | 171/2000 [03:19<16:05,  1.90it/s] "
     ]
    },
    {
     "name": "stdout",
     "output_type": "stream",
     "text": [
      "Adding attribute RNA Base\n",
      "========================== BN constructed ==========================\n"
     ]
    },
    {
     "name": "stderr",
     "output_type": "stream",
     "text": [
      "  3%|▎         | 65/2000 [02:56<22:41,  1.42it/s]  "
     ]
    },
    {
     "name": "stdout",
     "output_type": "stream",
     "text": [
      "Adding attribute RNA Base\n",
      "========================== BN constructed ==========================\n"
     ]
    },
    {
     "name": "stderr",
     "output_type": "stream",
     "text": [
      " 17%|█▋        | 349/2000 [06:19<29:53,  1.09s/it]  \n",
      " 19%|█▉        | 376/2000 [06:12<16:32,  1.64it/s]"
     ]
    },
    {
     "name": "stdout",
     "output_type": "stream",
     "text": [
      "Predicted good joins fraction: 0.4506787330316742\n"
     ]
    },
    {
     "name": "stderr",
     "output_type": "stream",
     "text": [
      " 20%|█▉        | 399/2000 [06:33<26:17,  1.02it/s]  \n",
      " 19%|█▉        | 382/2000 [06:35<16:33,  1.63it/s]"
     ]
    },
    {
     "name": "stdout",
     "output_type": "stream",
     "text": [
      "Predicted good joins fraction: 0.033182503770739065\n",
      "Predicted good joins fraction: 0.016068642745709828\n"
     ]
    },
    {
     "name": "stderr",
     "output_type": "stream",
     "text": [
      " 18%|█▊        | 361/2000 [06:30<17:39,  1.55it/s]"
     ]
    },
    {
     "name": "stdout",
     "output_type": "stream",
     "text": [
      "Predicted good joins fraction: 0.01062311717139686\n",
      "Predicted good joins fraction: 0.006730769230769231\n"
     ]
    },
    {
     "name": "stderr",
     "output_type": "stream",
     "text": [
      " 24%|██▎       | 470/2000 [06:56<11:57,  2.13it/s]"
     ]
    },
    {
     "name": "stdout",
     "output_type": "stream",
     "text": [
      "Predicted good joins fraction: 0.004194901581155212\n",
      "Predicted good joins fraction: 0.0035644847699287103\n"
     ]
    },
    {
     "name": "stderr",
     "output_type": "stream",
     "text": [
      " 20%|█▉        | 394/2000 [06:14<12:13,  2.19it/s]"
     ]
    },
    {
     "name": "stdout",
     "output_type": "stream",
     "text": [
      "Predicted good joins fraction: 0.003089430894308943\n",
      "Predicted good joins fraction: 0.0017941608220518675\n"
     ]
    },
    {
     "name": "stderr",
     "output_type": "stream",
     "text": [
      " 24%|██▎       | 472/2000 [06:57<11:51,  2.15it/s]"
     ]
    },
    {
     "name": "stdout",
     "output_type": "stream",
     "text": [
      "Predicted good joins fraction: 0.0011437908496732027\n",
      "Predicted good joins fraction: 0.0017994438082774415\n"
     ]
    },
    {
     "name": "stderr",
     "output_type": "stream",
     "text": [
      " 19%|█▉        | 385/2000 [06:37<16:20,  1.65it/s]"
     ]
    },
    {
     "name": "stdout",
     "output_type": "stream",
     "text": [
      "Predicted good joins fraction: 0.0009832841691248771\n"
     ]
    },
    {
     "name": "stderr",
     "output_type": "stream",
     "text": [
      " 28%|██▊       | 550/2000 [07:40<44:41,  1.85s/it]"
     ]
    },
    {
     "name": "stdout",
     "output_type": "stream",
     "text": [
      "Predicted good joins fraction: 0.0008202099737532808\n",
      "Predicted good joins fraction: 0.0009850599244787392\n"
     ]
    },
    {
     "name": "stderr",
     "output_type": "stream",
     "text": [
      " 20%|█▉        | 397/2000 [06:15<12:12,  2.19it/s]"
     ]
    },
    {
     "name": "stdout",
     "output_type": "stream",
     "text": [
      "Predicted good joins fraction: 0.000657354149548069\n",
      "Predicted good joins fraction: 0.000657786548265088\n"
     ]
    },
    {
     "name": "stderr",
     "output_type": "stream",
     "text": [
      " 20%|█▉        | 394/2000 [06:22<15:32,  1.72it/s]"
     ]
    },
    {
     "name": "stdout",
     "output_type": "stream",
     "text": [
      "Predicted good joins fraction: 0.0001645548790521639\n",
      "Predicted good joins fraction: 0.0006583278472679394\n"
     ]
    },
    {
     "name": "stderr",
     "output_type": "stream",
     "text": [
      " 20%|█▉        | 399/2000 [06:16<11:30,  2.32it/s]"
     ]
    },
    {
     "name": "stdout",
     "output_type": "stream",
     "text": [
      "Predicted good joins fraction: 0.0004940711462450593\n",
      "Predicted good joins fraction: 0.00016477179106936892\n"
     ]
    },
    {
     "name": "stderr",
     "output_type": "stream",
     "text": [
      " 28%|██▊       | 554/2000 [07:42<18:33,  1.30it/s]"
     ]
    },
    {
     "name": "stdout",
     "output_type": "stream",
     "text": [
      "Predicted good joins fraction: 0.0004943968358602505\n",
      "Predicted good joins fraction: 0.0\n"
     ]
    },
    {
     "name": "stderr",
     "output_type": "stream",
     "text": [
      " 24%|██▍       | 476/2000 [07:00<14:47,  1.72it/s]"
     ]
    },
    {
     "name": "stdout",
     "output_type": "stream",
     "text": [
      "Predicted good joins fraction: 0.0\n",
      "Predicted good joins fraction: 0.0006595218466611707\n"
     ]
    },
    {
     "name": "stderr",
     "output_type": "stream",
     "text": [
      " 24%|██▍       | 477/2000 [07:00<13:34,  1.87it/s]"
     ]
    },
    {
     "name": "stdout",
     "output_type": "stream",
     "text": [
      "Predicted good joins fraction: 0.0\n",
      "Predicted good joins fraction: 0.00016498927569707968\n"
     ]
    },
    {
     "name": "stderr",
     "output_type": "stream",
     "text": [
      " 28%|██▊       | 556/2000 [07:43<15:51,  1.52it/s]"
     ]
    },
    {
     "name": "stdout",
     "output_type": "stream",
     "text": [
      "Predicted good joins fraction: 0.0\n"
     ]
    },
    {
     "name": "stderr",
     "output_type": "stream",
     "text": [
      " 20%|█▉        | 398/2000 [06:24<15:29,  1.72it/s]"
     ]
    },
    {
     "name": "stdout",
     "output_type": "stream",
     "text": [
      "Predicted good joins fraction: 0.00033003300330033004\n",
      "Predicted good joins fraction: 0.0001650709805216243\n"
     ]
    },
    {
     "name": "stderr",
     "output_type": "stream",
     "text": [
      " 28%|██▊       | 557/2000 [07:44<15:08,  1.59it/s]"
     ]
    },
    {
     "name": "stdout",
     "output_type": "stream",
     "text": [
      "Predicted good joins fraction: 0.0008254911672445105\n",
      "Predicted good joins fraction: 0.00016523463317911433\n"
     ]
    },
    {
     "name": "stderr",
     "output_type": "stream",
     "text": [
      " 20%|█▉        | 399/2000 [06:25<15:19,  1.74it/s]"
     ]
    },
    {
     "name": "stdout",
     "output_type": "stream",
     "text": [
      "Predicted good joins fraction: 0.00016526194017517766\n",
      "Predicted good joins fraction: 0.00016528925619834712\n"
     ]
    },
    {
     "name": "stderr",
     "output_type": "stream",
     "text": [
      " 19%|█▊        | 371/2000 [06:36<15:55,  1.71it/s]"
     ]
    },
    {
     "name": "stdout",
     "output_type": "stream",
     "text": [
      "Predicted good joins fraction: 0.00016531658125309968\n",
      "Predicted good joins fraction: 0.0\n"
     ]
    },
    {
     "name": "stderr",
     "output_type": "stream",
     "text": [
      " 28%|██▊       | 559/2000 [07:45<14:08,  1.70it/s]"
     ]
    },
    {
     "name": "stdout",
     "output_type": "stream",
     "text": [
      "Predicted good joins fraction: 0.0\n",
      "Predicted good joins fraction: 0.00033068783068783067\n"
     ]
    },
    {
     "name": "stderr",
     "output_type": "stream",
     "text": [
      " 19%|█▊        | 372/2000 [06:37<15:28,  1.75it/s]"
     ]
    },
    {
     "name": "stdout",
     "output_type": "stream",
     "text": [
      "Predicted good joins fraction: 0.0\n",
      "Predicted good joins fraction: 0.00016539861065167054\n"
     ]
    },
    {
     "name": "stderr",
     "output_type": "stream",
     "text": [
      " 19%|█▊        | 373/2000 [06:37<15:16,  1.78it/s]"
     ]
    },
    {
     "name": "stdout",
     "output_type": "stream",
     "text": [
      "Predicted good joins fraction: 0.0\n",
      "Predicted good joins fraction: 0.00016542597187758478\n"
     ]
    },
    {
     "name": "stderr",
     "output_type": "stream",
     "text": [
      " 28%|██▊       | 561/2000 [07:46<13:49,  1.74it/s]"
     ]
    },
    {
     "name": "stdout",
     "output_type": "stream",
     "text": [
      "Predicted good joins fraction: 0.00016545334215751158\n",
      "Predicted good joins fraction: 0.0\n"
     ]
    },
    {
     "name": "stderr",
     "output_type": "stream",
     "text": [
      " 28%|██▊       | 562/2000 [07:46<13:46,  1.74it/s]"
     ]
    },
    {
     "name": "stdout",
     "output_type": "stream",
     "text": [
      "Predicted good joins fraction: 0.0\n",
      "Predicted good joins fraction: 0.0\n"
     ]
    },
    {
     "name": "stderr",
     "output_type": "stream",
     "text": [
      " 20%|██        | 403/2000 [06:21<21:03,  1.26it/s]"
     ]
    },
    {
     "name": "stdout",
     "output_type": "stream",
     "text": [
      "Predicted good joins fraction: 0.0\n",
      "Predicted good joins fraction: 0.0\n"
     ]
    },
    {
     "name": "stderr",
     "output_type": "stream",
     "text": [
      " 20%|██        | 402/2000 [06:46<28:26,  1.07s/it]"
     ]
    },
    {
     "name": "stdout",
     "output_type": "stream",
     "text": [
      "Predicted good joins fraction: 0.0\n",
      "Predicted good joins fraction: 0.0\n"
     ]
    },
    {
     "name": "stderr",
     "output_type": "stream",
     "text": [
      " 28%|██▊       | 564/2000 [07:48<13:34,  1.76it/s]"
     ]
    },
    {
     "name": "stdout",
     "output_type": "stream",
     "text": [
      "Predicted good joins fraction: 0.00033096144299189144\n",
      "Predicted good joins fraction: 0.00016553550736633007\n"
     ]
    },
    {
     "name": "stderr",
     "output_type": "stream",
     "text": [
      " 20%|██        | 406/2000 [06:22<13:48,  1.92it/s]"
     ]
    },
    {
     "name": "stdout",
     "output_type": "stream",
     "text": [
      "Predicted good joins fraction: 0.0\n",
      "Predicted good joins fraction: 0.00016556291390728477\n"
     ]
    },
    {
     "name": "stderr",
     "output_type": "stream",
     "text": [
      " 20%|██        | 404/2000 [06:47<21:45,  1.22it/s]"
     ]
    },
    {
     "name": "stdout",
     "output_type": "stream",
     "text": [
      "Predicted good joins fraction: 0.0\n",
      "Predicted good joins fraction: 0.0\n"
     ]
    },
    {
     "name": "stderr",
     "output_type": "stream",
     "text": [
      " 20%|██        | 405/2000 [06:48<20:01,  1.33it/s]"
     ]
    },
    {
     "name": "stdout",
     "output_type": "stream",
     "text": [
      "Predicted good joins fraction: 0.0\n",
      "Predicted good joins fraction: 0.0\n"
     ]
    },
    {
     "name": "stderr",
     "output_type": "stream",
     "text": [
      " 19%|█▉        | 379/2000 [06:41<15:51,  1.70it/s]"
     ]
    },
    {
     "name": "stdout",
     "output_type": "stream",
     "text": [
      "Predicted good joins fraction: 0.0\n"
     ]
    },
    {
     "name": "stderr",
     "output_type": "stream",
     "text": [
      " 28%|██▊       | 567/2000 [07:49<13:58,  1.71it/s]"
     ]
    },
    {
     "name": "stdout",
     "output_type": "stream",
     "text": [
      "Predicted good joins fraction: 0.00016559032952475575\n"
     ]
    },
    {
     "name": "stderr",
     "output_type": "stream",
     "text": [
      " 19%|█▉        | 380/2000 [06:42<15:44,  1.72it/s]"
     ]
    },
    {
     "name": "stdout",
     "output_type": "stream",
     "text": [
      "Predicted good joins fraction: 0.0\n",
      "Predicted good joins fraction: 0.0\n"
     ]
    },
    {
     "name": "stderr",
     "output_type": "stream",
     "text": [
      " 20%|██        | 410/2000 [06:24<14:25,  1.84it/s]"
     ]
    },
    {
     "name": "stdout",
     "output_type": "stream",
     "text": [
      "Predicted good joins fraction: 0.0\n",
      "Predicted good joins fraction: 0.00016561775422325274\n"
     ]
    },
    {
     "name": "stderr",
     "output_type": "stream",
     "text": [
      " 19%|█▉        | 381/2000 [06:42<15:39,  1.72it/s]"
     ]
    },
    {
     "name": "stdout",
     "output_type": "stream",
     "text": [
      "Predicted good joins fraction: 0.0004969355640218651\n",
      "Predicted good joins fraction: 0.0\n"
     ]
    },
    {
     "name": "stderr",
     "output_type": "stream",
     "text": [
      " 19%|█▉        | 382/2000 [06:43<15:56,  1.69it/s]"
     ]
    },
    {
     "name": "stdout",
     "output_type": "stream",
     "text": [
      "Predicted good joins fraction: 0.00016572754391779913\n",
      "Predicted good joins fraction: 0.0001657550140891762\n"
     ]
    },
    {
     "name": "stderr",
     "output_type": "stream",
     "text": [
      " 20%|█▉        | 395/2000 [06:28<15:44,  1.70it/s]"
     ]
    },
    {
     "name": "stdout",
     "output_type": "stream",
     "text": [
      "Predicted good joins fraction: 0.00016578249336870026\n",
      "Predicted good joins fraction: 0.000165809981760902\n"
     ]
    },
    {
     "name": "stderr",
     "output_type": "stream",
     "text": [
      " 19%|█▉        | 383/2000 [06:43<15:51,  1.70it/s]"
     ]
    },
    {
     "name": "stdout",
     "output_type": "stream",
     "text": [
      "Predicted good joins fraction: 0.0\n",
      "Predicted good joins fraction: 0.0001658374792703151\n"
     ]
    },
    {
     "name": "stderr",
     "output_type": "stream",
     "text": [
      " 21%|██        | 414/2000 [06:26<13:22,  1.98it/s]"
     ]
    },
    {
     "name": "stdout",
     "output_type": "stream",
     "text": [
      "Predicted good joins fraction: 0.0\n"
     ]
    },
    {
     "name": "stderr",
     "output_type": "stream",
     "text": [
      " 21%|██        | 411/2000 [06:51<15:33,  1.70it/s]"
     ]
    },
    {
     "name": "stdout",
     "output_type": "stream",
     "text": [
      "Predicted good joins fraction: 0.0001658649859014762\n"
     ]
    },
    {
     "name": "stderr",
     "output_type": "stream",
     "text": [
      " 29%|██▊       | 572/2000 [07:52<14:18,  1.66it/s]"
     ]
    },
    {
     "name": "stdout",
     "output_type": "stream",
     "text": [
      "Predicted good joins fraction: 0.0\n",
      "Predicted good joins fraction: 0.00016589250165892502\n"
     ]
    },
    {
     "name": "stderr",
     "output_type": "stream",
     "text": [
      " 20%|█▉        | 398/2000 [06:29<15:41,  1.70it/s]"
     ]
    },
    {
     "name": "stdout",
     "output_type": "stream",
     "text": [
      "Predicted good joins fraction: 0.0\n",
      "Predicted good joins fraction: 0.0\n"
     ]
    },
    {
     "name": "stderr",
     "output_type": "stream",
     "text": [
      " 21%|██        | 413/2000 [06:52<14:08,  1.87it/s]"
     ]
    },
    {
     "name": "stdout",
     "output_type": "stream",
     "text": [
      "Predicted good joins fraction: 0.0\n",
      "Predicted good joins fraction: 0.0\n"
     ]
    },
    {
     "name": "stderr",
     "output_type": "stream",
     "text": [
      " 29%|██▊       | 574/2000 [07:54<14:15,  1.67it/s]"
     ]
    },
    {
     "name": "stdout",
     "output_type": "stream",
     "text": [
      "Predicted good joins fraction: 0.0\n",
      "Predicted good joins fraction: 0.00016592002654720425\n"
     ]
    },
    {
     "name": "stderr",
     "output_type": "stream",
     "text": [
      " 25%|██▍       | 497/2000 [07:11<14:35,  1.72it/s]"
     ]
    },
    {
     "name": "stdout",
     "output_type": "stream",
     "text": [
      "Predicted good joins fraction: 0.00016594756057085962\n",
      "Predicted good joins fraction: 0.0\n"
     ]
    },
    {
     "name": "stderr",
     "output_type": "stream",
     "text": [
      " 21%|██        | 415/2000 [06:53<14:26,  1.83it/s]"
     ]
    },
    {
     "name": "stdout",
     "output_type": "stream",
     "text": [
      "Predicted good joins fraction: 0.0\n",
      "Predicted good joins fraction: 0.0\n"
     ]
    },
    {
     "name": "stderr",
     "output_type": "stream",
     "text": [
      " 21%|██        | 412/2000 [06:36<13:11,  2.01it/s]"
     ]
    },
    {
     "name": "stdout",
     "output_type": "stream",
     "text": [
      "Predicted good joins fraction: 0.00016597510373443983\n",
      "Predicted good joins fraction: 0.0\n"
     ]
    },
    {
     "name": "stderr",
     "output_type": "stream",
     "text": [
      " 21%|██        | 416/2000 [06:54<15:02,  1.76it/s]"
     ]
    },
    {
     "name": "stdout",
     "output_type": "stream",
     "text": [
      "Predicted good joins fraction: 0.0\n"
     ]
    },
    {
     "name": "stderr",
     "output_type": "stream",
     "text": [
      " 25%|██▍       | 499/2000 [07:12<15:00,  1.67it/s]"
     ]
    },
    {
     "name": "stdout",
     "output_type": "stream",
     "text": [
      "Predicted good joins fraction: 0.0\n",
      "Predicted good joins fraction: 0.00033200531208499334\n"
     ]
    },
    {
     "name": "stderr",
     "output_type": "stream",
     "text": [
      " 21%|██        | 417/2000 [06:54<14:58,  1.76it/s]"
     ]
    },
    {
     "name": "stdout",
     "output_type": "stream",
     "text": [
      "Predicted good joins fraction: 0.00016605778811026238\n",
      "Predicted good joins fraction: 0.00016608536787908985\n"
     ]
    },
    {
     "name": "stderr",
     "output_type": "stream",
     "text": [
      " 21%|██        | 416/2000 [06:37<11:04,  2.39it/s]"
     ]
    },
    {
     "name": "stdout",
     "output_type": "stream",
     "text": [
      "Predicted good joins fraction: 0.0\n",
      "Predicted good joins fraction: 0.00016611295681063124\n",
      "Predicted good joins fraction: 0.0\n"
     ]
    },
    {
     "name": "stderr",
     "output_type": "stream",
     "text": [
      " 29%|██▉       | 579/2000 [07:57<14:20,  1.65it/s]"
     ]
    },
    {
     "name": "stdout",
     "output_type": "stream",
     "text": [
      "Predicted good joins fraction: 0.0\n",
      "Predicted good joins fraction: 0.0\n"
     ]
    },
    {
     "name": "stderr",
     "output_type": "stream",
     "text": [
      " 20%|█▉        | 393/2000 [06:49<15:22,  1.74it/s]"
     ]
    },
    {
     "name": "stdout",
     "output_type": "stream",
     "text": [
      "Predicted good joins fraction: 0.0\n"
     ]
    },
    {
     "name": "stderr",
     "output_type": "stream",
     "text": [
      " 29%|██▉       | 580/2000 [07:57<14:09,  1.67it/s]"
     ]
    },
    {
     "name": "stdout",
     "output_type": "stream",
     "text": [
      "Predicted good joins fraction: 0.0001661405549094534\n",
      "Predicted good joins fraction: 0.0\n"
     ]
    },
    {
     "name": "stderr",
     "output_type": "stream",
     "text": [
      " 20%|█▉        | 394/2000 [06:50<15:11,  1.76it/s]"
     ]
    },
    {
     "name": "stdout",
     "output_type": "stream",
     "text": [
      "Predicted good joins fraction: 0.0\n"
     ]
    },
    {
     "name": "stderr",
     "output_type": "stream",
     "text": [
      " 30%|██▉       | 599/2000 [08:14<19:16,  1.21it/s]\n",
      " 22%|██▏       | 449/2000 [07:13<15:29,  1.67it/s]"
     ]
    },
    {
     "name": "stdout",
     "output_type": "stream",
     "text": [
      "Predicted good joins fraction: 0.07692307692307693\n",
      "Predicted good joins fraction: 0.029411764705882353\n"
     ]
    },
    {
     "name": "stderr",
     "output_type": "stream",
     "text": [
      " 22%|██▏       | 438/2000 [07:12<15:16,  1.70it/s]"
     ]
    },
    {
     "name": "stdout",
     "output_type": "stream",
     "text": [
      "Predicted good joins fraction: 0.015656565656565657\n",
      "Predicted good joins fraction: 0.009748589020010261\n"
     ]
    },
    {
     "name": "stderr",
     "output_type": "stream",
     "text": [
      " 22%|██▏       | 431/2000 [06:52<14:52,  1.76it/s]"
     ]
    },
    {
     "name": "stdout",
     "output_type": "stream",
     "text": [
      "Predicted good joins fraction: 0.0058721934369602765\n",
      "Predicted good joins fraction: 0.004690757470465601\n",
      "Predicted good joins fraction: 0.0024437074533077328\n",
      "Predicted good joins fraction: 0.0013998250218722659\n"
     ]
    },
    {
     "name": "stderr",
     "output_type": "stream",
     "text": [
      " 22%|██▏       | 440/2000 [07:13<14:28,  1.80it/s]"
     ]
    },
    {
     "name": "stdout",
     "output_type": "stream",
     "text": [
      "Predicted good joins fraction: 0.0024531277378657787\n",
      "Predicted good joins fraction: 0.0007026172492534692\n"
     ]
    },
    {
     "name": "stderr",
     "output_type": "stream",
     "text": [
      " 22%|██▏       | 433/2000 [06:53<14:15,  1.83it/s]"
     ]
    },
    {
     "name": "stdout",
     "output_type": "stream",
     "text": [
      "Predicted good joins fraction: 0.0\n",
      "Predicted good joins fraction: 0.001054666901037089\n",
      "Predicted good joins fraction: 0.0008798169980644026\n",
      "Predicted good joins fraction: 0.0003522367030644593\n"
     ]
    },
    {
     "name": "stderr",
     "output_type": "stream",
     "text": [
      " 22%|██▏       | 442/2000 [07:14<13:57,  1.86it/s]"
     ]
    },
    {
     "name": "stdout",
     "output_type": "stream",
     "text": [
      "Predicted good joins fraction: 0.0005285412262156448\n",
      "Predicted good joins fraction: 0.00017627357659086903\n"
     ]
    },
    {
     "name": "stderr",
     "output_type": "stream",
     "text": [
      " 22%|██▏       | 435/2000 [06:54<13:53,  1.88it/s]"
     ]
    },
    {
     "name": "stdout",
     "output_type": "stream",
     "text": [
      "Predicted good joins fraction: 0.0008815232722143865\n",
      "Predicted good joins fraction: 0.0\n",
      "Predicted good joins fraction: 0.0003529204164460914\n",
      "Predicted good joins fraction: 0.000353045013239188\n"
     ]
    },
    {
     "name": "stderr",
     "output_type": "stream",
     "text": [
      " 22%|██▏       | 444/2000 [07:15<13:40,  1.90it/s]"
     ]
    },
    {
     "name": "stdout",
     "output_type": "stream",
     "text": [
      "Predicted good joins fraction: 0.0001765848490199541\n",
      "Predicted good joins fraction: 0.0\n"
     ]
    },
    {
     "name": "stderr",
     "output_type": "stream",
     "text": [
      " 23%|██▎       | 460/2000 [06:52<14:07,  1.82it/s]"
     ]
    },
    {
     "name": "stdout",
     "output_type": "stream",
     "text": [
      "Predicted good joins fraction: 0.0\n",
      "Predicted good joins fraction: 0.00017661603673613564\n"
     ]
    },
    {
     "name": "stderr",
     "output_type": "stream",
     "text": [
      " 22%|██▏       | 449/2000 [07:00<24:11,  1.07it/s]\n"
     ]
    },
    {
     "name": "stdout",
     "output_type": "stream",
     "text": [
      "Predicted good joins fraction: 0.0001766472354707649\n",
      "Predicted good joins fraction: 0.00035335689045936394\n"
     ]
    },
    {
     "name": "stderr",
     "output_type": "stream",
     "text": [
      " 23%|██▎       | 461/2000 [06:53<13:56,  1.84it/s]"
     ]
    },
    {
     "name": "stdout",
     "output_type": "stream",
     "text": [
      "Predicted good joins fraction: 0.04057315233785822\n",
      "Predicted good joins fraction: 0.0\n",
      "Predicted good joins fraction: 0.011947806948592989\n"
     ]
    },
    {
     "name": "stderr",
     "output_type": "stream",
     "text": [
      " 22%|██▏       | 446/2000 [07:16<13:38,  1.90it/s]"
     ]
    },
    {
     "name": "stdout",
     "output_type": "stream",
     "text": [
      "Predicted good joins fraction: 0.00017674089784376105\n",
      "Predicted good joins fraction: 0.005091487669053302\n",
      "Predicted good joins fraction: 0.00017677214071062401\n"
     ]
    },
    {
     "name": "stderr",
     "output_type": "stream",
     "text": [
      " 22%|██▏       | 447/2000 [07:17<13:37,  1.90it/s]"
     ]
    },
    {
     "name": "stdout",
     "output_type": "stream",
     "text": [
      "Predicted good joins fraction: 0.005117543579082041\n",
      "Predicted good joins fraction: 0.0\n",
      "Predicted good joins fraction: 0.0027326796334994374\n",
      "Predicted good joins fraction: 0.0\n",
      "Predicted good joins fraction: 0.0025789813023855577\n",
      "Predicted good joins fraction: 0.0001768033946251768\n"
     ]
    },
    {
     "name": "stderr",
     "output_type": "stream",
     "text": [
      " 21%|██▏       | 428/2000 [07:12<12:34,  2.08it/s]"
     ]
    },
    {
     "name": "stdout",
     "output_type": "stream",
     "text": [
      "Predicted good joins fraction: 0.0016160310277957336\n",
      "Predicted good joins fraction: 0.0\n",
      "Predicted good joins fraction: 0.0009711880867594691\n",
      "Predicted good joins fraction: 0.00017683465959328028\n",
      "Predicted good joins fraction: 0.0004860661049902787\n",
      "Predicted good joins fraction: 0.00017686593562079943\n"
     ]
    },
    {
     "name": "stderr",
     "output_type": "stream",
     "text": [
      " 21%|██▏       | 429/2000 [07:13<12:25,  2.11it/s]"
     ]
    },
    {
     "name": "stdout",
     "output_type": "stream",
     "text": [
      "Predicted good joins fraction: 0.0001768972227136034\n",
      "Predicted good joins fraction: 0.0004863024801426487\n",
      "Predicted good joins fraction: 0.0\n"
     ]
    },
    {
     "name": "stderr",
     "output_type": "stream",
     "text": [
      " 23%|██▎       | 465/2000 [06:55<13:31,  1.89it/s]"
     ]
    },
    {
     "name": "stdout",
     "output_type": "stream",
     "text": [
      "Predicted good joins fraction: 0.0011352578657152124\n",
      "Predicted good joins fraction: 0.0\n",
      "Predicted good joins fraction: 0.000649456080532554\n"
     ]
    },
    {
     "name": "stderr",
     "output_type": "stream",
     "text": [
      " 22%|██▏       | 442/2000 [06:58<13:59,  1.86it/s]"
     ]
    },
    {
     "name": "stdout",
     "output_type": "stream",
     "text": [
      "Predicted good joins fraction: 0.0\n",
      "Predicted good joins fraction: 0.0003249390739236393\n",
      "Predicted good joins fraction: 0.0\n"
     ]
    },
    {
     "name": "stderr",
     "output_type": "stream",
     "text": [
      " 23%|██▎       | 466/2000 [06:56<13:21,  1.91it/s]"
     ]
    },
    {
     "name": "stdout",
     "output_type": "stream",
     "text": [
      "Predicted good joins fraction: 0.00016252234682268812\n",
      "Predicted good joins fraction: 0.0\n"
     ]
    },
    {
     "name": "stderr",
     "output_type": "stream",
     "text": [
      " 22%|██▏       | 443/2000 [06:58<13:43,  1.89it/s]"
     ]
    },
    {
     "name": "stdout",
     "output_type": "stream",
     "text": [
      "Predicted good joins fraction: 0.00016254876462938882\n",
      "Predicted good joins fraction: 0.0\n",
      "Predicted good joins fraction: 0.0\n",
      "Predicted good joins fraction: 0.00016257519102584944\n"
     ]
    },
    {
     "name": "stderr",
     "output_type": "stream",
     "text": [
      " 22%|██▏       | 432/2000 [07:14<12:06,  2.16it/s]"
     ]
    },
    {
     "name": "stdout",
     "output_type": "stream",
     "text": [
      "Predicted good joins fraction: 0.00017692852087756547\n",
      "Predicted good joins fraction: 0.0\n",
      "Predicted good joins fraction: 0.0\n"
     ]
    },
    {
     "name": "stderr",
     "output_type": "stream",
     "text": [
      " 23%|██▎       | 458/2000 [07:21<14:52,  1.73it/s]"
     ]
    },
    {
     "name": "stdout",
     "output_type": "stream",
     "text": [
      "Predicted good joins fraction: 0.0\n",
      "Predicted good joins fraction: 0.0\n"
     ]
    },
    {
     "name": "stderr",
     "output_type": "stream",
     "text": [
      " 22%|██▏       | 433/2000 [07:14<12:32,  2.08it/s]"
     ]
    },
    {
     "name": "stdout",
     "output_type": "stream",
     "text": [
      "Predicted good joins fraction: 0.00016260162601626016\n",
      "Predicted good joins fraction: 0.00017695983011856308\n",
      "Predicted good joins fraction: 0.0001626280696048138\n",
      "Predicted good joins fraction: 0.0\n",
      "Predicted good joins fraction: 0.00016265452179570593\n",
      "Predicted good joins fraction: 0.00017699115044247788\n"
     ]
    },
    {
     "name": "stderr",
     "output_type": "stream",
     "text": [
      " 22%|██▏       | 434/2000 [07:15<12:43,  2.05it/s]"
     ]
    },
    {
     "name": "stdout",
     "output_type": "stream",
     "text": [
      "Predicted good joins fraction: 0.00032536196518626975\n",
      "Predicted good joins fraction: 0.0\n",
      "Predicted good joins fraction: 0.0\n",
      "Predicted good joins fraction: 0.0\n"
     ]
    },
    {
     "name": "stderr",
     "output_type": "stream",
     "text": [
      " 23%|██▎       | 460/2000 [07:22<13:55,  1.84it/s]"
     ]
    },
    {
     "name": "stdout",
     "output_type": "stream",
     "text": [
      "Predicted good joins fraction: 0.0\n",
      "Predicted good joins fraction: 0.0\n",
      "Predicted good joins fraction: 0.0\n"
     ]
    },
    {
     "name": "stderr",
     "output_type": "stream",
     "text": [
      " 24%|██▎       | 470/2000 [06:58<13:07,  1.94it/s]"
     ]
    },
    {
     "name": "stdout",
     "output_type": "stream",
     "text": [
      "Predicted good joins fraction: 0.0\n",
      "Predicted good joins fraction: 0.0001770224818551956\n",
      "Predicted good joins fraction: 0.0\n"
     ]
    },
    {
     "name": "stderr",
     "output_type": "stream",
     "text": [
      " 23%|██▎       | 461/2000 [07:23<13:37,  1.88it/s]"
     ]
    },
    {
     "name": "stdout",
     "output_type": "stream",
     "text": [
      "Predicted good joins fraction: 0.0\n",
      "Predicted good joins fraction: 0.00016273393002441008\n",
      "Predicted good joins fraction: 0.0003541076487252125\n"
     ]
    },
    {
     "name": "stderr",
     "output_type": "stream",
     "text": [
      " 24%|██▎       | 471/2000 [06:58<13:08,  1.94it/s]"
     ]
    },
    {
     "name": "stdout",
     "output_type": "stream",
     "text": [
      "Predicted good joins fraction: 0.0\n",
      "Predicted good joins fraction: 0.0\n"
     ]
    },
    {
     "name": "stderr",
     "output_type": "stream",
     "text": [
      " 22%|██▏       | 448/2000 [07:01<13:15,  1.95it/s]"
     ]
    },
    {
     "name": "stdout",
     "output_type": "stream",
     "text": [
      "Predicted good joins fraction: 0.0\n",
      "Predicted good joins fraction: 0.0\n",
      "Predicted good joins fraction: 0.0\n"
     ]
    },
    {
     "name": "stderr",
     "output_type": "stream",
     "text": [
      " 23%|██▎       | 451/2000 [07:22<29:22,  1.14s/it]"
     ]
    },
    {
     "name": "stdout",
     "output_type": "stream",
     "text": [
      "Predicted good joins fraction: 0.0\n",
      "Predicted good joins fraction: 0.0\n",
      "Predicted good joins fraction: 0.00016276041666666666\n"
     ]
    },
    {
     "name": "stderr",
     "output_type": "stream",
     "text": [
      " 22%|██▏       | 449/2000 [07:01<13:22,  1.93it/s]"
     ]
    },
    {
     "name": "stdout",
     "output_type": "stream",
     "text": [
      "Predicted good joins fraction: 0.0\n",
      "Predicted good joins fraction: 0.0\n",
      "Predicted good joins fraction: 0.0\n"
     ]
    },
    {
     "name": "stderr",
     "output_type": "stream",
     "text": [
      " 22%|██▏       | 438/2000 [07:17<13:10,  1.98it/s]"
     ]
    },
    {
     "name": "stdout",
     "output_type": "stream",
     "text": [
      "Predicted good joins fraction: 0.0\n",
      "Predicted good joins fraction: 0.0\n"
     ]
    },
    {
     "name": "stderr",
     "output_type": "stream",
     "text": [
      " 24%|██▎       | 473/2000 [06:59<13:19,  1.91it/s]"
     ]
    },
    {
     "name": "stdout",
     "output_type": "stream",
     "text": [
      "Predicted good joins fraction: 0.0\n",
      "Predicted good joins fraction: 0.0\n",
      "Predicted good joins fraction: 0.00016278691193228064\n"
     ]
    },
    {
     "name": "stderr",
     "output_type": "stream",
     "text": [
      " 22%|██▏       | 439/2000 [07:17<12:54,  2.01it/s]"
     ]
    },
    {
     "name": "stdout",
     "output_type": "stream",
     "text": [
      "Predicted good joins fraction: 0.0\n",
      "Predicted good joins fraction: 0.0\n",
      "Predicted good joins fraction: 0.0\n"
     ]
    },
    {
     "name": "stderr",
     "output_type": "stream",
     "text": [
      " 24%|██▎       | 474/2000 [07:00<13:10,  1.93it/s]"
     ]
    },
    {
     "name": "stdout",
     "output_type": "stream",
     "text": [
      "Predicted good joins fraction: 0.0\n",
      "Predicted good joins fraction: 0.0\n",
      "Predicted good joins fraction: 0.0\n"
     ]
    },
    {
     "name": "stderr",
     "output_type": "stream",
     "text": [
      " 24%|██▍       | 475/2000 [07:00<13:19,  1.91it/s]"
     ]
    },
    {
     "name": "stdout",
     "output_type": "stream",
     "text": [
      "Predicted good joins fraction: 0.0\n",
      "Predicted good joins fraction: 0.0\n"
     ]
    },
    {
     "name": "stderr",
     "output_type": "stream",
     "text": [
      " 23%|██▎       | 455/2000 [07:24<16:52,  1.53it/s]"
     ]
    },
    {
     "name": "stdout",
     "output_type": "stream",
     "text": [
      "Predicted good joins fraction: 0.0\n",
      "Predicted good joins fraction: 0.0\n"
     ]
    },
    {
     "name": "stderr",
     "output_type": "stream",
     "text": [
      " 23%|██▎       | 456/2000 [07:24<15:45,  1.63it/s]"
     ]
    },
    {
     "name": "stdout",
     "output_type": "stream",
     "text": [
      "Predicted good joins fraction: 0.0\n"
     ]
    },
    {
     "name": "stderr",
     "output_type": "stream",
     "text": [
      " 24%|██▍       | 477/2000 [07:01<12:55,  1.96it/s]"
     ]
    },
    {
     "name": "stdout",
     "output_type": "stream",
     "text": [
      "Predicted good joins fraction: 0.00016281341582546403\n",
      "Predicted good joins fraction: 0.00016283992835043154\n",
      "Predicted good joins fraction: 0.0\n"
     ]
    },
    {
     "name": "stderr",
     "output_type": "stream",
     "text": [
      " 24%|██▍       | 478/2000 [07:02<12:33,  2.02it/s]"
     ]
    },
    {
     "name": "stdout",
     "output_type": "stream",
     "text": [
      "Predicted good joins fraction: 0.0\n",
      "Predicted good joins fraction: 0.0\n"
     ]
    },
    {
     "name": "stderr",
     "output_type": "stream",
     "text": [
      " 24%|██▍       | 479/2000 [07:02<12:35,  2.01it/s]"
     ]
    },
    {
     "name": "stdout",
     "output_type": "stream",
     "text": [
      "Predicted good joins fraction: 0.0\n",
      "Predicted good joins fraction: 0.00016286644951140066\n",
      "Predicted good joins fraction: 0.0\n"
     ]
    },
    {
     "name": "stderr",
     "output_type": "stream",
     "text": [
      " 22%|██▎       | 450/2000 [07:05<39:38,  1.53s/it]"
     ]
    },
    {
     "name": "stdout",
     "output_type": "stream",
     "text": [
      "Predicted good joins fraction: 0.0\n",
      "Predicted good joins fraction: 0.0\n"
     ]
    },
    {
     "name": "stderr",
     "output_type": "stream",
     "text": [
      " 22%|██▏       | 446/2000 [07:21<12:52,  2.01it/s]"
     ]
    },
    {
     "name": "stdout",
     "output_type": "stream",
     "text": [
      "Predicted good joins fraction: 0.0\n",
      "Predicted good joins fraction: 0.0\n"
     ]
    },
    {
     "name": "stderr",
     "output_type": "stream",
     "text": [
      " 22%|██▏       | 447/2000 [07:21<12:56,  2.00it/s]"
     ]
    },
    {
     "name": "stdout",
     "output_type": "stream",
     "text": [
      "Predicted good joins fraction: 0.0\n",
      "Predicted good joins fraction: 0.0\n"
     ]
    },
    {
     "name": "stderr",
     "output_type": "stream",
     "text": [
      " 23%|██▎       | 452/2000 [07:06<26:29,  1.03s/it]"
     ]
    },
    {
     "name": "stdout",
     "output_type": "stream",
     "text": [
      "Predicted good joins fraction: 0.0\n",
      "Predicted good joins fraction: 0.0\n"
     ]
    },
    {
     "name": "stderr",
     "output_type": "stream",
     "text": [
      " 23%|██▎       | 453/2000 [07:07<22:30,  1.15it/s]"
     ]
    },
    {
     "name": "stdout",
     "output_type": "stream",
     "text": [
      "Predicted good joins fraction: 0.0\n",
      "Predicted good joins fraction: 0.0\n"
     ]
    },
    {
     "name": "stderr",
     "output_type": "stream",
     "text": [
      " 25%|██▍       | 499/2000 [07:16<21:53,  1.14it/s]\n",
      " 29%|██▊       | 574/2000 [08:00<11:25,  2.08it/s]"
     ]
    },
    {
     "name": "stdout",
     "output_type": "stream",
     "text": [
      "Predicted good joins fraction: 0.06757164404223227\n",
      "Predicted good joins fraction: 0.029602070527337432\n"
     ]
    },
    {
     "name": "stderr",
     "output_type": "stream",
     "text": [
      " 23%|██▎       | 467/2000 [07:35<13:10,  1.94it/s]"
     ]
    },
    {
     "name": "stdout",
     "output_type": "stream",
     "text": [
      "Predicted good joins fraction: 0.019169861643607268\n",
      "Predicted good joins fraction: 0.013936097892590074\n"
     ]
    },
    {
     "name": "stderr",
     "output_type": "stream",
     "text": [
      " 24%|██▍       | 487/2000 [07:40<13:13,  1.91it/s]"
     ]
    },
    {
     "name": "stdout",
     "output_type": "stream",
     "text": [
      "Predicted good joins fraction: 0.007928300586004825\n",
      "Predicted good joins fraction: 0.004864489228630994\n"
     ]
    },
    {
     "name": "stderr",
     "output_type": "stream",
     "text": [
      " 23%|██▎       | 468/2000 [07:35<13:05,  1.95it/s]"
     ]
    },
    {
     "name": "stdout",
     "output_type": "stream",
     "text": [
      "Predicted good joins fraction: 0.005062849162011173\n",
      "Predicted good joins fraction: 0.00403579575364099\n"
     ]
    },
    {
     "name": "stderr",
     "output_type": "stream",
     "text": [
      " 23%|██▎       | 469/2000 [07:36<12:52,  1.98it/s]"
     ]
    },
    {
     "name": "stdout",
     "output_type": "stream",
     "text": [
      "Predicted good joins fraction: 0.0021141649048625794\n",
      "Predicted good joins fraction: 0.0024717514124293787\n"
     ]
    },
    {
     "name": "stderr",
     "output_type": "stream",
     "text": [
      " 24%|██▎       | 470/2000 [07:36<12:47,  1.99it/s]"
     ]
    },
    {
     "name": "stdout",
     "output_type": "stream",
     "text": [
      "Predicted good joins fraction: 0.0017699115044247787\n",
      "Predicted good joins fraction: 0.0024822695035460994\n",
      "Predicted good joins fraction: 0.0017774617845716318\n",
      "Predicted good joins fraction: 0.0016025641025641025\n"
     ]
    },
    {
     "name": "stderr",
     "output_type": "stream",
     "text": [
      " 24%|██▎       | 471/2000 [07:37<12:41,  2.01it/s]"
     ]
    },
    {
     "name": "stdout",
     "output_type": "stream",
     "text": [
      "Predicted good joins fraction: 0.0014267879436418763\n",
      "Predicted good joins fraction: 0.0007144132880871584\n",
      "Predicted good joins fraction: 0.00035746201966041106\n",
      "Predicted good joins fraction: 0.0008939746111210441\n"
     ]
    },
    {
     "name": "stderr",
     "output_type": "stream",
     "text": [
      " 24%|██▎       | 472/2000 [07:37<12:44,  2.00it/s]"
     ]
    },
    {
     "name": "stdout",
     "output_type": "stream",
     "text": [
      "Predicted good joins fraction: 0.0005368647100930566\n",
      "Predicted good joins fraction: 0.0007162041181736795\n"
     ]
    },
    {
     "name": "stderr",
     "output_type": "stream",
     "text": [
      " 24%|██▎       | 473/2000 [07:38<12:35,  2.02it/s]"
     ]
    },
    {
     "name": "stdout",
     "output_type": "stream",
     "text": [
      "Predicted good joins fraction: 0.0007167174341515857\n",
      "Predicted good joins fraction: 0.00035861574323112785\n"
     ]
    },
    {
     "name": "stderr",
     "output_type": "stream",
     "text": [
      " 25%|██▌       | 501/2000 [07:45<26:48,  1.07s/it]"
     ]
    },
    {
     "name": "stdout",
     "output_type": "stream",
     "text": [
      "Predicted good joins fraction: 0.0005381165919282511\n",
      "Predicted good joins fraction: 0.0008973438621679827\n",
      "Predicted good joins fraction: 0.0007185198491108317\n",
      "Predicted good joins fraction: 0.00017975912277548085\n"
     ]
    },
    {
     "name": "stderr",
     "output_type": "stream",
     "text": [
      " 25%|██▌       | 502/2000 [07:46<22:23,  1.11it/s]"
     ]
    },
    {
     "name": "stdout",
     "output_type": "stream",
     "text": [
      "Predicted good joins fraction: 0.0005393743257820927\n",
      "Predicted good joins fraction: 0.0005396654074473826\n",
      "Predicted good joins fraction: 0.00017998560115190784\n",
      "Predicted good joins fraction: 0.00072007200720072\n"
     ]
    },
    {
     "name": "stderr",
     "output_type": "stream",
     "text": [
      " 25%|██▌       | 503/2000 [07:46<19:28,  1.28it/s]"
     ]
    },
    {
     "name": "stdout",
     "output_type": "stream",
     "text": [
      "Predicted good joins fraction: 0.0001801477211313277\n",
      "Predicted good joins fraction: 0.00036036036036036037\n"
     ]
    },
    {
     "name": "stderr",
     "output_type": "stream",
     "text": [
      " 25%|██▌       | 504/2000 [07:47<17:23,  1.43it/s]"
     ]
    },
    {
     "name": "stdout",
     "output_type": "stream",
     "text": [
      "Predicted good joins fraction: 0.0003604902667627974\n",
      "Predicted good joins fraction: 0.0003606202668589975\n",
      "Predicted good joins fraction: 0.00036075036075036075\n",
      "Predicted good joins fraction: 0.00036088054853843375\n"
     ]
    },
    {
     "name": "stderr",
     "output_type": "stream",
     "text": [
      " 25%|██▌       | 505/2000 [07:47<16:09,  1.54it/s]"
     ]
    },
    {
     "name": "stdout",
     "output_type": "stream",
     "text": [
      "Predicted good joins fraction: 0.00036101083032490973\n",
      "Predicted good joins fraction: 0.0009028530155290719\n"
     ]
    },
    {
     "name": "stderr",
     "output_type": "stream",
     "text": [
      " 24%|██▍       | 479/2000 [07:41<12:36,  2.01it/s]"
     ]
    },
    {
     "name": "stdout",
     "output_type": "stream",
     "text": [
      "Predicted good joins fraction: 0.0\n",
      "Predicted good joins fraction: 0.0\n"
     ]
    },
    {
     "name": "stderr",
     "output_type": "stream",
     "text": [
      " 25%|██▌       | 506/2000 [07:48<15:03,  1.65it/s]"
     ]
    },
    {
     "name": "stdout",
     "output_type": "stream",
     "text": [
      "Predicted good joins fraction: 0.0003614675582866438\n",
      "Predicted good joins fraction: 0.0001807991321641656\n"
     ]
    },
    {
     "name": "stderr",
     "output_type": "stream",
     "text": [
      " 25%|██▌       | 507/2000 [07:48<14:16,  1.74it/s]"
     ]
    },
    {
     "name": "stdout",
     "output_type": "stream",
     "text": [
      "Predicted good joins fraction: 0.00018083182640144665\n",
      "Predicted good joins fraction: 0.0\n"
     ]
    },
    {
     "name": "stderr",
     "output_type": "stream",
     "text": [
      " 24%|██▍       | 481/2000 [07:42<12:32,  2.02it/s]"
     ]
    },
    {
     "name": "stdout",
     "output_type": "stream",
     "text": [
      "Predicted good joins fraction: 0.00018086453246518358\n",
      "Predicted good joins fraction: 0.000361794500723589\n"
     ]
    },
    {
     "name": "stderr",
     "output_type": "stream",
     "text": [
      " 24%|██▍       | 482/2000 [07:42<12:25,  2.03it/s]"
     ]
    },
    {
     "name": "stdout",
     "output_type": "stream",
     "text": [
      "Predicted good joins fraction: 0.00018096272167933406\n",
      "Predicted good joins fraction: 0.00018099547511312217\n"
     ]
    },
    {
     "name": "stderr",
     "output_type": "stream",
     "text": [
      " 27%|██▋       | 549/2000 [08:12<21:41,  1.11it/s]\n",
      " 27%|██▋       | 534/2000 [07:50<11:53,  2.05it/s]"
     ]
    },
    {
     "name": "stdout",
     "output_type": "stream",
     "text": [
      "Predicted good joins fraction: 0.013122171945701358\n",
      "Predicted good joins fraction: 0.0030567018187375823\n"
     ]
    },
    {
     "name": "stderr",
     "output_type": "stream",
     "text": [
      " 32%|███▏      | 633/2000 [08:31<11:02,  2.06it/s]"
     ]
    },
    {
     "name": "stdout",
     "output_type": "stream",
     "text": [
      "Predicted good joins fraction: 0.0012264295569523226\n",
      "Predicted good joins fraction: 0.0003069838833461243\n"
     ]
    },
    {
     "name": "stderr",
     "output_type": "stream",
     "text": [
      " 27%|██▋       | 535/2000 [07:51<11:47,  2.07it/s]"
     ]
    },
    {
     "name": "stdout",
     "output_type": "stream",
     "text": [
      "Predicted good joins fraction: 0.0006141563027790573\n",
      "Predicted good joins fraction: 0.00030726686126901216\n"
     ]
    },
    {
     "name": "stderr",
     "output_type": "stream",
     "text": [
      " 27%|██▋       | 536/2000 [07:51<11:44,  2.08it/s]"
     ]
    },
    {
     "name": "stdout",
     "output_type": "stream",
     "text": [
      "Predicted good joins fraction: 0.0003073613032119256\n",
      "Predicted good joins fraction: 0.00015372790161414298\n"
     ]
    },
    {
     "name": "stderr",
     "output_type": "stream",
     "text": [
      " 27%|██▋       | 537/2000 [07:52<11:44,  2.08it/s]"
     ]
    },
    {
     "name": "stdout",
     "output_type": "stream",
     "text": [
      "Predicted good joins fraction: 0.0003075030750307503\n",
      "Predicted good joins fraction: 0.0\n"
     ]
    },
    {
     "name": "stderr",
     "output_type": "stream",
     "text": [
      " 32%|███▏      | 636/2000 [08:33<10:55,  2.08it/s]"
     ]
    },
    {
     "name": "stdout",
     "output_type": "stream",
     "text": [
      "Predicted good joins fraction: 0.00030759766225776686\n"
     ]
    },
    {
     "name": "stderr",
     "output_type": "stream",
     "text": [
      " 27%|██▋       | 538/2000 [07:52<11:44,  2.08it/s]"
     ]
    },
    {
     "name": "stdout",
     "output_type": "stream",
     "text": [
      "Predicted good joins fraction: 0.0\n",
      "Predicted good joins fraction: 0.0\n"
     ]
    },
    {
     "name": "stderr",
     "output_type": "stream",
     "text": [
      " 27%|██▋       | 539/2000 [07:53<11:40,  2.08it/s]"
     ]
    },
    {
     "name": "stdout",
     "output_type": "stream",
     "text": [
      "Predicted good joins fraction: 0.0\n",
      "Predicted good joins fraction: 0.0\n"
     ]
    },
    {
     "name": "stderr",
     "output_type": "stream",
     "text": [
      " 32%|███▏      | 638/2000 [08:34<10:52,  2.09it/s]"
     ]
    },
    {
     "name": "stdout",
     "output_type": "stream",
     "text": [
      "Predicted good joins fraction: 0.00015384615384615385\n",
      "Predicted good joins fraction: 0.00015386982612709647\n"
     ]
    },
    {
     "name": "stderr",
     "output_type": "stream",
     "text": [
      " 27%|██▋       | 548/2000 [08:14<12:01,  2.01it/s]"
     ]
    },
    {
     "name": "stdout",
     "output_type": "stream",
     "text": [
      "Predicted good joins fraction: 0.0003077870113881194\n"
     ]
    },
    {
     "name": "stderr",
     "output_type": "stream",
     "text": [
      " 27%|██▋       | 541/2000 [07:54<11:38,  2.09it/s]"
     ]
    },
    {
     "name": "stdout",
     "output_type": "stream",
     "text": [
      "Predicted good joins fraction: 0.0001539408866995074\n"
     ]
    },
    {
     "name": "stderr",
     "output_type": "stream",
     "text": [
      " 27%|██▋       | 531/2000 [08:09<11:43,  2.09it/s]"
     ]
    },
    {
     "name": "stdout",
     "output_type": "stream",
     "text": [
      "Predicted good joins fraction: 0.00015396458814472672\n",
      "Predicted good joins fraction: 0.0\n"
     ]
    },
    {
     "name": "stderr",
     "output_type": "stream",
     "text": [
      " 27%|██▋       | 542/2000 [07:54<11:22,  2.14it/s]"
     ]
    },
    {
     "name": "stdout",
     "output_type": "stream",
     "text": [
      "Predicted good joins fraction: 0.0\n",
      "Predicted good joins fraction: 0.0001539882968894364\n"
     ]
    },
    {
     "name": "stderr",
     "output_type": "stream",
     "text": [
      " 27%|██▋       | 532/2000 [08:10<11:41,  2.09it/s]"
     ]
    },
    {
     "name": "stdout",
     "output_type": "stream",
     "text": [
      "Predicted good joins fraction: 0.0\n"
     ]
    },
    {
     "name": "stderr",
     "output_type": "stream",
     "text": [
      " 27%|██▋       | 533/2000 [08:10<11:39,  2.10it/s]"
     ]
    },
    {
     "name": "stdout",
     "output_type": "stream",
     "text": [
      "Predicted good joins fraction: 0.0\n",
      "Predicted good joins fraction: 0.0\n",
      "Predicted good joins fraction: 0.0\n"
     ]
    },
    {
     "name": "stderr",
     "output_type": "stream",
     "text": [
      " 27%|██▋       | 546/2000 [07:55<09:04,  2.67it/s]"
     ]
    },
    {
     "name": "stdout",
     "output_type": "stream",
     "text": [
      "Predicted good joins fraction: 0.00015401201293700908\n",
      "Predicted good joins fraction: 0.0\n"
     ]
    },
    {
     "name": "stderr",
     "output_type": "stream",
     "text": [
      " 27%|██▋       | 535/2000 [08:11<11:35,  2.11it/s]"
     ]
    },
    {
     "name": "stdout",
     "output_type": "stream",
     "text": [
      "Predicted good joins fraction: 0.0\n",
      "Predicted good joins fraction: 0.0\n"
     ]
    },
    {
     "name": "stderr",
     "output_type": "stream",
     "text": [
      " 32%|███▏      | 645/2000 [08:37<10:42,  2.11it/s]"
     ]
    },
    {
     "name": "stdout",
     "output_type": "stream",
     "text": [
      "Predicted good joins fraction: 0.0\n",
      "Predicted good joins fraction: 0.0\n"
     ]
    },
    {
     "name": "stderr",
     "output_type": "stream",
     "text": [
      " 27%|██▋       | 549/2000 [07:56<08:37,  2.81it/s]"
     ]
    },
    {
     "name": "stdout",
     "output_type": "stream",
     "text": [
      "Predicted good joins fraction: 0.0\n",
      "Predicted good joins fraction: 0.0\n"
     ]
    },
    {
     "name": "stderr",
     "output_type": "stream",
     "text": [
      " 27%|██▋       | 537/2000 [08:12<11:30,  2.12it/s]"
     ]
    },
    {
     "name": "stdout",
     "output_type": "stream",
     "text": [
      "Predicted good joins fraction: 0.0\n",
      "Predicted good joins fraction: 0.00015403573629081948\n",
      "Predicted good joins fraction: 0.0\n"
     ]
    },
    {
     "name": "stderr",
     "output_type": "stream",
     "text": [
      " 27%|██▋       | 538/2000 [08:13<11:27,  2.13it/s]"
     ]
    },
    {
     "name": "stdout",
     "output_type": "stream",
     "text": [
      "Predicted good joins fraction: 0.0\n",
      "Predicted good joins fraction: 0.0\n"
     ]
    },
    {
     "name": "stderr",
     "output_type": "stream",
     "text": [
      " 27%|██▋       | 539/2000 [08:13<11:27,  2.13it/s]"
     ]
    },
    {
     "name": "stdout",
     "output_type": "stream",
     "text": [
      "Predicted good joins fraction: 0.0\n"
     ]
    },
    {
     "name": "stderr",
     "output_type": "stream",
     "text": [
      " 27%|██▋       | 540/2000 [08:14<11:28,  2.12it/s]"
     ]
    },
    {
     "name": "stdout",
     "output_type": "stream",
     "text": [
      "Predicted good joins fraction: 0.0\n",
      "Predicted good joins fraction: 0.0\n",
      "Predicted good joins fraction: 0.0\n",
      "Predicted good joins fraction: 0.0\n"
     ]
    },
    {
     "name": "stderr",
     "output_type": "stream",
     "text": [
      " 27%|██▋       | 541/2000 [08:14<11:31,  2.11it/s]"
     ]
    },
    {
     "name": "stdout",
     "output_type": "stream",
     "text": [
      "Predicted good joins fraction: 0.0\n",
      "Predicted good joins fraction: 0.0\n"
     ]
    },
    {
     "name": "stderr",
     "output_type": "stream",
     "text": [
      " 27%|██▋       | 542/2000 [08:15<11:28,  2.12it/s]"
     ]
    },
    {
     "name": "stdout",
     "output_type": "stream",
     "text": [
      "Predicted good joins fraction: 0.0\n"
     ]
    },
    {
     "name": "stderr",
     "output_type": "stream",
     "text": [
      " 30%|██▉       | 599/2000 [08:23<19:38,  1.19it/s]\n",
      " 29%|██▉       | 588/2000 [08:39<11:11,  2.10it/s]"
     ]
    },
    {
     "name": "stdout",
     "output_type": "stream",
     "text": [
      "Predicted good joins fraction: 0.13665158371040723\n",
      "Predicted good joins fraction: 0.030223619846261356\n"
     ]
    },
    {
     "name": "stderr",
     "output_type": "stream",
     "text": [
      " 29%|██▉       | 589/2000 [08:39<11:05,  2.12it/s]"
     ]
    },
    {
     "name": "stdout",
     "output_type": "stream",
     "text": [
      "Predicted good joins fraction: 0.018555215276526753\n"
     ]
    },
    {
     "name": "stderr",
     "output_type": "stream",
     "text": [
      " 30%|██▉       | 599/2000 [08:45<20:29,  1.14it/s]\n",
      " 30%|██▉       | 591/2000 [08:40<10:36,  2.21it/s]"
     ]
    },
    {
     "name": "stdout",
     "output_type": "stream",
     "text": [
      "Predicted good joins fraction: 0.20935143288084465\n"
     ]
    },
    {
     "name": "stderr",
     "output_type": "stream",
     "text": [
      " 37%|███▋      | 749/2000 [09:32<15:55,  1.31it/s]\n",
      " 32%|███▏      | 645/2000 [09:07<09:52,  2.29it/s]"
     ]
    },
    {
     "name": "stdout",
     "output_type": "stream",
     "text": [
      "Predicted good joins fraction: 0.2553544494720965\n"
     ]
    },
    {
     "name": "stderr",
     "output_type": "stream",
     "text": [
      " 40%|███▉      | 799/2000 [10:22<15:35,  1.28it/s]\n"
     ]
    },
    {
     "name": "stdout",
     "output_type": "stream",
     "text": [
      "Predicted good joins fraction: 0.12684766214177978\n",
      "Predicted good joins fraction: 0.02988426325790292\n",
      "Predicted good joins fraction: 0.013710826210826211\n",
      "Predicted good joins fraction: 0.009207438165733887\n"
     ]
    },
    {
     "ename": "ValueError",
     "evalue": "Cannot take a larger sample than population when 'replace=False'",
     "output_type": "error",
     "traceback": [
      "\u001b[0;31m---------------------------------------------------------------------------\u001b[0m",
      "\u001b[0;31m_RemoteTraceback\u001b[0m                          Traceback (most recent call last)",
      "\u001b[0;31m_RemoteTraceback\u001b[0m: \n\"\"\"\nTraceback (most recent call last):\n  File \"/home/lautrup/sdg_env/lib/python3.10/site-packages/joblib/externals/loky/process_executor.py\", line 463, in _process_worker\n    r = call_item()\n  File \"/home/lautrup/sdg_env/lib/python3.10/site-packages/joblib/externals/loky/process_executor.py\", line 291, in __call__\n    return self.fn(*self.args, **self.kwargs)\n  File \"/home/lautrup/sdg_env/lib/python3.10/site-packages/joblib/parallel.py\", line 598, in __call__\n    return [func(*args, **kwargs)\n  File \"/home/lautrup/sdg_env/lib/python3.10/site-packages/joblib/parallel.py\", line 598, in <listcomp>\n    return [func(*args, **kwargs)\n  File \"/home/lautrup/sdg_env/lib/python3.10/site-packages/syntheval/syntheval.py\", line 161, in evaluate\n    raw_results[method] = M.evaluate(**evaluation_config[method])\n  File \"/home/lautrup/sdg_env/lib/python3.10/site-packages/syntheval/metrics/privacy/metric_MIA_classification.py\", line 92, in evaluate\n    syn_samples = syn.sample(n=len(hout_train))\n  File \"/home/lautrup/sdg_env/lib/python3.10/site-packages/pandas/core/generic.py\", line 6118, in sample\n    sampled_indices = sample.sample(obj_len, size, replace, weights, rs)\n  File \"/home/lautrup/sdg_env/lib/python3.10/site-packages/pandas/core/sample.py\", line 152, in sample\n    return random_state.choice(obj_len, size=size, replace=replace, p=weights).astype(\n  File \"numpy/random/mtrand.pyx\", line 1001, in numpy.random.mtrand.RandomState.choice\nValueError: Cannot take a larger sample than population when 'replace=False'\n\"\"\"",
      "\nThe above exception was the direct cause of the following exception:\n",
      "\u001b[0;31mValueError\u001b[0m                                Traceback (most recent call last)",
      "Cell \u001b[0;32mIn[7], line 13\u001b[0m\n\u001b[1;32m     10\u001b[0m     df_syn \u001b[38;5;241m=\u001b[39m dgms\u001b[38;5;241m.\u001b[39mfit_generate()\n\u001b[1;32m     11\u001b[0m     \u001b[38;5;28;01mreturn\u001b[39;00m df_syn\n\u001b[0;32m---> 13\u001b[0m res \u001b[38;5;241m=\u001b[39m \u001b[43mrepeated_experiment\u001b[49m\u001b[43m(\u001b[49m\u001b[43mdf_train\u001b[49m\u001b[43m,\u001b[49m\u001b[43m \u001b[49m\u001b[43mdf_test\u001b[49m\u001b[43m,\u001b[49m\u001b[43m \u001b[49m\u001b[43mlabel\u001b[49m\u001b[43m,\u001b[49m\u001b[43m \u001b[49m\u001b[43mknn_base\u001b[49m\u001b[43m,\u001b[49m\u001b[43m \u001b[49m\u001b[43mNUM_REPS\u001b[49m\u001b[43m,\u001b[49m\u001b[43m \u001b[49m\u001b[43mmetrics\u001b[49m\u001b[43m)\u001b[49m\n\u001b[1;32m     14\u001b[0m res\u001b[38;5;241m.\u001b[39mto_csv(\u001b[38;5;124m'\u001b[39m\u001b[38;5;124mexperiments/results/mixed_model_results/validator_case_study/knn_base.csv\u001b[39m\u001b[38;5;124m'\u001b[39m)\n",
      "File \u001b[0;32m~/repositories/disjoint-synthetic-data-generation/experiments/auxiliaries/exp_repeater.py:39\u001b[0m, in \u001b[0;36mrepeated_experiment\u001b[0;34m(df_train, df_test, label, generate_function, num_reps, metrics)\u001b[0m\n\u001b[1;32m     36\u001b[0m dfs_list \u001b[38;5;241m=\u001b[39m Parallel(n_jobs\u001b[38;5;241m=\u001b[39m\u001b[38;5;241m-\u001b[39m\u001b[38;5;241m1\u001b[39m)(delayed(generate_function)(df_train, \u001b[38;5;28mid\u001b[39m\u001b[38;5;241m=\u001b[39mi) \u001b[38;5;28;01mfor\u001b[39;00m i \u001b[38;5;129;01min\u001b[39;00m \u001b[38;5;28mrange\u001b[39m(num_reps))\n\u001b[1;32m     37\u001b[0m dfs \u001b[38;5;241m=\u001b[39m {\u001b[38;5;124mf\u001b[39m\u001b[38;5;124m\"\u001b[39m\u001b[38;5;124mrep_\u001b[39m\u001b[38;5;132;01m{\u001b[39;00mi\u001b[38;5;132;01m}\u001b[39;00m\u001b[38;5;124m\"\u001b[39m: df_synth \u001b[38;5;28;01mfor\u001b[39;00m i, df_synth \u001b[38;5;129;01min\u001b[39;00m \u001b[38;5;28menumerate\u001b[39m(dfs_list)}\n\u001b[0;32m---> 39\u001b[0m res, _ \u001b[38;5;241m=\u001b[39m \u001b[43mSE\u001b[49m\u001b[38;5;241;43m.\u001b[39;49m\u001b[43mbenchmark\u001b[49m\u001b[43m(\u001b[49m\u001b[43mdfs\u001b[49m\u001b[43m,\u001b[49m\u001b[43m \u001b[49m\u001b[43manalysis_target_var\u001b[49m\u001b[38;5;241;43m=\u001b[39;49m\u001b[43mlabel\u001b[49m\u001b[43m,\u001b[49m\u001b[38;5;241;43m*\u001b[39;49m\u001b[38;5;241;43m*\u001b[39;49m\u001b[43mmetrics\u001b[49m\u001b[43m,\u001b[49m\u001b[43m \u001b[49m\u001b[43mrank_strategy\u001b[49m\u001b[38;5;241;43m=\u001b[39;49m\u001b[38;5;124;43m'\u001b[39;49m\u001b[38;5;124;43msummation\u001b[39;49m\u001b[38;5;124;43m'\u001b[39;49m\u001b[43m)\u001b[49m\n\u001b[1;32m     41\u001b[0m res \u001b[38;5;241m=\u001b[39m res\u001b[38;5;241m.\u001b[39mdrop(columns\u001b[38;5;241m=\u001b[39m[col \u001b[38;5;28;01mfor\u001b[39;00m col \u001b[38;5;129;01min\u001b[39;00m res\u001b[38;5;241m.\u001b[39mcolumns \u001b[38;5;28;01mif\u001b[39;00m \u001b[38;5;124m'\u001b[39m\u001b[38;5;124merror\u001b[39m\u001b[38;5;124m'\u001b[39m \u001b[38;5;129;01min\u001b[39;00m col])\n\u001b[1;32m     42\u001b[0m res \u001b[38;5;241m=\u001b[39m res\u001b[38;5;241m.\u001b[39mdrop(columns\u001b[38;5;241m=\u001b[39m[\u001b[38;5;124m'\u001b[39m\u001b[38;5;124mrank\u001b[39m\u001b[38;5;124m'\u001b[39m, \u001b[38;5;124m'\u001b[39m\u001b[38;5;124mu_rank\u001b[39m\u001b[38;5;124m'\u001b[39m, \u001b[38;5;124m'\u001b[39m\u001b[38;5;124mp_rank\u001b[39m\u001b[38;5;124m'\u001b[39m, \u001b[38;5;124m'\u001b[39m\u001b[38;5;124mf_rank\u001b[39m\u001b[38;5;124m'\u001b[39m])\n",
      "File \u001b[0;32m~/sdg_env/lib/python3.10/site-packages/syntheval/syntheval.py:248\u001b[0m, in \u001b[0;36mSynthEval.benchmark\u001b[0;34m(self, dfs_or_path, analysis_target_var, presets_file, rank_strategy, **kwargs)\u001b[0m\n\u001b[1;32m    246\u001b[0m \u001b[38;5;66;03m# Evaluate the datasets in parallel\u001b[39;00m\n\u001b[1;32m    247\u001b[0m \u001b[38;5;28;01mfrom\u001b[39;00m \u001b[38;5;21;01mjoblib\u001b[39;00m \u001b[38;5;28;01mimport\u001b[39;00m Parallel, delayed\n\u001b[0;32m--> 248\u001b[0m res_list \u001b[38;5;241m=\u001b[39m \u001b[43mParallel\u001b[49m\u001b[43m(\u001b[49m\u001b[43mn_jobs\u001b[49m\u001b[38;5;241;43m=\u001b[39;49m\u001b[38;5;241;43m-\u001b[39;49m\u001b[38;5;241;43m2\u001b[39;49m\u001b[43m)\u001b[49m\u001b[43m(\u001b[49m\u001b[43mdelayed\u001b[49m\u001b[43m(\u001b[49m\u001b[38;5;28;43mself\u001b[39;49m\u001b[38;5;241;43m.\u001b[39;49m\u001b[43mevaluate\u001b[49m\u001b[43m)\u001b[49m\u001b[43m(\u001b[49m\u001b[43mdataframe\u001b[49m\u001b[43m,\u001b[49m\u001b[43m \u001b[49m\u001b[43manalysis_target_var\u001b[49m\u001b[43m,\u001b[49m\u001b[43m \u001b[49m\u001b[43mpresets_file\u001b[49m\u001b[43m,\u001b[49m\u001b[43m \u001b[49m\u001b[38;5;241;43m*\u001b[39;49m\u001b[38;5;241;43m*\u001b[39;49m\u001b[43mkwargs\u001b[49m\u001b[43m)\u001b[49m\u001b[43m \u001b[49m\u001b[38;5;28;43;01mfor\u001b[39;49;00m\u001b[43m \u001b[49m\u001b[43mdataframe\u001b[49m\u001b[43m \u001b[49m\u001b[38;5;129;43;01min\u001b[39;49;00m\u001b[43m \u001b[49m\u001b[43mdf_dict\u001b[49m\u001b[38;5;241;43m.\u001b[39;49m\u001b[43mvalues\u001b[49m\u001b[43m(\u001b[49m\u001b[43m)\u001b[49m\u001b[43m)\u001b[49m\n\u001b[1;32m    250\u001b[0m results \u001b[38;5;241m=\u001b[39m {}\n\u001b[1;32m    251\u001b[0m \u001b[38;5;28;01mfor\u001b[39;00m res, key \u001b[38;5;129;01min\u001b[39;00m \u001b[38;5;28mzip\u001b[39m(res_list,\u001b[38;5;28mlist\u001b[39m(df_dict\u001b[38;5;241m.\u001b[39mkeys())): results[key] \u001b[38;5;241m=\u001b[39m res\n",
      "File \u001b[0;32m~/sdg_env/lib/python3.10/site-packages/joblib/parallel.py:2007\u001b[0m, in \u001b[0;36mParallel.__call__\u001b[0;34m(self, iterable)\u001b[0m\n\u001b[1;32m   2001\u001b[0m \u001b[38;5;66;03m# The first item from the output is blank, but it makes the interpreter\u001b[39;00m\n\u001b[1;32m   2002\u001b[0m \u001b[38;5;66;03m# progress until it enters the Try/Except block of the generator and\u001b[39;00m\n\u001b[1;32m   2003\u001b[0m \u001b[38;5;66;03m# reaches the first `yield` statement. This starts the asynchronous\u001b[39;00m\n\u001b[1;32m   2004\u001b[0m \u001b[38;5;66;03m# dispatch of the tasks to the workers.\u001b[39;00m\n\u001b[1;32m   2005\u001b[0m \u001b[38;5;28mnext\u001b[39m(output)\n\u001b[0;32m-> 2007\u001b[0m \u001b[38;5;28;01mreturn\u001b[39;00m output \u001b[38;5;28;01mif\u001b[39;00m \u001b[38;5;28mself\u001b[39m\u001b[38;5;241m.\u001b[39mreturn_generator \u001b[38;5;28;01melse\u001b[39;00m \u001b[38;5;28;43mlist\u001b[39;49m\u001b[43m(\u001b[49m\u001b[43moutput\u001b[49m\u001b[43m)\u001b[49m\n",
      "File \u001b[0;32m~/sdg_env/lib/python3.10/site-packages/joblib/parallel.py:1650\u001b[0m, in \u001b[0;36mParallel._get_outputs\u001b[0;34m(self, iterator, pre_dispatch)\u001b[0m\n\u001b[1;32m   1647\u001b[0m     \u001b[38;5;28;01myield\u001b[39;00m\n\u001b[1;32m   1649\u001b[0m     \u001b[38;5;28;01mwith\u001b[39;00m \u001b[38;5;28mself\u001b[39m\u001b[38;5;241m.\u001b[39m_backend\u001b[38;5;241m.\u001b[39mretrieval_context():\n\u001b[0;32m-> 1650\u001b[0m         \u001b[38;5;28;01myield from\u001b[39;00m \u001b[38;5;28mself\u001b[39m\u001b[38;5;241m.\u001b[39m_retrieve()\n\u001b[1;32m   1652\u001b[0m \u001b[38;5;28;01mexcept\u001b[39;00m \u001b[38;5;167;01mGeneratorExit\u001b[39;00m:\n\u001b[1;32m   1653\u001b[0m     \u001b[38;5;66;03m# The generator has been garbage collected before being fully\u001b[39;00m\n\u001b[1;32m   1654\u001b[0m     \u001b[38;5;66;03m# consumed. This aborts the remaining tasks if possible and warn\u001b[39;00m\n\u001b[1;32m   1655\u001b[0m     \u001b[38;5;66;03m# the user if necessary.\u001b[39;00m\n\u001b[1;32m   1656\u001b[0m     \u001b[38;5;28mself\u001b[39m\u001b[38;5;241m.\u001b[39m_exception \u001b[38;5;241m=\u001b[39m \u001b[38;5;28;01mTrue\u001b[39;00m\n",
      "File \u001b[0;32m~/sdg_env/lib/python3.10/site-packages/joblib/parallel.py:1754\u001b[0m, in \u001b[0;36mParallel._retrieve\u001b[0;34m(self)\u001b[0m\n\u001b[1;32m   1747\u001b[0m \u001b[38;5;28;01mwhile\u001b[39;00m \u001b[38;5;28mself\u001b[39m\u001b[38;5;241m.\u001b[39m_wait_retrieval():\n\u001b[1;32m   1748\u001b[0m \n\u001b[1;32m   1749\u001b[0m     \u001b[38;5;66;03m# If the callback thread of a worker has signaled that its task\u001b[39;00m\n\u001b[1;32m   1750\u001b[0m     \u001b[38;5;66;03m# triggered an exception, or if the retrieval loop has raised an\u001b[39;00m\n\u001b[1;32m   1751\u001b[0m     \u001b[38;5;66;03m# exception (e.g. `GeneratorExit`), exit the loop and surface the\u001b[39;00m\n\u001b[1;32m   1752\u001b[0m     \u001b[38;5;66;03m# worker traceback.\u001b[39;00m\n\u001b[1;32m   1753\u001b[0m     \u001b[38;5;28;01mif\u001b[39;00m \u001b[38;5;28mself\u001b[39m\u001b[38;5;241m.\u001b[39m_aborting:\n\u001b[0;32m-> 1754\u001b[0m         \u001b[38;5;28;43mself\u001b[39;49m\u001b[38;5;241;43m.\u001b[39;49m\u001b[43m_raise_error_fast\u001b[49m\u001b[43m(\u001b[49m\u001b[43m)\u001b[49m\n\u001b[1;32m   1755\u001b[0m         \u001b[38;5;28;01mbreak\u001b[39;00m\n\u001b[1;32m   1757\u001b[0m     \u001b[38;5;66;03m# If the next job is not ready for retrieval yet, we just wait for\u001b[39;00m\n\u001b[1;32m   1758\u001b[0m     \u001b[38;5;66;03m# async callbacks to progress.\u001b[39;00m\n",
      "File \u001b[0;32m~/sdg_env/lib/python3.10/site-packages/joblib/parallel.py:1789\u001b[0m, in \u001b[0;36mParallel._raise_error_fast\u001b[0;34m(self)\u001b[0m\n\u001b[1;32m   1785\u001b[0m \u001b[38;5;66;03m# If this error job exists, immediately raise the error by\u001b[39;00m\n\u001b[1;32m   1786\u001b[0m \u001b[38;5;66;03m# calling get_result. This job might not exists if abort has been\u001b[39;00m\n\u001b[1;32m   1787\u001b[0m \u001b[38;5;66;03m# called directly or if the generator is gc'ed.\u001b[39;00m\n\u001b[1;32m   1788\u001b[0m \u001b[38;5;28;01mif\u001b[39;00m error_job \u001b[38;5;129;01mis\u001b[39;00m \u001b[38;5;129;01mnot\u001b[39;00m \u001b[38;5;28;01mNone\u001b[39;00m:\n\u001b[0;32m-> 1789\u001b[0m     \u001b[43merror_job\u001b[49m\u001b[38;5;241;43m.\u001b[39;49m\u001b[43mget_result\u001b[49m\u001b[43m(\u001b[49m\u001b[38;5;28;43mself\u001b[39;49m\u001b[38;5;241;43m.\u001b[39;49m\u001b[43mtimeout\u001b[49m\u001b[43m)\u001b[49m\n",
      "File \u001b[0;32m~/sdg_env/lib/python3.10/site-packages/joblib/parallel.py:745\u001b[0m, in \u001b[0;36mBatchCompletionCallBack.get_result\u001b[0;34m(self, timeout)\u001b[0m\n\u001b[1;32m    739\u001b[0m backend \u001b[38;5;241m=\u001b[39m \u001b[38;5;28mself\u001b[39m\u001b[38;5;241m.\u001b[39mparallel\u001b[38;5;241m.\u001b[39m_backend\n\u001b[1;32m    741\u001b[0m \u001b[38;5;28;01mif\u001b[39;00m backend\u001b[38;5;241m.\u001b[39msupports_retrieve_callback:\n\u001b[1;32m    742\u001b[0m     \u001b[38;5;66;03m# We assume that the result has already been retrieved by the\u001b[39;00m\n\u001b[1;32m    743\u001b[0m     \u001b[38;5;66;03m# callback thread, and is stored internally. It's just waiting to\u001b[39;00m\n\u001b[1;32m    744\u001b[0m     \u001b[38;5;66;03m# be returned.\u001b[39;00m\n\u001b[0;32m--> 745\u001b[0m     \u001b[38;5;28;01mreturn\u001b[39;00m \u001b[38;5;28;43mself\u001b[39;49m\u001b[38;5;241;43m.\u001b[39;49m\u001b[43m_return_or_raise\u001b[49m\u001b[43m(\u001b[49m\u001b[43m)\u001b[49m\n\u001b[1;32m    747\u001b[0m \u001b[38;5;66;03m# For other backends, the main thread needs to run the retrieval step.\u001b[39;00m\n\u001b[1;32m    748\u001b[0m \u001b[38;5;28;01mtry\u001b[39;00m:\n",
      "File \u001b[0;32m~/sdg_env/lib/python3.10/site-packages/joblib/parallel.py:763\u001b[0m, in \u001b[0;36mBatchCompletionCallBack._return_or_raise\u001b[0;34m(self)\u001b[0m\n\u001b[1;32m    761\u001b[0m \u001b[38;5;28;01mtry\u001b[39;00m:\n\u001b[1;32m    762\u001b[0m     \u001b[38;5;28;01mif\u001b[39;00m \u001b[38;5;28mself\u001b[39m\u001b[38;5;241m.\u001b[39mstatus \u001b[38;5;241m==\u001b[39m TASK_ERROR:\n\u001b[0;32m--> 763\u001b[0m         \u001b[38;5;28;01mraise\u001b[39;00m \u001b[38;5;28mself\u001b[39m\u001b[38;5;241m.\u001b[39m_result\n\u001b[1;32m    764\u001b[0m     \u001b[38;5;28;01mreturn\u001b[39;00m \u001b[38;5;28mself\u001b[39m\u001b[38;5;241m.\u001b[39m_result\n\u001b[1;32m    765\u001b[0m \u001b[38;5;28;01mfinally\u001b[39;00m:\n",
      "\u001b[0;31mValueError\u001b[0m: Cannot take a larger sample than population when 'replace=False'"
     ]
    }
   ],
   "source": [
    "### Using KNN model with default parameters in joining model with standard behaviour\n",
    "def knn_base(df_train: DataFrame, id: int = None) -> DataFrame:\n",
    "    model = KNeighborsClassifier()\n",
    "\n",
    "    JV = JoiningValidator(classifier_model_base=model)\n",
    "    JS = UsingJoiningValidator(join_validator_model=JV, min_iter=10, patience=10) # overriding some of the default values to avoid getting too few samples\n",
    "    dgms = DisjointGenerativeModels(df_train, {'datasynthesizer': cat_atts, 'dpgan': num_atts}, joining_strategy=JS, worker_id=id)\n",
    "    dgms.join_multiplier = 10\n",
    "\n",
    "    df_syn = dgms.fit_generate()\n",
    "    return df_syn\n",
    "\n",
    "res = repeated_experiment(df_train, df_test, label, knn_base, NUM_REPS, metrics)\n",
    "res.to_csv('experiments/results/mixed_model_results/validator_case_study/knn_base.csv')"
   ]
  },
  {
   "cell_type": "code",
   "execution_count": 18,
   "metadata": {},
   "outputs": [
    {
     "data": {
      "text/html": [
       "<div>\n",
       "<style scoped>\n",
       "    .dataframe tbody tr th:only-of-type {\n",
       "        vertical-align: middle;\n",
       "    }\n",
       "\n",
       "    .dataframe tbody tr th {\n",
       "        vertical-align: top;\n",
       "    }\n",
       "\n",
       "    .dataframe thead th {\n",
       "        text-align: right;\n",
       "    }\n",
       "</style>\n",
       "<table border=\"1\" class=\"dataframe\">\n",
       "  <thead>\n",
       "    <tr style=\"text-align: right;\">\n",
       "      <th></th>\n",
       "      <th>mean</th>\n",
       "      <th>sem</th>\n",
       "    </tr>\n",
       "  </thead>\n",
       "  <tbody>\n",
       "    <tr>\n",
       "      <th>avg_h_dist</th>\n",
       "      <td>0.036687</td>\n",
       "      <td>0.003163</td>\n",
       "    </tr>\n",
       "    <tr>\n",
       "      <th>corr_mat_diff</th>\n",
       "      <td>1.740589</td>\n",
       "      <td>0.144789</td>\n",
       "    </tr>\n",
       "    <tr>\n",
       "      <th>auroc</th>\n",
       "      <td>0.038725</td>\n",
       "      <td>0.008903</td>\n",
       "    </tr>\n",
       "    <tr>\n",
       "      <th>cls_F1_diff</th>\n",
       "      <td>0.023963</td>\n",
       "      <td>0.004687</td>\n",
       "    </tr>\n",
       "    <tr>\n",
       "      <th>cls_F1_diff_hout</th>\n",
       "      <td>0.044789</td>\n",
       "      <td>0.006244</td>\n",
       "    </tr>\n",
       "    <tr>\n",
       "      <th>eps_identif_risk</th>\n",
       "      <td>0.030045</td>\n",
       "      <td>0.005549</td>\n",
       "    </tr>\n",
       "    <tr>\n",
       "      <th>priv_loss_eps</th>\n",
       "      <td>0.009321</td>\n",
       "      <td>0.002266</td>\n",
       "    </tr>\n",
       "    <tr>\n",
       "      <th>median_DCR</th>\n",
       "      <td>1.00582</td>\n",
       "      <td>0.015984</td>\n",
       "    </tr>\n",
       "    <tr>\n",
       "      <th>mia_recall</th>\n",
       "      <td>0.004348</td>\n",
       "      <td>0.001163</td>\n",
       "    </tr>\n",
       "    <tr>\n",
       "      <th>mia_precision</th>\n",
       "      <td>0.175</td>\n",
       "      <td>0.048512</td>\n",
       "    </tr>\n",
       "  </tbody>\n",
       "</table>\n",
       "</div>"
      ],
      "text/plain": [
       "                      mean       sem\n",
       "avg_h_dist        0.036687  0.003163\n",
       "corr_mat_diff     1.740589  0.144789\n",
       "auroc             0.038725  0.008903\n",
       "cls_F1_diff       0.023963  0.004687\n",
       "cls_F1_diff_hout  0.044789  0.006244\n",
       "eps_identif_risk  0.030045  0.005549\n",
       "priv_loss_eps     0.009321  0.002266\n",
       "median_DCR         1.00582  0.015984\n",
       "mia_recall        0.004348  0.001163\n",
       "mia_precision        0.175  0.048512"
      ]
     },
     "execution_count": 18,
     "metadata": {},
     "output_type": "execute_result"
    }
   ],
   "source": [
    "res"
   ]
  },
  {
   "cell_type": "code",
   "execution_count": 6,
   "metadata": {},
   "outputs": [
    {
     "name": "stdout",
     "output_type": "stream",
     "text": [
      "Cross-validated accuracies: [0.5731523378582202, 0.5686274509803921, 0.5716440422322775, 0.583710407239819, 0.6108597285067874]\n",
      "Mean accuracy: 0.5815987933634992\n",
      "Final model trained!\n",
      "Cross-validated accuracies: [0.5731523378582202, 0.5580693815987934, 0.6018099547511312, 0.5475113122171946, 0.5776772247360482]\n",
      "Mean accuracy: 0.5716440422322775\n",
      "Final model trained!\n",
      "Cross-validated accuracies: [0.5641025641025641, 0.5731523378582202, 0.5716440422322775, 0.5972850678733032, 0.5761689291101055]\n",
      "Mean accuracy: 0.5764705882352941\n",
      "Final model trained!\n",
      "Cross-validated accuracies: [0.5641025641025641, 0.5490196078431373, 0.5972850678733032, 0.55052790346908, 0.5324283559577677]\n",
      "Mean accuracy: 0.5586726998491705\n",
      "Final model trained!\n",
      "Cross-validated accuracies: [0.6048265460030166, 0.5942684766214178, 0.5625942684766214, 0.5746606334841629, 0.5897435897435898]\n",
      "Mean accuracy: 0.5852187028657616\n",
      "Cross-validated accuracies: [0.5656108597285068, 0.5610859728506787, 0.5867269984917044, 0.5625942684766214, 0.555052790346908]\n",
      "Mean accuracy: 0.5662141779788838\n",
      "Cross-validated accuracies: [0.5761689291101055, 0.5927601809954751, 0.5625942684766214, 0.5852187028657617, 0.579185520361991]\n",
      "Mean accuracy: 0.5791855203619909\n",
      "Final model trained!\n",
      "Final model trained!\n",
      "Final model trained!\n",
      "Cross-validated accuracies: [0.5882352941176471, 0.5671191553544495, 0.5625942684766214, 0.5625942684766214, 0.579185520361991]\n",
      "Mean accuracy: 0.571945701357466\n",
      "Final model trained!\n",
      "Cross-validated accuracies: [0.5806938159879337, 0.5957767722473605, 0.5852187028657617, 0.5912518853695324, 0.579185520361991]\n",
      "Mean accuracy: 0.5864253393665159\n",
      "Final model trained!\n",
      "Cross-validated accuracies: [0.583710407239819, 0.5731523378582202, 0.5610859728506787, 0.5701357466063348, 0.5882352941176471]\n",
      "Mean accuracy: 0.5752639517345399\n",
      "Final model trained!\n",
      "================ Constructing Bayesian Network (BN) ================\n",
      "Adding ROOT RNA EF\n",
      "================ Constructing Bayesian Network (BN) ================\n",
      "Adding ROOT RBC\n",
      "================ Constructing Bayesian Network (BN) ================\n",
      "Adding ROOT RNA 4\n",
      "================ Constructing Bayesian Network (BN) ================\n",
      "Adding ROOT Nausea/Vomting\n",
      "================ Constructing Bayesian Network (BN) ================\n",
      "Adding ROOT Gender\n",
      "================ Constructing Bayesian Network (BN) ================\n",
      "Adding ROOT RNA EF\n",
      "================ Constructing Bayesian Network (BN) ================\n",
      "Adding ROOT RNA EF\n",
      "================ Constructing Bayesian Network (BN) ================\n",
      "Adding ROOT Jaundice\n",
      "================ Constructing Bayesian Network (BN) ================\n",
      "Adding ROOT Diarrhea\n",
      "================ Constructing Bayesian Network (BN) ================\n",
      "Adding ROOT Plat\n"
     ]
    },
    {
     "name": "stderr",
     "output_type": "stream",
     "text": [
      "Exception ignored in: <built-in method release of _thread.lock object at 0x7f5928657a00>\n",
      "Traceback (most recent call last):\n",
      "  File \"/home/lautrup/sdg_env/lib/python3.10/site-packages/joblib/externals/loky/backend/fork_exec.py\", line 38, in fork_exec\n",
      "    pid = os.fork()\n",
      "RuntimeError: release unlocked lock\n",
      "Exception ignored in: <built-in method release of _thread.lock object at 0x7f59c8258680>\n",
      "Traceback (most recent call last):\n",
      "  File \"/home/lautrup/sdg_env/lib/python3.10/site-packages/joblib/externals/loky/backend/fork_exec.py\", line 38, in fork_exec\n",
      "    pid = os.fork()\n",
      "RuntimeError: release unlocked lock\n",
      "Exception ignored in: <built-in method release of _thread.lock object at 0x7f4d2834fbc0>\n",
      "Traceback (most recent call last):\n",
      "  File \"/home/lautrup/sdg_env/lib/python3.10/site-packages/joblib/externals/loky/backend/fork_exec.py\", line 38, in fork_exec\n",
      "    Exception ignored in: <function release_locks at 0x7f592857db40>\n",
      "Traceback (most recent call last):\n",
      "  File \"/home/lautrup/sdg_env/lib/python3.10/site-packages/loguru/_locks_machinery.py\", line 31, in release_locks\n",
      "    lock.release()\n",
      "RuntimeError: release unlocked lock\n",
      "pid = os.fork()\n",
      "RuntimeError: release unlocked lock\n",
      "Exception ignored in: <function release_locks at 0x7f4570681b40>\n",
      "Traceback (most recent call last):\n",
      "  File \"/home/lautrup/sdg_env/lib/python3.10/site-packages/loguru/_locks_machinery.py\", line 31, in release_locks\n",
      "Exception ignored in: <function release_locks at 0x7f4570681b40>\n",
      "Traceback (most recent call last):\n",
      "  File \"/home/lautrup/sdg_env/lib/python3.10/site-packages/loguru/_locks_machinery.py\", line 31, in release_locks\n",
      "        lock.release()\n",
      "RuntimeError: release unlocked lock\n",
      "lock.release()\n",
      "RuntimeError: release unlocked lock\n"
     ]
    },
    {
     "name": "stdout",
     "output_type": "stream",
     "text": [
      "Adding attribute Diarrhea\n",
      "Adding attribute WBC\n",
      "Adding attribute Gender\n",
      "Adding attribute RNA EOT\n",
      "Adding attribute RNA EOT\n",
      "Adding attribute Plat\n",
      "Adding attribute WBC\n",
      "Adding attribute RNA EOT\n",
      "Adding attribute Plat\n",
      "Adding attribute RNA EOT\n",
      "Adding attribute RNA 12\n",
      "Adding attribute WBC\n",
      "Adding attribute Plat\n",
      "Adding attribute Fatigue & generalized bone ache\n",
      "Adding attribute WBC\n",
      "Adding attribute RNA EF\n",
      "Adding attribute WBC\n",
      "Adding attribute Nausea/Vomting\n",
      "Adding attribute RNA 12\n",
      "Adding attribute RNA 12\n",
      "Adding attribute RNA 4\n",
      "Adding attribute Jaundice\n",
      "Adding attribute Headache\n",
      "Adding attribute Jaundice\n",
      "Adding attribute Plat\n",
      "Adding attribute Diarrhea\n",
      "Adding attribute RNA 4\n",
      "Adding attribute RNA 12\n",
      "Adding attribute Jaundice\n",
      "Adding attribute RNA 4\n"
     ]
    },
    {
     "name": "stderr",
     "output_type": "stream",
     "text": [
      "[2025-01-13T16:34:16.266146+0100][1551021][CRITICAL] module disabled: /home/lautrup/sdg_env/lib/python3.10/site-packages/synthcity/plugins/generic/plugin_goggle.py\n"
     ]
    },
    {
     "name": "stdout",
     "output_type": "stream",
     "text": [
      "Adding attribute Headache\n",
      "Adding attribute Gender\n",
      "Adding attribute RNA 12\n",
      "Adding attribute Plat\n",
      "Adding attribute Jaundice\n",
      "Adding attribute Gender\n",
      "Adding attribute Headache\n",
      "Adding attribute Headache\n",
      "Adding attribute Gender\n",
      "Adding attribute Gender\n"
     ]
    },
    {
     "name": "stderr",
     "output_type": "stream",
     "text": [
      "[2025-01-13T16:34:27.462751+0100][1551026][CRITICAL] module disabled: /home/lautrup/sdg_env/lib/python3.10/site-packages/synthcity/plugins/generic/plugin_goggle.py\n"
     ]
    },
    {
     "name": "stdout",
     "output_type": "stream",
     "text": [
      "Adding attribute Epigastric pain\n",
      "Adding attribute RNA EOT\n"
     ]
    },
    {
     "name": "stderr",
     "output_type": "stream",
     "text": [
      "[2025-01-13T16:34:32.073427+0100][1551023][CRITICAL] module disabled: /home/lautrup/sdg_env/lib/python3.10/site-packages/synthcity/plugins/generic/plugin_goggle.py\n",
      "[2025-01-13T16:34:32.117969+0100][1551017][CRITICAL] module disabled: /home/lautrup/sdg_env/lib/python3.10/site-packages/synthcity/plugins/generic/plugin_goggle.py\n"
     ]
    },
    {
     "name": "stdout",
     "output_type": "stream",
     "text": [
      "Adding attribute RNA 12\n"
     ]
    },
    {
     "name": "stderr",
     "output_type": "stream",
     "text": [
      "[2025-01-13T16:34:39.256375+0100][1551022][CRITICAL] module disabled: /home/lautrup/sdg_env/lib/python3.10/site-packages/synthcity/plugins/generic/plugin_goggle.py\n",
      "[2025-01-13T16:34:40.108848+0100][1551019][CRITICAL] module disabled: /home/lautrup/sdg_env/lib/python3.10/site-packages/synthcity/plugins/generic/plugin_goggle.py\n",
      "[2025-01-13T16:34:40.575045+0100][1551025][CRITICAL] module disabled: /home/lautrup/sdg_env/lib/python3.10/site-packages/synthcity/plugins/generic/plugin_goggle.py\n",
      "[2025-01-13T16:34:43.357318+0100][1551024][CRITICAL] module disabled: /home/lautrup/sdg_env/lib/python3.10/site-packages/synthcity/plugins/generic/plugin_goggle.py\n"
     ]
    },
    {
     "name": "stdout",
     "output_type": "stream",
     "text": [
      "Adding attribute Fever\n"
     ]
    },
    {
     "name": "stderr",
     "output_type": "stream",
     "text": [
      "[2025-01-13T16:34:44.891716+0100][1551016][CRITICAL] module disabled: /home/lautrup/sdg_env/lib/python3.10/site-packages/synthcity/plugins/generic/plugin_goggle.py\n"
     ]
    },
    {
     "name": "stdout",
     "output_type": "stream",
     "text": [
      "Adding attribute Epigastric pain\n",
      "Adding attribute RNA 12\n",
      "Adding attribute Epigastric pain\n",
      "Adding attribute Gender\n",
      "Adding attribute Headache\n",
      "Adding attribute Epigastric pain\n",
      "Adding attribute Plat\n",
      "Adding attribute RNA EF\n"
     ]
    },
    {
     "name": "stderr",
     "output_type": "stream",
     "text": [
      "[2025-01-13T16:34:48.418729+0100][1551020][CRITICAL] module disabled: /home/lautrup/sdg_env/lib/python3.10/site-packages/synthcity/plugins/generic/plugin_goggle.py\n"
     ]
    },
    {
     "name": "stdout",
     "output_type": "stream",
     "text": [
      "Adding attribute RNA EOT\n",
      "Adding attribute WBC\n",
      "Adding attribute Plat\n"
     ]
    },
    {
     "name": "stderr",
     "output_type": "stream",
     "text": [
      "  0%|          | 0/2000 [00:00<?, ?it/s]"
     ]
    },
    {
     "name": "stdout",
     "output_type": "stream",
     "text": [
      "Adding attribute RNA 4\n",
      "Adding attribute Plat\n",
      "Adding attribute WBC\n",
      "Adding attribute RNA EOT\n",
      "Adding attribute RNA 12\n",
      "Adding attribute RNA 12\n",
      "Adding attribute Plat\n",
      "Adding attribute RNA EF\n"
     ]
    },
    {
     "name": "stderr",
     "output_type": "stream",
     "text": [
      "  0%|          | 3/2000 [00:17<2:51:16,  5.15s/it]"
     ]
    },
    {
     "name": "stdout",
     "output_type": "stream",
     "text": [
      "Adding attribute Epigastric pain\n"
     ]
    },
    {
     "name": "stderr",
     "output_type": "stream",
     "text": [
      "  0%|          | 6/2000 [00:21<1:17:07,  2.32s/it]"
     ]
    },
    {
     "name": "stdout",
     "output_type": "stream",
     "text": [
      "Adding attribute Jaundice\n"
     ]
    },
    {
     "name": "stderr",
     "output_type": "stream",
     "text": [
      "  0%|          | 9/2000 [00:23<41:19,  1.25s/it]  "
     ]
    },
    {
     "name": "stdout",
     "output_type": "stream",
     "text": [
      "Adding attribute WBC\n",
      "Adding attribute WBC\n"
     ]
    },
    {
     "name": "stderr",
     "output_type": "stream",
     "text": [
      "  1%|          | 11/2000 [00:24<29:42,  1.12it/s]]"
     ]
    },
    {
     "name": "stdout",
     "output_type": "stream",
     "text": [
      "Adding attribute RNA EOT\n",
      "Adding attribute RNA EF\n",
      "Adding attribute Jaundice\n",
      "Adding attribute RNA EOT\n"
     ]
    },
    {
     "name": "stderr",
     "output_type": "stream",
     "text": [
      "  1%|          | 12/2000 [00:26<33:25,  1.01s/it]"
     ]
    },
    {
     "name": "stdout",
     "output_type": "stream",
     "text": [
      "Adding attribute WBC\n",
      "Adding attribute RNA 4\n"
     ]
    },
    {
     "name": "stderr",
     "output_type": "stream",
     "text": [
      "  1%|          | 16/2000 [00:30<45:47,  1.39s/it]t]"
     ]
    },
    {
     "name": "stdout",
     "output_type": "stream",
     "text": [
      "Adding attribute b_class\n"
     ]
    },
    {
     "name": "stderr",
     "output_type": "stream",
     "text": [
      "  1%|          | 14/2000 [00:41<2:31:49,  4.59s/it]"
     ]
    },
    {
     "name": "stdout",
     "output_type": "stream",
     "text": [
      "Adding attribute Jaundice\n"
     ]
    },
    {
     "name": "stderr",
     "output_type": "stream",
     "text": [
      "  1%|          | 15/2000 [00:43<2:09:20,  3.91s/it]"
     ]
    },
    {
     "name": "stdout",
     "output_type": "stream",
     "text": [
      "Adding attribute Headache\n"
     ]
    },
    {
     "name": "stderr",
     "output_type": "stream",
     "text": [
      "  1%|          | 17/2000 [00:46<1:25:01,  2.57s/it]"
     ]
    },
    {
     "name": "stdout",
     "output_type": "stream",
     "text": [
      "Adding attribute RNA EF\n"
     ]
    },
    {
     "name": "stderr",
     "output_type": "stream",
     "text": [
      "  1%|          | 17/2000 [00:41<2:19:27,  4.22s/it]"
     ]
    },
    {
     "name": "stdout",
     "output_type": "stream",
     "text": [
      "Adding attribute RNA 4\n",
      "Adding attribute Jaundice\n"
     ]
    },
    {
     "name": "stderr",
     "output_type": "stream",
     "text": [
      "  1%|          | 20/2000 [00:49<45:40,  1.38s/it]  "
     ]
    },
    {
     "name": "stdout",
     "output_type": "stream",
     "text": [
      "Adding attribute Jaundice\n"
     ]
    },
    {
     "name": "stderr",
     "output_type": "stream",
     "text": [
      "  1%|          | 21/2000 [00:49<38:32,  1.17s/it]"
     ]
    },
    {
     "name": "stdout",
     "output_type": "stream",
     "text": [
      "Adding attribute RNA EF\n",
      "Adding attribute Headache\n"
     ]
    },
    {
     "name": "stderr",
     "output_type": "stream",
     "text": [
      "  0%|          | 1/2000 [00:03<1:44:35,  3.14s/it]"
     ]
    },
    {
     "name": "stdout",
     "output_type": "stream",
     "text": [
      "Adding attribute Epigastric pain\n"
     ]
    },
    {
     "name": "stderr",
     "output_type": "stream",
     "text": [
      "  0%|          | 1/2000 [00:10<5:42:33, 10.28s/it] "
     ]
    },
    {
     "name": "stdout",
     "output_type": "stream",
     "text": [
      "Adding attribute Diarrhea\n"
     ]
    },
    {
     "name": "stderr",
     "output_type": "stream",
     "text": [
      "  0%|          | 4/2000 [00:09<1:00:07,  1.81s/it]]"
     ]
    },
    {
     "name": "stdout",
     "output_type": "stream",
     "text": [
      "Adding attribute Headache\n"
     ]
    },
    {
     "name": "stderr",
     "output_type": "stream",
     "text": [
      "  0%|          | 8/2000 [00:13<36:53,  1.11s/it]t]"
     ]
    },
    {
     "name": "stdout",
     "output_type": "stream",
     "text": [
      "Adding attribute RNA 4\n"
     ]
    },
    {
     "name": "stderr",
     "output_type": "stream",
     "text": [
      "  0%|          | 2/2000 [00:18<4:23:14,  7.91s/it]"
     ]
    },
    {
     "name": "stdout",
     "output_type": "stream",
     "text": [
      "Adding attribute RNA 12\n"
     ]
    },
    {
     "name": "stderr",
     "output_type": "stream",
     "text": [
      "  1%|▏         | 26/2000 [01:10<1:33:37,  2.85s/it]"
     ]
    },
    {
     "name": "stdout",
     "output_type": "stream",
     "text": [
      "Adding attribute Headache\n",
      "Adding attribute Headache\n"
     ]
    },
    {
     "name": "stderr",
     "output_type": "stream",
     "text": [
      "  0%|          | 8/2000 [00:19<45:08,  1.36s/it]t]"
     ]
    },
    {
     "name": "stdout",
     "output_type": "stream",
     "text": [
      "Adding attribute Epigastric pain\n"
     ]
    },
    {
     "name": "stderr",
     "output_type": "stream",
     "text": [
      "  0%|          | 7/2000 [00:26<1:17:23,  2.33s/it] "
     ]
    },
    {
     "name": "stdout",
     "output_type": "stream",
     "text": [
      "Adding attribute RNA 4\n",
      "Adding attribute Nausea/Vomting\n"
     ]
    },
    {
     "name": "stderr",
     "output_type": "stream",
     "text": [
      "  0%|          | 7/2000 [00:21<1:31:26,  2.75s/it]]"
     ]
    },
    {
     "name": "stdout",
     "output_type": "stream",
     "text": [
      "Adding attribute b_class\n"
     ]
    },
    {
     "name": "stderr",
     "output_type": "stream",
     "text": [
      "  0%|          | 10/2000 [00:31<2:00:25,  3.63s/it]"
     ]
    },
    {
     "name": "stdout",
     "output_type": "stream",
     "text": [
      "Adding attribute Nausea/Vomting\n"
     ]
    },
    {
     "name": "stderr",
     "output_type": "stream",
     "text": [
      "  0%|          | 8/2000 [00:26<1:21:04,  2.44s/it]]"
     ]
    },
    {
     "name": "stdout",
     "output_type": "stream",
     "text": [
      "Adding attribute Nausea/Vomting\n"
     ]
    },
    {
     "name": "stderr",
     "output_type": "stream",
     "text": [
      "  1%|          | 14/2000 [00:39<1:14:21,  2.25s/it]"
     ]
    },
    {
     "name": "stdout",
     "output_type": "stream",
     "text": [
      "Adding attribute Epigastric pain\n"
     ]
    },
    {
     "name": "stderr",
     "output_type": "stream",
     "text": [
      "  1%|          | 19/2000 [00:38<45:51,  1.39s/it]  "
     ]
    },
    {
     "name": "stdout",
     "output_type": "stream",
     "text": [
      "Adding attribute RNA EOT\n"
     ]
    },
    {
     "name": "stderr",
     "output_type": "stream",
     "text": [
      "  1%|          | 14/2000 [00:35<51:13,  1.55s/it]t]"
     ]
    },
    {
     "name": "stdout",
     "output_type": "stream",
     "text": [
      "Adding attribute b_class\n"
     ]
    },
    {
     "name": "stderr",
     "output_type": "stream",
     "text": [
      "  1%|          | 12/2000 [00:45<1:41:28,  3.06s/it]"
     ]
    },
    {
     "name": "stdout",
     "output_type": "stream",
     "text": [
      "Adding attribute Nausea/Vomting\n",
      "Adding attribute Nausea/Vomting\n"
     ]
    },
    {
     "name": "stderr",
     "output_type": "stream",
     "text": [
      "  1%|          | 14/2000 [00:48<1:57:20,  3.55s/it]"
     ]
    },
    {
     "name": "stdout",
     "output_type": "stream",
     "text": [
      "Adding attribute b_class\n"
     ]
    },
    {
     "name": "stderr",
     "output_type": "stream",
     "text": [
      "  1%|          | 17/2000 [00:41<1:14:26,  2.25s/it]"
     ]
    },
    {
     "name": "stdout",
     "output_type": "stream",
     "text": [
      "Adding attribute Epigastric pain\n"
     ]
    },
    {
     "name": "stderr",
     "output_type": "stream",
     "text": [
      "  2%|▏         | 45/2000 [01:36<1:14:36,  2.29s/it]"
     ]
    },
    {
     "name": "stdout",
     "output_type": "stream",
     "text": [
      "Adding attribute Nausea/Vomting\n"
     ]
    },
    {
     "name": "stderr",
     "output_type": "stream",
     "text": [
      "  2%|▏         | 49/2000 [01:39<37:40,  1.16s/it]t]"
     ]
    },
    {
     "name": "stdout",
     "output_type": "stream",
     "text": [
      "Adding attribute RNA EF\n"
     ]
    },
    {
     "name": "stderr",
     "output_type": "stream",
     "text": [
      "  1%|          | 22/2000 [00:54<1:54:56,  3.49s/it]"
     ]
    },
    {
     "name": "stdout",
     "output_type": "stream",
     "text": [
      "Adding attribute Gender\n"
     ]
    },
    {
     "name": "stderr",
     "output_type": "stream",
     "text": [
      "  1%|          | 18/2000 [00:50<1:46:12,  3.22s/it]"
     ]
    },
    {
     "name": "stdout",
     "output_type": "stream",
     "text": [
      "Adding attribute b_class\n"
     ]
    },
    {
     "name": "stderr",
     "output_type": "stream",
     "text": [
      "  1%|          | 23/2000 [00:58<58:12,  1.77s/it]  "
     ]
    },
    {
     "name": "stdout",
     "output_type": "stream",
     "text": [
      "Adding attribute b_class\n"
     ]
    },
    {
     "name": "stderr",
     "output_type": "stream",
     "text": [
      "  2%|▏         | 45/2000 [01:57<55:55,  1.72s/it]  "
     ]
    },
    {
     "name": "stdout",
     "output_type": "stream",
     "text": [
      "Adding attribute Nausea/Vomting\n",
      "Adding attribute b_class\n"
     ]
    },
    {
     "name": "stderr",
     "output_type": "stream",
     "text": [
      "  1%|▏         | 27/2000 [00:59<36:11,  1.10s/it]t]"
     ]
    },
    {
     "name": "stdout",
     "output_type": "stream",
     "text": [
      "Adding attribute b_class\n"
     ]
    },
    {
     "name": "stderr",
     "output_type": "stream",
     "text": [
      "  2%|▏         | 36/2000 [01:01<28:00,  1.17it/s]"
     ]
    },
    {
     "name": "stdout",
     "output_type": "stream",
     "text": [
      "Adding attribute Diarrhea\n"
     ]
    },
    {
     "name": "stderr",
     "output_type": "stream",
     "text": [
      "  2%|▏         | 38/2000 [01:03<25:07,  1.30it/s]t]"
     ]
    },
    {
     "name": "stdout",
     "output_type": "stream",
     "text": [
      "Adding attribute RNA 4\n"
     ]
    },
    {
     "name": "stderr",
     "output_type": "stream",
     "text": [
      "  1%|▏         | 28/2000 [01:13<1:15:08,  2.29s/it]"
     ]
    },
    {
     "name": "stdout",
     "output_type": "stream",
     "text": [
      "Adding attribute Gender\n"
     ]
    },
    {
     "name": "stderr",
     "output_type": "stream",
     "text": [
      "  1%|▏         | 29/2000 [01:14<1:02:04,  1.89s/it]"
     ]
    },
    {
     "name": "stdout",
     "output_type": "stream",
     "text": [
      "Adding attribute b_class\n"
     ]
    },
    {
     "name": "stderr",
     "output_type": "stream",
     "text": [
      "  3%|▎         | 59/2000 [02:02<33:34,  1.04s/it]t]"
     ]
    },
    {
     "name": "stdout",
     "output_type": "stream",
     "text": [
      "Adding attribute Fatigue & generalized bone ache\n"
     ]
    },
    {
     "name": "stderr",
     "output_type": "stream",
     "text": [
      "  2%|▏         | 32/2000 [01:16<41:09,  1.25s/it]t]"
     ]
    },
    {
     "name": "stdout",
     "output_type": "stream",
     "text": [
      "Adding attribute Diarrhea\n"
     ]
    },
    {
     "name": "stderr",
     "output_type": "stream",
     "text": [
      "  2%|▏         | 49/2000 [01:20<27:48,  1.17it/s]t]"
     ]
    },
    {
     "name": "stdout",
     "output_type": "stream",
     "text": [
      "Adding attribute Epigastric pain\n"
     ]
    },
    {
     "name": "stderr",
     "output_type": "stream",
     "text": [
      "  2%|▏         | 36/2000 [01:19<38:06,  1.16s/it]t]"
     ]
    },
    {
     "name": "stdout",
     "output_type": "stream",
     "text": [
      "Adding attribute Diarrhea\n"
     ]
    },
    {
     "name": "stderr",
     "output_type": "stream",
     "text": [
      "  2%|▏         | 38/2000 [01:29<43:37,  1.33s/it]t]"
     ]
    },
    {
     "name": "stdout",
     "output_type": "stream",
     "text": [
      "Adding attribute Diarrhea\n",
      "Adding attribute Diarrhea\n",
      "Adding attribute Gender\n"
     ]
    },
    {
     "name": "stderr",
     "output_type": "stream",
     "text": [
      "  2%|▏         | 34/2000 [01:26<1:42:43,  3.14s/it]"
     ]
    },
    {
     "name": "stdout",
     "output_type": "stream",
     "text": [
      "Adding attribute Fatigue & generalized bone ache\n"
     ]
    },
    {
     "name": "stderr",
     "output_type": "stream",
     "text": [
      "  2%|▏         | 40/2000 [01:41<33:33,  1.03s/it]  "
     ]
    },
    {
     "name": "stdout",
     "output_type": "stream",
     "text": [
      "Adding attribute Fatigue & generalized bone ache\n",
      "Adding attribute Fever\n"
     ]
    },
    {
     "name": "stderr",
     "output_type": "stream",
     "text": [
      "  2%|▏         | 36/2000 [01:32<1:56:47,  3.57s/it]"
     ]
    },
    {
     "name": "stdout",
     "output_type": "stream",
     "text": [
      "Adding attribute Fatigue & generalized bone ache\n"
     ]
    },
    {
     "name": "stderr",
     "output_type": "stream",
     "text": [
      "  2%|▏         | 43/2000 [01:38<1:39:21,  3.05s/it]"
     ]
    },
    {
     "name": "stdout",
     "output_type": "stream",
     "text": [
      "Adding attribute Diarrhea\n"
     ]
    },
    {
     "name": "stderr",
     "output_type": "stream",
     "text": [
      "  2%|▏         | 37/2000 [01:34<1:40:50,  3.08s/it]"
     ]
    },
    {
     "name": "stdout",
     "output_type": "stream",
     "text": [
      "Adding attribute b_class\n"
     ]
    },
    {
     "name": "stderr",
     "output_type": "stream",
     "text": [
      "  2%|▏         | 43/2000 [01:51<1:25:21,  2.62s/it]"
     ]
    },
    {
     "name": "stdout",
     "output_type": "stream",
     "text": [
      "Adding attribute Fatigue & generalized bone ache\n"
     ]
    },
    {
     "name": "stderr",
     "output_type": "stream",
     "text": [
      "  2%|▏         | 45/2000 [01:49<56:46,  1.74s/it]  "
     ]
    },
    {
     "name": "stdout",
     "output_type": "stream",
     "text": [
      "Adding attribute Fatigue & generalized bone ache\n"
     ]
    },
    {
     "name": "stderr",
     "output_type": "stream",
     "text": [
      "  2%|▏         | 46/2000 [01:53<46:30,  1.43s/it]t]"
     ]
    },
    {
     "name": "stdout",
     "output_type": "stream",
     "text": [
      "Adding attribute Fatigue & generalized bone ache\n"
     ]
    },
    {
     "name": "stderr",
     "output_type": "stream",
     "text": [
      "  3%|▎         | 66/2000 [01:47<25:38,  1.26it/s]t]"
     ]
    },
    {
     "name": "stdout",
     "output_type": "stream",
     "text": [
      "Adding attribute Fatigue & generalized bone ache\n"
     ]
    },
    {
     "name": "stderr",
     "output_type": "stream",
     "text": [
      "  3%|▎         | 67/2000 [01:47<22:54,  1.41it/s]t]"
     ]
    },
    {
     "name": "stdout",
     "output_type": "stream",
     "text": [
      "Adding attribute Fever\n"
     ]
    },
    {
     "name": "stderr",
     "output_type": "stream",
     "text": [
      "  2%|▏         | 47/2000 [01:54<1:14:27,  2.29s/it]"
     ]
    },
    {
     "name": "stdout",
     "output_type": "stream",
     "text": [
      "Adding attribute Fever\n"
     ]
    },
    {
     "name": "stderr",
     "output_type": "stream",
     "text": [
      "  2%|▏         | 45/2000 [01:52<51:52,  1.59s/it]  "
     ]
    },
    {
     "name": "stdout",
     "output_type": "stream",
     "text": [
      "Adding attribute Nausea/Vomting\n"
     ]
    },
    {
     "name": "stderr",
     "output_type": "stream",
     "text": [
      "  2%|▏         | 46/2000 [01:52<43:41,  1.34s/it]t]"
     ]
    },
    {
     "name": "stdout",
     "output_type": "stream",
     "text": [
      "Adding attribute Fever\n",
      "Adding attribute RBC\n"
     ]
    },
    {
     "name": "stderr",
     "output_type": "stream",
     "text": [
      "  2%|▏         | 41/2000 [02:04<48:55,  1.50s/it]t]"
     ]
    },
    {
     "name": "stdout",
     "output_type": "stream",
     "text": [
      "Adding attribute Fatigue & generalized bone ache\n"
     ]
    },
    {
     "name": "stderr",
     "output_type": "stream",
     "text": [
      "  3%|▎         | 66/2000 [02:56<2:05:02,  3.88s/it]"
     ]
    },
    {
     "name": "stdout",
     "output_type": "stream",
     "text": [
      "Adding attribute Fever\n"
     ]
    },
    {
     "name": "stderr",
     "output_type": "stream",
     "text": [
      "  3%|▎         | 59/2000 [02:11<31:17,  1.03it/s]t]"
     ]
    },
    {
     "name": "stdout",
     "output_type": "stream",
     "text": [
      "Adding attribute Fever\n",
      "Adding attribute Fever\n"
     ]
    },
    {
     "name": "stderr",
     "output_type": "stream",
     "text": [
      "  3%|▎         | 69/2000 [02:59<1:02:25,  1.94s/it]"
     ]
    },
    {
     "name": "stdout",
     "output_type": "stream",
     "text": [
      "Adding attribute Fever\n"
     ]
    },
    {
     "name": "stderr",
     "output_type": "stream",
     "text": [
      "  4%|▍         | 81/2000 [02:53<1:06:35,  2.08s/it]"
     ]
    },
    {
     "name": "stdout",
     "output_type": "stream",
     "text": [
      "Adding attribute RBC\n"
     ]
    },
    {
     "name": "stderr",
     "output_type": "stream",
     "text": [
      "  3%|▎         | 61/2000 [02:12<31:36,  1.02it/s]t]"
     ]
    },
    {
     "name": "stdout",
     "output_type": "stream",
     "text": [
      "Adding attribute RNA Base\n",
      "========================== BN constructed ==========================\n"
     ]
    },
    {
     "name": "stderr",
     "output_type": "stream",
     "text": [
      "  3%|▎         | 54/2000 [02:01<1:02:41,  1.93s/it]"
     ]
    },
    {
     "name": "stdout",
     "output_type": "stream",
     "text": [
      "Adding attribute RBC\n"
     ]
    },
    {
     "name": "stderr",
     "output_type": "stream",
     "text": [
      "  4%|▍         | 79/2000 [02:03<49:05,  1.53s/it]"
     ]
    },
    {
     "name": "stdout",
     "output_type": "stream",
     "text": [
      "Adding attribute RNA Base\n",
      "========================== BN constructed ==========================\n"
     ]
    },
    {
     "name": "stderr",
     "output_type": "stream",
     "text": [
      "  4%|▍         | 82/2000 [02:05<27:11,  1.18it/s]t]"
     ]
    },
    {
     "name": "stdout",
     "output_type": "stream",
     "text": [
      "Adding attribute RBC\n"
     ]
    },
    {
     "name": "stderr",
     "output_type": "stream",
     "text": [
      "  2%|▏         | 44/2000 [02:16<1:30:47,  2.79s/it]"
     ]
    },
    {
     "name": "stdout",
     "output_type": "stream",
     "text": [
      "Adding attribute RBC\n"
     ]
    },
    {
     "name": "stderr",
     "output_type": "stream",
     "text": [
      "  5%|▍         | 95/2000 [02:13<21:25,  1.48it/s]  "
     ]
    },
    {
     "name": "stdout",
     "output_type": "stream",
     "text": [
      "Adding attribute RBC\n",
      "Adding attribute Fever\n"
     ]
    },
    {
     "name": "stderr",
     "output_type": "stream",
     "text": [
      "  4%|▍         | 76/2000 [03:11<48:29,  1.51s/it]"
     ]
    },
    {
     "name": "stdout",
     "output_type": "stream",
     "text": [
      "Adding attribute RBC\n",
      "Adding attribute RBC\n",
      "Adding attribute RNA Base\n",
      "========================== BN constructed ==========================\n"
     ]
    },
    {
     "name": "stderr",
     "output_type": "stream",
     "text": [
      "  3%|▎         | 54/2000 [02:17<1:44:10,  3.21s/it]"
     ]
    },
    {
     "name": "stdout",
     "output_type": "stream",
     "text": [
      "Adding attribute RNA Base\n",
      "========================== BN constructed ==========================\n"
     ]
    },
    {
     "name": "stderr",
     "output_type": "stream",
     "text": [
      "  3%|▎         | 58/2000 [02:19<36:37,  1.13s/it]t]"
     ]
    },
    {
     "name": "stdout",
     "output_type": "stream",
     "text": [
      "Adding attribute RNA Base\n",
      "========================== BN constructed ==========================\n"
     ]
    },
    {
     "name": "stderr",
     "output_type": "stream",
     "text": [
      "  4%|▎         | 74/2000 [02:27<17:52,  1.80it/s]  "
     ]
    },
    {
     "name": "stdout",
     "output_type": "stream",
     "text": [
      "Adding attribute RNA Base\n",
      "========================== BN constructed ==========================\n"
     ]
    },
    {
     "name": "stderr",
     "output_type": "stream",
     "text": [
      "  3%|▎         | 65/2000 [02:18<44:37,  1.38s/it]   "
     ]
    },
    {
     "name": "stdout",
     "output_type": "stream",
     "text": [
      "Adding attribute RNA Base\n",
      "========================== BN constructed ==========================\n",
      "Adding attribute RNA Base\n",
      "========================== BN constructed ==========================\n"
     ]
    },
    {
     "name": "stderr",
     "output_type": "stream",
     "text": [
      "  3%|▎         | 69/2000 [02:25<40:57,  1.27s/it]it]"
     ]
    },
    {
     "name": "stdout",
     "output_type": "stream",
     "text": [
      "Adding attribute RNA Base\n",
      "========================== BN constructed ==========================\n",
      "Adding attribute RBC\n"
     ]
    },
    {
     "name": "stderr",
     "output_type": "stream",
     "text": [
      "  6%|▌         | 110/2000 [03:16<21:19,  1.48it/s]  "
     ]
    },
    {
     "name": "stdout",
     "output_type": "stream",
     "text": [
      "Adding attribute RNA Base\n",
      "========================== BN constructed ==========================\n"
     ]
    },
    {
     "name": "stderr",
     "output_type": "stream",
     "text": [
      " 17%|█▋        | 349/2000 [06:34<31:08,  1.13s/it]  \n",
      " 17%|█▋        | 343/2000 [05:43<17:13,  1.60it/s]"
     ]
    },
    {
     "name": "stdout",
     "output_type": "stream",
     "text": [
      "Threshold auto-set to: 0.6\n",
      "Predicted good joins fraction: 0.10045248868778281\n",
      "Predicted good joins fraction: 0.03085177733065057\n",
      "Predicted good joins fraction: 0.014878892733564015\n"
     ]
    },
    {
     "name": "stderr",
     "output_type": "stream",
     "text": [
      " 19%|█▊        | 372/2000 [05:37<16:15,  1.67it/s]"
     ]
    },
    {
     "name": "stdout",
     "output_type": "stream",
     "text": [
      "Predicted good joins fraction: 0.004917456972251493\n",
      "Predicted good joins fraction: 0.007412636780797741\n",
      "Predicted good joins fraction: 0.0039118065433854906\n"
     ]
    },
    {
     "name": "stderr",
     "output_type": "stream",
     "text": [
      " 17%|█▋        | 344/2000 [05:44<17:00,  1.62it/s]"
     ]
    },
    {
     "name": "stdout",
     "output_type": "stream",
     "text": [
      "Predicted good joins fraction: 0.0021420921099607284\n",
      "Predicted good joins fraction: 0.0017889087656529517\n",
      "Predicted good joins fraction: 0.0017921146953405018\n",
      "Predicted good joins fraction: 0.0003590664272890485\n",
      "Predicted good joins fraction: 0.0014367816091954023\n",
      "Predicted good joins fraction: 0.0007194244604316547\n"
     ]
    },
    {
     "name": "stderr",
     "output_type": "stream",
     "text": [
      " 19%|█▊        | 373/2000 [05:38<16:25,  1.65it/s]"
     ]
    },
    {
     "name": "stdout",
     "output_type": "stream",
     "text": [
      "Predicted good joins fraction: 0.0003599712023038157\n",
      "Predicted good joins fraction: 0.0007202016564638099\n",
      "Predicted good joins fraction: 0.0\n"
     ]
    },
    {
     "name": "stderr",
     "output_type": "stream",
     "text": [
      " 17%|█▋        | 345/2000 [05:45<17:05,  1.61it/s]"
     ]
    },
    {
     "name": "stdout",
     "output_type": "stream",
     "text": [
      "Predicted good joins fraction: 0.0\n",
      "Predicted good joins fraction: 0.001081081081081081\n",
      "Predicted good joins fraction: 0.0\n"
     ]
    },
    {
     "name": "stderr",
     "output_type": "stream",
     "text": [
      " 17%|█▋        | 349/2000 [05:38<16:24,  1.68it/s]"
     ]
    },
    {
     "name": "stdout",
     "output_type": "stream",
     "text": [
      "Predicted good joins fraction: 0.00036075036075036075\n",
      "Predicted good joins fraction: 0.0010826416456153013\n",
      "Predicted good joins fraction: 0.0\n"
     ]
    },
    {
     "name": "stderr",
     "output_type": "stream",
     "text": [
      " 19%|█▉        | 388/2000 [06:29<16:44,  1.60it/s]"
     ]
    },
    {
     "name": "stdout",
     "output_type": "stream",
     "text": [
      "Predicted good joins fraction: 0.0\n",
      "Predicted good joins fraction: 0.000361271676300578\n",
      "Predicted good joins fraction: 0.0\n"
     ]
    },
    {
     "name": "stderr",
     "output_type": "stream",
     "text": [
      " 19%|█▉        | 375/2000 [05:39<16:35,  1.63it/s]"
     ]
    },
    {
     "name": "stdout",
     "output_type": "stream",
     "text": [
      "Predicted good joins fraction: 0.0007228044813877846\n",
      "Predicted good joins fraction: 0.0\n",
      "Predicted good joins fraction: 0.0\n"
     ]
    },
    {
     "name": "stderr",
     "output_type": "stream",
     "text": [
      " 17%|█▋        | 347/2000 [05:46<17:02,  1.62it/s]"
     ]
    },
    {
     "name": "stdout",
     "output_type": "stream",
     "text": [
      "Predicted good joins fraction: 0.0\n",
      "Predicted good joins fraction: 0.0\n",
      "Predicted good joins fraction: 0.0\n"
     ]
    },
    {
     "name": "stderr",
     "output_type": "stream",
     "text": [
      " 17%|█▋        | 338/2000 [05:38<16:21,  1.69it/s]"
     ]
    },
    {
     "name": "stdout",
     "output_type": "stream",
     "text": [
      "Predicted good joins fraction: 0.0\n"
     ]
    },
    {
     "name": "stderr",
     "output_type": "stream",
     "text": [
      " 17%|█▋        | 349/2000 [05:51<27:41,  1.01s/it]\n",
      " 17%|█▋        | 341/2000 [05:39<15:55,  1.74it/s]"
     ]
    },
    {
     "name": "stdout",
     "output_type": "stream",
     "text": [
      "Threshold auto-set to: 0.6\n",
      "Predicted good joins fraction: 0.11493212669683257\n",
      "Predicted good joins fraction: 0.02965235173824131\n",
      "Predicted good joins fraction: 0.014049877063575694\n"
     ]
    },
    {
     "name": "stderr",
     "output_type": "stream",
     "text": [
      " 19%|█▉        | 379/2000 [05:41<15:00,  1.80it/s]"
     ]
    },
    {
     "name": "stdout",
     "output_type": "stream",
     "text": [
      "Predicted good joins fraction: 0.008906305664410403\n",
      "Predicted good joins fraction: 0.009705248023005032\n",
      "Predicted good joins fraction: 0.005807622504537205\n"
     ]
    },
    {
     "name": "stderr",
     "output_type": "stream",
     "text": [
      " 20%|█▉        | 393/2000 [06:32<15:59,  1.68it/s]"
     ]
    },
    {
     "name": "stdout",
     "output_type": "stream",
     "text": [
      "Predicted good joins fraction: 0.004746257758305951\n",
      "Predicted good joins fraction: 0.00293470286133529\n",
      "Predicted good joins fraction: 0.002207505518763797\n"
     ]
    },
    {
     "name": "stderr",
     "output_type": "stream",
     "text": [
      " 19%|█▉        | 380/2000 [05:42<14:53,  1.81it/s]"
     ]
    },
    {
     "name": "stdout",
     "output_type": "stream",
     "text": [
      "Predicted good joins fraction: 0.0018436578171091445\n",
      "Predicted good joins fraction: 0.002216475803472479\n",
      "Predicted good joins fraction: 0.0011106997408367272\n"
     ]
    },
    {
     "name": "stderr",
     "output_type": "stream",
     "text": [
      " 16%|█▌        | 323/2000 [05:50<16:48,  1.66it/s]"
     ]
    },
    {
     "name": "stdout",
     "output_type": "stream",
     "text": [
      "Predicted good joins fraction: 0.0018532246108228317\n",
      "Predicted good joins fraction: 0.0011139992573338284\n",
      "Predicted good joins fraction: 0.0\n"
     ]
    },
    {
     "name": "stderr",
     "output_type": "stream",
     "text": [
      " 19%|█▉        | 381/2000 [05:42<14:57,  1.80it/s]"
     ]
    },
    {
     "name": "stdout",
     "output_type": "stream",
     "text": [
      "Predicted good joins fraction: 0.001486988847583643\n",
      "Predicted good joins fraction: 0.00037230081906180194\n",
      "Predicted good joins fraction: 0.0\n"
     ]
    },
    {
     "name": "stderr",
     "output_type": "stream",
     "text": [
      " 20%|█▉        | 395/2000 [06:34<15:23,  1.74it/s]"
     ]
    },
    {
     "name": "stdout",
     "output_type": "stream",
     "text": [
      "Predicted good joins fraction: 0.0\n",
      "Predicted good joins fraction: 0.0\n",
      "Predicted good joins fraction: 0.00037243947858472997\n"
     ]
    },
    {
     "name": "stderr",
     "output_type": "stream",
     "text": [
      " 19%|█▉        | 382/2000 [05:43<15:00,  1.80it/s]"
     ]
    },
    {
     "name": "stdout",
     "output_type": "stream",
     "text": [
      "Predicted good joins fraction: 0.0\n",
      "Predicted good joins fraction: 0.0\n",
      "Predicted good joins fraction: 0.00037257824143070045\n"
     ]
    },
    {
     "name": "stderr",
     "output_type": "stream",
     "text": [
      " 18%|█▊        | 364/2000 [05:48<16:45,  1.63it/s]"
     ]
    },
    {
     "name": "stdout",
     "output_type": "stream",
     "text": [
      "Predicted good joins fraction: 0.0\n",
      "Predicted good joins fraction: 0.0003727171077152441\n",
      "Predicted good joins fraction: 0.0\n"
     ]
    },
    {
     "name": "stderr",
     "output_type": "stream",
     "text": [
      " 19%|█▉        | 383/2000 [05:43<15:26,  1.75it/s]"
     ]
    },
    {
     "name": "stdout",
     "output_type": "stream",
     "text": [
      "Predicted good joins fraction: 0.0\n",
      "Predicted good joins fraction: 0.0\n",
      "Predicted good joins fraction: 0.0\n"
     ]
    },
    {
     "name": "stderr",
     "output_type": "stream",
     "text": [
      " 20%|█▉        | 397/2000 [06:35<15:22,  1.74it/s]"
     ]
    },
    {
     "name": "stdout",
     "output_type": "stream",
     "text": [
      "Predicted good joins fraction: 0.0003728560775540641\n",
      "Predicted good joins fraction: 0.0\n",
      "Predicted good joins fraction: 0.0\n"
     ]
    },
    {
     "name": "stderr",
     "output_type": "stream",
     "text": [
      " 16%|█▋        | 326/2000 [05:52<16:46,  1.66it/s]"
     ]
    },
    {
     "name": "stdout",
     "output_type": "stream",
     "text": [
      "Predicted good joins fraction: 0.0\n",
      "Predicted good joins fraction: 0.0\n",
      "Predicted good joins fraction: 0.0\n"
     ]
    },
    {
     "name": "stderr",
     "output_type": "stream",
     "text": [
      " 18%|█▊        | 362/2000 [05:47<15:53,  1.72it/s]"
     ]
    },
    {
     "name": "stdout",
     "output_type": "stream",
     "text": [
      "Predicted good joins fraction: 0.0\n"
     ]
    },
    {
     "name": "stderr",
     "output_type": "stream",
     "text": [
      " 20%|█▉        | 399/2000 [06:12<24:53,  1.07it/s]\n",
      " 21%|██        | 418/2000 [06:07<13:42,  1.92it/s]"
     ]
    },
    {
     "name": "stdout",
     "output_type": "stream",
     "text": [
      "Threshold auto-set to: 0.6\n",
      "Predicted good joins fraction: 0.10075414781297135\n",
      "Predicted good joins fraction: 0.040925863804092584\n",
      "Predicted good joins fraction: 0.02938090241343127\n"
     ]
    },
    {
     "name": "stderr",
     "output_type": "stream",
     "text": [
      " 19%|█▉        | 382/2000 [06:06<14:16,  1.89it/s]"
     ]
    },
    {
     "name": "stdout",
     "output_type": "stream",
     "text": [
      "Predicted good joins fraction: 0.017657657657657658\n",
      "Predicted good joins fraction: 0.011005135730007337\n",
      "Predicted good joins fraction: 0.013353115727002967\n"
     ]
    },
    {
     "name": "stderr",
     "output_type": "stream",
     "text": [
      " 19%|█▉        | 383/2000 [06:06<14:33,  1.85it/s]"
     ]
    },
    {
     "name": "stdout",
     "output_type": "stream",
     "text": [
      "Predicted good joins fraction: 0.008270676691729323\n",
      "Predicted good joins fraction: 0.008339651250947688\n",
      "Predicted good joins fraction: 0.004969418960244648\n",
      "Predicted good joins fraction: 0.0072992700729927005\n",
      "Predicted good joins fraction: 0.005417956656346749\n",
      "Predicted good joins fraction: 0.0031128404669260703\n"
     ]
    },
    {
     "name": "stderr",
     "output_type": "stream",
     "text": [
      " 21%|██        | 421/2000 [06:08<11:54,  2.21it/s]"
     ]
    },
    {
     "name": "stdout",
     "output_type": "stream",
     "text": [
      "Predicted good joins fraction: 0.00507416081186573\n",
      "Predicted good joins fraction: 0.0023538642604943117\n",
      "Predicted good joins fraction: 0.0015729453401494297\n"
     ]
    },
    {
     "name": "stderr",
     "output_type": "stream",
     "text": [
      " 19%|█▉        | 384/2000 [06:07<14:41,  1.83it/s]"
     ]
    },
    {
     "name": "stdout",
     "output_type": "stream",
     "text": [
      "Predicted good joins fraction: 0.0027569909413154787\n",
      "Predicted good joins fraction: 0.001579778830963665\n",
      "Predicted good joins fraction: 0.0023734177215189874\n"
     ]
    },
    {
     "name": "stderr",
     "output_type": "stream",
     "text": [
      " 20%|█▉        | 392/2000 [06:16<14:47,  1.81it/s]"
     ]
    },
    {
     "name": "stdout",
     "output_type": "stream",
     "text": [
      "Predicted good joins fraction: 0.0007930214115781126\n",
      "Predicted good joins fraction: 0.001984126984126984\n",
      "Predicted good joins fraction: 0.0011928429423459245\n"
     ]
    },
    {
     "name": "stderr",
     "output_type": "stream",
     "text": [
      " 19%|█▉        | 385/2000 [06:07<14:33,  1.85it/s]"
     ]
    },
    {
     "name": "stdout",
     "output_type": "stream",
     "text": [
      "Predicted good joins fraction: 0.0007961783439490446\n",
      "Predicted good joins fraction: 0.001195219123505976\n",
      "Predicted good joins fraction: 0.001994415636218588\n"
     ]
    },
    {
     "name": "stderr",
     "output_type": "stream",
     "text": [
      " 21%|██        | 423/2000 [06:10<13:06,  2.00it/s]"
     ]
    },
    {
     "name": "stdout",
     "output_type": "stream",
     "text": [
      "Predicted good joins fraction: 0.0\n",
      "Predicted good joins fraction: 0.001199040767386091\n",
      "Predicted good joins fraction: 0.0012004801920768306\n"
     ]
    },
    {
     "name": "stderr",
     "output_type": "stream",
     "text": [
      " 19%|█▉        | 386/2000 [06:08<14:27,  1.86it/s]"
     ]
    },
    {
     "name": "stdout",
     "output_type": "stream",
     "text": [
      "Predicted good joins fraction: 0.0016025641025641025\n",
      "Predicted good joins fraction: 0.0\n",
      "Predicted good joins fraction: 0.0004012841091492777\n",
      "Predicted good joins fraction: 0.0004014452027298274\n",
      "Predicted good joins fraction: 0.0\n",
      "Predicted good joins fraction: 0.0008032128514056225\n"
     ]
    },
    {
     "name": "stderr",
     "output_type": "stream",
     "text": [
      " 20%|█▉        | 394/2000 [06:17<14:46,  1.81it/s]"
     ]
    },
    {
     "name": "stdout",
     "output_type": "stream",
     "text": [
      "Predicted good joins fraction: 0.0008038585209003215\n",
      "Predicted good joins fraction: 0.0\n",
      "Predicted good joins fraction: 0.0\n"
     ]
    },
    {
     "name": "stderr",
     "output_type": "stream",
     "text": [
      " 21%|██        | 424/2000 [06:10<13:44,  1.91it/s]"
     ]
    },
    {
     "name": "stdout",
     "output_type": "stream",
     "text": [
      "Predicted good joins fraction: 0.0\n",
      "Predicted good joins fraction: 0.00040225261464199515\n",
      "Predicted good joins fraction: 0.0\n"
     ]
    },
    {
     "name": "stderr",
     "output_type": "stream",
     "text": [
      " 20%|█▉        | 395/2000 [06:17<14:49,  1.80it/s]"
     ]
    },
    {
     "name": "stdout",
     "output_type": "stream",
     "text": [
      "Predicted good joins fraction: 0.0\n",
      "Predicted good joins fraction: 0.0\n",
      "Predicted good joins fraction: 0.0012072434607645875\n"
     ]
    },
    {
     "name": "stderr",
     "output_type": "stream",
     "text": [
      " 21%|██▏       | 425/2000 [06:11<14:04,  1.86it/s]"
     ]
    },
    {
     "name": "stdout",
     "output_type": "stream",
     "text": [
      "Predicted good joins fraction: 0.00040290088638195\n",
      "Predicted good joins fraction: 0.00040306328093510683\n",
      "Predicted good joins fraction: 0.0004032258064516129\n"
     ]
    },
    {
     "name": "stderr",
     "output_type": "stream",
     "text": [
      " 20%|█▉        | 396/2000 [06:18<14:43,  1.82it/s]"
     ]
    },
    {
     "name": "stdout",
     "output_type": "stream",
     "text": [
      "Predicted good joins fraction: 0.0\n",
      "Predicted good joins fraction: 0.0\n",
      "Predicted good joins fraction: 0.0\n"
     ]
    },
    {
     "name": "stderr",
     "output_type": "stream",
     "text": [
      " 21%|██▏       | 426/2000 [06:11<14:08,  1.85it/s]"
     ]
    },
    {
     "name": "stdout",
     "output_type": "stream",
     "text": [
      "Predicted good joins fraction: 0.0\n",
      "Predicted good joins fraction: 0.0\n",
      "Predicted good joins fraction: 0.0\n"
     ]
    },
    {
     "name": "stderr",
     "output_type": "stream",
     "text": [
      " 20%|█▉        | 399/2000 [06:23<25:40,  1.04it/s]\n",
      " 20%|██        | 405/2000 [06:17<18:33,  1.43it/s]"
     ]
    },
    {
     "name": "stdout",
     "output_type": "stream",
     "text": [
      "Threshold auto-set to: 0.4\n",
      "Predicted good joins fraction: 0.6672699849170437\n"
     ]
    },
    {
     "name": "stderr",
     "output_type": "stream",
     "text": [
      " 30%|██▉       | 599/2000 [08:37<20:11,  1.16it/s]\n",
      " 28%|██▊       | 554/2000 [07:45<17:13,  1.40it/s]"
     ]
    },
    {
     "name": "stdout",
     "output_type": "stream",
     "text": [
      "Threshold auto-set to: 0.6\n",
      "Predicted good joins fraction: 0.3843137254901961\n"
     ]
    },
    {
     "name": "stderr",
     "output_type": "stream",
     "text": [
      " 30%|██▉       | 599/2000 [07:53<18:27,  1.26it/s]\n",
      " 27%|██▋       | 546/2000 [08:02<10:55,  2.22it/s]"
     ]
    },
    {
     "name": "stdout",
     "output_type": "stream",
     "text": [
      "Threshold auto-set to: 0.6\n",
      "Predicted good joins fraction: 0.14751131221719457\n",
      "Predicted good joins fraction: 0.05803255484784147\n",
      "Predicted good joins fraction: 0.02779864763335838\n"
     ]
    },
    {
     "name": "stderr",
     "output_type": "stream",
     "text": [
      " 27%|██▋       | 547/2000 [08:02<11:07,  2.18it/s]"
     ]
    },
    {
     "name": "stdout",
     "output_type": "stream",
     "text": [
      "Predicted good joins fraction: 0.022024729520865535\n",
      "Predicted good joins fraction: 0.01738443303042276\n",
      "Predicted good joins fraction: 0.009650180940892641\n",
      "Predicted good joins fraction: 0.006902151847340642\n",
      "Predicted good joins fraction: 0.006950122649223222\n",
      "Predicted good joins fraction: 0.005351996706463565\n"
     ]
    },
    {
     "name": "stderr",
     "output_type": "stream",
     "text": [
      " 27%|██▋       | 548/2000 [08:03<11:17,  2.14it/s]"
     ]
    },
    {
     "name": "stdout",
     "output_type": "stream",
     "text": [
      "Predicted good joins fraction: 0.004552980132450331\n",
      "Predicted good joins fraction: 0.0008316008316008316\n",
      "Predicted good joins fraction: 0.0008322929671244278\n",
      "Predicted good joins fraction: 0.001665972511453561\n",
      "Predicted good joins fraction: 0.0025031289111389237\n",
      "Predicted good joins fraction: 0.0012547051442910915\n"
     ]
    },
    {
     "name": "stderr",
     "output_type": "stream",
     "text": [
      " 27%|██▋       | 549/2000 [08:03<10:58,  2.20it/s]"
     ]
    },
    {
     "name": "stdout",
     "output_type": "stream",
     "text": [
      "Predicted good joins fraction: 0.0008375209380234506\n",
      "Predicted good joins fraction: 0.00041911148365465214\n",
      "Predicted good joins fraction: 0.0008385744234800838\n",
      "Predicted good joins fraction: 0.000839278220730172\n",
      "Predicted good joins fraction: 0.0\n",
      "Predicted good joins fraction: 0.0\n"
     ]
    },
    {
     "name": "stderr",
     "output_type": "stream",
     "text": [
      " 29%|██▉       | 581/2000 [07:55<11:18,  2.09it/s]"
     ]
    },
    {
     "name": "stdout",
     "output_type": "stream",
     "text": [
      "Predicted good joins fraction: 0.00041999160016799666\n",
      "Predicted good joins fraction: 0.0\n",
      "Predicted good joins fraction: 0.0\n",
      "Predicted good joins fraction: 0.0008403361344537816\n",
      "Predicted good joins fraction: 0.0\n",
      "Predicted good joins fraction: 0.00042052144659377626\n",
      "Predicted good joins fraction: 0.0\n",
      "Predicted good joins fraction: 0.0\n",
      "Predicted good joins fraction: 0.0\n"
     ]
    },
    {
     "name": "stderr",
     "output_type": "stream",
     "text": [
      " 29%|██▉       | 582/2000 [07:55<11:09,  2.12it/s]"
     ]
    },
    {
     "name": "stdout",
     "output_type": "stream",
     "text": [
      "Predicted good joins fraction: 0.0\n",
      "Predicted good joins fraction: 0.0\n",
      "Predicted good joins fraction: 0.00042069835927639884\n"
     ]
    },
    {
     "name": "stderr",
     "output_type": "stream",
     "text": [
      " 27%|██▋       | 549/2000 [08:06<21:25,  1.13it/s]\n",
      " 29%|██▉       | 587/2000 [07:58<11:00,  2.14it/s]"
     ]
    },
    {
     "name": "stdout",
     "output_type": "stream",
     "text": [
      "Threshold auto-set to: 0.4\n",
      "Predicted good joins fraction: 0.6708898944193061\n"
     ]
    },
    {
     "name": "stderr",
     "output_type": "stream",
     "text": [
      " 30%|██▉       | 599/2000 [08:06<18:57,  1.23it/s]\n",
      " 29%|██▉       | 587/2000 [08:01<10:53,  2.16it/s]"
     ]
    },
    {
     "name": "stdout",
     "output_type": "stream",
     "text": [
      "Threshold auto-set to: 0.4\n",
      "Predicted good joins fraction: 0.604524886877828\n"
     ]
    },
    {
     "name": "stderr",
     "output_type": "stream",
     "text": [
      " 35%|███▍      | 699/2000 [08:59<16:43,  1.30it/s]\n"
     ]
    },
    {
     "name": "stdout",
     "output_type": "stream",
     "text": [
      "Threshold auto-set to: 0.6\n",
      "Predicted good joins fraction: 0.3704374057315234\n"
     ]
    },
    {
     "name": "stderr",
     "output_type": "stream",
     "text": [
      " 37%|███▋      | 749/2000 [09:20<15:35,  1.34it/s]\n"
     ]
    },
    {
     "name": "stdout",
     "output_type": "stream",
     "text": [
      "Threshold auto-set to: 0.4\n",
      "Predicted good joins fraction: 0.38552036199095024\n"
     ]
    },
    {
     "name": "stderr",
     "output_type": "stream",
     "text": [
      "/home/lautrup/sdg_env/lib/python3.10/site-packages/sklearn/metrics/_classification.py:1531: UndefinedMetricWarning: Precision is ill-defined and being set to 0.0 due to no predicted samples. Use `zero_division` parameter to control this behavior.\n",
      "  _warn_prf(average, modifier, f\"{metric.capitalize()} is\", len(result))\n",
      "/home/lautrup/sdg_env/lib/python3.10/site-packages/sklearn/metrics/_classification.py:1531: UndefinedMetricWarning: Precision is ill-defined and being set to 0.0 due to no predicted samples. Use `zero_division` parameter to control this behavior.\n",
      "  _warn_prf(average, modifier, f\"{metric.capitalize()} is\", len(result))\n",
      "/home/lautrup/sdg_env/lib/python3.10/site-packages/sklearn/metrics/_classification.py:1531: UndefinedMetricWarning: Precision is ill-defined and being set to 0.0 due to no predicted samples. Use `zero_division` parameter to control this behavior.\n",
      "  _warn_prf(average, modifier, f\"{metric.capitalize()} is\", len(result))\n",
      "/home/lautrup/sdg_env/lib/python3.10/site-packages/sklearn/metrics/_classification.py:1531: UndefinedMetricWarning: Precision is ill-defined and being set to 0.0 due to no predicted samples. Use `zero_division` parameter to control this behavior.\n",
      "  _warn_prf(average, modifier, f\"{metric.capitalize()} is\", len(result))\n",
      "/home/lautrup/repositories/disjoint-synthetic-data-generation/experiments/auxiliaries/exp_repeater.py:42: PerformanceWarning: dropping on a non-lexsorted multi-index without a level parameter may impact performance.\n",
      "  res = res.drop(columns=['rank', 'u_rank', 'p_rank', 'f_rank'])\n"
     ]
    }
   ],
   "source": [
    "### Using KNN model with default parameters in joining model with adaptive threshold\n",
    "def knn_adaptive(df_train: DataFrame, id: int = None) -> DataFrame:\n",
    "    model = KNeighborsClassifier()\n",
    "\n",
    "    JV = JoiningValidator(classifier_model_base=model)\n",
    "    JS = UsingJoiningValidator(join_validator_model=JV, behaviour='adaptive')\n",
    "    dgms = DisjointGenerativeModels(df_train, {'datasynthesizer': cat_atts, 'dpgan': num_atts}, joining_strategy=JS, worker_id=id)\n",
    "\n",
    "    df_syn = dgms.fit_generate()\n",
    "    return df_syn\n",
    "\n",
    "res = repeated_experiment(df_train, df_test, label, knn_adaptive, NUM_REPS, metrics)\n",
    "res.to_csv('experiments/results/mixed_model_results/validator_case_study/knn_adaptive.csv')"
   ]
  },
  {
   "cell_type": "code",
   "execution_count": 6,
   "metadata": {},
   "outputs": [
    {
     "data": {
      "text/html": [
       "<div>\n",
       "<style scoped>\n",
       "    .dataframe tbody tr th:only-of-type {\n",
       "        vertical-align: middle;\n",
       "    }\n",
       "\n",
       "    .dataframe tbody tr th {\n",
       "        vertical-align: top;\n",
       "    }\n",
       "\n",
       "    .dataframe thead th {\n",
       "        text-align: right;\n",
       "    }\n",
       "</style>\n",
       "<table border=\"1\" class=\"dataframe\">\n",
       "  <thead>\n",
       "    <tr style=\"text-align: right;\">\n",
       "      <th></th>\n",
       "      <th>mean</th>\n",
       "      <th>sem</th>\n",
       "    </tr>\n",
       "  </thead>\n",
       "  <tbody>\n",
       "    <tr>\n",
       "      <th>avg_h_dist</th>\n",
       "      <td>0.033838</td>\n",
       "      <td>0.001977</td>\n",
       "    </tr>\n",
       "    <tr>\n",
       "      <th>corr_mat_diff</th>\n",
       "      <td>1.385155</td>\n",
       "      <td>0.104282</td>\n",
       "    </tr>\n",
       "    <tr>\n",
       "      <th>auroc</th>\n",
       "      <td>0.030347</td>\n",
       "      <td>0.008432</td>\n",
       "    </tr>\n",
       "    <tr>\n",
       "      <th>cls_F1_diff</th>\n",
       "      <td>0.032157</td>\n",
       "      <td>0.004103</td>\n",
       "    </tr>\n",
       "    <tr>\n",
       "      <th>cls_F1_diff_hout</th>\n",
       "      <td>0.045835</td>\n",
       "      <td>0.006292</td>\n",
       "    </tr>\n",
       "    <tr>\n",
       "      <th>eps_identif_risk</th>\n",
       "      <td>0.030588</td>\n",
       "      <td>0.00632</td>\n",
       "    </tr>\n",
       "    <tr>\n",
       "      <th>priv_loss_eps</th>\n",
       "      <td>0.008235</td>\n",
       "      <td>0.001876</td>\n",
       "    </tr>\n",
       "    <tr>\n",
       "      <th>median_DCR</th>\n",
       "      <td>0.983746</td>\n",
       "      <td>0.014069</td>\n",
       "    </tr>\n",
       "    <tr>\n",
       "      <th>mia_recall</th>\n",
       "      <td>0.003188</td>\n",
       "      <td>0.000676</td>\n",
       "    </tr>\n",
       "    <tr>\n",
       "      <th>mia_precision</th>\n",
       "      <td>0.153333</td>\n",
       "      <td>0.046401</td>\n",
       "    </tr>\n",
       "  </tbody>\n",
       "</table>\n",
       "</div>"
      ],
      "text/plain": [
       "                      mean       sem\n",
       "avg_h_dist        0.033838  0.001977\n",
       "corr_mat_diff     1.385155  0.104282\n",
       "auroc             0.030347  0.008432\n",
       "cls_F1_diff       0.032157  0.004103\n",
       "cls_F1_diff_hout  0.045835  0.006292\n",
       "eps_identif_risk  0.030588   0.00632\n",
       "priv_loss_eps     0.008235  0.001876\n",
       "median_DCR        0.983746  0.014069\n",
       "mia_recall        0.003188  0.000676\n",
       "mia_precision     0.153333  0.046401"
      ]
     },
     "execution_count": 6,
     "metadata": {},
     "output_type": "execute_result"
    }
   ],
   "source": [
    "res"
   ]
  }
 ],
 "metadata": {
  "kernelspec": {
   "display_name": "sdg_env",
   "language": "python",
   "name": "python3"
  },
  "language_info": {
   "codemirror_mode": {
    "name": "ipython",
    "version": 3
   },
   "file_extension": ".py",
   "mimetype": "text/x-python",
   "name": "python",
   "nbconvert_exporter": "python",
   "pygments_lexer": "ipython3",
   "version": "3.10.12"
  }
 },
 "nbformat": 4,
 "nbformat_minor": 2
}
