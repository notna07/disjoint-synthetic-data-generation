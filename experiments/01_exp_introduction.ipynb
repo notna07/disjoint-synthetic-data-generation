{
 "cells": [
  {
   "cell_type": "markdown",
   "metadata": {},
   "source": [
    "# 01 Introductionary Experiments\n",
    "In this codebook, we will perform the basic experiments to motivate the use of disjoint generation. "
   ]
  }
 ],
 "metadata": {
  "language_info": {
   "name": "python"
  }
 },
 "nbformat": 4,
 "nbformat_minor": 2
}
