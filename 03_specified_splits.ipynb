{
 "cells": [
  {
   "cell_type": "markdown",
   "metadata": {},
   "source": [
    "# 03 Experiments with pre-defined splits\n",
    "\n",
    "One of the benefits of the disjoint generative models approach, is the ability to use different models for different subsets of the data. For example using a model that is good for nummerical attributes to model those variables and using a model that is good for categorical attributes for them.\n",
    "\n",
    "In the following we will show how this can be done to the benefit of the synthetic data quality. \n",
    "\n",
    "The example will be based on the Hepatitis dataset from the UCI repository. The dataset contains ~1300 rows and 29 columns. The columns are a mix of categorical and numerical attributes. The dataset contains no missing values. We report the average metric result and standard error of the mean for 10 repeated rund of the experiment with 80% of the data used for training and 20% for the metrics that require holdout data."
   ]
  },
  {
   "cell_type": "code",
   "execution_count": 2,
   "metadata": {},
   "outputs": [],
   "source": [
    "### Imports\n",
    "import pandas as pd\n",
    "\n",
    "from pandas import DataFrame\n",
    "from typing import List, Dict\n",
    "\n",
    "from joblib import Parallel, delayed\n",
    "\n",
    "from syntheval import SynthEval\n",
    "\n",
    "from sklearn.ensemble import RandomForestClassifier\n",
    "from disjoint_generative_model import DisjointGenerativeModels\n",
    "from disjoint_generative_model.utils.joining_validator import JoiningValidator\n",
    "from disjoint_generative_model.utils.joining_strategies import UsingJoiningValidator\n",
    "from disjoint_generative_model.utils.generative_model_adapters import generate_synthetic_data\n",
    "\n",
    "### Constants\n",
    "NUM_REPS = 10\n",
    "\n",
    "### Metrics\n",
    "metrics = {\n",
    "    \"pca\"       : {},\n",
    "    \"h_dist\"    : {},\n",
    "    \"corr_diff\" : {\"mixed_corr\": True},\n",
    "    \"auroc_diff\" : {\"model\": \"rf_cls\"},\n",
    "    \"cls_acc\"   : {\"F1_type\": \"macro\"},\n",
    "    \"eps_risk\"  : {},\n",
    "    \"dcr\"       : {},\n",
    "    \"mia\"  : {\"num_eval_iter\": 5},\n",
    "}"
   ]
  },
  {
   "cell_type": "code",
   "execution_count": 3,
   "metadata": {},
   "outputs": [
    {
     "name": "stdout",
     "output_type": "stream",
     "text": [
      "['WBC', 'RBC', 'Plat', 'RNA Base', 'RNA 4', 'RNA 12', 'RNA EOT', 'RNA EF', 'Gender', 'Fever', 'Nausea/Vomting', 'Headache', 'Diarrhea', 'Fatigue & generalized bone ache', 'Jaundice', 'Epigastric pain', 'b_class']\n",
      "['Age', 'BMI', 'HGB', 'AST 1', 'ALT 1', 'ALT 4', 'ALT 12', 'ALT 24', 'ALT 36', 'ALT 48', 'ALT after 24 w', 'Baseline histological Grading']\n"
     ]
    },
    {
     "data": {
      "text/html": [
       "<div>\n",
       "<style scoped>\n",
       "    .dataframe tbody tr th:only-of-type {\n",
       "        vertical-align: middle;\n",
       "    }\n",
       "\n",
       "    .dataframe tbody tr th {\n",
       "        vertical-align: top;\n",
       "    }\n",
       "\n",
       "    .dataframe thead th {\n",
       "        text-align: right;\n",
       "    }\n",
       "</style>\n",
       "<table border=\"1\" class=\"dataframe\">\n",
       "  <thead>\n",
       "    <tr style=\"text-align: right;\">\n",
       "      <th></th>\n",
       "      <th>Age</th>\n",
       "      <th>Gender</th>\n",
       "      <th>BMI</th>\n",
       "      <th>Fever</th>\n",
       "      <th>Nausea/Vomting</th>\n",
       "      <th>Headache</th>\n",
       "      <th>Diarrhea</th>\n",
       "      <th>Fatigue &amp; generalized bone ache</th>\n",
       "      <th>Jaundice</th>\n",
       "      <th>Epigastric pain</th>\n",
       "      <th>...</th>\n",
       "      <th>ALT 36</th>\n",
       "      <th>ALT 48</th>\n",
       "      <th>ALT after 24 w</th>\n",
       "      <th>RNA Base</th>\n",
       "      <th>RNA 4</th>\n",
       "      <th>RNA 12</th>\n",
       "      <th>RNA EOT</th>\n",
       "      <th>RNA EF</th>\n",
       "      <th>Baseline histological Grading</th>\n",
       "      <th>b_class</th>\n",
       "    </tr>\n",
       "  </thead>\n",
       "  <tbody>\n",
       "    <tr>\n",
       "      <th>0</th>\n",
       "      <td>47</td>\n",
       "      <td>2</td>\n",
       "      <td>32</td>\n",
       "      <td>2</td>\n",
       "      <td>2</td>\n",
       "      <td>1</td>\n",
       "      <td>2</td>\n",
       "      <td>2</td>\n",
       "      <td>2</td>\n",
       "      <td>2</td>\n",
       "      <td>...</td>\n",
       "      <td>87</td>\n",
       "      <td>56</td>\n",
       "      <td>39</td>\n",
       "      <td>(5, 1201086]</td>\n",
       "      <td>(5, 1201715]</td>\n",
       "      <td>(5, 3731527]</td>\n",
       "      <td>(5, 808450]</td>\n",
       "      <td>(5, 808450]</td>\n",
       "      <td>11</td>\n",
       "      <td>1</td>\n",
       "    </tr>\n",
       "    <tr>\n",
       "      <th>1</th>\n",
       "      <td>36</td>\n",
       "      <td>2</td>\n",
       "      <td>24</td>\n",
       "      <td>2</td>\n",
       "      <td>1</td>\n",
       "      <td>2</td>\n",
       "      <td>2</td>\n",
       "      <td>2</td>\n",
       "      <td>1</td>\n",
       "      <td>2</td>\n",
       "      <td>...</td>\n",
       "      <td>108</td>\n",
       "      <td>74</td>\n",
       "      <td>45</td>\n",
       "      <td>(5, 1201086]</td>\n",
       "      <td>(5, 1201715]</td>\n",
       "      <td>(5, 3731527]</td>\n",
       "      <td>(5, 808450]</td>\n",
       "      <td>(5, 808450]</td>\n",
       "      <td>3</td>\n",
       "      <td>1</td>\n",
       "    </tr>\n",
       "    <tr>\n",
       "      <th>2</th>\n",
       "      <td>50</td>\n",
       "      <td>1</td>\n",
       "      <td>34</td>\n",
       "      <td>1</td>\n",
       "      <td>1</td>\n",
       "      <td>2</td>\n",
       "      <td>1</td>\n",
       "      <td>2</td>\n",
       "      <td>2</td>\n",
       "      <td>2</td>\n",
       "      <td>...</td>\n",
       "      <td>71</td>\n",
       "      <td>125</td>\n",
       "      <td>28</td>\n",
       "      <td>(5, 1201086]</td>\n",
       "      <td>(5, 1201715]</td>\n",
       "      <td>(5, 3731527]</td>\n",
       "      <td>(5, 808450]</td>\n",
       "      <td>(5, 808450]</td>\n",
       "      <td>9</td>\n",
       "      <td>1</td>\n",
       "    </tr>\n",
       "    <tr>\n",
       "      <th>3</th>\n",
       "      <td>32</td>\n",
       "      <td>2</td>\n",
       "      <td>30</td>\n",
       "      <td>1</td>\n",
       "      <td>2</td>\n",
       "      <td>1</td>\n",
       "      <td>2</td>\n",
       "      <td>2</td>\n",
       "      <td>1</td>\n",
       "      <td>1</td>\n",
       "      <td>...</td>\n",
       "      <td>102</td>\n",
       "      <td>84</td>\n",
       "      <td>40</td>\n",
       "      <td>(5, 1201086]</td>\n",
       "      <td>(5, 1201715]</td>\n",
       "      <td>(5, 3731527]</td>\n",
       "      <td>(5, 808450]</td>\n",
       "      <td>(5, 808450]</td>\n",
       "      <td>6</td>\n",
       "      <td>0</td>\n",
       "    </tr>\n",
       "    <tr>\n",
       "      <th>4</th>\n",
       "      <td>58</td>\n",
       "      <td>1</td>\n",
       "      <td>29</td>\n",
       "      <td>2</td>\n",
       "      <td>2</td>\n",
       "      <td>1</td>\n",
       "      <td>1</td>\n",
       "      <td>2</td>\n",
       "      <td>2</td>\n",
       "      <td>1</td>\n",
       "      <td>...</td>\n",
       "      <td>55</td>\n",
       "      <td>40</td>\n",
       "      <td>40</td>\n",
       "      <td>(5, 1201086]</td>\n",
       "      <td>(5, 1201715]</td>\n",
       "      <td>(0, 5]</td>\n",
       "      <td>(0, 5]</td>\n",
       "      <td>(0, 5]</td>\n",
       "      <td>15</td>\n",
       "      <td>1</td>\n",
       "    </tr>\n",
       "  </tbody>\n",
       "</table>\n",
       "<p>5 rows × 29 columns</p>\n",
       "</div>"
      ],
      "text/plain": [
       "   Age  Gender  BMI  Fever  Nausea/Vomting  Headache  Diarrhea  \\\n",
       "0   47       2   32      2               2         1         2   \n",
       "1   36       2   24      2               1         2         2   \n",
       "2   50       1   34      1               1         2         1   \n",
       "3   32       2   30      1               2         1         2   \n",
       "4   58       1   29      2               2         1         1   \n",
       "\n",
       "   Fatigue & generalized bone ache  Jaundice  Epigastric pain  ... ALT 36  \\\n",
       "0                                2         2                2  ...     87   \n",
       "1                                2         1                2  ...    108   \n",
       "2                                2         2                2  ...     71   \n",
       "3                                2         1                1  ...    102   \n",
       "4                                2         2                1  ...     55   \n",
       "\n",
       "  ALT 48  ALT after 24 w      RNA Base         RNA 4        RNA 12  \\\n",
       "0     56              39  (5, 1201086]  (5, 1201715]  (5, 3731527]   \n",
       "1     74              45  (5, 1201086]  (5, 1201715]  (5, 3731527]   \n",
       "2    125              28  (5, 1201086]  (5, 1201715]  (5, 3731527]   \n",
       "3     84              40  (5, 1201086]  (5, 1201715]  (5, 3731527]   \n",
       "4     40              40  (5, 1201086]  (5, 1201715]        (0, 5]   \n",
       "\n",
       "       RNA EOT       RNA EF  Baseline histological Grading  b_class  \n",
       "0  (5, 808450]  (5, 808450]                             11        1  \n",
       "1  (5, 808450]  (5, 808450]                              3        1  \n",
       "2  (5, 808450]  (5, 808450]                              9        1  \n",
       "3  (5, 808450]  (5, 808450]                              6        0  \n",
       "4       (0, 5]       (0, 5]                             15        1  \n",
       "\n",
       "[5 rows x 29 columns]"
      ]
     },
     "execution_count": 3,
     "metadata": {},
     "output_type": "execute_result"
    }
   ],
   "source": [
    "### Load training and testing datasets and define categorical and numerical attributes\n",
    "\n",
    "df_train = pd.read_csv('experiments/datasets/hepatitis_train.csv')\n",
    "df_test = pd.read_csv('experiments/datasets/hepatitis_test.csv')\n",
    "\n",
    "label = 'b_class'\n",
    "\n",
    "cat_atts = df_train.select_dtypes(include='object').columns.tolist()\n",
    "\n",
    "for att in [att for att in df_train.columns if att not in cat_atts]:\n",
    "    if len(df_train[att].unique()) <= 5:\n",
    "        cat_atts.append(att)\n",
    "\n",
    "num_atts = [att for att in df_train.columns if att not in cat_atts]\n",
    "\n",
    "print(cat_atts)\n",
    "print(num_atts)\n",
    "\n",
    "df_train.head()"
   ]
  },
  {
   "cell_type": "code",
   "execution_count": 3,
   "metadata": {},
   "outputs": [
    {
     "data": {
      "text/html": [
       "<div>\n",
       "<style scoped>\n",
       "    .dataframe tbody tr th:only-of-type {\n",
       "        vertical-align: middle;\n",
       "    }\n",
       "\n",
       "    .dataframe tbody tr th {\n",
       "        vertical-align: top;\n",
       "    }\n",
       "\n",
       "    .dataframe thead th {\n",
       "        text-align: right;\n",
       "    }\n",
       "</style>\n",
       "<table border=\"1\" class=\"dataframe\">\n",
       "  <thead>\n",
       "    <tr style=\"text-align: right;\">\n",
       "      <th></th>\n",
       "      <th>metric</th>\n",
       "      <th>dim</th>\n",
       "      <th>val</th>\n",
       "      <th>err</th>\n",
       "      <th>n_val</th>\n",
       "      <th>n_err</th>\n",
       "    </tr>\n",
       "  </thead>\n",
       "  <tbody>\n",
       "    <tr>\n",
       "      <th>0</th>\n",
       "      <td>pca_eigval_diff</td>\n",
       "      <td>u</td>\n",
       "      <td>0.000000e+00</td>\n",
       "      <td>NaN</td>\n",
       "      <td>1.000000</td>\n",
       "      <td>NaN</td>\n",
       "    </tr>\n",
       "    <tr>\n",
       "      <th>1</th>\n",
       "      <td>pca_eigvec_ang</td>\n",
       "      <td>u</td>\n",
       "      <td>3.420361e-08</td>\n",
       "      <td>NaN</td>\n",
       "      <td>1.000000</td>\n",
       "      <td>NaN</td>\n",
       "    </tr>\n",
       "    <tr>\n",
       "      <th>2</th>\n",
       "      <td>avg_h_dist</td>\n",
       "      <td>u</td>\n",
       "      <td>0.000000e+00</td>\n",
       "      <td>0.000000</td>\n",
       "      <td>1.000000</td>\n",
       "      <td>0.000000</td>\n",
       "    </tr>\n",
       "    <tr>\n",
       "      <th>3</th>\n",
       "      <td>corr_mat_diff</td>\n",
       "      <td>u</td>\n",
       "      <td>0.000000e+00</td>\n",
       "      <td>NaN</td>\n",
       "      <td>1.000000</td>\n",
       "      <td>NaN</td>\n",
       "    </tr>\n",
       "    <tr>\n",
       "      <th>4</th>\n",
       "      <td>auroc</td>\n",
       "      <td>u</td>\n",
       "      <td>0.000000e+00</td>\n",
       "      <td>NaN</td>\n",
       "      <td>1.000000</td>\n",
       "      <td>NaN</td>\n",
       "    </tr>\n",
       "    <tr>\n",
       "      <th>5</th>\n",
       "      <td>cls_F1_diff</td>\n",
       "      <td>u</td>\n",
       "      <td>0.000000e+00</td>\n",
       "      <td>0.007357</td>\n",
       "      <td>1.000000</td>\n",
       "      <td>0.007357</td>\n",
       "    </tr>\n",
       "    <tr>\n",
       "      <th>6</th>\n",
       "      <td>cls_F1_diff_hout</td>\n",
       "      <td>u</td>\n",
       "      <td>0.000000e+00</td>\n",
       "      <td>0.000000</td>\n",
       "      <td>1.000000</td>\n",
       "      <td>0.000000</td>\n",
       "    </tr>\n",
       "    <tr>\n",
       "      <th>7</th>\n",
       "      <td>eps_identif_risk</td>\n",
       "      <td>p</td>\n",
       "      <td>0.000000e+00</td>\n",
       "      <td>NaN</td>\n",
       "      <td>1.000000</td>\n",
       "      <td>NaN</td>\n",
       "    </tr>\n",
       "    <tr>\n",
       "      <th>8</th>\n",
       "      <td>priv_loss_eps</td>\n",
       "      <td>p</td>\n",
       "      <td>-2.090498e-01</td>\n",
       "      <td>NaN</td>\n",
       "      <td>0.790950</td>\n",
       "      <td>NaN</td>\n",
       "    </tr>\n",
       "    <tr>\n",
       "      <th>9</th>\n",
       "      <td>median_DCR</td>\n",
       "      <td>p</td>\n",
       "      <td>1.000000e+00</td>\n",
       "      <td>NaN</td>\n",
       "      <td>0.761594</td>\n",
       "      <td>NaN</td>\n",
       "    </tr>\n",
       "    <tr>\n",
       "      <th>10</th>\n",
       "      <td>mia_recall</td>\n",
       "      <td>p</td>\n",
       "      <td>5.333333e-01</td>\n",
       "      <td>0.020186</td>\n",
       "      <td>0.466667</td>\n",
       "      <td>0.020186</td>\n",
       "    </tr>\n",
       "    <tr>\n",
       "      <th>11</th>\n",
       "      <td>mia_precision</td>\n",
       "      <td>p</td>\n",
       "      <td>5.203514e-01</td>\n",
       "      <td>0.007876</td>\n",
       "      <td>0.959297</td>\n",
       "      <td>0.007876</td>\n",
       "    </tr>\n",
       "  </tbody>\n",
       "</table>\n",
       "</div>"
      ],
      "text/plain": [
       "              metric dim           val       err     n_val     n_err\n",
       "0    pca_eigval_diff   u  0.000000e+00       NaN  1.000000       NaN\n",
       "1     pca_eigvec_ang   u  3.420361e-08       NaN  1.000000       NaN\n",
       "2         avg_h_dist   u  0.000000e+00  0.000000  1.000000  0.000000\n",
       "3      corr_mat_diff   u  0.000000e+00       NaN  1.000000       NaN\n",
       "4              auroc   u  0.000000e+00       NaN  1.000000       NaN\n",
       "5        cls_F1_diff   u  0.000000e+00  0.007357  1.000000  0.007357\n",
       "6   cls_F1_diff_hout   u  0.000000e+00  0.000000  1.000000  0.000000\n",
       "7   eps_identif_risk   p  0.000000e+00       NaN  1.000000       NaN\n",
       "8      priv_loss_eps   p -2.090498e-01       NaN  0.790950       NaN\n",
       "9         median_DCR   p  1.000000e+00       NaN  0.761594       NaN\n",
       "10        mia_recall   p  5.333333e-01  0.020186  0.466667  0.020186\n",
       "11     mia_precision   p  5.203514e-01  0.007876  0.959297  0.007876"
      ]
     },
     "execution_count": 3,
     "metadata": {},
     "output_type": "execute_result"
    }
   ],
   "source": [
    "### Background measurement\n",
    "SE = SynthEval(df_train, df_test, verbose=False)\n",
    "SE.evaluate(df_train, analysis_target_var=label,**metrics)"
   ]
  },
  {
   "cell_type": "code",
   "execution_count": 4,
   "metadata": {},
   "outputs": [],
   "source": [
    "\n",
    "def model_experiment(df_train: DataFrame, df_test: DataFrame, label: str, model: str, metrics: Dict[str, dict]) -> DataFrame:\n",
    "    \"\"\" Function to do repeated runs of a generative model on the same \n",
    "    dataset and return best estimate of the mean of the various metrics. \n",
    "    \"\"\"\n",
    "    SE = SynthEval(df_train, df_test, verbose=False)\n",
    "\n",
    "    dfs_list = Parallel(n_jobs=-1)(delayed(generate_synthetic_data)(df_train, model, id=i) for i in range(NUM_REPS))\n",
    "    dfs = {f\"rep_{i}\": df_synth for i, df_synth in enumerate(dfs_list)}\n",
    "    \n",
    "    res, _ = SE.benchmark(dfs, analysis_target_var=label,**metrics, rank_strategy='summation')\n",
    "    \n",
    "    res = res.drop(columns=[col for col in res.columns if 'error' in col])\n",
    "    res = res.drop(columns=['rank', 'u_rank', 'p_rank', 'f_rank'])\n",
    "    res = res.droplevel(1, axis=1)\n",
    "\n",
    "    mean_values = res.mean()\n",
    "    sem_error = res.sem()\n",
    "    results = pd.concat([mean_values, sem_error], axis=1, keys=['mean', 'sem'])\n",
    "\n",
    "    return results"
   ]
  },
  {
   "cell_type": "code",
   "execution_count": 5,
   "metadata": {},
   "outputs": [
    {
     "name": "stderr",
     "output_type": "stream",
     "text": [
      "Find out more at https://www.synthpop.org.uk/\n",
      "Find out more at https://www.synthpop.org.uk/\n",
      "Find out more at https://www.synthpop.org.uk/\n",
      "Find out more at https://www.synthpop.org.uk/\n",
      "Find out more at https://www.synthpop.org.uk/\n",
      "Find out more at https://www.synthpop.org.uk/\n"
     ]
    },
    {
     "name": "stdout",
     "output_type": "stream",
     "text": [
      "\n",
      "Variable(s): WBC, RBC, Plat, RNA.Base, RNA.4, RNA.12, RNA.EOT, RNA.EF have been changed for synthesis from character to factor.\n",
      "\n",
      "Variable(s): Gender, Fever, Nausea.Vomting, Headache, Diarrhea, Fatigue...generalized.bone.ache, Jaundice, Epigastric.pain, b_class numeric but with only 3 or fewer distinct values turned into factor(s) for synthesis.\n",
      "\n",
      "\n",
      "Variable(s): WBC, RBC, Plat, RNA.Base, RNA.4, RNA.12, RNA.EOT, RNA.EF have been changed for synthesis from character to factor.\n",
      "\n",
      "Variable(s): Gender, Fever, Nausea.Vomting, Headache, Diarrhea, Fatigue...generalized.bone.ache, Jaundice, Epigastric.pain, b_class numeric but with only 3 or fewer distinct values turned into factor(s) for synthesis.\n",
      "\n",
      "\n",
      "Variable(s): WBC, RBC, Plat, RNA.Base, RNA.4, RNA.12, RNA.EOT, RNA.EF have been changed for synthesis from character to factor.\n",
      "\n",
      "Variable(s): Gender, Fever, Nausea.Vomting, Headache, Diarrhea, Fatigue...generalized.bone.ache, Jaundice, Epigastric.pain, b_class numeric but with only 3 or fewer distinct values turned into factor(s) for synthesis.\n",
      "\n",
      "\n",
      "Variable(s): WBC, RBC, Plat, RNA.Base, RNA.4, RNA.12, RNA.EOT, RNA.EF have been changed for synthesis from character to factor.\n",
      "\n",
      "Variable(s): WBC, RBC, Plat, RNA.Base, RNA.4, RNA.12, RNA.EOT, RNA.EF have been changed for synthesis from character to factor.\n",
      "\n",
      "Variable(s): Gender, Fever, Nausea.Vomting, Headache, Diarrhea, Fatigue...generalized.bone.ache, Jaundice, Epigastric.pain, b_class numeric but with only 3 or fewer distinct values turned into factor(s) for synthesis.\n",
      "\n",
      "\n",
      "Variable(s): Gender, Fever, Nausea.Vomting, Headache, Diarrhea, Fatigue...generalized.bone.ache, Jaundice, Epigastric.pain, b_class numeric but with only 3 or fewer distinct values turned into factor(s) for synthesis.\n",
      "\n"
     ]
    },
    {
     "name": "stderr",
     "output_type": "stream",
     "text": [
      "Find out more at https://www.synthpop.org.uk/\n",
      "Find out more at https://www.synthpop.org.uk/\n",
      "Find out more at https://www.synthpop.org.uk/\n",
      "Find out more at https://www.synthpop.org.uk/\n"
     ]
    },
    {
     "name": "stdout",
     "output_type": "stream",
     "text": [
      "\n",
      "Variable(s): WBC, RBC, Plat, RNA.Base, RNA.4, RNA.12, RNA.EOT, RNA.EF have been changed for synthesis from character to factor.\n",
      "\n",
      "Variable(s): WBC, RBC, Plat, RNA.Base, RNA.4, RNA.12, RNA.EOT, RNA.EF have been changed for synthesis from character to factor.\n",
      "\n",
      "Variable(s): WBC, RBC, Plat, RNA.Base, RNA.4, RNA.12, RNA.EOT, RNA.EF have been changed for synthesis from character to factor.\n",
      "\n",
      "Variable(s): Gender, Fever, Nausea.Vomting, Headache, Diarrhea, Fatigue...generalized.bone.ache, Jaundice, Epigastric.pain, b_class numeric but with only 3 or fewer distinct values turned into factor(s) for synthesis.\n",
      "\n",
      "\n",
      "Variable(s): Gender, Fever, Nausea.Vomting, Headache, Diarrhea, Fatigue...generalized.bone.ache, Jaundice, Epigastric.pain, b_class numeric but with only 3 or fewer distinct values turned into factor(s) for synthesis.\n",
      "\n",
      "\n",
      "Variable(s): Gender, Fever, Nausea.Vomting, Headache, Diarrhea, Fatigue...generalized.bone.ache, Jaundice, Epigastric.pain, b_class numeric but with only 3 or fewer distinct values turned into factor(s) for synthesis.\n",
      "\n",
      "\n",
      "Variable(s): WBC, RBC, Plat, RNA.Base, RNA.4, RNA.12, RNA.EOT, RNA.EF have been changed for synthesis from character to factor.\n",
      "\n",
      "Variable(s): Gender, Fever, Nausea.Vomting, Headache, Diarrhea, Fatigue...generalized.bone.ache, Jaundice, Epigastric.pain, b_class numeric but with only 3 or fewer distinct values turned into factor(s) for synthesis.\n",
      "\n",
      "\n",
      "Variable(s): WBC, RBC, Plat, RNA.Base, RNA.4, RNA.12, RNA.EOT, RNA.EF have been changed for synthesis from character to factor.\n",
      "\n",
      "Variable(s): Gender, Fever, Nausea.Vomting, Headache, Diarrhea, Fatigue...generalized.bone.ache, Jaundice, Epigastric.pain, b_class numeric but with only 3 or fewer distinct values turned into factor(s) for synthesis.\n",
      "\n",
      "Synthetic data exported as csv file(s).\n",
      "Information on synthetic data written to\n",
      "  /home/lautrup/repositories/disjoint-synthetic-data-generation/synthesis_info_synthpop_temp_0_synthpop.txt \n",
      "Synthetic data exported as csv file(s).\n",
      "Information on synthetic data written to\n",
      "  /home/lautrup/repositories/disjoint-synthetic-data-generation/synthesis_info_synthpop_temp_8_synthpop.txt \n",
      "Synthetic data exported as csv file(s).\n",
      "Information on synthetic data written to\n",
      "  /home/lautrup/repositories/disjoint-synthetic-data-generation/synthesis_info_synthpop_temp_9_synthpop.txt \n",
      "Synthetic data exported as csv file(s).\n",
      "Information on synthetic data written to\n",
      "  /home/lautrup/repositories/disjoint-synthetic-data-generation/synthesis_info_synthpop_temp_3_synthpop.txt \n",
      "Synthetic data exported as csv file(s).\n",
      "Information on synthetic data written to\n",
      "  /home/lautrup/repositories/disjoint-synthetic-data-generation/synthesis_info_synthpop_temp_1_synthpop.txt \n",
      "Synthetic data exported as csv file(s).\n",
      "Information on synthetic data written to\n",
      "  /home/lautrup/repositories/disjoint-synthetic-data-generation/synthesis_info_synthpop_temp_6_synthpop.txt \n",
      "Synthetic data exported as csv file(s).\n",
      "Information on synthetic data written to\n",
      "  /home/lautrup/repositories/disjoint-synthetic-data-generation/synthesis_info_synthpop_temp_2_synthpop.txt \n",
      "Synthetic data exported as csv file(s).\n",
      "Information on synthetic data written to\n",
      "  /home/lautrup/repositories/disjoint-synthetic-data-generation/synthesis_info_synthpop_temp_5_synthpop.txt \n",
      "Synthetic data exported as csv file(s).\n",
      "Information on synthetic data written to\n",
      "  /home/lautrup/repositories/disjoint-synthetic-data-generation/synthesis_info_synthpop_temp_7_synthpop.txt \n",
      "Synthetic data exported as csv file(s).\n",
      "Information on synthetic data written to\n",
      "  /home/lautrup/repositories/disjoint-synthetic-data-generation/synthesis_info_synthpop_temp_4_synthpop.txt \n"
     ]
    },
    {
     "name": "stderr",
     "output_type": "stream",
     "text": [
      "/tmp/ipykernel_1624103/1905967141.py:13: PerformanceWarning: dropping on a non-lexsorted multi-index without a level parameter may impact performance.\n",
      "  res = res.drop(columns=['rank', 'u_rank', 'p_rank', 'f_rank'])\n"
     ]
    }
   ],
   "source": [
    "cart_results = model_experiment(df_train, df_test, label, 'synthpop', metrics)\n",
    "cart_results.to_csv('experiments/results/mixed_model_results/hepatitis_case_study_adapt/synthpop.csv')"
   ]
  },
  {
   "cell_type": "code",
   "execution_count": null,
   "metadata": {},
   "outputs": [
    {
     "name": "stdout",
     "output_type": "stream",
     "text": [
      "================ Constructing Bayesian Network (BN) ================\n",
      "Adding ROOT Baseline histological Grading\n",
      "Adding attribute ALT 24\n",
      "Adding attribute ALT 4\n",
      "Adding attribute ALT 1\n",
      "Adding attribute ALT 12\n",
      "Adding attribute AST 1\n",
      "Adding attribute Age\n",
      "Adding attribute ALT 36\n",
      "Adding attribute ALT 48\n",
      "Adding attribute BMI\n",
      "Adding attribute ALT after 24 w\n",
      "Adding attribute HGB\n",
      "Adding attribute WBC\n",
      "Adding attribute Plat\n",
      "Adding attribute Fatigue & generalized bone ache\n",
      "Adding attribute Jaundice\n",
      "Adding attribute Headache\n",
      "Adding attribute Diarrhea\n",
      "Adding attribute Fever\n",
      "Adding attribute Epigastric pain\n",
      "Adding attribute Gender\n",
      "Adding attribute Nausea/Vomting\n",
      "Adding attribute RNA EF\n",
      "Adding attribute RNA EOT\n",
      "Adding attribute RNA 12\n",
      "Adding attribute b_class\n",
      "Adding attribute RBC\n",
      "Adding attribute RNA 4\n",
      "Adding attribute RNA Base\n",
      "========================== BN constructed ==========================\n",
      "================ Constructing Bayesian Network (BN) ================\n",
      "Adding ROOT Nausea/Vomting\n",
      "Adding attribute ALT 24\n",
      "Adding attribute Age\n",
      "Adding attribute AST 1\n",
      "Adding attribute ALT 4\n",
      "Adding attribute ALT 12\n",
      "Adding attribute ALT 1\n",
      "Adding attribute ALT 36\n",
      "Adding attribute ALT 48\n",
      "Adding attribute BMI\n",
      "Adding attribute Baseline histological Grading\n",
      "Adding attribute ALT after 24 w\n",
      "Adding attribute HGB\n",
      "Adding attribute WBC\n",
      "Adding attribute Plat\n",
      "Adding attribute Fatigue & generalized bone ache\n",
      "Adding attribute Jaundice\n",
      "Adding attribute Headache\n",
      "Adding attribute Diarrhea\n",
      "Adding attribute Fever\n",
      "Adding attribute Epigastric pain\n",
      "Adding attribute Gender\n",
      "Adding attribute RNA EF\n",
      "Adding attribute RNA EOT\n",
      "Adding attribute RNA 12\n",
      "Adding attribute b_class\n",
      "Adding attribute RBC\n",
      "Adding attribute RNA 4\n",
      "Adding attribute RNA Base\n",
      "========================== BN constructed ==========================\n",
      "================ Constructing Bayesian Network (BN) ================\n",
      "Adding ROOT Baseline histological Grading\n",
      "Adding attribute ALT 24\n",
      "Adding attribute ALT 4\n",
      "Adding attribute ALT 1\n",
      "Adding attribute ALT 12\n",
      "Adding attribute AST 1\n",
      "Adding attribute Age\n",
      "Adding attribute ALT 36\n",
      "Adding attribute ALT 48\n",
      "Adding attribute BMI\n",
      "Adding attribute ALT after 24 w\n",
      "Adding attribute HGB\n",
      "Adding attribute WBC\n",
      "Adding attribute Plat\n",
      "Adding attribute Fatigue & generalized bone ache\n",
      "Adding attribute Jaundice\n",
      "Adding attribute Headache\n",
      "Adding attribute Diarrhea\n",
      "Adding attribute Fever\n",
      "Adding attribute Epigastric pain\n",
      "Adding attribute Gender\n",
      "Adding attribute Nausea/Vomting\n",
      "Adding attribute RNA EF\n",
      "Adding attribute RNA EOT\n",
      "Adding attribute RNA 12\n",
      "Adding attribute b_class\n",
      "Adding attribute RBC\n",
      "Adding attribute RNA 4\n",
      "Adding attribute RNA Base\n",
      "========================== BN constructed ==========================\n",
      "================ Constructing Bayesian Network (BN) ================\n",
      "Adding ROOT Fatigue & generalized bone ache\n",
      "Adding attribute ALT 1\n",
      "Adding attribute Age\n",
      "Adding attribute AST 1\n",
      "Adding attribute ALT 12\n",
      "Adding attribute ALT 4\n",
      "Adding attribute ALT 24\n",
      "Adding attribute ALT 36\n",
      "Adding attribute ALT 48\n",
      "Adding attribute BMI\n",
      "Adding attribute Baseline histological Grading\n",
      "Adding attribute ALT after 24 w\n",
      "Adding attribute HGB\n",
      "Adding attribute WBC\n",
      "Adding attribute Plat\n",
      "Adding attribute Jaundice\n",
      "Adding attribute Headache\n",
      "Adding attribute Diarrhea\n",
      "Adding attribute Fever\n",
      "Adding attribute Epigastric pain\n",
      "Adding attribute Gender\n",
      "Adding attribute Nausea/Vomting\n",
      "Adding attribute RNA EF\n",
      "Adding attribute RNA EOT\n",
      "Adding attribute RNA 12\n",
      "Adding attribute b_class\n",
      "Adding attribute RBC\n",
      "Adding attribute RNA 4\n",
      "Adding attribute RNA Base\n",
      "========================== BN constructed ==========================\n",
      "================ Constructing Bayesian Network (BN) ================\n",
      "Adding ROOT Fatigue & generalized bone ache\n",
      "Adding attribute ALT 1\n",
      "Adding attribute Age\n",
      "Adding attribute AST 1\n",
      "Adding attribute ALT 12\n",
      "Adding attribute ALT 4\n",
      "Adding attribute ALT 24\n",
      "Adding attribute ALT 36\n",
      "Adding attribute ALT 48\n",
      "Adding attribute BMI\n",
      "Adding attribute Baseline histological Grading\n",
      "Adding attribute ALT after 24 w\n",
      "Adding attribute HGB\n",
      "Adding attribute WBC\n",
      "Adding attribute Plat\n",
      "Adding attribute Jaundice\n",
      "Adding attribute Headache\n",
      "Adding attribute Diarrhea\n",
      "Adding attribute Fever\n",
      "Adding attribute Epigastric pain\n",
      "Adding attribute Gender\n",
      "Adding attribute Nausea/Vomting\n",
      "Adding attribute RNA EF\n",
      "Adding attribute RNA EOT\n",
      "Adding attribute RNA 12\n",
      "Adding attribute b_class\n",
      "Adding attribute RBC\n",
      "Adding attribute RNA 4\n",
      "Adding attribute RNA Base\n",
      "========================== BN constructed ==========================\n",
      "================ Constructing Bayesian Network (BN) ================\n",
      "Adding ROOT ALT 36\n",
      "Adding attribute ALT 24\n",
      "Adding attribute AST 1\n",
      "Adding attribute ALT 4\n",
      "Adding attribute ALT 12\n",
      "Adding attribute ALT 1\n",
      "Adding attribute Age\n",
      "Adding attribute ALT 48\n",
      "Adding attribute BMI\n",
      "Adding attribute Baseline histological Grading\n",
      "Adding attribute ALT after 24 w\n",
      "Adding attribute HGB\n",
      "Adding attribute WBC\n",
      "Adding attribute Plat\n",
      "Adding attribute Fatigue & generalized bone ache\n",
      "Adding attribute Jaundice\n",
      "Adding attribute Headache\n",
      "Adding attribute Diarrhea\n",
      "Adding attribute Fever\n",
      "Adding attribute Epigastric pain\n",
      "Adding attribute Gender\n",
      "Adding attribute Nausea/Vomting\n",
      "Adding attribute RNA EF\n",
      "Adding attribute RNA EOT\n",
      "Adding attribute RNA 12\n",
      "Adding attribute b_class\n",
      "Adding attribute RBC\n",
      "Adding attribute RNA 4\n",
      "Adding attribute RNA Base\n",
      "========================== BN constructed ==========================\n",
      "================ Constructing Bayesian Network (BN) ================\n",
      "Adding ROOT RNA EOT\n",
      "Adding attribute RNA EF\n",
      "Adding attribute RNA 12\n",
      "Adding attribute ALT 1\n",
      "Adding attribute ALT 12\n",
      "Adding attribute ALT 4\n",
      "Adding attribute AST 1\n",
      "Adding attribute ALT 24\n",
      "Adding attribute Age\n",
      "Adding attribute ALT 36\n",
      "Adding attribute ALT 48\n",
      "Adding attribute BMI\n",
      "Adding attribute Baseline histological Grading\n",
      "Adding attribute ALT after 24 w\n",
      "Adding attribute HGB\n",
      "Adding attribute WBC\n",
      "Adding attribute Plat\n",
      "Adding attribute Fatigue & generalized bone ache\n",
      "Adding attribute Jaundice\n",
      "Adding attribute Headache\n",
      "Adding attribute Diarrhea\n",
      "Adding attribute Fever\n",
      "Adding attribute Epigastric pain\n",
      "Adding attribute Gender\n",
      "Adding attribute Nausea/Vomting\n",
      "Adding attribute b_class\n",
      "Adding attribute RBC\n",
      "Adding attribute RNA 4\n",
      "Adding attribute RNA Base\n",
      "========================== BN constructed ==========================\n",
      "================ Constructing Bayesian Network (BN) ================\n",
      "Adding ROOT WBC\n",
      "Adding attribute Age\n",
      "Adding attribute ALT 12\n",
      "Adding attribute ALT 4\n",
      "Adding attribute ALT 1\n",
      "Adding attribute AST 1\n",
      "Adding attribute ALT 24\n",
      "Adding attribute ALT 36\n",
      "Adding attribute ALT 48\n",
      "Adding attribute BMI\n",
      "Adding attribute Baseline histological Grading\n",
      "Adding attribute ALT after 24 w\n",
      "Adding attribute HGB\n",
      "Adding attribute Plat\n",
      "Adding attribute Fatigue & generalized bone ache\n",
      "Adding attribute Jaundice\n",
      "Adding attribute Headache\n",
      "Adding attribute Diarrhea\n",
      "Adding attribute Fever\n",
      "Adding attribute Epigastric pain\n",
      "Adding attribute Gender\n",
      "Adding attribute Nausea/Vomting\n",
      "Adding attribute RNA EF\n",
      "Adding attribute RNA EOT\n",
      "Adding attribute RNA 12\n",
      "Adding attribute b_class\n",
      "Adding attribute RBC\n",
      "Adding attribute RNA 4\n",
      "Adding attribute RNA Base\n",
      "========================== BN constructed ==========================\n",
      "================ Constructing Bayesian Network (BN) ================\n",
      "Adding ROOT Fatigue & generalized bone ache\n",
      "Adding attribute ALT 1\n",
      "Adding attribute Age\n",
      "Adding attribute AST 1\n",
      "Adding attribute ALT 12\n",
      "Adding attribute ALT 4\n",
      "Adding attribute ALT 24\n",
      "Adding attribute ALT 36\n",
      "Adding attribute ALT 48\n",
      "Adding attribute BMI\n",
      "Adding attribute Baseline histological Grading\n",
      "Adding attribute ALT after 24 w\n",
      "Adding attribute HGB\n",
      "Adding attribute WBC\n",
      "Adding attribute Plat\n",
      "Adding attribute Jaundice\n",
      "Adding attribute Headache\n",
      "Adding attribute Diarrhea\n",
      "Adding attribute Fever\n",
      "Adding attribute Epigastric pain\n",
      "Adding attribute Gender\n",
      "Adding attribute Nausea/Vomting\n",
      "Adding attribute RNA EF\n",
      "Adding attribute RNA EOT\n",
      "Adding attribute RNA 12\n",
      "Adding attribute b_class\n",
      "Adding attribute RBC\n",
      "Adding attribute RNA 4\n",
      "Adding attribute RNA Base\n",
      "========================== BN constructed ==========================\n",
      "================ Constructing Bayesian Network (BN) ================\n",
      "Adding ROOT AST 1\n",
      "Adding attribute ALT 12\n",
      "Adding attribute ALT 4\n",
      "Adding attribute ALT 1\n",
      "Adding attribute ALT 24\n",
      "Adding attribute Age\n",
      "Adding attribute ALT 36\n",
      "Adding attribute ALT 48\n",
      "Adding attribute BMI\n",
      "Adding attribute Baseline histological Grading\n",
      "Adding attribute ALT after 24 w\n",
      "Adding attribute HGB\n",
      "Adding attribute WBC\n",
      "Adding attribute Plat\n",
      "Adding attribute Fatigue & generalized bone ache\n",
      "Adding attribute Jaundice\n",
      "Adding attribute Headache\n",
      "Adding attribute Diarrhea\n",
      "Adding attribute Fever\n",
      "Adding attribute Epigastric pain\n",
      "Adding attribute Gender\n",
      "Adding attribute Nausea/Vomting\n",
      "Adding attribute RNA EF\n",
      "Adding attribute RNA EOT\n",
      "Adding attribute RNA 12\n",
      "Adding attribute b_class\n",
      "Adding attribute RBC\n",
      "Adding attribute RNA 4\n",
      "Adding attribute RNA Base\n",
      "========================== BN constructed ==========================\n"
     ]
    },
    {
     "name": "stderr",
     "output_type": "stream",
     "text": [
      "/tmp/ipykernel_3361653/365658777.py:15: PerformanceWarning: dropping on a non-lexsorted multi-index without a level parameter may impact performance.\n",
      "  res = res.drop(columns=['rank', 'u_rank', 'p_rank'])\n"
     ]
    }
   ],
   "source": [
    "bn_results = model_experiment(df_train, df_test, label, 'datasynthesizer', metrics)\n",
    "bn_results.to_csv('experiments/results/mixed_model_results/hepatitis_case_study_adapt/datasynthesizer.csv')\n",
    "#~12 mins"
   ]
  },
  {
   "cell_type": "code",
   "execution_count": null,
   "metadata": {},
   "outputs": [
    {
     "name": "stderr",
     "output_type": "stream",
     "text": [
      "[2024-12-16T14:40:11.393622+0100][2982803][CRITICAL] module disabled: /home/lautrup/sdg_env/lib/python3.10/site-packages/synthcity/plugins/generic/plugin_goggle.py\n",
      " 37%|███▋      | 749/2000 [07:29<12:30,  1.67it/s]\n",
      "[2024-12-16T14:47:45.929537+0100][2982803][CRITICAL] module disabled: /home/lautrup/sdg_env/lib/python3.10/site-packages/synthcity/plugins/generic/plugin_goggle.py\n",
      " 27%|██▋       | 549/2000 [05:47<15:18,  1.58it/s]\n",
      "[2024-12-16T14:53:37.714040+0100][2982803][CRITICAL] module disabled: /home/lautrup/sdg_env/lib/python3.10/site-packages/synthcity/plugins/generic/plugin_goggle.py\n",
      " 35%|███▍      | 699/2000 [07:33<14:03,  1.54it/s]\n",
      "[2024-12-16T15:01:15.901379+0100][2982803][CRITICAL] module disabled: /home/lautrup/sdg_env/lib/python3.10/site-packages/synthcity/plugins/generic/plugin_goggle.py\n",
      " 37%|███▋      | 749/2000 [08:06<13:32,  1.54it/s]\n",
      "[2024-12-16T15:09:28.623247+0100][2982803][CRITICAL] module disabled: /home/lautrup/sdg_env/lib/python3.10/site-packages/synthcity/plugins/generic/plugin_goggle.py\n",
      " 45%|████▍     | 899/2000 [09:41<11:52,  1.54it/s]\n",
      "[2024-12-16T15:19:15.264390+0100][2982803][CRITICAL] module disabled: /home/lautrup/sdg_env/lib/python3.10/site-packages/synthcity/plugins/generic/plugin_goggle.py\n",
      " 27%|██▋       | 549/2000 [05:52<15:32,  1.56it/s]\n",
      "[2024-12-16T15:25:13.784143+0100][2982803][CRITICAL] module disabled: /home/lautrup/sdg_env/lib/python3.10/site-packages/synthcity/plugins/generic/plugin_goggle.py\n",
      " 40%|███▉      | 799/2000 [07:57<11:58,  1.67it/s]\n",
      "[2024-12-16T15:33:16.208668+0100][2982803][CRITICAL] module disabled: /home/lautrup/sdg_env/lib/python3.10/site-packages/synthcity/plugins/generic/plugin_goggle.py\n",
      " 67%|██████▋   | 1349/2000 [13:35<06:33,  1.65it/s]\n",
      "[2024-12-16T15:46:57.729443+0100][2982803][CRITICAL] module disabled: /home/lautrup/sdg_env/lib/python3.10/site-packages/synthcity/plugins/generic/plugin_goggle.py\n",
      " 27%|██▋       | 549/2000 [05:58<15:47,  1.53it/s]\n",
      "[2024-12-16T15:53:01.603229+0100][2982803][CRITICAL] module disabled: /home/lautrup/sdg_env/lib/python3.10/site-packages/synthcity/plugins/generic/plugin_goggle.py\n",
      " 30%|██▉       | 599/2000 [06:37<15:28,  1.51it/s]\n"
     ]
    }
   ],
   "source": [
    "ctgan_results = model_experiment(df_train, df_test, label, 'ctgan', metrics)\n",
    "ctgan_results.to_csv('experiments/results/mixed_model_results/hepatitis_case_study_adapt/ctgan.csv')\n",
    "#~79 mins"
   ]
  },
  {
   "cell_type": "code",
   "execution_count": null,
   "metadata": {},
   "outputs": [
    {
     "name": "stderr",
     "output_type": "stream",
     "text": [
      "/home/lautrup/sdg_env/lib/python3.10/site-packages/tqdm/auto.py:21: TqdmWarning: IProgress not found. Please update jupyter and ipywidgets. See https://ipywidgets.readthedocs.io/en/stable/user_install.html\n",
      "  from .autonotebook import tqdm as notebook_tqdm\n",
      "[2024-12-17T10:11:30.061177+0100][3361653][CRITICAL] module disabled: /home/lautrup/sdg_env/lib/python3.10/site-packages/synthcity/plugins/generic/plugin_goggle.py\n",
      "  5%|▌         | 549/10000 [06:02<1:44:07,  1.51it/s]\n",
      "[2024-12-17T10:17:36.999565+0100][3361653][CRITICAL] module disabled: /home/lautrup/sdg_env/lib/python3.10/site-packages/synthcity/plugins/generic/plugin_goggle.py\n",
      "  7%|▋         | 699/10000 [07:49<1:44:08,  1.49it/s]\n",
      "[2024-12-17T10:25:28.322708+0100][3361653][CRITICAL] module disabled: /home/lautrup/sdg_env/lib/python3.10/site-packages/synthcity/plugins/generic/plugin_goggle.py\n",
      "  6%|▋         | 649/10000 [07:16<1:44:46,  1.49it/s]\n",
      "[2024-12-17T10:32:46.358257+0100][3361653][CRITICAL] module disabled: /home/lautrup/sdg_env/lib/python3.10/site-packages/synthcity/plugins/generic/plugin_goggle.py\n",
      "  7%|▋         | 699/10000 [07:45<1:43:07,  1.50it/s]\n",
      "[2024-12-17T10:40:33.134257+0100][3361653][CRITICAL] module disabled: /home/lautrup/sdg_env/lib/python3.10/site-packages/synthcity/plugins/generic/plugin_goggle.py\n",
      " 10%|▉         | 999/10000 [11:01<1:39:19,  1.51it/s]\n",
      "[2024-12-17T10:51:36.283974+0100][3361653][CRITICAL] module disabled: /home/lautrup/sdg_env/lib/python3.10/site-packages/synthcity/plugins/generic/plugin_goggle.py\n",
      "  5%|▌         | 549/10000 [06:01<1:43:43,  1.52it/s]\n",
      "[2024-12-17T10:57:39.537872+0100][3361653][CRITICAL] module disabled: /home/lautrup/sdg_env/lib/python3.10/site-packages/synthcity/plugins/generic/plugin_goggle.py\n",
      "  8%|▊         | 799/10000 [08:45<1:40:56,  1.52it/s]\n",
      "[2024-12-17T11:06:27.240411+0100][3361653][CRITICAL] module disabled: /home/lautrup/sdg_env/lib/python3.10/site-packages/synthcity/plugins/generic/plugin_goggle.py\n",
      "  5%|▍         | 499/10000 [05:31<1:45:11,  1.51it/s]\n",
      "[2024-12-17T11:12:00.400924+0100][3361653][CRITICAL] module disabled: /home/lautrup/sdg_env/lib/python3.10/site-packages/synthcity/plugins/generic/plugin_goggle.py\n",
      "  5%|▌         | 549/10000 [06:04<1:44:30,  1.51it/s]\n",
      "[2024-12-17T11:18:06.307934+0100][3361653][CRITICAL] module disabled: /home/lautrup/sdg_env/lib/python3.10/site-packages/synthcity/plugins/generic/plugin_goggle.py\n",
      "  6%|▌         | 599/10000 [06:39<1:44:26,  1.50it/s]\n"
     ]
    }
   ],
   "source": [
    "adsgan_results = model_experiment(df_train, df_test, label, 'adsgan', metrics)\n",
    "adsgan_results.to_csv('experiments/results/mixed_model_results/hepatitis_case_study_adapt/adsgan.csv')\n",
    "#~73 mins"
   ]
  },
  {
   "cell_type": "code",
   "execution_count": 7,
   "metadata": {},
   "outputs": [
    {
     "name": "stderr",
     "output_type": "stream",
     "text": [
      "[2024-12-17T11:29:26.027203+0100][3477488][CRITICAL] module disabled: /home/lautrup/sdg_env/lib/python3.10/site-packages/synthcity/plugins/generic/plugin_goggle.py\n",
      "[2024-12-17T11:29:26.048782+0100][3477484][CRITICAL] module disabled: /home/lautrup/sdg_env/lib/python3.10/site-packages/synthcity/plugins/generic/plugin_goggle.py\n",
      "[2024-12-17T11:29:26.114987+0100][3477493][CRITICAL] module disabled: /home/lautrup/sdg_env/lib/python3.10/site-packages/synthcity/plugins/generic/plugin_goggle.py\n",
      "[2024-12-17T11:29:26.157315+0100][3477483][CRITICAL] module disabled: /home/lautrup/sdg_env/lib/python3.10/site-packages/synthcity/plugins/generic/plugin_goggle.py\n",
      "[2024-12-17T11:29:26.201456+0100][3477491][CRITICAL] module disabled: /home/lautrup/sdg_env/lib/python3.10/site-packages/synthcity/plugins/generic/plugin_goggle.py\n",
      "[2024-12-17T11:29:26.204427+0100][3477490][CRITICAL] module disabled: /home/lautrup/sdg_env/lib/python3.10/site-packages/synthcity/plugins/generic/plugin_goggle.py\n",
      "[2024-12-17T11:29:26.519935+0100][3477492][CRITICAL] module disabled: /home/lautrup/sdg_env/lib/python3.10/site-packages/synthcity/plugins/generic/plugin_goggle.py\n",
      "[2024-12-17T11:29:26.619314+0100][3477489][CRITICAL] module disabled: /home/lautrup/sdg_env/lib/python3.10/site-packages/synthcity/plugins/generic/plugin_goggle.py\n",
      "[2024-12-17T11:29:26.782026+0100][3477486][CRITICAL] module disabled: /home/lautrup/sdg_env/lib/python3.10/site-packages/synthcity/plugins/generic/plugin_goggle.py\n",
      "[2024-12-17T11:29:26.963583+0100][3477487][CRITICAL] module disabled: /home/lautrup/sdg_env/lib/python3.10/site-packages/synthcity/plugins/generic/plugin_goggle.py\n",
      " 15%|█▍        | 299/2000 [07:08<40:35,  1.43s/it]  \n",
      " 15%|█▍        | 299/2000 [07:16<41:23,  1.46s/it]  \n",
      " 15%|█▍        | 299/2000 [07:20<41:44,  1.47s/it]  \n",
      " 15%|█▍        | 299/2000 [07:28<42:29,  1.50s/it]\n",
      " 15%|█▍        | 299/2000 [07:31<42:51,  1.51s/it]\n",
      " 15%|█▍        | 299/2000 [07:33<42:58,  1.52s/it]\n",
      " 17%|█▋        | 349/2000 [08:02<38:02,  1.38s/it]\n",
      " 20%|█▉        | 399/2000 [08:24<33:44,  1.26s/it]\n",
      " 22%|██▏       | 449/2000 [09:04<31:19,  1.21s/it]\n",
      " 25%|██▍       | 499/2000 [10:05<30:22,  1.21s/it]\n"
     ]
    }
   ],
   "source": [
    "dpgan_results = model_experiment(df_train, df_test, label, 'dpgan', metrics)\n",
    "dpgan_results.to_csv('experiments/results/mixed_model_results/hepatitis_case_study_adapt/dpgan.csv')"
   ]
  },
  {
   "cell_type": "markdown",
   "metadata": {},
   "source": [
    "### Now do the many combinations of mixed models\n",
    "We use synthpop and DataSynthesizer for the categorical attributes and CTGAN, ADSGAN and DPGAN for the nummerical attributes."
   ]
  },
  {
   "cell_type": "code",
   "execution_count": 4,
   "metadata": {},
   "outputs": [],
   "source": [
    "def _single_mixed_model_experiment(df_train: DataFrame, gms: Dict[str, List[str]], id) -> DataFrame:\n",
    "    \"\"\" Function to do runs of the mixed model. \"\"\"\n",
    "    Rf = RandomForestClassifier(n_estimators=100)\n",
    "    JS = UsingJoiningValidator(JoiningValidator(Rf, verbose=False), behaviour='adaptive')\n",
    "\n",
    "    dgms = DisjointGenerativeModels(df_train, gms, joining_strategy=JS, worker_id=id*10)\n",
    "    dgms.join_multiplier = 4    # to ensure high enough resolution\n",
    "\n",
    "    df_dgms = dgms.fit_generate()\n",
    "\n",
    "    return df_dgms[:len(df_train)]\n",
    "\n",
    "def mixed_model_experiment(df_train: DataFrame, df_test: DataFrame, model1: str, model2: str, \n",
    "                           cat_atts: List[str], num_atts: List[str], label: str, metrics: Dict[str, dict]) -> DataFrame:\n",
    "    \"\"\" Function to do repeated runs of the mixed model. \"\"\"\n",
    "    \n",
    "    SE = SynthEval(df_train, df_test, verbose=False)\n",
    "    \n",
    "    gms = {model1: cat_atts, model2: num_atts}\n",
    "    dfs_list = Parallel(n_jobs=-1)(delayed(_single_mixed_model_experiment)(df_train, gms, id=i) for i in range(NUM_REPS))\n",
    "    dfs = {f\"rep_{i}\": df_synth for i, df_synth in enumerate(dfs_list)}\n",
    "\n",
    "    res, _ = SE.benchmark(dfs, analysis_target_var=label,**metrics, rank_strategy='summation')\n",
    "    \n",
    "    res = res.drop(columns=[col for col in res.columns if 'error' in col])\n",
    "    res = res.drop(columns=['rank', 'u_rank', 'p_rank', 'f_rank'])\n",
    "    res = res.droplevel(1, axis=1)\n",
    "\n",
    "    mean_values = res.mean()\n",
    "    sem_error = res.sem()\n",
    "    results = pd.concat([mean_values, sem_error], axis=1, keys=['mean', 'sem'])\n",
    "\n",
    "    return results"
   ]
  },
  {
   "cell_type": "code",
   "execution_count": null,
   "metadata": {},
   "outputs": [
    {
     "name": "stdout",
     "output_type": "stream",
     "text": [
      "Cross-validated accuracies: [0.5957767722473605, 0.5610859728506787, 0.5776772247360482, 0.5867269984917044, 0.5776772247360482]\n",
      "Mean accuracy: 0.579788838612368\n",
      "Cross-validated accuracies: [0.5912518853695324, 0.5912518853695324, 0.5882352941176471, 0.5610859728506787, 0.5972850678733032]\n",
      "Mean accuracy: 0.5858220211161387\n",
      "Cross-validated accuracies: [0.5852187028657617, 0.579185520361991, 0.5972850678733032, 0.5806938159879337, 0.5625942684766214]\n",
      "Mean accuracy: 0.5809954751131222\n",
      "Cross-validated accuracies: [0.5806938159879337, 0.5731523378582202, 0.5656108597285068, 0.5822021116138764, 0.6078431372549019]\n",
      "Mean accuracy: 0.5819004524886877\n",
      "Cross-validated accuracies: [0.5686274509803921, 0.5822021116138764, 0.5882352941176471, 0.5731523378582202, 0.5701357466063348]\n",
      "Mean accuracy: 0.5764705882352941\n",
      "Cross-validated accuracies: [0.5776772247360482, 0.5867269984917044, 0.5897435897435898, 0.5761689291101055, 0.5942684766214178]\n",
      "Mean accuracy: 0.5849170437405731\n",
      "Cross-validated accuracies: [0.5882352941176471, 0.5852187028657617, 0.5822021116138764, 0.5701357466063348, 0.5761689291101055]\n",
      "Mean accuracy: 0.580392156862745\n",
      "Cross-validated accuracies: [0.5852187028657617, 0.5852187028657617, 0.5972850678733032, 0.5927601809954751, 0.5852187028657617]\n",
      "Mean accuracy: 0.5891402714932127\n",
      "Cross-validated accuracies: [0.579185520361991, 0.5852187028657617, 0.5972850678733032, 0.5822021116138764, 0.5656108597285068]\n",
      "Mean accuracy: 0.5819004524886878\n",
      "Cross-validated accuracies: [0.5957767722473605, 0.5987933634992458, 0.5701357466063348, 0.5761689291101055, 0.583710407239819]\n",
      "Mean accuracy: 0.5849170437405731\n",
      "Final model trained!\n",
      "Final model trained!\n",
      "Final model trained!\n",
      "Final model trained!\n",
      "Final model trained!\n",
      "Final model trained!\n",
      "Final model trained!\n",
      "Final model trained!\n",
      "Final model trained!\n",
      "Final model trained!\n"
     ]
    },
    {
     "name": "stderr",
     "output_type": "stream",
     "text": [
      "Find out more at https://www.synthpop.org.uk/\n",
      "Find out more at https://www.synthpop.org.uk/\n",
      "Find out more at https://www.synthpop.org.uk/\n"
     ]
    },
    {
     "name": "stdout",
     "output_type": "stream",
     "text": [
      "\n",
      "Variable(s): WBC, RBC, Plat, RNA.Base, RNA.4, RNA.12, RNA.EOT, RNA.EF, Gender, Fever, Nausea.Vomting, Headache, Diarrhea, Fatigue...generalized.bone.ache, Jaundice, Epigastric.pain, b_class numeric but with only 3 or fewer distinct values turned into factor(s) for synthesis.\n",
      "\n",
      "\n",
      "Variable(s): WBC, RBC, Plat, RNA.Base, RNA.4, RNA.12, RNA.EOT, RNA.EF, Gender, Fever, Nausea.Vomting, Headache, Diarrhea, Fatigue...generalized.bone.ache, Jaundice, Epigastric.pain, b_class numeric but with only 3 or fewer distinct values turned into factor(s) for synthesis.\n",
      "\n",
      "\n",
      "Variable(s): WBC, RBC, Plat, RNA.Base, RNA.4, RNA.12, RNA.EOT, RNA.EF, Gender, Fever, Nausea.Vomting, Headache, Diarrhea, Fatigue...generalized.bone.ache, Jaundice, Epigastric.pain, b_class numeric but with only 3 or fewer distinct values turned into factor(s) for synthesis.\n",
      "\n"
     ]
    },
    {
     "name": "stderr",
     "output_type": "stream",
     "text": [
      "Find out more at https://www.synthpop.org.uk/\n",
      "Find out more at https://www.synthpop.org.uk/\n",
      "Find out more at https://www.synthpop.org.uk/\n",
      "Find out more at https://www.synthpop.org.uk/\n",
      "Find out more at https://www.synthpop.org.uk/\n"
     ]
    },
    {
     "name": "stdout",
     "output_type": "stream",
     "text": [
      "\n",
      "Variable(s): WBC, RBC, Plat, RNA.Base, RNA.4, RNA.12, RNA.EOT, RNA.EF, Gender, Fever, Nausea.Vomting, Headache, Diarrhea, Fatigue...generalized.bone.ache, Jaundice, Epigastric.pain, b_class numeric but with only 3 or fewer distinct values turned into factor(s) for synthesis.\n",
      "\n",
      "\n",
      "Variable(s): WBC, RBC, Plat, RNA.Base, RNA.4, RNA.12, RNA.EOT, RNA.EF, Gender, Fever, Nausea.Vomting, Headache, Diarrhea, Fatigue...generalized.bone.ache, Jaundice, Epigastric.pain, b_class numeric but with only 3 or fewer distinct values turned into factor(s) for synthesis.\n",
      "\n",
      "\n",
      "Variable(s): WBC, RBC, Plat, RNA.Base, RNA.4, RNA.12, RNA.EOT, RNA.EF, Gender, Fever, Nausea.Vomting, Headache, Diarrhea, Fatigue...generalized.bone.ache, Jaundice, Epigastric.pain, b_class numeric but with only 3 or fewer distinct values turned into factor(s) for synthesis.\n",
      "\n",
      "\n",
      "Variable(s): WBC, RBC, Plat, RNA.Base, RNA.4, RNA.12, RNA.EOT, RNA.EF, Gender, Fever, Nausea.Vomting, Headache, Diarrhea, Fatigue...generalized.bone.ache, Jaundice, Epigastric.pain, b_class numeric but with only 3 or fewer distinct values turned into factor(s) for synthesis.\n",
      "\n",
      "\n",
      "Variable(s): WBC, RBC, Plat, RNA.Base, RNA.4, RNA.12, RNA.EOT, RNA.EF, Gender, Fever, Nausea.Vomting, Headache, Diarrhea, Fatigue...generalized.bone.ache, Jaundice, Epigastric.pain, b_class numeric but with only 3 or fewer distinct values turned into factor(s) for synthesis.\n",
      "\n"
     ]
    },
    {
     "name": "stderr",
     "output_type": "stream",
     "text": [
      "Find out more at https://www.synthpop.org.uk/\n",
      "Find out more at https://www.synthpop.org.uk/\n"
     ]
    },
    {
     "name": "stdout",
     "output_type": "stream",
     "text": [
      "\n",
      "Variable(s): WBC, RBC, Plat, RNA.Base, RNA.4, RNA.12, RNA.EOT, RNA.EF, Gender, Fever, Nausea.Vomting, Headache, Diarrhea, Fatigue...generalized.bone.ache, Jaundice, Epigastric.pain, b_class numeric but with only 3 or fewer distinct values turned into factor(s) for synthesis.\n",
      "\n",
      "\n",
      "Variable(s): WBC, RBC, Plat, RNA.Base, RNA.4, RNA.12, RNA.EOT, RNA.EF, Gender, Fever, Nausea.Vomting, Headache, Diarrhea, Fatigue...generalized.bone.ache, Jaundice, Epigastric.pain, b_class numeric but with only 3 or fewer distinct values turned into factor(s) for synthesis.\n",
      "\n",
      "Synthetic data exported as csv file(s).\n",
      "Information on synthetic data written to\n",
      "  /home/lautrup/repositories/disjoint-synthetic-data-generation/synthesis_info_synthpop_temp_90_synthpop.txt \n",
      "Synthetic data exported as csv file(s).\n",
      "Information on synthetic data written to\n",
      "  /home/lautrup/repositories/disjoint-synthetic-data-generation/synthesis_info_synthpop_temp_60_synthpop.txt \n",
      "Synthetic data exported as csv file(s).\n",
      "Information on synthetic data written to\n",
      "  /home/lautrup/repositories/disjoint-synthetic-data-generation/synthesis_info_synthpop_temp_20_synthpop.txt \n",
      "Synthetic data exported as csv file(s).\n",
      "Information on synthetic data written to\n",
      "  /home/lautrup/repositories/disjoint-synthetic-data-generation/synthesis_info_synthpop_temp_50_synthpop.txt \n",
      "Synthetic data exported as csv file(s).\n",
      "Information on synthetic data written to\n",
      "  /home/lautrup/repositories/disjoint-synthetic-data-generation/synthesis_info_synthpop_temp_0_synthpop.txt \n",
      "Synthetic data exported as csv file(s).\n",
      "Information on synthetic data written to\n",
      "  /home/lautrup/repositories/disjoint-synthetic-data-generation/synthesis_info_synthpop_temp_10_synthpop.txt \n",
      "Synthetic data exported as csv file(s).\n",
      "Information on synthetic data written to\n",
      "  /home/lautrup/repositories/disjoint-synthetic-data-generation/synthesis_info_synthpop_temp_70_synthpop.txt \n",
      "Synthetic data exported as csv file(s).\n",
      "Information on synthetic data written to\n",
      "  /home/lautrup/repositories/disjoint-synthetic-data-generation/synthesis_info_synthpop_temp_30_synthpop.txt \n",
      "Synthetic data exported as csv file(s).\n",
      "Information on synthetic data written to\n",
      "  /home/lautrup/repositories/disjoint-synthetic-data-generation/synthesis_info_synthpop_temp_40_synthpop.txt \n",
      "Synthetic data exported as csv file(s).\n",
      "Information on synthetic data written to\n",
      "  /home/lautrup/repositories/disjoint-synthetic-data-generation/synthesis_info_synthpop_temp_80_synthpop.txt \n"
     ]
    },
    {
     "name": "stderr",
     "output_type": "stream",
     "text": [
      "[2024-12-17T12:42:57.029276+0100][3545405][CRITICAL] module disabled: /home/lautrup/sdg_env/lib/python3.10/site-packages/synthcity/plugins/generic/plugin_goggle.py\n",
      "[2024-12-17T12:42:57.048493+0100][3545338][CRITICAL] module disabled: /home/lautrup/sdg_env/lib/python3.10/site-packages/synthcity/plugins/generic/plugin_goggle.py\n",
      "[2024-12-17T12:42:57.079068+0100][3545339][CRITICAL] module disabled: /home/lautrup/sdg_env/lib/python3.10/site-packages/synthcity/plugins/generic/plugin_goggle.py\n",
      "[2024-12-17T12:42:57.105096+0100][3545408][CRITICAL] module disabled: /home/lautrup/sdg_env/lib/python3.10/site-packages/synthcity/plugins/generic/plugin_goggle.py\n",
      "[2024-12-17T12:42:57.165188+0100][3545404][CRITICAL] module disabled: /home/lautrup/sdg_env/lib/python3.10/site-packages/synthcity/plugins/generic/plugin_goggle.py\n",
      "[2024-12-17T12:42:57.350233+0100][3545337][CRITICAL] module disabled: /home/lautrup/sdg_env/lib/python3.10/site-packages/synthcity/plugins/generic/plugin_goggle.py\n",
      "[2024-12-17T12:42:57.420982+0100][3545406][CRITICAL] module disabled: /home/lautrup/sdg_env/lib/python3.10/site-packages/synthcity/plugins/generic/plugin_goggle.py\n",
      "[2024-12-17T12:42:57.525393+0100][3545336][CRITICAL] module disabled: /home/lautrup/sdg_env/lib/python3.10/site-packages/synthcity/plugins/generic/plugin_goggle.py\n",
      "[2024-12-17T12:42:57.638663+0100][3545407][CRITICAL] module disabled: /home/lautrup/sdg_env/lib/python3.10/site-packages/synthcity/plugins/generic/plugin_goggle.py\n",
      "[2024-12-17T12:42:57.899365+0100][3545340][CRITICAL] module disabled: /home/lautrup/sdg_env/lib/python3.10/site-packages/synthcity/plugins/generic/plugin_goggle.py\n",
      " 37%|███▋      | 749/2000 [06:03<10:07,  2.06it/s]\n",
      " 36%|███▌      | 716/2000 [06:04<06:07,  3.49it/s]"
     ]
    },
    {
     "name": "stdout",
     "output_type": "stream",
     "text": [
      "Predicted good joins fraction: 0.019909502262443438\n",
      "Predicted good joins fraction: 0.019159741458910435\n"
     ]
    },
    {
     "name": "stderr",
     "output_type": "stream",
     "text": [
      " 36%|███▋      | 725/2000 [06:05<09:34,  2.22it/s]"
     ]
    },
    {
     "name": "stdout",
     "output_type": "stream",
     "text": [
      "Predicted good joins fraction: 0.017180513061896916\n",
      "Predicted good joins fraction: 0.013769157088122605\n",
      "Predicted good joins fraction: 0.014689814252761928\n",
      "Predicted good joins fraction: 0.013799901429275506\n"
     ]
    },
    {
     "name": "stderr",
     "output_type": "stream",
     "text": [
      " 36%|███▋      | 726/2000 [06:05<09:24,  2.26it/s]"
     ]
    },
    {
     "name": "stdout",
     "output_type": "stream",
     "text": [
      "Predicted good joins fraction: 0.01461769115442279\n",
      "Predicted good joins fraction: 0.01103081019399011\n",
      "Predicted good joins fraction: 0.011282051282051283\n",
      "Predicted good joins fraction: 0.010762448132780083\n",
      "Predicted good joins fraction: 0.011797090051120724\n"
     ]
    },
    {
     "name": "stderr",
     "output_type": "stream",
     "text": [
      " 36%|███▋      | 725/2000 [06:04<09:06,  2.33it/s]"
     ]
    },
    {
     "name": "stdout",
     "output_type": "stream",
     "text": [
      "Predicted good joins fraction: 0.010744130521289296\n",
      "Predicted good joins fraction: 0.01032448377581121\n",
      "Predicted good joins fraction: 0.010432190760059613\n"
     ]
    },
    {
     "name": "stderr",
     "output_type": "stream",
     "text": [
      " 36%|███▌      | 720/2000 [06:05<07:08,  2.99it/s]"
     ]
    },
    {
     "name": "stdout",
     "output_type": "stream",
     "text": [
      "Predicted good joins fraction: 0.009720700985761227\n",
      "Predicted good joins fraction: 0.006912760956726116\n",
      "Predicted good joins fraction: 0.007517750243630795\n"
     ]
    },
    {
     "name": "stderr",
     "output_type": "stream",
     "text": [
      " 36%|███▌      | 721/2000 [06:05<07:20,  2.90it/s]"
     ]
    },
    {
     "name": "stdout",
     "output_type": "stream",
     "text": [
      "Predicted good joins fraction: 0.00855659980361902\n",
      "Predicted good joins fraction: 0.009054895302773062\n",
      "Predicted good joins fraction: 0.007138777841233581\n"
     ]
    },
    {
     "name": "stderr",
     "output_type": "stream",
     "text": [
      " 36%|███▋      | 727/2000 [06:05<09:12,  2.30it/s]"
     ]
    },
    {
     "name": "stdout",
     "output_type": "stream",
     "text": [
      "Predicted good joins fraction: 0.006902502157031924\n",
      "Predicted good joins fraction: 0.0076744859542426875\n",
      "Predicted good joins fraction: 0.004961330804027433\n"
     ]
    },
    {
     "name": "stderr",
     "output_type": "stream",
     "text": [
      " 37%|███▋      | 733/2000 [06:06<09:05,  2.32it/s]"
     ]
    },
    {
     "name": "stdout",
     "output_type": "stream",
     "text": [
      "Predicted good joins fraction: 0.005572664613579704\n",
      "Predicted good joins fraction: 0.007815956348621146\n",
      "Predicted good joins fraction: 0.010552913198573127\n"
     ]
    },
    {
     "name": "stderr",
     "output_type": "stream",
     "text": [
      " 36%|███▌      | 721/2000 [06:05<09:47,  2.18it/s]"
     ]
    },
    {
     "name": "stdout",
     "output_type": "stream",
     "text": [
      "Predicted good joins fraction: 0.006609583896650143\n",
      "Predicted good joins fraction: 0.005897474671102374\n",
      "Predicted good joins fraction: 0.0060845756008518406\n"
     ]
    },
    {
     "name": "stderr",
     "output_type": "stream",
     "text": [
      " 36%|███▌      | 724/2000 [06:06<07:28,  2.85it/s]"
     ]
    },
    {
     "name": "stdout",
     "output_type": "stream",
     "text": [
      "Predicted good joins fraction: 0.006427915518824609\n",
      "Predicted good joins fraction: 0.0038508934072704866\n",
      "Predicted good joins fraction: 0.00463893613731251\n"
     ]
    },
    {
     "name": "stderr",
     "output_type": "stream",
     "text": [
      " 36%|███▌      | 722/2000 [06:06<10:08,  2.10it/s]"
     ]
    },
    {
     "name": "stdout",
     "output_type": "stream",
     "text": [
      "Predicted good joins fraction: 0.006524778623582414\n",
      "Predicted good joins fraction: 0.004847537138389367\n",
      "Predicted good joins fraction: 0.006599622878692646\n"
     ]
    },
    {
     "name": "stderr",
     "output_type": "stream",
     "text": [
      " 38%|███▊      | 755/2000 [06:07<12:01,  1.73it/s]"
     ]
    },
    {
     "name": "stdout",
     "output_type": "stream",
     "text": [
      "Predicted good joins fraction: 0.005536222714330908\n",
      "Predicted good joins fraction: 0.004930809607125815\n",
      "Predicted good joins fraction: 0.004635549872122762\n"
     ]
    },
    {
     "name": "stderr",
     "output_type": "stream",
     "text": [
      " 37%|███▋      | 732/2000 [06:08<10:24,  2.03it/s]"
     ]
    },
    {
     "name": "stdout",
     "output_type": "stream",
     "text": [
      "Predicted good joins fraction: 0.004335956319254858\n",
      "Predicted good joins fraction: 0.004516129032258065\n",
      "Predicted good joins fraction: 0.005670771224886585\n"
     ]
    },
    {
     "name": "stderr",
     "output_type": "stream",
     "text": [
      " 36%|███▌      | 724/2000 [06:07<09:21,  2.27it/s]"
     ]
    },
    {
     "name": "stdout",
     "output_type": "stream",
     "text": [
      "Predicted good joins fraction: 0.0021182988430829396\n",
      "Predicted good joins fraction: 0.003919007184846506\n",
      "Predicted good joins fraction: 0.004754098360655738\n"
     ]
    },
    {
     "name": "stderr",
     "output_type": "stream",
     "text": [
      " 36%|███▌      | 723/2000 [06:07<08:57,  2.37it/s]"
     ]
    },
    {
     "name": "stdout",
     "output_type": "stream",
     "text": [
      "Predicted good joins fraction: 0.004282655246252677\n",
      "Predicted good joins fraction: 0.004301075268817204\n",
      "Predicted good joins fraction: 0.004485794982555242\n"
     ]
    },
    {
     "name": "stderr",
     "output_type": "stream",
     "text": [
      " 36%|███▋      | 725/2000 [06:07<09:22,  2.27it/s]"
     ]
    },
    {
     "name": "stdout",
     "output_type": "stream",
     "text": [
      "Predicted good joins fraction: 0.0043391188251001335\n",
      "Predicted good joins fraction: 0.003519946362722092\n",
      "Predicted good joins fraction: 0.002859545836837679\n"
     ]
    },
    {
     "name": "stderr",
     "output_type": "stream",
     "text": [
      " 36%|███▋      | 725/2000 [06:07<10:30,  2.02it/s]"
     ]
    },
    {
     "name": "stdout",
     "output_type": "stream",
     "text": [
      "Predicted good joins fraction: 0.004554655870445344\n",
      "Predicted good joins fraction: 0.004236570072869005\n",
      "Predicted good joins fraction: 0.0028931245745405037\n"
     ]
    },
    {
     "name": "stderr",
     "output_type": "stream",
     "text": [
      " 36%|███▋      | 726/2000 [06:08<10:13,  2.08it/s]"
     ]
    },
    {
     "name": "stdout",
     "output_type": "stream",
     "text": [
      "Predicted good joins fraction: 0.004266939750810718\n",
      "Predicted good joins fraction: 0.004456633527596846\n",
      "Predicted good joins fraction: 0.003443526170798898\n"
     ]
    },
    {
     "name": "stderr",
     "output_type": "stream",
     "text": [
      " 37%|███▋      | 738/2000 [06:09<08:35,  2.45it/s]"
     ]
    },
    {
     "name": "stdout",
     "output_type": "stream",
     "text": [
      "Predicted good joins fraction: 0.0017277125086385626\n",
      "Predicted good joins fraction: 0.00380754586362063\n",
      "Predicted good joins fraction: 0.00330090340514246\n"
     ]
    },
    {
     "name": "stderr",
     "output_type": "stream",
     "text": [
      " 36%|███▋      | 727/2000 [06:08<10:10,  2.09it/s]"
     ]
    },
    {
     "name": "stdout",
     "output_type": "stream",
     "text": [
      "Predicted good joins fraction: 0.003660449712393237\n",
      "Predicted good joins fraction: 0.00244926522043387\n",
      "Predicted good joins fraction: 0.004209049456331112\n"
     ]
    },
    {
     "name": "stderr",
     "output_type": "stream",
     "text": [
      " 36%|███▋      | 727/2000 [06:09<09:02,  2.35it/s]"
     ]
    },
    {
     "name": "stdout",
     "output_type": "stream",
     "text": [
      "Predicted good joins fraction: 0.0033462486791123636\n",
      "Predicted good joins fraction: 0.0026506449902809685\n",
      "Predicted good joins fraction: 0.002126151665485471\n",
      "Predicted good joins fraction: 0.0035511363636363635\n",
      "Predicted good joins fraction: 0.0024946543121881683\n",
      "Predicted good joins fraction: 0.002500893176134334\n"
     ]
    },
    {
     "name": "stderr",
     "output_type": "stream",
     "text": [
      " 38%|███▊      | 762/2000 [06:10<08:36,  2.40it/s]"
     ]
    },
    {
     "name": "stdout",
     "output_type": "stream",
     "text": [
      "Predicted good joins fraction: 0.002507163323782235\n",
      "Predicted good joins fraction: 0.002872531418312388\n",
      "Predicted good joins fraction: 0.003961109110550955\n"
     ]
    },
    {
     "name": "stderr",
     "output_type": "stream",
     "text": [
      " 37%|███▋      | 737/2000 [06:09<08:38,  2.44it/s]"
     ]
    },
    {
     "name": "stdout",
     "output_type": "stream",
     "text": [
      "Predicted good joins fraction: 0.0025307302964569776\n",
      "Predicted good joins fraction: 0.003443276549474447\n",
      "Predicted good joins fraction: 0.002182214948172395\n"
     ]
    },
    {
     "name": "stderr",
     "output_type": "stream",
     "text": [
      " 36%|███▋      | 729/2000 [06:09<10:33,  2.01it/s]"
     ]
    },
    {
     "name": "stdout",
     "output_type": "stream",
     "text": [
      "Predicted good joins fraction: 0.002369236376890833\n",
      "Predicted good joins fraction: 0.003288271830471319\n",
      "Predicted good joins fraction: 0.0021994134897360706\n"
     ]
    },
    {
     "name": "stderr",
     "output_type": "stream",
     "text": [
      " 37%|███▋      | 734/2000 [06:10<08:22,  2.52it/s]"
     ]
    },
    {
     "name": "stdout",
     "output_type": "stream",
     "text": [
      "Predicted good joins fraction: 0.0016531961792799412\n",
      "Predicted good joins fraction: 0.0020239190432382705\n",
      "Predicted good joins fraction: 0.0035029498525073746\n"
     ]
    },
    {
     "name": "stderr",
     "output_type": "stream",
     "text": [
      " 36%|███▋      | 730/2000 [06:10<10:08,  2.09it/s]"
     ]
    },
    {
     "name": "stdout",
     "output_type": "stream",
     "text": [
      "Predicted good joins fraction: 0.0018501387604070306\n",
      "Predicted good joins fraction: 0.004077849860982391\n",
      "Predicted good joins fraction: 0.0018611576400521124\n"
     ]
    },
    {
     "name": "stderr",
     "output_type": "stream",
     "text": [
      " 37%|███▋      | 735/2000 [06:11<08:25,  2.50it/s]"
     ]
    },
    {
     "name": "stdout",
     "output_type": "stream",
     "text": [
      "Predicted good joins fraction: 0.0013052396046988625\n",
      "Predicted good joins fraction: 0.0020537714712471995\n",
      "Predicted good joins fraction: 0.0026192703461178674\n"
     ]
    },
    {
     "name": "stderr",
     "output_type": "stream",
     "text": [
      " 37%|███▋      | 731/2000 [06:10<09:56,  2.13it/s]"
     ]
    },
    {
     "name": "stdout",
     "output_type": "stream",
     "text": [
      "Predicted good joins fraction: 0.0030013130744700805\n",
      "Predicted good joins fraction: 0.0037629350893697085\n",
      "Predicted good joins fraction: 0.0033994334277620396\n"
     ]
    },
    {
     "name": "stderr",
     "output_type": "stream",
     "text": [
      " 38%|███▊      | 766/2000 [06:12<08:19,  2.47it/s]"
     ]
    },
    {
     "name": "stdout",
     "output_type": "stream",
     "text": [
      "Predicted good joins fraction: 0.0028425241614553724\n",
      "Predicted good joins fraction: 0.0028506271379703536\n",
      "Predicted good joins fraction: 0.002858776443682104\n"
     ]
    },
    {
     "name": "stderr",
     "output_type": "stream",
     "text": [
      " 37%|███▋      | 741/2000 [06:12<09:43,  2.16it/s]"
     ]
    },
    {
     "name": "stdout",
     "output_type": "stream",
     "text": [
      "Predicted good joins fraction: 0.0015290519877675841\n",
      "Predicted good joins fraction: 0.0032542113323124045\n",
      "Predicted good joins fraction: 0.0019204916458613404\n"
     ]
    },
    {
     "name": "stderr",
     "output_type": "stream",
     "text": [
      " 38%|███▊      | 767/2000 [06:12<08:26,  2.43it/s]"
     ]
    },
    {
     "name": "stdout",
     "output_type": "stream",
     "text": [
      "Predicted good joins fraction: 0.00173176832788147\n",
      "Predicted good joins fraction: 0.0026985350809560524\n",
      "Predicted good joins fraction: 0.0015461925009663702\n"
     ]
    },
    {
     "name": "stderr",
     "output_type": "stream",
     "text": [
      " 37%|███▋      | 735/2000 [06:12<08:30,  2.48it/s]"
     ]
    },
    {
     "name": "stdout",
     "output_type": "stream",
     "text": [
      "Predicted good joins fraction: 0.0029036004645760743\n",
      "Predicted good joins fraction: 0.0021355076684139\n",
      "Final size of synthetic data: 3700\n"
     ]
    },
    {
     "name": "stderr",
     "output_type": "stream",
     "text": [
      " 40%|███▉      | 799/2000 [06:44<10:07,  1.98it/s]\n",
      " 42%|████▏     | 840/2000 [06:45<07:33,  2.56it/s]"
     ]
    },
    {
     "name": "stdout",
     "output_type": "stream",
     "text": [
      "Predicted good joins fraction: 0.01911764705882353\n",
      "Predicted good joins fraction: 0.020989505247376312\n"
     ]
    },
    {
     "name": "stderr",
     "output_type": "stream",
     "text": [
      " 41%|████      | 811/2000 [06:44<08:11,  2.42it/s]"
     ]
    },
    {
     "name": "stdout",
     "output_type": "stream",
     "text": [
      "Predicted good joins fraction: 0.017316527270585462\n",
      "Predicted good joins fraction: 0.016183169503716135\n"
     ]
    },
    {
     "name": "stderr",
     "output_type": "stream",
     "text": [
      " 41%|████      | 818/2000 [06:45<07:55,  2.48it/s]"
     ]
    },
    {
     "name": "stdout",
     "output_type": "stream",
     "text": [
      "Predicted good joins fraction: 0.014134275618374558\n",
      "Predicted good joins fraction: 0.01557285873192436\n",
      "Predicted good joins fraction: 0.013308223477715004\n",
      "Predicted good joins fraction: 0.013487721084107392\n"
     ]
    },
    {
     "name": "stderr",
     "output_type": "stream",
     "text": [
      " 42%|████▏     | 842/2000 [06:46<07:32,  2.56it/s]"
     ]
    },
    {
     "name": "stdout",
     "output_type": "stream",
     "text": [
      "Predicted good joins fraction: 0.013027215271507804\n",
      "Predicted good joins fraction: 0.010585467851542081\n"
     ]
    },
    {
     "name": "stderr",
     "output_type": "stream",
     "text": [
      " 41%|████      | 813/2000 [06:45<08:00,  2.47it/s]"
     ]
    },
    {
     "name": "stdout",
     "output_type": "stream",
     "text": [
      "Predicted good joins fraction: 0.012019548276317528\n",
      "Predicted good joins fraction: 0.010561497326203208\n"
     ]
    },
    {
     "name": "stderr",
     "output_type": "stream",
     "text": [
      " 41%|████      | 820/2000 [06:46<07:49,  2.51it/s]"
     ]
    },
    {
     "name": "stdout",
     "output_type": "stream",
     "text": [
      "Predicted good joins fraction: 0.009593298202945548\n",
      "Predicted good joins fraction: 0.007639836289222374\n"
     ]
    },
    {
     "name": "stderr",
     "output_type": "stream",
     "text": [
      " 40%|████      | 800/2000 [06:45<26:29,  1.32s/it]"
     ]
    },
    {
     "name": "stdout",
     "output_type": "stream",
     "text": [
      "Predicted good joins fraction: 0.010310695628265053\n",
      "Predicted good joins fraction: 0.007917766356438394\n",
      "Predicted good joins fraction: 0.008821058527023242\n",
      "Predicted good joins fraction: 0.009040824975278994\n"
     ]
    },
    {
     "name": "stderr",
     "output_type": "stream",
     "text": [
      " 41%|████      | 815/2000 [06:46<07:52,  2.51it/s]"
     ]
    },
    {
     "name": "stdout",
     "output_type": "stream",
     "text": [
      "Predicted good joins fraction: 0.007840342124019958\n",
      "Predicted good joins fraction: 0.010057471264367816\n",
      "Predicted good joins fraction: 0.0059506531204644416\n"
     ]
    },
    {
     "name": "stderr",
     "output_type": "stream",
     "text": [
      " 40%|████      | 800/2000 [06:46<29:53,  1.49s/it]"
     ]
    },
    {
     "name": "stdout",
     "output_type": "stream",
     "text": [
      "Predicted good joins fraction: 0.009198423127463863\n",
      "Predicted good joins fraction: 0.005747126436781609\n",
      "Predicted good joins fraction: 0.008003557136505114\n"
     ]
    },
    {
     "name": "stderr",
     "output_type": "stream",
     "text": [
      " 42%|████▏     | 846/2000 [06:47<07:28,  2.57it/s]"
     ]
    },
    {
     "name": "stdout",
     "output_type": "stream",
     "text": [
      "Predicted good joins fraction: 0.007321081727177648\n",
      "Predicted good joins fraction: 0.007224563515954244\n",
      "Predicted good joins fraction: 0.006973923590054579\n"
     ]
    },
    {
     "name": "stderr",
     "output_type": "stream",
     "text": [
      " 40%|███▉      | 799/2000 [06:46<10:10,  1.97it/s]\n",
      " 40%|████      | 802/2000 [06:47<18:32,  1.08it/s]"
     ]
    },
    {
     "name": "stdout",
     "output_type": "stream",
     "text": [
      "Predicted good joins fraction: 0.007022900763358778\n",
      "Predicted good joins fraction: 0.022171945701357467\n",
      "Predicted good joins fraction: 0.005535055350553505\n",
      "Predicted good joins fraction: 0.02163350300786673\n",
      "Predicted good joins fraction: 0.005875077303648732\n"
     ]
    },
    {
     "name": "stderr",
     "output_type": "stream",
     "text": [
      " 41%|████      | 812/2000 [06:48<08:03,  2.46it/s]"
     ]
    },
    {
     "name": "stdout",
     "output_type": "stream",
     "text": [
      "Predicted good joins fraction: 0.006687402799377916\n",
      "Predicted good joins fraction: 0.016081352725552795\n",
      "Predicted good joins fraction: 0.006732425238766244\n",
      "Predicted good joins fraction: 0.01682490085326283\n",
      "Predicted good joins fraction: 0.004728877679697352\n"
     ]
    },
    {
     "name": "stderr",
     "output_type": "stream",
     "text": [
      " 41%|████▏     | 825/2000 [06:48<07:48,  2.51it/s]"
     ]
    },
    {
     "name": "stdout",
     "output_type": "stream",
     "text": [
      "Predicted good joins fraction: 0.01699058794768366\n",
      "Predicted good joins fraction: 0.005543237250554324\n",
      "Predicted good joins fraction: 0.016040785874160655\n",
      "Predicted good joins fraction: 0.004937091893613633\n"
     ]
    },
    {
     "name": "stderr",
     "output_type": "stream",
     "text": [
      " 40%|████      | 807/2000 [06:47<07:42,  2.58it/s]"
     ]
    },
    {
     "name": "stdout",
     "output_type": "stream",
     "text": [
      "Predicted good joins fraction: 0.016681410337419437\n",
      "Predicted good joins fraction: 0.005441741357234315\n",
      "Predicted good joins fraction: 0.013751445829584886\n",
      "Predicted good joins fraction: 0.005793369810106212\n"
     ]
    },
    {
     "name": "stderr",
     "output_type": "stream",
     "text": [
      " 41%|████      | 820/2000 [06:48<07:44,  2.54it/s]"
     ]
    },
    {
     "name": "stdout",
     "output_type": "stream",
     "text": [
      "Predicted good joins fraction: 0.005179669796050502\n",
      "Predicted good joins fraction: 0.012118842845973418\n",
      "Predicted good joins fraction: 0.004393101204035145\n",
      "Predicted good joins fraction: 0.011212241129138637\n",
      "Predicted good joins fraction: 0.006863866644876614\n",
      "Predicted good joins fraction: 0.012540021344717182\n",
      "Predicted good joins fraction: 0.004113871976304097\n",
      "Predicted good joins fraction: 0.011078087003512564\n",
      "Predicted good joins fraction: 0.005287508261731659\n"
     ]
    },
    {
     "name": "stderr",
     "output_type": "stream",
     "text": [
      " 41%|████      | 821/2000 [06:48<07:40,  2.56it/s]"
     ]
    },
    {
     "name": "stdout",
     "output_type": "stream",
     "text": [
      "Predicted good joins fraction: 0.011748633879781421\n",
      "Predicted good joins fraction: 0.004651162790697674\n",
      "Predicted good joins fraction: 0.0026702269692923898\n",
      "Predicted good joins fraction: 0.011611833010782417\n",
      "Predicted good joins fraction: 0.007028112449799197\n"
     ]
    },
    {
     "name": "stderr",
     "output_type": "stream",
     "text": [
      " 40%|████      | 810/2000 [06:48<06:49,  2.90it/s]"
     ]
    },
    {
     "name": "stdout",
     "output_type": "stream",
     "text": [
      "Predicted good joins fraction: 0.011608391608391609\n",
      "Predicted good joins fraction: 0.005729693292888439\n",
      "Predicted good joins fraction: 0.010471204188481676\n",
      "Predicted good joins fraction: 0.004915254237288135\n",
      "Predicted good joins fraction: 0.01043901043901044\n"
     ]
    },
    {
     "name": "stderr",
     "output_type": "stream",
     "text": [
      " 41%|████      | 822/2000 [06:49<07:41,  2.55it/s]"
     ]
    },
    {
     "name": "stdout",
     "output_type": "stream",
     "text": [
      "Predicted good joins fraction: 0.005961505706012604\n",
      "Predicted good joins fraction: 0.009682080924855492\n",
      "Predicted good joins fraction: 0.005140507196710075\n",
      "Predicted good joins fraction: 0.009922661608054866\n",
      "Predicted good joins fraction: 0.003444712366517396\n",
      "Predicted good joins fraction: 0.007369196757553427\n",
      "Predicted good joins fraction: 0.0032837884548911167\n",
      "Predicted good joins fraction: 0.008760207869339273\n",
      "Predicted good joins fraction: 0.00468181029998266\n",
      "Predicted good joins fraction: 0.004529616724738676\n",
      "Predicted good joins fraction: 0.008837627321749551\n"
     ]
    },
    {
     "name": "stderr",
     "output_type": "stream",
     "text": [
      " 40%|████      | 808/2000 [06:49<08:52,  2.24it/s]"
     ]
    },
    {
     "name": "stdout",
     "output_type": "stream",
     "text": [
      "Predicted good joins fraction: 0.005075253762688134\n",
      "Predicted good joins fraction: 0.005440531963125284\n",
      "Predicted good joins fraction: 0.0040457343887423045\n",
      "Predicted good joins fraction: 0.006685913994833612\n",
      "Predicted good joins fraction: 0.003355704697986577\n"
     ]
    },
    {
     "name": "stderr",
     "output_type": "stream",
     "text": [
      " 41%|████      | 824/2000 [06:49<07:37,  2.57it/s]"
     ]
    },
    {
     "name": "stdout",
     "output_type": "stream",
     "text": [
      "Predicted good joins fraction: 0.00764876854826373\n",
      "Predicted good joins fraction: 0.003189792663476874\n",
      "Predicted good joins fraction: 0.008170186526899954\n",
      "Predicted good joins fraction: 0.0044444444444444444\n",
      "Predicted good joins fraction: 0.007460366801367734\n",
      "Predicted good joins fraction: 0.0035714285714285713\n",
      "Predicted good joins fraction: 0.007829627309740057\n",
      "Predicted good joins fraction: 0.004121863799283154\n",
      "Predicted good joins fraction: 0.005208333333333333\n",
      "Predicted good joins fraction: 0.002879251394637394\n"
     ]
    },
    {
     "name": "stderr",
     "output_type": "stream",
     "text": [
      " 41%|████      | 817/2000 [06:49<07:35,  2.59it/s]"
     ]
    },
    {
     "name": "stdout",
     "output_type": "stream",
     "text": [
      "Predicted good joins fraction: 0.009201967317150563\n",
      "Predicted good joins fraction: 0.002346146904890814\n",
      "Predicted good joins fraction: 0.004643714971977582\n",
      "Predicted good joins fraction: 0.003256150506512301\n",
      "Predicted good joins fraction: 0.003266787658802178\n",
      "Predicted good joins fraction: 0.006595881595881596\n"
     ]
    },
    {
     "name": "stderr",
     "output_type": "stream",
     "text": [
      " 40%|████      | 810/2000 [06:50<08:08,  2.43it/s]"
     ]
    },
    {
     "name": "stdout",
     "output_type": "stream",
     "text": [
      "Predicted good joins fraction: 0.004187909686817188\n",
      "Predicted good joins fraction: 0.00631578947368421\n",
      "Predicted good joins fraction: 0.0031084293289449626\n",
      "Predicted good joins fraction: 0.006029986962190352\n",
      "Predicted good joins fraction: 0.004035216434336023\n",
      "Predicted good joins fraction: 0.0052467617642236435\n"
     ]
    },
    {
     "name": "stderr",
     "output_type": "stream",
     "text": [
      " 42%|████▏     | 832/2000 [06:51<08:33,  2.27it/s]"
     ]
    },
    {
     "name": "stdout",
     "output_type": "stream",
     "text": [
      "Predicted good joins fraction: 0.003683241252302026\n",
      "Predicted good joins fraction: 0.00510960936212296\n",
      "Predicted good joins fraction: 0.0022181146025878\n",
      "Predicted good joins fraction: 0.0044731610337972166\n",
      "Predicted good joins fraction: 0.0029640607632456465\n"
     ]
    },
    {
     "name": "stderr",
     "output_type": "stream",
     "text": [
      " 41%|████      | 819/2000 [06:50<07:35,  2.59it/s]"
     ]
    },
    {
     "name": "stdout",
     "output_type": "stream",
     "text": [
      "Predicted good joins fraction: 0.006656681644200366\n",
      "Predicted good joins fraction: 0.0033444816053511705\n",
      "Predicted good joins fraction: 0.005696096498575976\n",
      "Predicted good joins fraction: 0.003169276659209545\n",
      "Predicted good joins fraction: 0.006402695871946083\n",
      "Predicted good joins fraction: 0.002618290630259959\n"
     ]
    },
    {
     "name": "stderr",
     "output_type": "stream",
     "text": [
      " 41%|████      | 812/2000 [06:50<07:55,  2.50it/s]"
     ]
    },
    {
     "name": "stdout",
     "output_type": "stream",
     "text": [
      "Predicted good joins fraction: 0.0032219772765813125\n",
      "Predicted good joins fraction: 0.0035627226701668855\n",
      "Predicted good joins fraction: 0.001881821603312006\n",
      "Predicted good joins fraction: 0.005273902687989112\n",
      "Predicted good joins fraction: 0.003393665158371041\n",
      "Predicted good joins fraction: 0.005814947836497349\n"
     ]
    },
    {
     "name": "stderr",
     "output_type": "stream",
     "text": [
      " 41%|████      | 823/2000 [06:52<07:19,  2.68it/s]"
     ]
    },
    {
     "name": "stdout",
     "output_type": "stream",
     "text": [
      "Predicted good joins fraction: 0.003216042376087779\n",
      "Predicted good joins fraction: 0.004988818166179253\n",
      "Predicted good joins fraction: 0.0022774720060732587\n",
      "Predicted good joins fraction: 0.004495159059474412\n",
      "Predicted good joins fraction: 0.0024728932851436182\n",
      "Predicted good joins fraction: 0.004862799583188607\n"
     ]
    },
    {
     "name": "stderr",
     "output_type": "stream",
     "text": [
      " 41%|████      | 821/2000 [06:51<07:41,  2.56it/s]"
     ]
    },
    {
     "name": "stdout",
     "output_type": "stream",
     "text": [
      "Predicted good joins fraction: 0.002860411899313501\n",
      "Predicted good joins fraction: 0.006631762652705061\n",
      "Predicted good joins fraction: 0.0024861350162554982\n",
      "Predicted good joins fraction: 0.004392129304286718\n",
      "Predicted good joins fraction: 0.0023006134969325155\n",
      "Predicted good joins fraction: 0.0049408858302452795\n"
     ]
    },
    {
     "name": "stderr",
     "output_type": "stream",
     "text": [
      " 41%|████      | 814/2000 [06:51<07:52,  2.51it/s]"
     ]
    },
    {
     "name": "stdout",
     "output_type": "stream",
     "text": [
      "Predicted good joins fraction: 0.0015372790161414297\n",
      "Predicted good joins fraction: 0.005320092214931725\n",
      "Predicted good joins fraction: 0.0026943802925327174\n",
      "Predicted good joins fraction: 0.004278837582456766\n",
      "Predicted good joins fraction: 0.0028946352759552296\n"
     ]
    },
    {
     "name": "stderr",
     "output_type": "stream",
     "text": [
      " 42%|████▏     | 830/2000 [06:52<07:39,  2.54it/s]"
     ]
    },
    {
     "name": "stdout",
     "output_type": "stream",
     "text": [
      "Predicted good joins fraction: 0.005371530886302597\n",
      "Predicted good joins fraction: 0.0034836462163731373\n",
      "Predicted good joins fraction: 0.00288028802880288\n",
      "Predicted good joins fraction: 0.0019421246844047388\n",
      "Predicted good joins fraction: 0.003791298068243365\n",
      "Predicted good joins fraction: 0.0031134461957579296\n"
     ]
    },
    {
     "name": "stderr",
     "output_type": "stream",
     "text": [
      " 41%|████      | 815/2000 [06:52<07:49,  2.52it/s]"
     ]
    },
    {
     "name": "stdout",
     "output_type": "stream",
     "text": [
      "Predicted good joins fraction: 0.0061616527727437476\n",
      "Predicted good joins fraction: 0.0027327737653718522\n",
      "Predicted good joins fraction: 0.003099927060539752\n",
      "Predicted good joins fraction: 0.002935995302407516\n",
      "Predicted good joins fraction: 0.0032924821657216025\n",
      "Predicted good joins fraction: 0.0019630938358853552\n"
     ]
    },
    {
     "name": "stderr",
     "output_type": "stream",
     "text": [
      " 41%|████▏     | 826/2000 [06:53<07:30,  2.61it/s]"
     ]
    },
    {
     "name": "stdout",
     "output_type": "stream",
     "text": [
      "Predicted good joins fraction: 0.003119838502477519\n",
      "Predicted good joins fraction: 0.003737214791502754\n",
      "Predicted good joins fraction: 0.004418262150220913\n",
      "Predicted good joins fraction: 0.0031589338598223098\n",
      "Predicted good joins fraction: 0.003143491124260355\n",
      "Predicted good joins fraction: 0.0025747672806496337\n"
     ]
    },
    {
     "name": "stderr",
     "output_type": "stream",
     "text": [
      " 43%|████▎     | 857/2000 [06:53<06:31,  2.92it/s]"
     ]
    },
    {
     "name": "stdout",
     "output_type": "stream",
     "text": [
      "Predicted good joins fraction: 0.001854943424225561\n",
      "Predicted good joins fraction: 0.0017871326449563146\n",
      "Predicted good joins fraction: 0.003716781267422412\n",
      "Predicted good joins fraction: 0.002188183807439825\n",
      "Predicted good joins fraction: 0.003544114903935833\n",
      "Predicted good joins fraction: 0.0017942583732057417\n"
     ]
    },
    {
     "name": "stderr",
     "output_type": "stream",
     "text": [
      " 41%|████      | 817/2000 [06:52<07:54,  2.49it/s]"
     ]
    },
    {
     "name": "stdout",
     "output_type": "stream",
     "text": [
      "Predicted good joins fraction: 0.0020591538749532012\n",
      "Predicted good joins fraction: 0.0025963650888755742\n",
      "Predicted good joins fraction: 0.002603123748498198\n",
      "Predicted good joins fraction: 0.0039392234102419805\n",
      "Predicted good joins fraction: 0.0024091547881951417\n",
      "Final size of synthetic data: 3871\n",
      "Predicted good joins fraction: 0.002071563088512241\n"
     ]
    },
    {
     "name": "stderr",
     "output_type": "stream",
     "text": [
      " 42%|████▏     | 833/2000 [06:53<07:34,  2.57it/s]"
     ]
    },
    {
     "name": "stdout",
     "output_type": "stream",
     "text": [
      "Predicted good joins fraction: 0.0037742970371768257\n",
      "Predicted good joins fraction: 0.003978026141314643\n",
      "Predicted good joins fraction: 0.002282236591860023\n"
     ]
    },
    {
     "name": "stderr",
     "output_type": "stream",
     "text": [
      " 41%|████      | 818/2000 [06:53<08:08,  2.42it/s]"
     ]
    },
    {
     "name": "stdout",
     "output_type": "stream",
     "text": [
      "Predicted good joins fraction: 0.0041936713686618375\n",
      "Predicted good joins fraction: 0.002679938744257274\n",
      "Predicted good joins fraction: 0.002687140115163148\n"
     ]
    },
    {
     "name": "stderr",
     "output_type": "stream",
     "text": [
      " 42%|████▏     | 840/2000 [06:54<08:01,  2.41it/s]"
     ]
    },
    {
     "name": "stdout",
     "output_type": "stream",
     "text": [
      "Predicted good joins fraction: 0.003849114703618168\n",
      "Predicted good joins fraction: 0.0032843894899536323\n",
      "Predicted good joins fraction: 0.0036828842798992054\n"
     ]
    },
    {
     "name": "stderr",
     "output_type": "stream",
     "text": [
      " 42%|████▏     | 835/2000 [06:54<07:31,  2.58it/s]"
     ]
    },
    {
     "name": "stdout",
     "output_type": "stream",
     "text": [
      "Predicted good joins fraction: 0.0033073929961089494\n",
      "Predicted good joins fraction: 0.004684755026351747\n",
      "Predicted good joins fraction: 0.002353402627966268\n"
     ]
    },
    {
     "name": "stderr",
     "output_type": "stream",
     "text": [
      " 42%|████▏     | 841/2000 [06:54<07:54,  2.45it/s]"
     ]
    },
    {
     "name": "stdout",
     "output_type": "stream",
     "text": [
      "Predicted good joins fraction: 0.0033418517790446234\n",
      "Predicted good joins fraction: 0.0029585798816568047\n",
      "Predicted good joins fraction: 0.003758654797230465\n"
     ]
    },
    {
     "name": "stderr",
     "output_type": "stream",
     "text": [
      " 41%|████▏     | 825/2000 [06:54<07:10,  2.73it/s]"
     ]
    },
    {
     "name": "stdout",
     "output_type": "stream",
     "text": [
      "Predicted good joins fraction: 0.0041699761715647335\n",
      "Predicted good joins fraction: 0.0023928215353938185\n",
      "Predicted good joins fraction: 0.002598440935438737\n"
     ]
    },
    {
     "name": "stderr",
     "output_type": "stream",
     "text": [
      " 41%|████▏     | 826/2000 [06:54<06:55,  2.83it/s]"
     ]
    },
    {
     "name": "stdout",
     "output_type": "stream",
     "text": [
      "Predicted good joins fraction: 0.004008016032064128\n",
      "Predicted good joins fraction: 0.0028169014084507044\n",
      "Predicted good joins fraction: 0.003026634382566586\n"
     ]
    },
    {
     "name": "stderr",
     "output_type": "stream",
     "text": [
      " 41%|████▏     | 829/2000 [06:54<07:46,  2.51it/s]"
     ]
    },
    {
     "name": "stdout",
     "output_type": "stream",
     "text": [
      "Predicted good joins fraction: 0.0032382108884841127\n",
      "Predicted good joins fraction: 0.002233502538071066\n",
      "Predicted good joins fraction: 0.002849002849002849\n"
     ]
    },
    {
     "name": "stderr",
     "output_type": "stream",
     "text": [
      " 42%|████▏     | 838/2000 [06:55<07:32,  2.57it/s]"
     ]
    },
    {
     "name": "stdout",
     "output_type": "stream",
     "text": [
      "Predicted good joins fraction: 0.003673469387755102\n",
      "Predicted good joins fraction: 0.003482179434657927\n",
      "Predicted good joins fraction: 0.0022610483042137717\n",
      "Predicted good joins fraction: 0.003296250515039143\n",
      "Predicted good joins fraction: 0.0022736668044646548\n",
      "Predicted good joins fraction: 0.0022788481458462812\n"
     ]
    },
    {
     "name": "stderr",
     "output_type": "stream",
     "text": [
      " 41%|████      | 823/2000 [06:55<07:41,  2.55it/s]"
     ]
    },
    {
     "name": "stdout",
     "output_type": "stream",
     "text": [
      "Predicted good joins fraction: 0.0024916943521594683\n",
      "Predicted good joins fraction: 0.0035387177352206494\n",
      "Predicted good joins fraction: 0.0027156883225402132\n"
     ]
    },
    {
     "name": "stderr",
     "output_type": "stream",
     "text": [
      " 42%|████▏     | 831/2000 [06:55<07:39,  2.54it/s]"
     ]
    },
    {
     "name": "stdout",
     "output_type": "stream",
     "text": [
      "Predicted good joins fraction: 0.0025136154168412233\n",
      "Final size of synthetic data: 4078\n"
     ]
    },
    {
     "name": "stderr",
     "output_type": "stream",
     "text": [
      " 42%|████▏     | 849/2000 [07:06<09:38,  1.99it/s]\n",
      " 43%|████▎     | 857/2000 [07:07<08:20,  2.28it/s]"
     ]
    },
    {
     "name": "stdout",
     "output_type": "stream",
     "text": [
      "Predicted good joins fraction: 0.03800904977375565\n",
      "Predicted good joins fraction: 0.03316086547507056\n",
      "Predicted good joins fraction: 0.02627098029676478\n",
      "Predicted good joins fraction: 0.025106170372220835\n"
     ]
    },
    {
     "name": "stderr",
     "output_type": "stream",
     "text": [
      " 43%|████▎     | 858/2000 [07:07<07:50,  2.43it/s]"
     ]
    },
    {
     "name": "stdout",
     "output_type": "stream",
     "text": [
      "Predicted good joins fraction: 0.0242152466367713\n",
      "Predicted good joins fraction: 0.02271533613445378\n",
      "Predicted good joins fraction: 0.018540910923014912\n",
      "Predicted good joins fraction: 0.01943874058863792\n"
     ]
    },
    {
     "name": "stderr",
     "output_type": "stream",
     "text": [
      " 43%|████▎     | 859/2000 [07:08<07:32,  2.52it/s]"
     ]
    },
    {
     "name": "stdout",
     "output_type": "stream",
     "text": [
      "Predicted good joins fraction: 0.018148820326678767\n",
      "Predicted good joins fraction: 0.01620929901891085\n",
      "Predicted good joins fraction: 0.014019366960543431\n"
     ]
    },
    {
     "name": "stderr",
     "output_type": "stream",
     "text": [
      " 43%|████▎     | 860/2000 [07:08<07:21,  2.58it/s]"
     ]
    },
    {
     "name": "stdout",
     "output_type": "stream",
     "text": [
      "Predicted good joins fraction: 0.01304602755790091\n",
      "Predicted good joins fraction: 0.012475865141838705\n",
      "Predicted good joins fraction: 0.013836667167995188\n"
     ]
    },
    {
     "name": "stderr",
     "output_type": "stream",
     "text": [
      " 43%|████▎     | 861/2000 [07:08<07:13,  2.62it/s]"
     ]
    },
    {
     "name": "stdout",
     "output_type": "stream",
     "text": [
      "Predicted good joins fraction: 0.013115754155863963\n",
      "Predicted good joins fraction: 0.013908205841446454\n",
      "Predicted good joins fraction: 0.01206707412631249\n",
      "Predicted good joins fraction: 0.010310913705583756\n",
      "Predicted good joins fraction: 0.010258054175348613\n",
      "Predicted good joins fraction: 0.011012145748987854\n"
     ]
    },
    {
     "name": "stderr",
     "output_type": "stream",
     "text": [
      " 43%|████▎     | 862/2000 [07:09<07:12,  2.63it/s]"
     ]
    },
    {
     "name": "stdout",
     "output_type": "stream",
     "text": [
      "Predicted good joins fraction: 0.008514819060094972\n",
      "Predicted good joins fraction: 0.009413707679603634\n",
      "Predicted good joins fraction: 0.009836612204068023\n"
     ]
    },
    {
     "name": "stderr",
     "output_type": "stream",
     "text": [
      " 43%|████▎     | 863/2000 [07:09<07:09,  2.65it/s]"
     ]
    },
    {
     "name": "stdout",
     "output_type": "stream",
     "text": [
      "Predicted good joins fraction: 0.009260818319582422\n",
      "Predicted good joins fraction: 0.01070700203942896\n",
      "Predicted good joins fraction: 0.010479299089503522\n",
      "Predicted good joins fraction: 0.00798611111111111\n",
      "Predicted good joins fraction: 0.007000350017500875\n",
      "Predicted good joins fraction: 0.007402185407120197\n"
     ]
    },
    {
     "name": "stderr",
     "output_type": "stream",
     "text": [
      " 43%|████▎     | 864/2000 [07:09<07:05,  2.67it/s]"
     ]
    },
    {
     "name": "stdout",
     "output_type": "stream",
     "text": [
      "Predicted good joins fraction: 0.009410511363636364\n",
      "Predicted good joins fraction: 0.007348987273704965\n",
      "Predicted good joins fraction: 0.006861682918020947\n"
     ]
    },
    {
     "name": "stderr",
     "output_type": "stream",
     "text": [
      " 43%|████▎     | 865/2000 [07:10<07:05,  2.67it/s]"
     ]
    },
    {
     "name": "stdout",
     "output_type": "stream",
     "text": [
      "Predicted good joins fraction: 0.008363636363636363\n",
      "Predicted good joins fraction: 0.004033736707004034\n",
      "Predicted good joins fraction: 0.005154639175257732\n"
     ]
    },
    {
     "name": "stderr",
     "output_type": "stream",
     "text": [
      " 43%|████▎     | 866/2000 [07:11<06:55,  2.73it/s]"
     ]
    },
    {
     "name": "stdout",
     "output_type": "stream",
     "text": [
      "Predicted good joins fraction: 0.007401924500370096\n",
      "Predicted good joins fraction: 0.0050335570469798654\n",
      "Predicted good joins fraction: 0.006557991380925614\n"
     ]
    },
    {
     "name": "stderr",
     "output_type": "stream",
     "text": [
      " 43%|████▎     | 857/2000 [07:10<08:20,  2.28it/s]"
     ]
    },
    {
     "name": "stdout",
     "output_type": "stream",
     "text": [
      "Predicted good joins fraction: 0.0077329309694454925\n",
      "Predicted good joins fraction: 0.008743584869796617\n",
      "Predicted good joins fraction: 0.004793863854266539\n"
     ]
    },
    {
     "name": "stderr",
     "output_type": "stream",
     "text": [
      " 43%|████▎     | 867/2000 [07:10<07:00,  2.69it/s]"
     ]
    },
    {
     "name": "stdout",
     "output_type": "stream",
     "text": [
      "Predicted good joins fraction: 0.005973025048169557\n",
      "Predicted good joins fraction: 0.004652064353556891\n",
      "Predicted good joins fraction: 0.006621226874391432\n",
      "Predicted good joins fraction: 0.00627327974906881\n",
      "Predicted good joins fraction: 0.006707437364371671\n",
      "Predicted good joins fraction: 0.006156901688182721\n"
     ]
    },
    {
     "name": "stderr",
     "output_type": "stream",
     "text": [
      " 43%|████▎     | 868/2000 [07:12<06:52,  2.74it/s]"
     ]
    },
    {
     "name": "stdout",
     "output_type": "stream",
     "text": [
      "Predicted good joins fraction: 0.0031974420463629096\n",
      "Predicted good joins fraction: 0.0052125100240577385\n",
      "Predicted good joins fraction: 0.0048367593712212815\n"
     ]
    },
    {
     "name": "stderr",
     "output_type": "stream",
     "text": [
      " 44%|████▍     | 880/2000 [07:12<06:42,  2.78it/s]"
     ]
    },
    {
     "name": "stdout",
     "output_type": "stream",
     "text": [
      "Predicted good joins fraction: 0.005872823005265289\n",
      "Predicted good joins fraction: 0.005703809329802404\n",
      "Predicted good joins fraction: 0.005736529399713174\n"
     ]
    },
    {
     "name": "stderr",
     "output_type": "stream",
     "text": [
      " 44%|████▍     | 876/2000 [07:12<06:45,  2.77it/s]"
     ]
    },
    {
     "name": "stdout",
     "output_type": "stream",
     "text": [
      "Predicted good joins fraction: 0.00494539460127756\n",
      "Predicted good joins fraction: 0.003934562021122386\n",
      "Predicted good joins fraction: 0.005405405405405406\n"
     ]
    },
    {
     "name": "stderr",
     "output_type": "stream",
     "text": [
      " 45%|████▌     | 902/2000 [07:13<13:58,  1.31it/s]"
     ]
    },
    {
     "name": "stdout",
     "output_type": "stream",
     "text": [
      "Predicted good joins fraction: 0.004807692307692308\n",
      "Predicted good joins fraction: 0.007351396765385423\n",
      "Predicted good joins fraction: 0.004020313161235718\n"
     ]
    },
    {
     "name": "stderr",
     "output_type": "stream",
     "text": [
      " 44%|████▍     | 882/2000 [07:12<06:33,  2.84it/s]"
     ]
    },
    {
     "name": "stdout",
     "output_type": "stream",
     "text": [
      "Predicted good joins fraction: 0.0031867431485022306\n",
      "Predicted good joins fraction: 0.0040494458653026425\n",
      "Predicted good joins fraction: 0.003209929381553606\n"
     ]
    },
    {
     "name": "stderr",
     "output_type": "stream",
     "text": [
      " 44%|████▎     | 871/2000 [07:12<07:02,  2.67it/s]"
     ]
    },
    {
     "name": "stdout",
     "output_type": "stream",
     "text": [
      "Predicted good joins fraction: 0.0040790038643194505\n",
      "Predicted good joins fraction: 0.0032334554860961413\n",
      "Predicted good joins fraction: 0.004541522491349481\n"
     ]
    },
    {
     "name": "stderr",
     "output_type": "stream",
     "text": [
      " 44%|████▍     | 883/2000 [07:13<06:46,  2.75it/s]"
     ]
    },
    {
     "name": "stdout",
     "output_type": "stream",
     "text": [
      "Predicted good joins fraction: 0.0023897458179448186\n",
      "Predicted good joins fraction: 0.0032665505226480837\n",
      "Predicted good joins fraction: 0.003714223290364868\n"
     ]
    },
    {
     "name": "stderr",
     "output_type": "stream",
     "text": [
      " 44%|████▎     | 872/2000 [07:12<07:02,  2.67it/s]"
     ]
    },
    {
     "name": "stdout",
     "output_type": "stream",
     "text": [
      "Predicted good joins fraction: 0.0030701754385964912\n",
      "Predicted good joins fraction: 0.006599208095028597\n",
      "Predicted good joins fraction: 0.00354295837023915\n"
     ]
    },
    {
     "name": "stderr",
     "output_type": "stream",
     "text": [
      " 44%|████▎     | 873/2000 [07:14<06:45,  2.78it/s]"
     ]
    },
    {
     "name": "stdout",
     "output_type": "stream",
     "text": [
      "Predicted good joins fraction: 0.002\n",
      "Predicted good joins fraction: 0.004676018704074816\n",
      "Predicted good joins fraction: 0.0013422818791946308\n",
      "Predicted good joins fraction: 0.003360215053763441\n"
     ]
    },
    {
     "name": "stderr",
     "output_type": "stream",
     "text": [
      " 43%|████▎     | 864/2000 [07:13<07:05,  2.67it/s]"
     ]
    },
    {
     "name": "stdout",
     "output_type": "stream",
     "text": [
      "Predicted good joins fraction: 0.0026972353337828725\n",
      "Predicted good joins fraction: 0.004056795131845842\n",
      "Predicted good joins fraction: 0.0024892509617560534\n"
     ]
    },
    {
     "name": "stderr",
     "output_type": "stream",
     "text": [
      " 44%|████▎     | 874/2000 [07:13<07:01,  2.67it/s]"
     ]
    },
    {
     "name": "stdout",
     "output_type": "stream",
     "text": [
      "Predicted good joins fraction: 0.004990925589836661\n",
      "Predicted good joins fraction: 0.0015959872321021432\n",
      "Predicted good joins fraction: 0.0022836263987211693\n",
      "Predicted good joins fraction: 0.001373311970702678\n",
      "Predicted good joins fraction: 0.003667201466880587\n",
      "Predicted good joins fraction: 0.003680699332873246\n",
      "Predicted good joins fraction: 0.003925190487185408\n",
      "Predicted good joins fraction: 0.0023180343069077423\n"
     ]
    },
    {
     "name": "stderr",
     "output_type": "stream",
     "text": [
      " 43%|████▎     | 866/2000 [07:14<07:10,  2.64it/s]"
     ]
    },
    {
     "name": "stdout",
     "output_type": "stream",
     "text": [
      "Predicted good joins fraction: 0.0023234200743494425\n",
      "Predicted good joins fraction: 0.004890544946436889\n",
      "Predicted good joins fraction: 0.0025743037678446056\n",
      "Predicted good joins fraction: 0.003988737681839512\n"
     ]
    },
    {
     "name": "stderr",
     "output_type": "stream",
     "text": [
      " 44%|████▍     | 886/2000 [07:14<05:17,  3.51it/s]"
     ]
    },
    {
     "name": "stdout",
     "output_type": "stream",
     "text": [
      "Predicted good joins fraction: 0.003062426383981154\n",
      "Predicted good joins fraction: 0.004017013232514178\n",
      "Predicted good joins fraction: 0.0026097271648873074\n",
      "Predicted good joins fraction: 0.002378686964795433\n"
     ]
    },
    {
     "name": "stderr",
     "output_type": "stream",
     "text": [
      " 44%|████▍     | 887/2000 [07:14<05:20,  3.47it/s]"
     ]
    },
    {
     "name": "stdout",
     "output_type": "stream",
     "text": [
      "Predicted good joins fraction: 0.001430615164520744\n",
      "Predicted good joins fraction: 0.0035816618911174787\n",
      "Predicted good joins fraction: 0.0011981787682722263\n",
      "Predicted good joins fraction: 0.0031190019193857964\n"
     ]
    },
    {
     "name": "stderr",
     "output_type": "stream",
     "text": [
      " 43%|████▎     | 868/2000 [07:14<07:08,  2.64it/s]"
     ]
    },
    {
     "name": "stdout",
     "output_type": "stream",
     "text": [
      "Predicted good joins fraction: 0.0016847172081829122\n",
      "Predicted good joins fraction: 0.0024108003857280617\n",
      "Final size of synthetic data: 4702\n"
     ]
    },
    {
     "name": "stderr",
     "output_type": "stream",
     "text": [
      " 45%|████▍     | 899/2000 [07:29<09:10,  2.00it/s]\n",
      " 46%|████▌     | 920/2000 [07:29<06:27,  2.79it/s]"
     ]
    },
    {
     "name": "stdout",
     "output_type": "stream",
     "text": [
      "Predicted good joins fraction: 0.02341628959276018\n",
      "Predicted good joins fraction: 0.022819413876983666\n"
     ]
    },
    {
     "name": "stderr",
     "output_type": "stream",
     "text": [
      " 46%|████▌     | 923/2000 [07:30<06:28,  2.77it/s]"
     ]
    },
    {
     "name": "stdout",
     "output_type": "stream",
     "text": [
      "Predicted good joins fraction: 0.01991465149359886\n",
      "Predicted good joins fraction: 0.019351717464925013\n"
     ]
    },
    {
     "name": "stderr",
     "output_type": "stream",
     "text": [
      " 46%|████▌     | 910/2000 [07:30<07:11,  2.53it/s]"
     ]
    },
    {
     "name": "stdout",
     "output_type": "stream",
     "text": [
      "Predicted good joins fraction: 0.015293537247163296\n",
      "Predicted good joins fraction: 0.01465430861723447\n"
     ]
    },
    {
     "name": "stderr",
     "output_type": "stream",
     "text": [
      " 46%|████▌     | 922/2000 [07:30<06:23,  2.81it/s]"
     ]
    },
    {
     "name": "stdout",
     "output_type": "stream",
     "text": [
      "Predicted good joins fraction: 0.014236684886233635\n",
      "Predicted good joins fraction: 0.01650548033526757\n"
     ]
    },
    {
     "name": "stderr",
     "output_type": "stream",
     "text": [
      " 46%|████▌     | 912/2000 [07:30<06:30,  2.78it/s]"
     ]
    },
    {
     "name": "stdout",
     "output_type": "stream",
     "text": [
      "Predicted good joins fraction: 0.0142913334207421\n",
      "Predicted good joins fraction: 0.013966480446927373\n",
      "Predicted good joins fraction: 0.012275731822474031\n"
     ]
    },
    {
     "name": "stderr",
     "output_type": "stream",
     "text": [
      " 46%|████▋     | 926/2000 [07:31<06:21,  2.82it/s]"
     ]
    },
    {
     "name": "stdout",
     "output_type": "stream",
     "text": [
      "Predicted good joins fraction: 0.012291723572794318\n",
      "Predicted good joins fraction: 0.013550884955752213\n",
      "Predicted good joins fraction: 0.009671993271656855\n"
     ]
    },
    {
     "name": "stderr",
     "output_type": "stream",
     "text": [
      " 46%|████▌     | 913/2000 [07:31<06:47,  2.66it/s]"
     ]
    },
    {
     "name": "stdout",
     "output_type": "stream",
     "text": [
      "Predicted good joins fraction: 0.009483368719037509\n",
      "Predicted good joins fraction: 0.009288368105172907\n",
      "Predicted good joins fraction: 0.008077311409202365\n"
     ]
    },
    {
     "name": "stderr",
     "output_type": "stream",
     "text": [
      " 46%|████▋     | 925/2000 [07:31<06:12,  2.89it/s]"
     ]
    },
    {
     "name": "stdout",
     "output_type": "stream",
     "text": [
      "Predicted good joins fraction: 0.009015559110077068\n",
      "Predicted good joins fraction: 0.011151870873074102\n",
      "Predicted good joins fraction: 0.007271108473067221\n"
     ]
    },
    {
     "name": "stderr",
     "output_type": "stream",
     "text": [
      " 46%|████▌     | 915/2000 [07:31<06:26,  2.81it/s]"
     ]
    },
    {
     "name": "stdout",
     "output_type": "stream",
     "text": [
      "Predicted good joins fraction: 0.008520179372197309\n",
      "Predicted good joins fraction: 0.008894919342680536\n",
      "Predicted good joins fraction: 0.009887435351384241\n"
     ]
    },
    {
     "name": "stderr",
     "output_type": "stream",
     "text": [
      " 48%|████▊     | 950/2000 [07:32<18:47,  1.07s/it]"
     ]
    },
    {
     "name": "stdout",
     "output_type": "stream",
     "text": [
      "Predicted good joins fraction: 0.006452604086649255\n",
      "Predicted good joins fraction: 0.006649141796814597\n",
      "Predicted good joins fraction: 0.007938978829389789\n",
      "Predicted good joins fraction: 0.006747214812490193\n",
      "Predicted good joins fraction: 0.0067930489731437595\n",
      "Predicted good joins fraction: 0.004930809607125815\n"
     ]
    },
    {
     "name": "stderr",
     "output_type": "stream",
     "text": [
      " 46%|████▌     | 917/2000 [07:32<06:23,  2.83it/s]"
     ]
    },
    {
     "name": "stdout",
     "output_type": "stream",
     "text": [
      "Predicted good joins fraction: 0.005434782608695652\n",
      "Predicted good joins fraction: 0.006910961105753777\n",
      "Predicted good joins fraction: 0.005016993040945137\n"
     ]
    },
    {
     "name": "stderr",
     "output_type": "stream",
     "text": [
      " 46%|████▌     | 918/2000 [07:32<06:22,  2.83it/s]"
     ]
    },
    {
     "name": "stdout",
     "output_type": "stream",
     "text": [
      "Predicted good joins fraction: 0.0071567989590110605\n",
      "Predicted good joins fraction: 0.00655307994757536\n",
      "Predicted good joins fraction: 0.0054419525065963065\n",
      "Predicted good joins fraction: 0.004642679489305256\n",
      "Predicted good joins fraction: 0.004830917874396135\n",
      "Predicted good joins fraction: 0.005189152996317376\n"
     ]
    },
    {
     "name": "stderr",
     "output_type": "stream",
     "text": [
      " 46%|████▌     | 919/2000 [07:32<06:22,  2.82it/s]"
     ]
    },
    {
     "name": "stdout",
     "output_type": "stream",
     "text": [
      "Predicted good joins fraction: 0.00740366818105334\n",
      "Predicted good joins fraction: 0.004916087472452958\n",
      "Predicted good joins fraction: 0.003918228279386712\n"
     ]
    },
    {
     "name": "stderr",
     "output_type": "stream",
     "text": [
      " 46%|████▌     | 920/2000 [07:33<06:27,  2.78it/s]"
     ]
    },
    {
     "name": "stdout",
     "output_type": "stream",
     "text": [
      "Predicted good joins fraction: 0.004446724816145032\n",
      "Predicted good joins fraction: 0.005497337227280536\n",
      "Predicted good joins fraction: 0.005354983589566419\n",
      "Predicted good joins fraction: 0.0046891281695033\n",
      "Predicted good joins fraction: 0.004362240446693422\n",
      "Predicted good joins fraction: 0.004206098843322818\n"
     ]
    },
    {
     "name": "stderr",
     "output_type": "stream",
     "text": [
      " 46%|████▌     | 921/2000 [07:33<06:25,  2.80it/s]"
     ]
    },
    {
     "name": "stdout",
     "output_type": "stream",
     "text": [
      "Predicted good joins fraction: 0.004751847940865892\n",
      "Predicted good joins fraction: 0.0028293545534924846\n",
      "Predicted good joins fraction: 0.0051427558077673345\n"
     ]
    },
    {
     "name": "stderr",
     "output_type": "stream",
     "text": [
      " 46%|████▌     | 922/2000 [07:33<06:24,  2.81it/s]"
     ]
    },
    {
     "name": "stdout",
     "output_type": "stream",
     "text": [
      "Predicted good joins fraction: 0.00409982174688057\n",
      "Predicted good joins fraction: 0.004116699480937892\n",
      "Predicted good joins fraction: 0.0034148094895758447\n",
      "Predicted good joins fraction: 0.004328223624887286\n",
      "Predicted good joins fraction: 0.0034414055424741895\n",
      "Predicted good joins fraction: 0.003816793893129771\n"
     ]
    },
    {
     "name": "stderr",
     "output_type": "stream",
     "text": [
      " 46%|████▌     | 923/2000 [07:34<06:25,  2.79it/s]"
     ]
    },
    {
     "name": "stdout",
     "output_type": "stream",
     "text": [
      "Predicted good joins fraction: 0.004378762999452655\n",
      "Predicted good joins fraction: 0.004031519149715961\n",
      "Predicted good joins fraction: 0.004599816007359705\n"
     ]
    },
    {
     "name": "stderr",
     "output_type": "stream",
     "text": [
      " 46%|████▌     | 924/2000 [07:34<06:22,  2.82it/s]"
     ]
    },
    {
     "name": "stdout",
     "output_type": "stream",
     "text": [
      "Predicted good joins fraction: 0.0038817005545286505\n",
      "Predicted good joins fraction: 0.0031545741324921135\n",
      "Predicted good joins fraction: 0.004095309009679821\n",
      "Predicted good joins fraction: 0.004299065420560748\n",
      "Predicted good joins fraction: 0.003379012577435705\n",
      "Predicted good joins fraction: 0.0032021096251648143\n"
     ]
    },
    {
     "name": "stderr",
     "output_type": "stream",
     "text": [
      " 46%|████▋     | 925/2000 [07:34<06:19,  2.83it/s]"
     ]
    },
    {
     "name": "stdout",
     "output_type": "stream",
     "text": [
      "Predicted good joins fraction: 0.004346182917611489\n",
      "Predicted good joins fraction: 0.003605997342949326\n",
      "Predicted good joins fraction: 0.0034285714285714284\n"
     ]
    },
    {
     "name": "stderr",
     "output_type": "stream",
     "text": [
      " 46%|████▋     | 926/2000 [07:35<06:20,  2.83it/s]"
     ]
    },
    {
     "name": "stdout",
     "output_type": "stream",
     "text": [
      "Predicted good joins fraction: 0.003249235474006116\n",
      "Predicted good joins fraction: 0.006136145733461169\n",
      "Predicted good joins fraction: 0.0025081998842369285\n",
      "Predicted good joins fraction: 0.00425531914893617\n",
      "Predicted good joins fraction: 0.004662004662004662\n",
      "Predicted good joins fraction: 0.001756440281030445\n"
     ]
    },
    {
     "name": "stderr",
     "output_type": "stream",
     "text": [
      " 46%|████▋     | 927/2000 [07:35<06:19,  2.83it/s]"
     ]
    },
    {
     "name": "stdout",
     "output_type": "stream",
     "text": [
      "Predicted good joins fraction: 0.002932551319648094\n",
      "Predicted good joins fraction: 0.0033333333333333335\n",
      "Predicted good joins fraction: 0.0033444816053511705\n"
     ]
    },
    {
     "name": "stderr",
     "output_type": "stream",
     "text": [
      " 46%|████▋     | 928/2000 [07:36<06:16,  2.84it/s]"
     ]
    },
    {
     "name": "stdout",
     "output_type": "stream",
     "text": [
      "Predicted good joins fraction: 0.002368732727990525\n",
      "Predicted good joins fraction: 0.0033636723387415906\n",
      "Predicted good joins fraction: 0.003772086559459996\n",
      "Predicted good joins fraction: 0.0017935432443204463\n",
      "Predicted good joins fraction: 0.0019964064683569574\n",
      "Predicted good joins fraction: 0.0036007201440288058\n"
     ]
    },
    {
     "name": "stderr",
     "output_type": "stream",
     "text": [
      " 46%|████▋     | 929/2000 [07:36<06:19,  2.82it/s]"
     ]
    },
    {
     "name": "stdout",
     "output_type": "stream",
     "text": [
      "Predicted good joins fraction: 0.002007628990162618\n",
      "Predicted good joins fraction: 0.002816334741500704\n",
      "Predicted good joins fraction: 0.0018156142828323583\n",
      "Predicted good joins fraction: 0.0034357316087308\n",
      "Predicted good joins fraction: 0.0026363820726019063\n",
      "Predicted good joins fraction: 0.0028466856445709637\n"
     ]
    },
    {
     "name": "stderr",
     "output_type": "stream",
     "text": [
      " 46%|████▋     | 930/2000 [07:36<06:18,  2.82it/s]"
     ]
    },
    {
     "name": "stdout",
     "output_type": "stream",
     "text": [
      "Predicted good joins fraction: 0.0014274061990212073\n",
      "Predicted good joins fraction: 0.0032673065141923625\n",
      "Predicted good joins fraction: 0.003278016799836099\n",
      "Predicted good joins fraction: 0.0036998972250770813\n",
      "Predicted good joins fraction: 0.0028883845677738808\n",
      "Predicted good joins fraction: 0.0028967515001034555\n"
     ]
    },
    {
     "name": "stderr",
     "output_type": "stream",
     "text": [
      " 47%|████▋     | 931/2000 [07:37<06:15,  2.85it/s]"
     ]
    },
    {
     "name": "stdout",
     "output_type": "stream",
     "text": [
      "Predicted good joins fraction: 0.0026976551151691223\n",
      "Predicted good joins fraction: 0.0014565126924677486\n",
      "Predicted good joins fraction: 0.0031256511773286103\n",
      "Predicted good joins fraction: 0.002508361204013378\n"
     ]
    },
    {
     "name": "stderr",
     "output_type": "stream",
     "text": [
      " 47%|████▋     | 932/2000 [07:37<05:57,  2.99it/s]"
     ]
    },
    {
     "name": "stdout",
     "output_type": "stream",
     "text": [
      "Predicted good joins fraction: 0.0018860016764459346\n",
      "Final size of synthetic data: 4077\n"
     ]
    },
    {
     "name": "stderr",
     "output_type": "stream",
     "text": [
      " 47%|████▋     | 949/2000 [07:42<08:31,  2.05it/s]\n",
      " 48%|████▊     | 953/2000 [07:43<10:11,  1.71it/s]"
     ]
    },
    {
     "name": "stdout",
     "output_type": "stream",
     "text": [
      "Predicted good joins fraction: 0.03201357466063348\n",
      "Predicted good joins fraction: 0.021502863152974172\n"
     ]
    },
    {
     "name": "stderr",
     "output_type": "stream",
     "text": [
      " 48%|████▊     | 954/2000 [07:43<08:55,  1.95it/s]"
     ]
    },
    {
     "name": "stdout",
     "output_type": "stream",
     "text": [
      "Predicted good joins fraction: 0.02257255463991401\n",
      "Predicted good joins fraction: 0.01918377321603128\n",
      "Predicted good joins fraction: 0.01681823844524729\n",
      "Predicted good joins fraction: 0.017612772427774964\n"
     ]
    },
    {
     "name": "stderr",
     "output_type": "stream",
     "text": [
      " 48%|████▊     | 955/2000 [07:43<08:03,  2.16it/s]"
     ]
    },
    {
     "name": "stdout",
     "output_type": "stream",
     "text": [
      "Predicted good joins fraction: 0.016638720495292143\n",
      "Predicted good joins fraction: 0.012067156348373556\n"
     ]
    },
    {
     "name": "stderr",
     "output_type": "stream",
     "text": [
      " 48%|████▊     | 956/2000 [07:44<07:27,  2.33it/s]"
     ]
    },
    {
     "name": "stdout",
     "output_type": "stream",
     "text": [
      "Predicted good joins fraction: 0.013542219861922463\n",
      "Predicted good joins fraction: 0.013055181695827726\n",
      "Predicted good joins fraction: 0.013773353334242466\n",
      "Predicted good joins fraction: 0.013965707964601769\n",
      "Predicted good joins fraction: 0.011218622914037302\n",
      "Predicted good joins fraction: 0.009785845979293717\n"
     ]
    },
    {
     "name": "stderr",
     "output_type": "stream",
     "text": [
      " 48%|████▊     | 957/2000 [07:44<07:01,  2.48it/s]"
     ]
    },
    {
     "name": "stdout",
     "output_type": "stream",
     "text": [
      "Predicted good joins fraction: 0.010598682325981094\n",
      "Predicted good joins fraction: 0.01288361320208454\n",
      "Predicted good joins fraction: 0.01173192550227306\n"
     ]
    },
    {
     "name": "stderr",
     "output_type": "stream",
     "text": [
      " 48%|████▊     | 958/2000 [07:44<06:40,  2.60it/s]"
     ]
    },
    {
     "name": "stdout",
     "output_type": "stream",
     "text": [
      "Predicted good joins fraction: 0.010238907849829351\n",
      "Predicted good joins fraction: 0.008845577211394303\n",
      "Predicted good joins fraction: 0.008319467554076539\n"
     ]
    },
    {
     "name": "stderr",
     "output_type": "stream",
     "text": [
      " 48%|████▊     | 959/2000 [07:45<06:23,  2.71it/s]"
     ]
    },
    {
     "name": "stdout",
     "output_type": "stream",
     "text": [
      "Predicted good joins fraction: 0.009151921903599756\n",
      "Predicted good joins fraction: 0.007850985221674878\n",
      "Predicted good joins fraction: 0.009154383242823895\n"
     ]
    },
    {
     "name": "stderr",
     "output_type": "stream",
     "text": [
      " 48%|████▊     | 960/2000 [07:45<06:13,  2.78it/s]"
     ]
    },
    {
     "name": "stdout",
     "output_type": "stream",
     "text": [
      "Predicted good joins fraction: 0.007203257124960852\n",
      "Predicted good joins fraction: 0.007097791798107256\n",
      "Predicted good joins fraction: 0.006989674344718031\n",
      "Predicted good joins fraction: 0.008158694608862581\n",
      "Predicted good joins fraction: 0.008064516129032258\n",
      "Predicted good joins fraction: 0.006178861788617886\n"
     ]
    },
    {
     "name": "stderr",
     "output_type": "stream",
     "text": [
      " 48%|████▊     | 961/2000 [07:45<06:06,  2.84it/s]"
     ]
    },
    {
     "name": "stdout",
     "output_type": "stream",
     "text": [
      "Predicted good joins fraction: 0.007526178010471204\n",
      "Predicted good joins fraction: 0.005769864820309925\n",
      "Predicted good joins fraction: 0.0077930691427623945\n"
     ]
    },
    {
     "name": "stderr",
     "output_type": "stream",
     "text": [
      " 48%|████▊     | 962/2000 [07:46<05:56,  2.91it/s]"
     ]
    },
    {
     "name": "stdout",
     "output_type": "stream",
     "text": [
      "Predicted good joins fraction: 0.0066844919786096255\n",
      "Predicted good joins fraction: 0.006561238223418573\n",
      "Predicted good joins fraction: 0.00558848433530906\n",
      "Predicted good joins fraction: 0.006471389645776567\n",
      "Predicted good joins fraction: 0.00497086047308879\n",
      "Predicted good joins fraction: 0.007235142118863049\n"
     ]
    },
    {
     "name": "stderr",
     "output_type": "stream",
     "text": [
      " 48%|████▊     | 963/2000 [07:46<05:55,  2.92it/s]"
     ]
    },
    {
     "name": "stdout",
     "output_type": "stream",
     "text": [
      "Predicted good joins fraction: 0.004511539128925907\n",
      "Predicted good joins fraction: 0.004531985358201151\n",
      "Predicted good joins fraction: 0.0040273157065312554\n"
     ]
    },
    {
     "name": "stderr",
     "output_type": "stream",
     "text": [
      " 50%|████▉     | 991/2000 [07:47<05:45,  2.92it/s]"
     ]
    },
    {
     "name": "stdout",
     "output_type": "stream",
     "text": [
      "Predicted good joins fraction: 0.005450070323488045\n",
      "Predicted good joins fraction: 0.004596075658476224\n",
      "Predicted good joins fraction: 0.0031965903036760787\n"
     ]
    },
    {
     "name": "stderr",
     "output_type": "stream",
     "text": [
      " 50%|████▉     | 992/2000 [07:47<05:47,  2.90it/s]"
     ]
    },
    {
     "name": "stdout",
     "output_type": "stream",
     "text": [
      "Predicted good joins fraction: 0.00516657758774274\n",
      "Predicted good joins fraction: 0.004477077363896848\n",
      "Predicted good joins fraction: 0.006835761827666847\n"
     ]
    },
    {
     "name": "stderr",
     "output_type": "stream",
     "text": [
      " 50%|████▉     | 993/2000 [07:47<05:47,  2.90it/s]"
     ]
    },
    {
     "name": "stdout",
     "output_type": "stream",
     "text": [
      "Predicted good joins fraction: 0.004890418402463322\n",
      "Predicted good joins fraction: 0.004732435384055333\n",
      "Predicted good joins fraction: 0.002377468910021946\n",
      "Predicted good joins fraction: 0.0042163153070577455\n",
      "Predicted good joins fraction: 0.0031296023564064803\n",
      "Predicted good joins fraction: 0.00443213296398892\n"
     ]
    },
    {
     "name": "stderr",
     "output_type": "stream",
     "text": [
      " 50%|████▉     | 994/2000 [07:48<05:45,  2.91it/s]"
     ]
    },
    {
     "name": "stdout",
     "output_type": "stream",
     "text": [
      "Predicted good joins fraction: 0.0038953811908736783\n",
      "Predicted good joins fraction: 0.0037243947858473\n",
      "Predicted good joins fraction: 0.00411214953271028\n"
     ]
    },
    {
     "name": "stderr",
     "output_type": "stream",
     "text": [
      " 48%|████▊     | 953/2000 [07:48<10:08,  1.72it/s]"
     ]
    },
    {
     "name": "stdout",
     "output_type": "stream",
     "text": [
      "Predicted good joins fraction: 0.005255255255255256\n",
      "Predicted good joins fraction: 0.0035849056603773585\n",
      "Predicted good joins fraction: 0.004165877674682825\n"
     ]
    },
    {
     "name": "stderr",
     "output_type": "stream",
     "text": [
      " 48%|████▊     | 968/2000 [07:48<05:58,  2.88it/s]"
     ]
    },
    {
     "name": "stdout",
     "output_type": "stream",
     "text": [
      "Predicted good joins fraction: 0.003612854154782278\n",
      "Predicted good joins fraction: 0.00400763358778626\n",
      "Predicted good joins fraction: 0.003065721402567542\n"
     ]
    },
    {
     "name": "stderr",
     "output_type": "stream",
     "text": [
      " 50%|████▉     | 996/2000 [07:48<05:46,  2.90it/s]"
     ]
    },
    {
     "name": "stdout",
     "output_type": "stream",
     "text": [
      "Predicted good joins fraction: 0.0034595425715933117\n",
      "Predicted good joins fraction: 0.0048216007714561235\n",
      "Predicted good joins fraction: 0.004651162790697674\n"
     ]
    },
    {
     "name": "stderr",
     "output_type": "stream",
     "text": [
      " 48%|████▊     | 955/2000 [07:48<07:58,  2.18it/s]"
     ]
    },
    {
     "name": "stdout",
     "output_type": "stream",
     "text": [
      "Predicted good joins fraction: 0.003115264797507788\n",
      "Predicted good joins fraction: 0.0041015625\n",
      "Predicted good joins fraction: 0.0025495195136301238\n"
     ]
    },
    {
     "name": "stderr",
     "output_type": "stream",
     "text": [
      " 48%|████▊     | 970/2000 [07:48<05:50,  2.94it/s]"
     ]
    },
    {
     "name": "stdout",
     "output_type": "stream",
     "text": [
      "Predicted good joins fraction: 0.0027526543452615023\n",
      "Predicted good joins fraction: 0.0029574132492113563\n",
      "Predicted good joins fraction: 0.002966185485465691\n"
     ]
    },
    {
     "name": "stderr",
     "output_type": "stream",
     "text": [
      " 50%|████▉     | 998/2000 [07:49<05:44,  2.90it/s]"
     ]
    },
    {
     "name": "stdout",
     "output_type": "stream",
     "text": [
      "Predicted good joins fraction: 0.00218167393891313\n",
      "Predicted good joins fraction: 0.003379049890677798\n",
      "Predicted good joins fraction: 0.003789389708815317\n"
     ]
    },
    {
     "name": "stderr",
     "output_type": "stream",
     "text": [
      " 48%|████▊     | 957/2000 [07:49<06:52,  2.53it/s]"
     ]
    },
    {
     "name": "stdout",
     "output_type": "stream",
     "text": [
      "Predicted good joins fraction: 0.003003003003003003\n",
      "Predicted good joins fraction: 0.004618473895582329\n",
      "Predicted good joins fraction: 0.002824288884405891\n"
     ]
    },
    {
     "name": "stderr",
     "output_type": "stream",
     "text": [
      " 49%|████▊     | 972/2000 [07:49<05:53,  2.91it/s]"
     ]
    },
    {
     "name": "stdout",
     "output_type": "stream",
     "text": [
      "Predicted good joins fraction: 0.0026299817924337445\n",
      "Predicted good joins fraction: 0.002839756592292089\n",
      "Predicted good joins fraction: 0.0030512611879576893\n"
     ]
    },
    {
     "name": "stderr",
     "output_type": "stream",
     "text": [
      " 48%|████▊     | 958/2000 [07:49<06:35,  2.64it/s]"
     ]
    },
    {
     "name": "stdout",
     "output_type": "stream",
     "text": [
      "Predicted good joins fraction: 0.0030605998775760047\n",
      "Predicted good joins fraction: 0.003888661481784691\n",
      "Predicted good joins fraction: 0.0014382576535853708\n"
     ]
    },
    {
     "name": "stderr",
     "output_type": "stream",
     "text": [
      " 48%|████▊     | 959/2000 [07:50<06:22,  2.72it/s]"
     ]
    },
    {
     "name": "stdout",
     "output_type": "stream",
     "text": [
      "Predicted good joins fraction: 0.0022633744855967077\n",
      "Predicted good joins fraction: 0.0028871932357187047\n",
      "Predicted good joins fraction: 0.003309203722854188\n",
      "Predicted good joins fraction: 0.0026976551151691223\n",
      "Predicted good joins fraction: 0.0024968789013732834\n",
      "Predicted good joins fraction: 0.0027117229870671673\n",
      "Predicted good joins fraction: 0.003137418950010458\n"
     ]
    },
    {
     "name": "stderr",
     "output_type": "stream",
     "text": [
      " 48%|████▊     | 960/2000 [07:50<06:12,  2.79it/s]"
     ]
    },
    {
     "name": "stdout",
     "output_type": "stream",
     "text": [
      "Predicted good joins fraction: 0.002517834662190516\n",
      "Predicted good joins fraction: 0.0027345393352965924\n",
      "Predicted good joins fraction: 0.003585741404766927\n",
      "Predicted good joins fraction: 0.001693480101608806\n"
     ]
    },
    {
     "name": "stderr",
     "output_type": "stream",
     "text": [
      " 48%|████▊     | 961/2000 [07:50<06:06,  2.84it/s]"
     ]
    },
    {
     "name": "stdout",
     "output_type": "stream",
     "text": [
      "Predicted good joins fraction: 0.0021204410517387615\n",
      "Predicted good joins fraction: 0.003187420314492138\n",
      "Predicted good joins fraction: 0.002771264122788318\n",
      "Predicted good joins fraction: 0.0025651988029072254\n",
      "Predicted good joins fraction: 0.0040720102871838835\n",
      "Predicted good joins fraction: 0.002151925973746503\n",
      "Final size of synthetic data: 4203\n"
     ]
    },
    {
     "name": "stderr",
     "output_type": "stream",
     "text": [
      " 57%|█████▋    | 1149/2000 [09:00<06:39,  2.13it/s]\n",
      " 59%|█████▉    | 1184/2000 [09:00<04:38,  2.93it/s]"
     ]
    },
    {
     "name": "stdout",
     "output_type": "stream",
     "text": [
      "Predicted good joins fraction: 0.01595022624434389\n",
      "Predicted good joins fraction: 0.021151856535233934\n"
     ]
    },
    {
     "name": "stderr",
     "output_type": "stream",
     "text": [
      " 59%|█████▉    | 1185/2000 [09:00<04:36,  2.94it/s]"
     ]
    },
    {
     "name": "stdout",
     "output_type": "stream",
     "text": [
      "Predicted good joins fraction: 0.018790369935408103\n",
      "Predicted good joins fraction: 0.01400359066427289\n"
     ]
    },
    {
     "name": "stderr",
     "output_type": "stream",
     "text": [
      " 59%|█████▉    | 1186/2000 [09:01<04:35,  2.95it/s]"
     ]
    },
    {
     "name": "stdout",
     "output_type": "stream",
     "text": [
      "Predicted good joins fraction: 0.012381646030589949\n",
      "Predicted good joins fraction: 0.01327433628318584\n",
      "Predicted good joins fraction: 0.012580966616841056\n",
      "Predicted good joins fraction: 0.011227450485681847\n",
      "Predicted good joins fraction: 0.012630773156417453\n"
     ]
    },
    {
     "name": "stderr",
     "output_type": "stream",
     "text": [
      " 59%|█████▉    | 1187/2000 [09:01<04:35,  2.95it/s]"
     ]
    },
    {
     "name": "stdout",
     "output_type": "stream",
     "text": [
      "Predicted good joins fraction: 0.011241762501615196\n",
      "Predicted good joins fraction: 0.01097752221641401\n",
      "Predicted good joins fraction: 0.010570824524312896\n"
     ]
    },
    {
     "name": "stderr",
     "output_type": "stream",
     "text": [
      " 59%|█████▉    | 1188/2000 [09:01<04:34,  2.96it/s]"
     ]
    },
    {
     "name": "stdout",
     "output_type": "stream",
     "text": [
      "Predicted good joins fraction: 0.01295405982905983\n",
      "Predicted good joins fraction: 0.009470978216750102\n",
      "Predicted good joins fraction: 0.011883622455948642\n"
     ]
    },
    {
     "name": "stderr",
     "output_type": "stream",
     "text": [
      " 59%|█████▉    | 1189/2000 [09:02<04:32,  2.97it/s]"
     ]
    },
    {
     "name": "stdout",
     "output_type": "stream",
     "text": [
      "Predicted good joins fraction: 0.00912358307990047\n",
      "Predicted good joins fraction: 0.010323660714285714\n",
      "Predicted good joins fraction: 0.0074711023400056385\n"
     ]
    },
    {
     "name": "stderr",
     "output_type": "stream",
     "text": [
      " 60%|█████▉    | 1190/2000 [09:02<04:33,  2.96it/s]"
     ]
    },
    {
     "name": "stdout",
     "output_type": "stream",
     "text": [
      "Predicted good joins fraction: 0.008663542110495668\n",
      "Predicted good joins fraction: 0.00988538681948424\n",
      "Predicted good joins fraction: 0.007813630444219361\n",
      "Predicted good joins fraction: 0.008021000437509114\n",
      "Predicted good joins fraction: 0.006762716847985887\n",
      "Predicted good joins fraction: 0.007548845470692718\n"
     ]
    },
    {
     "name": "stderr",
     "output_type": "stream",
     "text": [
      " 60%|█████▉    | 1191/2000 [09:02<04:32,  2.97it/s]"
     ]
    },
    {
     "name": "stdout",
     "output_type": "stream",
     "text": [
      "Predicted good joins fraction: 0.007307979120059657\n",
      "Predicted good joins fraction: 0.006460336538461538\n",
      "Predicted good joins fraction: 0.007258430364433691\n"
     ]
    },
    {
     "name": "stderr",
     "output_type": "stream",
     "text": [
      " 60%|█████▉    | 1192/2000 [09:03<04:31,  2.97it/s]"
     ]
    },
    {
     "name": "stdout",
     "output_type": "stream",
     "text": [
      "Predicted good joins fraction: 0.007616146230007616\n",
      "Predicted good joins fraction: 0.005372217958557176\n",
      "Predicted good joins fraction: 0.007253086419753086\n"
     ]
    },
    {
     "name": "stderr",
     "output_type": "stream",
     "text": [
      " 60%|█████▉    | 1193/2000 [09:03<04:30,  2.98it/s]"
     ]
    },
    {
     "name": "stdout",
     "output_type": "stream",
     "text": [
      "Predicted good joins fraction: 0.007306078035131354\n",
      "Predicted good joins fraction: 0.005950516755402443\n",
      "Predicted good joins fraction: 0.006931316950220542\n",
      "Predicted good joins fraction: 0.00840736040609137\n",
      "Predicted good joins fraction: 0.005279155335146377\n",
      "Predicted good joins fraction: 0.007558700546799614\n"
     ]
    },
    {
     "name": "stderr",
     "output_type": "stream",
     "text": [
      " 60%|█████▉    | 1194/2000 [09:03<04:29,  2.99it/s]"
     ]
    },
    {
     "name": "stdout",
     "output_type": "stream",
     "text": [
      "Predicted good joins fraction: 0.0064819316156214555\n",
      "Predicted good joins fraction: 0.004240743761213505\n",
      "Predicted good joins fraction: 0.006552006552006552\n",
      "Predicted good joins fraction: 0.004122011541632316\n",
      "Predicted good joins fraction: 0.004801324503311258\n",
      "Predicted good joins fraction: 0.0071535518216602895\n"
     ]
    },
    {
     "name": "stderr",
     "output_type": "stream",
     "text": [
      " 57%|█████▊    | 1150/2000 [09:03<13:51,  1.02it/s]"
     ]
    },
    {
     "name": "stdout",
     "output_type": "stream",
     "text": [
      "Predicted good joins fraction: 0.005697050938337802\n",
      "Predicted good joins fraction: 0.003370407819346141\n",
      "Predicted good joins fraction: 0.006256340886033142\n"
     ]
    },
    {
     "name": "stderr",
     "output_type": "stream",
     "text": [
      " 60%|█████▉    | 1196/2000 [09:04<04:32,  2.95it/s]"
     ]
    },
    {
     "name": "stdout",
     "output_type": "stream",
     "text": [
      "Predicted good joins fraction: 0.004253871022630594\n",
      "Predicted good joins fraction: 0.0042720437457279565\n",
      "Predicted good joins fraction: 0.004290372404324695\n"
     ]
    },
    {
     "name": "stderr",
     "output_type": "stream",
     "text": [
      " 60%|█████▉    | 1197/2000 [09:04<04:31,  2.96it/s]"
     ]
    },
    {
     "name": "stdout",
     "output_type": "stream",
     "text": [
      "Predicted good joins fraction: 0.005515339538090314\n",
      "Predicted good joins fraction: 0.004332755632582322\n",
      "Predicted good joins fraction: 0.005395996518711923\n",
      "Predicted good joins fraction: 0.004725236261813091\n",
      "Predicted good joins fraction: 0.0036926323193247758\n",
      "Predicted good joins fraction: 0.004059301094246382\n"
     ]
    },
    {
     "name": "stderr",
     "output_type": "stream",
     "text": [
      " 60%|█████▉    | 1198/2000 [09:05<04:29,  2.97it/s]"
     ]
    },
    {
     "name": "stdout",
     "output_type": "stream",
     "text": [
      "Predicted good joins fraction: 0.004430267588162325\n",
      "Predicted good joins fraction: 0.003203987184051264\n",
      "Predicted good joins fraction: 0.0033928571428571428\n"
     ]
    },
    {
     "name": "stderr",
     "output_type": "stream",
     "text": [
      " 60%|█████▉    | 1199/2000 [09:05<04:29,  2.98it/s]"
     ]
    },
    {
     "name": "stdout",
     "output_type": "stream",
     "text": [
      "Predicted good joins fraction: 0.002866869736606343\n",
      "Predicted good joins fraction: 0.004132973944294699\n",
      "Predicted good joins fraction: 0.004150126308191988\n",
      "Predicted good joins fraction: 0.003623844899438304\n",
      "Predicted good joins fraction: 0.004000727404982724\n",
      "Predicted good joins fraction: 0.0032864706956362974\n"
     ]
    },
    {
     "name": "stderr",
     "output_type": "stream",
     "text": [
      " 58%|█████▊    | 1155/2000 [09:04<06:10,  2.28it/s]"
     ]
    },
    {
     "name": "stdout",
     "output_type": "stream",
     "text": [
      "Predicted good joins fraction: 0.0034804909324052022\n",
      "Predicted good joins fraction: 0.004963235294117647\n",
      "Predicted good joins fraction: 0.002955847034915943\n"
     ]
    },
    {
     "name": "stderr",
     "output_type": "stream",
     "text": [
      " 58%|█████▊    | 1156/2000 [09:05<05:43,  2.46it/s]"
     ]
    },
    {
     "name": "stdout",
     "output_type": "stream",
     "text": [
      "Predicted good joins fraction: 0.0038910505836575876\n",
      "Predicted good joins fraction: 0.005022321428571429\n",
      "Predicted good joins fraction: 0.0026173116470368293\n",
      "Predicted good joins fraction: 0.003373945641986879\n",
      "Predicted good joins fraction: 0.0039495956366372015\n",
      "Predicted good joins fraction: 0.004154078549848943\n"
     ]
    },
    {
     "name": "stderr",
     "output_type": "stream",
     "text": [
      " 58%|█████▊    | 1157/2000 [09:05<05:26,  2.58it/s]"
     ]
    },
    {
     "name": "stdout",
     "output_type": "stream",
     "text": [
      "Predicted good joins fraction: 0.0024649222601441033\n",
      "Predicted good joins fraction: 0.0028511689792815056\n",
      "Predicted good joins fraction: 0.0028593213877239803\n"
     ]
    },
    {
     "name": "stderr",
     "output_type": "stream",
     "text": [
      " 58%|█████▊    | 1158/2000 [09:05<05:13,  2.69it/s]"
     ]
    },
    {
     "name": "stdout",
     "output_type": "stream",
     "text": [
      "Predicted good joins fraction: 0.0022940164404511567\n",
      "Predicted good joins fraction: 0.002682506227246599\n",
      "Predicted good joins fraction: 0.003650336215177714\n",
      "Predicted good joins fraction: 0.003278056305437717\n",
      "Predicted good joins fraction: 0.0021280711936544788\n",
      "Predicted good joins fraction: 0.0038774718883288098\n"
     ]
    },
    {
     "name": "stderr",
     "output_type": "stream",
     "text": [
      " 58%|█████▊    | 1159/2000 [09:06<05:03,  2.77it/s]"
     ]
    },
    {
     "name": "stdout",
     "output_type": "stream",
     "text": [
      "Predicted good joins fraction: 0.003114052160373686\n",
      "Predicted good joins fraction: 0.003904724716907458\n",
      "Predicted good joins fraction: 0.002548020384163073\n"
     ]
    },
    {
     "name": "stderr",
     "output_type": "stream",
     "text": [
      " 58%|█████▊    | 1160/2000 [09:06<04:56,  2.83it/s]"
     ]
    },
    {
     "name": "stdout",
     "output_type": "stream",
     "text": [
      "Predicted good joins fraction: 0.0021615248575358615\n",
      "Predicted good joins fraction: 0.0017723513194170934\n",
      "Predicted good joins fraction: 0.0023673308344841193\n",
      "Predicted good joins fraction: 0.0037571682815898755\n",
      "Predicted good joins fraction: 0.0029773719730051607\n",
      "Predicted good joins fraction: 0.00218992633884133\n"
     ]
    },
    {
     "name": "stderr",
     "output_type": "stream",
     "text": [
      " 58%|█████▊    | 1161/2000 [09:06<04:51,  2.88it/s]"
     ]
    },
    {
     "name": "stdout",
     "output_type": "stream",
     "text": [
      "Predicted good joins fraction: 0.0019952114924181963\n",
      "Predicted good joins fraction: 0.0025989604158336665\n",
      "Predicted good joins fraction: 0.003407496492283023\n",
      "Predicted good joins fraction: 0.0036202735317779565\n"
     ]
    },
    {
     "name": "stderr",
     "output_type": "stream",
     "text": [
      " 58%|█████▊    | 1162/2000 [09:07<04:47,  2.92it/s]"
     ]
    },
    {
     "name": "stdout",
     "output_type": "stream",
     "text": [
      "Predicted good joins fraction: 0.0022204279370205892\n",
      "Predicted good joins fraction: 0.002427675500708072\n",
      "Predicted good joins fraction: 0.001013993104846887\n",
      "Predicted good joins fraction: 0.00243605359317905\n"
     ]
    },
    {
     "name": "stderr",
     "output_type": "stream",
     "text": [
      " 58%|█████▊    | 1163/2000 [09:07<04:49,  2.89it/s]"
     ]
    },
    {
     "name": "stdout",
     "output_type": "stream",
     "text": [
      "Predicted good joins fraction: 0.002442002442002442\n",
      "Predicted good joins fraction: 0.002039983680130559\n",
      "Final size of synthetic data: 3948\n"
     ]
    },
    {
     "name": "stderr",
     "output_type": "stream",
     "text": [
      " 70%|██████▉   | 1399/2000 [10:37<04:33,  2.19it/s]\n",
      " 72%|███████▏  | 1448/2000 [10:39<03:05,  2.98it/s]"
     ]
    },
    {
     "name": "stdout",
     "output_type": "stream",
     "text": [
      "Predicted good joins fraction: 0.029524886877828053\n",
      "Predicted good joins fraction: 0.02960718032404709\n",
      "Predicted good joins fraction: 0.025945945945945945\n",
      "Predicted good joins fraction: 0.024170674559131827\n",
      "Predicted good joins fraction: 0.021736383166940477\n"
     ]
    },
    {
     "name": "stderr",
     "output_type": "stream",
     "text": [
      " 72%|███████▏  | 1449/2000 [10:39<03:03,  3.00it/s]"
     ]
    },
    {
     "name": "stdout",
     "output_type": "stream",
     "text": [
      "Predicted good joins fraction: 0.020152435085906212\n",
      "Predicted good joins fraction: 0.01951219512195122\n",
      "Predicted good joins fraction: 0.015059835955358343\n",
      "Predicted good joins fraction: 0.017610921501706484\n",
      "Predicted good joins fraction: 0.014313507504168982\n",
      "Predicted good joins fraction: 0.016636120118426617\n",
      "Predicted good joins fraction: 0.014480286738351255\n",
      "Predicted good joins fraction: 0.014256619144602852\n",
      "Predicted good joins fraction: 0.013282172373081463\n",
      "Predicted good joins fraction: 0.01226443314388274\n",
      "Predicted good joins fraction: 0.01196244700181708\n",
      "Predicted good joins fraction: 0.011800766283524904\n",
      "Predicted good joins fraction: 0.012251861042183622\n",
      "Predicted good joins fraction: 0.009106610142879572\n",
      "Predicted good joins fraction: 0.010299477103470131\n",
      "Predicted good joins fraction: 0.009125840537944284\n",
      "Predicted good joins fraction: 0.01179512037485862\n",
      "Predicted good joins fraction: 0.009646827992151732\n",
      "Predicted good joins fraction: 0.009245501073138518\n",
      "Predicted good joins fraction: 0.009331778036993834\n",
      "Predicted good joins fraction: 0.009587888982338099\n",
      "Predicted good joins fraction: 0.007472826086956522\n",
      "Predicted good joins fraction: 0.009069130732375086\n",
      "Predicted good joins fraction: 0.008288723881885684\n",
      "Predicted good joins fraction: 0.008880376110047014\n",
      "Predicted good joins fraction: 0.008432888264230498\n",
      "Predicted good joins fraction: 0.009390503189227498\n",
      "Predicted good joins fraction: 0.007690931854766589\n",
      "Predicted good joins fraction: 0.007390050468637346\n",
      "Predicted good joins fraction: 0.008716179408026149\n"
     ]
    },
    {
     "name": "stderr",
     "output_type": "stream",
     "text": [
      " 70%|██████▉   | 1399/2000 [10:41<04:35,  2.18it/s]\n",
      " 72%|███████▎  | 1450/2000 [10:42<08:55,  1.03it/s]"
     ]
    },
    {
     "name": "stdout",
     "output_type": "stream",
     "text": [
      "Predicted good joins fraction: 0.008243267997801795\n",
      "Predicted good joins fraction: 0.0057258958256372365\n",
      "Predicted good joins fraction: 0.02262443438914027\n",
      "Predicted good joins fraction: 0.007059260635333457\n"
     ]
    },
    {
     "name": "stderr",
     "output_type": "stream",
     "text": [
      " 73%|███████▎  | 1451/2000 [10:42<07:00,  1.31it/s]"
     ]
    },
    {
     "name": "stdout",
     "output_type": "stream",
     "text": [
      "Predicted good joins fraction: 0.008606173994387277\n",
      "Predicted good joins fraction: 0.022685185185185187\n",
      "Predicted good joins fraction: 0.006416304963200604\n",
      "Predicted good joins fraction: 0.017764092846991947\n",
      "Predicted good joins fraction: 0.006837606837606838\n",
      "Predicted good joins fraction: 0.0051635111876075735\n",
      "Predicted good joins fraction: 0.01917048468772607\n",
      "Predicted good joins fraction: 0.005190311418685121\n",
      "Predicted good joins fraction: 0.017086662569145667\n",
      "Predicted good joins fraction: 0.008115942028985508\n"
     ]
    },
    {
     "name": "stderr",
     "output_type": "stream",
     "text": [
      " 73%|███████▎  | 1452/2000 [10:42<05:47,  1.58it/s]"
     ]
    },
    {
     "name": "stdout",
     "output_type": "stream",
     "text": [
      "Predicted good joins fraction: 0.005454899668809663\n",
      "Predicted good joins fraction: 0.0163831915957979\n",
      "Predicted good joins fraction: 0.005876591576885406\n",
      "Predicted good joins fraction: 0.014240305149396058\n",
      "Predicted good joins fraction: 0.004532019704433498\n"
     ]
    },
    {
     "name": "stderr",
     "output_type": "stream",
     "text": [
      " 73%|███████▎  | 1453/2000 [10:42<04:52,  1.87it/s]"
     ]
    },
    {
     "name": "stdout",
     "output_type": "stream",
     "text": [
      "Predicted good joins fraction: 0.0055423594615993665\n",
      "Predicted good joins fraction: 0.01354314458919128\n",
      "Predicted good joins fraction: 0.006170382165605096\n",
      "Predicted good joins fraction: 0.01268305439330544\n",
      "Predicted good joins fraction: 0.004205888243540957\n",
      "Predicted good joins fraction: 0.011521652761223678\n",
      "Predicted good joins fraction: 0.00583266291230893\n",
      "Predicted good joins fraction: 0.005664576168318835\n",
      "Predicted good joins fraction: 0.01339764201500536\n",
      "Predicted good joins fraction: 0.006307222787385555\n",
      "Predicted good joins fraction: 0.010863661053775122\n",
      "Predicted good joins fraction: 0.005937755937755937\n",
      "Predicted good joins fraction: 0.005355303810504634\n"
     ]
    },
    {
     "name": "stderr",
     "output_type": "stream",
     "text": [
      " 73%|███████▎  | 1454/2000 [10:43<04:17,  2.12it/s]"
     ]
    },
    {
     "name": "stdout",
     "output_type": "stream",
     "text": [
      "Predicted good joins fraction: 0.009060955518945634\n",
      "Predicted good joins fraction: 0.004762890867674467\n",
      "Predicted good joins fraction: 0.011499030202272097\n",
      "Predicted good joins fraction: 0.005201831044527674\n",
      "Predicted good joins fraction: 0.009530483531885073\n",
      "Predicted good joins fraction: 0.006065676636686885\n"
     ]
    },
    {
     "name": "stderr",
     "output_type": "stream",
     "text": [
      " 73%|███████▎  | 1455/2000 [10:43<03:52,  2.34it/s]"
     ]
    },
    {
     "name": "stdout",
     "output_type": "stream",
     "text": [
      "Predicted good joins fraction: 0.004419191919191919\n",
      "Predicted good joins fraction: 0.008631668317532192\n",
      "Predicted good joins fraction: 0.004438807863031071\n",
      "Predicted good joins fraction: 0.00756494433342849\n",
      "Predicted good joins fraction: 0.005307855626326964\n",
      "Predicted good joins fraction: 0.0036286019210245465\n",
      "Predicted good joins fraction: 0.008773191428160507\n",
      "Predicted good joins fraction: 0.004498714652956298\n",
      "Predicted good joins fraction: 0.00812536273940801\n",
      "Predicted good joins fraction: 0.0036582741553690553\n",
      "Predicted good joins fraction: 0.00804564072557051\n",
      "Predicted good joins fraction: 0.0032397408207343412\n"
     ]
    },
    {
     "name": "stderr",
     "output_type": "stream",
     "text": [
      " 73%|███████▎  | 1456/2000 [10:43<03:36,  2.51it/s]"
     ]
    },
    {
     "name": "stdout",
     "output_type": "stream",
     "text": [
      "Predicted good joins fraction: 0.004767063921993499\n",
      "Predicted good joins fraction: 0.007668485474118861\n",
      "Predicted good joins fraction: 0.0045721750489875895\n",
      "Predicted good joins fraction: 0.008322187546440778\n",
      "Predicted good joins fraction: 0.003499562554680665\n",
      "Predicted good joins fraction: 0.009441031020530496\n",
      "Predicted good joins fraction: 0.003511852502194908\n"
     ]
    },
    {
     "name": "stderr",
     "output_type": "stream",
     "text": [
      " 73%|███████▎  | 1457/2000 [10:44<03:24,  2.66it/s]"
     ]
    },
    {
     "name": "stdout",
     "output_type": "stream",
     "text": [
      "Predicted good joins fraction: 0.003964757709251102\n",
      "Predicted good joins fraction: 0.006354009077155824\n",
      "Predicted good joins fraction: 0.004201680672268907\n",
      "Predicted good joins fraction: 0.007764920828258221\n",
      "Predicted good joins fraction: 0.004219409282700422\n",
      "Predicted good joins fraction: 0.005129348795718109\n",
      "Predicted good joins fraction: 0.00629123829983121\n"
     ]
    },
    {
     "name": "stderr",
     "output_type": "stream",
     "text": [
      " 73%|███████▎  | 1458/2000 [10:44<03:15,  2.77it/s]"
     ]
    },
    {
     "name": "stdout",
     "output_type": "stream",
     "text": [
      "Predicted good joins fraction: 0.00605245460659045\n",
      "Predicted good joins fraction: 0.00586781964175417\n",
      "Predicted good joins fraction: 0.0040595399188092015\n",
      "Predicted good joins fraction: 0.0060577819198508855\n",
      "Predicted good joins fraction: 0.0018115942028985507\n",
      "Predicted good joins fraction: 0.003176043557168784\n",
      "Predicted good joins fraction: 0.006250976715111736\n",
      "Predicted good joins fraction: 0.0034137460172963133\n",
      "Predicted good joins fraction: 0.005189495203648372\n",
      "Predicted good joins fraction: 0.00593742863667504\n",
      "Predicted good joins fraction: 0.005374644325007904\n",
      "Predicted good joins fraction: 0.0034458993797381117\n"
     ]
    },
    {
     "name": "stderr",
     "output_type": "stream",
     "text": [
      " 73%|███████▎  | 1459/2000 [10:44<03:11,  2.83it/s]"
     ]
    },
    {
     "name": "stdout",
     "output_type": "stream",
     "text": [
      "Predicted good joins fraction: 0.002996772706316275\n",
      "Predicted good joins fraction: 0.006516211061665607\n",
      "Predicted good joins fraction: 0.003468208092485549\n",
      "Predicted good joins fraction: 0.005439129739241722\n",
      "Predicted good joins fraction: 0.002552204176334107\n",
      "Predicted good joins fraction: 0.0027913468248429866\n"
     ]
    },
    {
     "name": "stderr",
     "output_type": "stream",
     "text": [
      " 73%|███████▎  | 1460/2000 [10:45<03:07,  2.89it/s]"
     ]
    },
    {
     "name": "stdout",
     "output_type": "stream",
     "text": [
      "Predicted good joins fraction: 0.004986327810841242\n",
      "Predicted good joins fraction: 0.0030324236062514577\n",
      "Predicted good joins fraction: 0.005819592628516004\n",
      "Predicted good joins fraction: 0.002339728591483388\n",
      "Predicted good joins fraction: 0.004924953095684803\n",
      "Predicted good joins fraction: 0.005365853658536586\n",
      "Predicted good joins fraction: 0.002592505302851756\n",
      "Predicted good joins fraction: 0.005558280202713748\n",
      "Predicted good joins fraction: 0.003544423440453686\n",
      "Predicted good joins fraction: 0.00558934736149926\n",
      "Predicted good joins fraction: 0.0028456248517903723\n",
      "Predicted good joins fraction: 0.0038049940546967895\n",
      "Predicted good joins fraction: 0.00529013060009919\n"
     ]
    },
    {
     "name": "stderr",
     "output_type": "stream",
     "text": [
      " 73%|███████▎  | 1461/2000 [10:45<03:04,  2.92it/s]"
     ]
    },
    {
     "name": "stdout",
     "output_type": "stream",
     "text": [
      "Predicted good joins fraction: 0.0026259250417760803\n",
      "Predicted good joins fraction: 0.004819677580189463\n",
      "Predicted good joins fraction: 0.0011967448539971278\n",
      "Predicted good joins fraction: 0.00501002004008016\n",
      "Predicted good joins fraction: 0.0035945363048166786\n",
      "Predicted good joins fraction: 0.0021645021645021645\n",
      "Predicted good joins fraction: 0.0036925142665323934\n"
     ]
    },
    {
     "name": "stderr",
     "output_type": "stream",
     "text": [
      " 73%|███████▎  | 1462/2000 [10:45<03:03,  2.93it/s]"
     ]
    },
    {
     "name": "stdout",
     "output_type": "stream",
     "text": [
      "Predicted good joins fraction: 0.0028922631959508315\n",
      "Predicted good joins fraction: 0.0042115902964959566\n",
      "Predicted good joins fraction: 0.0031423737007493352\n",
      "Predicted good joins fraction: 0.004906107257655219\n",
      "Predicted good joins fraction: 0.0012124151309408342\n",
      "Predicted good joins fraction: 0.0033988832240835153\n",
      "Predicted good joins fraction: 0.0027201632097925877\n",
      "Predicted good joins fraction: 0.00341047503045067\n",
      "Final size of synthetic data: 4749\n",
      "Predicted good joins fraction: 0.0034094783498124785\n",
      "Predicted good joins fraction: 0.0035921997947314403\n",
      "Predicted good joins fraction: 0.0048068669527896995\n"
     ]
    },
    {
     "name": "stderr",
     "output_type": "stream",
     "text": [
      " 73%|███████▎  | 1463/2000 [10:46<03:02,  2.94it/s]"
     ]
    },
    {
     "name": "stdout",
     "output_type": "stream",
     "text": [
      "Predicted good joins fraction: 0.004312575470070726\n",
      "Predicted good joins fraction: 0.0038115038115038116\n",
      "Predicted good joins fraction: 0.005043478260869565\n"
     ]
    },
    {
     "name": "stderr",
     "output_type": "stream",
     "text": [
      " 73%|███████▎  | 1464/2000 [10:46<03:00,  2.97it/s]"
     ]
    },
    {
     "name": "stdout",
     "output_type": "stream",
     "text": [
      "Predicted good joins fraction: 0.0034958923265163435\n",
      "Predicted good joins fraction: 0.0036835642869671986\n",
      "Predicted good joins fraction: 0.004225352112676056\n"
     ]
    },
    {
     "name": "stderr",
     "output_type": "stream",
     "text": [
      " 73%|███████▎  | 1465/2000 [10:46<02:59,  2.99it/s]"
     ]
    },
    {
     "name": "stdout",
     "output_type": "stream",
     "text": [
      "Predicted good joins fraction: 0.005480905233380481\n",
      "Predicted good joins fraction: 0.003022222222222222\n",
      "Predicted good joins fraction: 0.003744650499286733\n",
      "Predicted good joins fraction: 0.004116699480937892\n",
      "Predicted good joins fraction: 0.0037742631200575125\n",
      "Predicted good joins fraction: 0.0032473389861086056\n"
     ]
    },
    {
     "name": "stderr",
     "output_type": "stream",
     "text": [
      " 73%|███████▎  | 1466/2000 [10:47<02:56,  3.02it/s]"
     ]
    },
    {
     "name": "stdout",
     "output_type": "stream",
     "text": [
      "Predicted good joins fraction: 0.0021719457013574662\n",
      "Predicted good joins fraction: 0.0030836205332849627\n",
      "Predicted good joins fraction: 0.00363901018922853\n"
     ]
    },
    {
     "name": "stderr",
     "output_type": "stream",
     "text": [
      " 73%|███████▎  | 1467/2000 [10:47<02:55,  3.04it/s]"
     ]
    },
    {
     "name": "stdout",
     "output_type": "stream",
     "text": [
      "Predicted good joins fraction: 0.005295836376917458\n",
      "Predicted good joins fraction: 0.003855333210941803\n",
      "Predicted good joins fraction: 0.002948765204570586\n",
      "Predicted good joins fraction: 0.0022181146025878\n",
      "Predicted good joins fraction: 0.0024082993701370877\n",
      "Predicted good joins fraction: 0.002042711234911792\n"
     ]
    },
    {
     "name": "stderr",
     "output_type": "stream",
     "text": [
      " 73%|███████▎  | 1468/2000 [10:47<02:48,  3.15it/s]"
     ]
    },
    {
     "name": "stdout",
     "output_type": "stream",
     "text": [
      "Predicted good joins fraction: 0.004093784890212133\n",
      "Predicted good joins fraction: 0.00429745889387145\n",
      "Predicted good joins fraction: 0.0043160067554888345\n"
     ]
    },
    {
     "name": "stderr",
     "output_type": "stream",
     "text": [
      " 73%|███████▎  | 1469/2000 [10:48<02:49,  3.13it/s]"
     ]
    },
    {
     "name": "stdout",
     "output_type": "stream",
     "text": [
      "Predicted good joins fraction: 0.0020731247644176403\n",
      "Predicted good joins fraction: 0.003777148253068933\n",
      "Predicted good joins fraction: 0.003033175355450237\n",
      "Predicted good joins fraction: 0.0030424034987640235\n",
      "Predicted good joins fraction: 0.0019073049780659929\n",
      "Predicted good joins fraction: 0.003630804509841391\n"
     ]
    },
    {
     "name": "stderr",
     "output_type": "stream",
     "text": [
      " 74%|███████▎  | 1470/2000 [10:48<02:49,  3.12it/s]"
     ]
    },
    {
     "name": "stdout",
     "output_type": "stream",
     "text": [
      "Predicted good joins fraction: 0.0023014959723820483\n",
      "Predicted good joins fraction: 0.0038446751249519417\n",
      "Predicted good joins fraction: 0.0015438054805094559\n"
     ]
    },
    {
     "name": "stderr",
     "output_type": "stream",
     "text": [
      " 74%|███████▎  | 1471/2000 [10:48<02:50,  3.11it/s]"
     ]
    },
    {
     "name": "stdout",
     "output_type": "stream",
     "text": [
      "Predicted good joins fraction: 0.002126014688828759\n",
      "Predicted good joins fraction: 0.002324230098779779\n",
      "Predicted good joins fraction: 0.0019413706076490001\n",
      "Predicted good joins fraction: 0.004084808403034429\n",
      "Predicted good joins fraction: 0.003515625\n",
      "Predicted good joins fraction: 0.002156017248137985\n"
     ]
    },
    {
     "name": "stderr",
     "output_type": "stream",
     "text": [
      " 74%|███████▎  | 1472/2000 [10:49<02:49,  3.11it/s]"
     ]
    },
    {
     "name": "stdout",
     "output_type": "stream",
     "text": [
      "Predicted good joins fraction: 0.0017678255745433118\n",
      "Predicted good joins fraction: 0.0023612750885478157\n",
      "Predicted good joins fraction: 0.0029585798816568047\n"
     ]
    },
    {
     "name": "stderr",
     "output_type": "stream",
     "text": [
      " 74%|███████▎  | 1473/2000 [10:49<02:49,  3.11it/s]"
     ]
    },
    {
     "name": "stdout",
     "output_type": "stream",
     "text": [
      "Predicted good joins fraction: 0.0019782393669634025\n",
      "Predicted good joins fraction: 0.00178394449950446\n",
      "Predicted good joins fraction: 0.0023828435266084196\n",
      "Predicted good joins fraction: 0.0017914012738853504\n",
      "Predicted good joins fraction: 0.0015952143569292123\n",
      "Predicted good joins fraction: 0.003395246654683443\n"
     ]
    },
    {
     "name": "stderr",
     "output_type": "stream",
     "text": [
      " 74%|███████▎  | 1474/2000 [10:49<02:49,  3.10it/s]"
     ]
    },
    {
     "name": "stdout",
     "output_type": "stream",
     "text": [
      "Predicted good joins fraction: 0.002004008016032064\n",
      "Predicted good joins fraction: 0.002008032128514056\n",
      "Predicted good joins fraction: 0.002012072434607646\n"
     ]
    },
    {
     "name": "stderr",
     "output_type": "stream",
     "text": [
      " 74%|███████▍  | 1475/2000 [10:50<02:49,  3.10it/s]"
     ]
    },
    {
     "name": "stdout",
     "output_type": "stream",
     "text": [
      "Predicted good joins fraction: 0.0020161290322580645\n",
      "Final size of synthetic data: 3890\n"
     ]
    },
    {
     "name": "stderr",
     "output_type": "stream",
     "text": [
      " 77%|███████▋  | 1549/2000 [11:18<03:17,  2.28it/s]\n"
     ]
    },
    {
     "name": "stdout",
     "output_type": "stream",
     "text": [
      "Predicted good joins fraction: 0.020475113122171946\n",
      "Predicted good joins fraction: 0.016514609077260652\n",
      "Predicted good joins fraction: 0.016439643024894316\n",
      "Predicted good joins fraction: 0.015759312320916905\n",
      "Predicted good joins fraction: 0.013585638039786511\n",
      "Predicted good joins fraction: 0.013280865715691098\n",
      "Predicted good joins fraction: 0.012337986041874378\n",
      "Predicted good joins fraction: 0.012870662460567823\n",
      "Predicted good joins fraction: 0.010098427713153522\n",
      "Predicted good joins fraction: 0.009297520661157025\n",
      "Predicted good joins fraction: 0.010036496350364963\n",
      "Predicted good joins fraction: 0.00934825543120474\n",
      "Predicted good joins fraction: 0.010101010101010102\n",
      "Predicted good joins fraction: 0.009129967776584319\n",
      "Predicted good joins fraction: 0.009078590785907859\n",
      "Predicted good joins fraction: 0.008341309995897717\n",
      "Predicted good joins fraction: 0.005653612796469939\n",
      "Predicted good joins fraction: 0.00915268340036056\n",
      "Predicted good joins fraction: 0.007557732680195941\n",
      "Predicted good joins fraction: 0.007192215484416866\n",
      "Predicted good joins fraction: 0.0078125\n",
      "Predicted good joins fraction: 0.006012884753042233\n",
      "Predicted good joins fraction: 0.006625378078640358\n",
      "Predicted good joins fraction: 0.006089604175728578\n",
      "Predicted good joins fraction: 0.006856309263311451\n",
      "Predicted good joins fraction: 0.008372502937720329\n",
      "Predicted good joins fraction: 0.0081469411938972\n",
      "Predicted good joins fraction: 0.0062724014336917565\n",
      "Predicted good joins fraction: 0.006462278328824767\n",
      "Predicted good joins fraction: 0.0068068370896989866\n",
      "Predicted good joins fraction: 0.007158087115443192\n",
      "Predicted good joins fraction: 0.00613591041570793\n",
      "Predicted good joins fraction: 0.004784688995215311\n",
      "Predicted good joins fraction: 0.004342431761786601\n",
      "Predicted good joins fraction: 0.005451713395638629\n",
      "Predicted good joins fraction: 0.007830853563038372\n",
      "Predicted good joins fraction: 0.005840568271507498\n",
      "Predicted good joins fraction: 0.0050809780882819944\n",
      "Predicted good joins fraction: 0.003032237472071497\n",
      "Predicted good joins fraction: 0.005122458780214503\n",
      "Predicted good joins fraction: 0.00498793242156074\n",
      "Predicted good joins fraction: 0.005498059508408797\n",
      "Predicted good joins fraction: 0.004227642276422764\n",
      "Predicted good joins fraction: 0.004898758981058132\n",
      "Predicted good joins fraction: 0.004594683295044306\n",
      "Predicted good joins fraction: 0.0034619188921859545\n",
      "Predicted good joins fraction: 0.003143093465674111\n",
      "Predicted good joins fraction: 0.0034848987719880518\n",
      "Predicted good joins fraction: 0.004829308909242298\n",
      "Predicted good joins fraction: 0.004183400267737617\n",
      "Predicted good joins fraction: 0.003528818685935137\n",
      "Predicted good joins fraction: 0.003709949409780776\n",
      "Predicted good joins fraction: 0.002708192281651997\n",
      "Predicted good joins fraction: 0.0033944331296673455\n",
      "Predicted good joins fraction: 0.0023841961852861036\n",
      "Predicted good joins fraction: 0.0032434277910549677\n",
      "Predicted good joins fraction: 0.003082719643774619\n",
      "Predicted good joins fraction: 0.0036076275554028517\n",
      "Predicted good joins fraction: 0.003793103448275862\n",
      "Predicted good joins fraction: 0.00380754586362063\n",
      "Predicted good joins fraction: 0.002953439888811675\n",
      "Predicted good joins fraction: 0.003833420456525527\n",
      "Predicted good joins fraction: 0.0036732552037782055\n",
      "Predicted good joins fraction: 0.0017556179775280898\n",
      "Predicted good joins fraction: 0.003693281744635948\n",
      "Predicted good joins fraction: 0.003177405119152692\n",
      "Predicted good joins fraction: 0.0024791924915884543\n",
      "Predicted good joins fraction: 0.0010651517841292384\n",
      "Predicted good joins fraction: 0.0023102896747822996\n",
      "Predicted good joins fraction: 0.0023156394727467046\n",
      "Predicted good joins fraction: 0.0014283163720764148\n",
      "Predicted good joins fraction: 0.0028607187555873413\n",
      "Predicted good joins fraction: 0.0032275416890801506\n",
      "Predicted good joins fraction: 0.002338550098938658\n",
      "Predicted good joins fraction: 0.002163721601153985\n",
      "Predicted good joins fraction: 0.0028912179255511385\n",
      "Predicted good joins fraction: 0.0025371511417180137\n",
      "Predicted good joins fraction: 0.0023619186046511626\n",
      "Predicted good joins fraction: 0.00364232380258605\n",
      "Predicted good joins fraction: 0.0016450374702979345\n",
      "Predicted good joins fraction: 0.0020139143170999634\n",
      "Predicted good joins fraction: 0.003852504127682994\n",
      "Predicted good joins fraction: 0.0022099447513812156\n",
      "Predicted good joins fraction: 0.003137689184200812\n",
      "Predicted good joins fraction: 0.0022218107757822625\n",
      "Predicted good joins fraction: 0.002597884579699388\n",
      "Predicted good joins fraction: 0.0014883720930232557\n",
      "Predicted good joins fraction: 0.001863238308179616\n",
      "Predicted good joins fraction: 0.002800074668657831\n",
      "Predicted good joins fraction: 0.002995132909022838\n",
      "Predicted good joins fraction: 0.002816372512204281\n",
      "Predicted good joins fraction: 0.0024477499529278854\n",
      "Predicted good joins fraction: 0.0033975084937712344\n",
      "Predicted good joins fraction: 0.0015151515151515152\n",
      "Predicted good joins fraction: 0.0018968133535660092\n",
      "Predicted good joins fraction: 0.0013302926643861649\n",
      "Predicted good joins fraction: 0.0028544243577545195\n",
      "Predicted good joins fraction: 0.002099236641221374\n",
      "Predicted good joins fraction: 0.0024861350162554982\n",
      "Predicted good joins fraction: 0.0013420245398773007\n",
      "Final size of synthetic data: 3631\n"
     ]
    },
    {
     "name": "stderr",
     "output_type": "stream",
     "text": [
      "/tmp/ipykernel_3532716/3754842084.py:26: PerformanceWarning: dropping on a non-lexsorted multi-index without a level parameter may impact performance.\n",
      "  res = res.drop(columns=['rank', 'u_rank', 'p_rank'])\n"
     ]
    }
   ],
   "source": [
    "df_dgms = mixed_model_experiment(df_train, df_test, 'synthpop', 'ctgan', cat_atts, num_atts, label, metrics)\n",
    "df_dgms.to_csv('experiments/results/mixed_model_results/hepatitis_case_study_adapt/synthpop_ctgan.csv')\n",
    "#~12 mins"
   ]
  },
  {
   "cell_type": "code",
   "execution_count": 13,
   "metadata": {},
   "outputs": [
    {
     "name": "stderr",
     "output_type": "stream",
     "text": [
      "Find out more at https://www.synthpop.org.uk/\n",
      "Find out more at https://www.synthpop.org.uk/\n",
      "Find out more at https://www.synthpop.org.uk/\n"
     ]
    },
    {
     "name": "stdout",
     "output_type": "stream",
     "text": [
      "\n",
      "Variable(s): WBC, RBC, Plat, RNA.Base, RNA.4, RNA.12, RNA.EOT, RNA.EF, Gender, Fever, Nausea.Vomting, Headache, Diarrhea, Fatigue...generalized.bone.ache, Jaundice, Epigastric.pain, b_class numeric but with only 3 or fewer distinct values turned into factor(s) for synthesis.\n",
      "\n",
      "\n",
      "Variable(s): WBC, RBC, Plat, RNA.Base, RNA.4, RNA.12, RNA.EOT, RNA.EF, Gender, Fever, Nausea.Vomting, Headache, Diarrhea, Fatigue...generalized.bone.ache, Jaundice, Epigastric.pain, b_class numeric but with only 3 or fewer distinct values turned into factor(s) for synthesis.\n",
      "\n",
      "\n",
      "Variable(s): WBC, RBC, Plat, RNA.Base, RNA.4, RNA.12, RNA.EOT, RNA.EF, Gender, Fever, Nausea.Vomting, Headache, Diarrhea, Fatigue...generalized.bone.ache, Jaundice, Epigastric.pain, b_class numeric but with only 3 or fewer distinct values turned into factor(s) for synthesis.\n",
      "\n"
     ]
    },
    {
     "name": "stderr",
     "output_type": "stream",
     "text": [
      "Find out more at https://www.synthpop.org.uk/\n",
      "Find out more at https://www.synthpop.org.uk/\n",
      "Find out more at https://www.synthpop.org.uk/\n",
      "Find out more at https://www.synthpop.org.uk/\n"
     ]
    },
    {
     "name": "stdout",
     "output_type": "stream",
     "text": [
      "\n",
      "Variable(s): WBC, RBC, Plat, RNA.Base, RNA.4, RNA.12, RNA.EOT, RNA.EF, Gender, Fever, Nausea.Vomting, Headache, Diarrhea, Fatigue...generalized.bone.ache, Jaundice, Epigastric.pain, b_class numeric but with only 3 or fewer distinct values turned into factor(s) for synthesis.\n",
      "\n",
      "\n",
      "Variable(s): WBC, RBC, Plat, RNA.Base, RNA.4, RNA.12, RNA.EOT, RNA.EF, Gender, Fever, Nausea.Vomting, Headache, Diarrhea, Fatigue...generalized.bone.ache, Jaundice, Epigastric.pain, b_class numeric but with only 3 or fewer distinct values turned into factor(s) for synthesis.\n",
      "\n",
      "\n",
      "Variable(s): WBC, RBC, Plat, RNA.Base, RNA.4, RNA.12, RNA.EOT, RNA.EF, Gender, Fever, Nausea.Vomting, Headache, Diarrhea, Fatigue...generalized.bone.ache, Jaundice, Epigastric.pain, b_class numeric but with only 3 or fewer distinct values turned into factor(s) for synthesis.\n",
      "\n",
      "\n",
      "Variable(s): WBC, RBC, Plat, RNA.Base, RNA.4, RNA.12, RNA.EOT, RNA.EF, Gender, Fever, Nausea.Vomting, Headache, Diarrhea, Fatigue...generalized.bone.ache, Jaundice, Epigastric.pain, b_class numeric but with only 3 or fewer distinct values turned into factor(s) for synthesis.\n",
      "\n"
     ]
    },
    {
     "name": "stderr",
     "output_type": "stream",
     "text": [
      "Find out more at https://www.synthpop.org.uk/\n",
      "Find out more at https://www.synthpop.org.uk/\n",
      "Find out more at https://www.synthpop.org.uk/\n"
     ]
    },
    {
     "name": "stdout",
     "output_type": "stream",
     "text": [
      "\n",
      "Variable(s): WBC, RBC, Plat, RNA.Base, RNA.4, RNA.12, RNA.EOT, RNA.EF, Gender, Fever, Nausea.Vomting, Headache, Diarrhea, Fatigue...generalized.bone.ache, Jaundice, Epigastric.pain, b_class numeric but with only 3 or fewer distinct values turned into factor(s) for synthesis.\n",
      "\n",
      "\n",
      "Variable(s): WBC, RBC, Plat, RNA.Base, RNA.4, RNA.12, RNA.EOT, RNA.EF, Gender, Fever, Nausea.Vomting, Headache, Diarrhea, Fatigue...generalized.bone.ache, Jaundice, Epigastric.pain, b_class numeric but with only 3 or fewer distinct values turned into factor(s) for synthesis.\n",
      "\n",
      "\n",
      "Variable(s): WBC, RBC, Plat, RNA.Base, RNA.4, RNA.12, RNA.EOT, RNA.EF, Gender, Fever, Nausea.Vomting, Headache, Diarrhea, Fatigue...generalized.bone.ache, Jaundice, Epigastric.pain, b_class numeric but with only 3 or fewer distinct values turned into factor(s) for synthesis.\n",
      "\n",
      "Synthetic data exported as csv file(s).\n",
      "Information on synthetic data written to\n",
      "  /home/lautrup/repositories/disjoint-synthetic-data-generation/synthesis_info_synthpop_temp_70_synthpop.txt \n",
      "Synthetic data exported as csv file(s).\n",
      "Information on synthetic data written to\n",
      "  /home/lautrup/repositories/disjoint-synthetic-data-generation/synthesis_info_synthpop_temp_10_synthpop.txt \n",
      "Synthetic data exported as csv file(s).\n",
      "Information on synthetic data written to\n",
      "  /home/lautrup/repositories/disjoint-synthetic-data-generation/synthesis_info_synthpop_temp_50_synthpop.txt \n",
      "Synthetic data exported as csv file(s).\n",
      "Information on synthetic data written to\n",
      "  /home/lautrup/repositories/disjoint-synthetic-data-generation/synthesis_info_synthpop_temp_20_synthpop.txt \n",
      "Synthetic data exported as csv file(s).\n",
      "Information on synthetic data written to\n",
      "  /home/lautrup/repositories/disjoint-synthetic-data-generation/synthesis_info_synthpop_temp_40_synthpop.txt \n",
      "Synthetic data exported as csv file(s).\n",
      "Information on synthetic data written to\n",
      "  /home/lautrup/repositories/disjoint-synthetic-data-generation/synthesis_info_synthpop_temp_30_synthpop.txt \n",
      "Synthetic data exported as csv file(s).\n",
      "Information on synthetic data written to\n",
      "  /home/lautrup/repositories/disjoint-synthetic-data-generation/synthesis_info_synthpop_temp_60_synthpop.txt \n",
      "Synthetic data exported as csv file(s).\n",
      "Information on synthetic data written to\n",
      "  /home/lautrup/repositories/disjoint-synthetic-data-generation/synthesis_info_synthpop_temp_80_synthpop.txt \n",
      "Synthetic data exported as csv file(s).\n",
      "Information on synthetic data written to\n",
      "  /home/lautrup/repositories/disjoint-synthetic-data-generation/synthesis_info_synthpop_temp_90_synthpop.txt \n",
      "Synthetic data exported as csv file(s).\n",
      "Information on synthetic data written to\n",
      "  /home/lautrup/repositories/disjoint-synthetic-data-generation/synthesis_info_synthpop_temp_0_synthpop.txt \n"
     ]
    },
    {
     "name": "stderr",
     "output_type": "stream",
     "text": [
      "[2024-12-17T13:00:28.091891+0100][3565674][CRITICAL] module disabled: /home/lautrup/sdg_env/lib/python3.10/site-packages/synthcity/plugins/generic/plugin_goggle.py\n",
      "[2024-12-17T13:00:28.256465+0100][3565675][CRITICAL] module disabled: /home/lautrup/sdg_env/lib/python3.10/site-packages/synthcity/plugins/generic/plugin_goggle.py\n",
      "[2024-12-17T13:00:28.379961+0100][3565680][CRITICAL] module disabled: /home/lautrup/sdg_env/lib/python3.10/site-packages/synthcity/plugins/generic/plugin_goggle.py\n",
      "[2024-12-17T13:00:28.613480+0100][3565677][CRITICAL] module disabled: /home/lautrup/sdg_env/lib/python3.10/site-packages/synthcity/plugins/generic/plugin_goggle.py\n",
      "[2024-12-17T13:00:28.672679+0100][3565679][CRITICAL] module disabled: /home/lautrup/sdg_env/lib/python3.10/site-packages/synthcity/plugins/generic/plugin_goggle.py\n",
      "[2024-12-17T13:00:28.720238+0100][3565676][CRITICAL] module disabled: /home/lautrup/sdg_env/lib/python3.10/site-packages/synthcity/plugins/generic/plugin_goggle.py\n",
      "[2024-12-17T13:00:28.720609+0100][3565682][CRITICAL] module disabled: /home/lautrup/sdg_env/lib/python3.10/site-packages/synthcity/plugins/generic/plugin_goggle.py\n",
      "[2024-12-17T13:00:28.785271+0100][3565681][CRITICAL] module disabled: /home/lautrup/sdg_env/lib/python3.10/site-packages/synthcity/plugins/generic/plugin_goggle.py\n",
      "[2024-12-17T13:00:29.147492+0100][3565673][CRITICAL] module disabled: /home/lautrup/sdg_env/lib/python3.10/site-packages/synthcity/plugins/generic/plugin_goggle.py\n",
      "[2024-12-17T13:00:29.207173+0100][3565678][CRITICAL] module disabled: /home/lautrup/sdg_env/lib/python3.10/site-packages/synthcity/plugins/generic/plugin_goggle.py\n",
      "  7%|▋         | 699/10000 [05:53<1:18:26,  1.98it/s]\n",
      "  7%|▋         | 708/10000 [06:01<1:16:12,  2.03it/s]"
     ]
    },
    {
     "name": "stdout",
     "output_type": "stream",
     "text": [
      "Final size of synthetic data: 3821\n"
     ]
    },
    {
     "name": "stderr",
     "output_type": "stream",
     "text": [
      "  7%|▋         | 699/10000 [06:13<1:22:51,  1.87it/s]\n",
      "  8%|▊         | 765/10000 [06:22<59:49,  2.57it/s]  "
     ]
    },
    {
     "name": "stdout",
     "output_type": "stream",
     "text": [
      "Final size of synthetic data: 4131\n"
     ]
    },
    {
     "name": "stderr",
     "output_type": "stream",
     "text": [
      "  8%|▊         | 799/10000 [06:37<1:16:16,  2.01it/s]\n",
      "  8%|▊         | 811/10000 [06:44<1:00:53,  2.52it/s]"
     ]
    },
    {
     "name": "stdout",
     "output_type": "stream",
     "text": [
      "Final size of synthetic data: 3976\n"
     ]
    },
    {
     "name": "stderr",
     "output_type": "stream",
     "text": [
      "  8%|▊         | 799/10000 [06:45<1:17:52,  1.97it/s]\n",
      "  8%|▊         | 835/10000 [06:54<1:06:04,  2.31it/s]"
     ]
    },
    {
     "name": "stdout",
     "output_type": "stream",
     "text": [
      "Final size of synthetic data: 3591\n"
     ]
    },
    {
     "name": "stderr",
     "output_type": "stream",
     "text": [
      "  8%|▊         | 849/10000 [06:57<1:14:56,  2.03it/s]\n",
      "  9%|▊         | 859/10000 [07:04<57:49,  2.63it/s]  "
     ]
    },
    {
     "name": "stdout",
     "output_type": "stream",
     "text": [
      "Final size of synthetic data: 3647\n"
     ]
    },
    {
     "name": "stderr",
     "output_type": "stream",
     "text": [
      "  8%|▊         | 849/10000 [07:07<1:16:44,  1.99it/s]\n",
      "  9%|▉         | 899/10000 [07:15<1:13:27,  2.06it/s]\n",
      "  9%|▉         | 889/10000 [07:15<53:38,  2.83it/s]"
     ]
    },
    {
     "name": "stdout",
     "output_type": "stream",
     "text": [
      "Final size of synthetic data: 3781\n"
     ]
    },
    {
     "name": "stderr",
     "output_type": "stream",
     "text": [
      "  9%|▉         | 921/10000 [07:24<52:07,  2.90it/s]s]"
     ]
    },
    {
     "name": "stdout",
     "output_type": "stream",
     "text": [
      "Final size of synthetic data: 4013\n"
     ]
    },
    {
     "name": "stderr",
     "output_type": "stream",
     "text": [
      " 10%|▉         | 999/10000 [08:02<1:12:29,  2.07it/s] \n",
      " 10%|█         | 1047/10000 [08:11<50:13,  2.97it/s]"
     ]
    },
    {
     "name": "stdout",
     "output_type": "stream",
     "text": [
      "Final size of synthetic data: 3775\n"
     ]
    },
    {
     "name": "stderr",
     "output_type": "stream",
     "text": [
      " 12%|█▏        | 1249/10000 [09:34<1:07:06,  2.17it/s]\n",
      " 13%|█▎        | 1288/10000 [09:42<47:12,  3.08it/s]"
     ]
    },
    {
     "name": "stdout",
     "output_type": "stream",
     "text": [
      "Final size of synthetic data: 3600\n"
     ]
    },
    {
     "name": "stderr",
     "output_type": "stream",
     "text": [
      " 15%|█▍        | 1499/10000 [11:02<1:02:39,  2.26it/s]\n"
     ]
    },
    {
     "name": "stdout",
     "output_type": "stream",
     "text": [
      "Final size of synthetic data: 4533\n"
     ]
    },
    {
     "name": "stderr",
     "output_type": "stream",
     "text": [
      "/tmp/ipykernel_3532716/2612257873.py:26: PerformanceWarning: dropping on a non-lexsorted multi-index without a level parameter may impact performance.\n",
      "  res = res.drop(columns=['rank', 'u_rank', 'p_rank'])\n"
     ]
    }
   ],
   "source": [
    "df_dgms = mixed_model_experiment(df_train, df_test, 'synthpop', 'adsgan', cat_atts, num_atts, label, metrics)\n",
    "df_dgms.to_csv('experiments/results/mixed_model_results/hepatitis_case_study_adapt/synthpop_adsgan.csv')\n",
    "#~12 mins"
   ]
  },
  {
   "cell_type": "code",
   "execution_count": null,
   "metadata": {},
   "outputs": [
    {
     "name": "stderr",
     "output_type": "stream",
     "text": [
      "Find out more at https://www.synthpop.org.uk/\n",
      "Find out more at https://www.synthpop.org.uk/\n"
     ]
    },
    {
     "name": "stdout",
     "output_type": "stream",
     "text": [
      "\n",
      "Variable(s): WBC, RBC, Plat, RNA.Base, RNA.4, RNA.12, RNA.EOT, RNA.EF, Gender, Fever, Nausea.Vomting, Headache, Diarrhea, Fatigue...generalized.bone.ache, Jaundice, Epigastric.pain, b_class numeric but with only 3 or fewer distinct values turned into factor(s) for synthesis.\n",
      "\n",
      "\n",
      "Variable(s): WBC, RBC, Plat, RNA.Base, RNA.4, RNA.12, RNA.EOT, RNA.EF, Gender, Fever, Nausea.Vomting, Headache, Diarrhea, Fatigue...generalized.bone.ache, Jaundice, Epigastric.pain, b_class numeric but with only 3 or fewer distinct values turned into factor(s) for synthesis.\n",
      "\n"
     ]
    },
    {
     "name": "stderr",
     "output_type": "stream",
     "text": [
      "Find out more at https://www.synthpop.org.uk/\n",
      "Find out more at https://www.synthpop.org.uk/\n",
      "Find out more at https://www.synthpop.org.uk/\n",
      "Find out more at https://www.synthpop.org.uk/\n"
     ]
    },
    {
     "name": "stdout",
     "output_type": "stream",
     "text": [
      "\n",
      "Variable(s): WBC, RBC, Plat, RNA.Base, RNA.4, RNA.12, RNA.EOT, RNA.EF, Gender, Fever, Nausea.Vomting, Headache, Diarrhea, Fatigue...generalized.bone.ache, Jaundice, Epigastric.pain, b_class numeric but with only 3 or fewer distinct values turned into factor(s) for synthesis.\n",
      "\n",
      "\n",
      "Variable(s): WBC, RBC, Plat, RNA.Base, RNA.4, RNA.12, RNA.EOT, RNA.EF, Gender, Fever, Nausea.Vomting, Headache, Diarrhea, Fatigue...generalized.bone.ache, Jaundice, Epigastric.pain, b_class numeric but with only 3 or fewer distinct values turned into factor(s) for synthesis.\n",
      "\n",
      "\n",
      "Variable(s): WBC, RBC, Plat, RNA.Base, RNA.4, RNA.12, RNA.EOT, RNA.EF, Gender, Fever, Nausea.Vomting, Headache, Diarrhea, Fatigue...generalized.bone.ache, Jaundice, Epigastric.pain, b_class numeric but with only 3 or fewer distinct values turned into factor(s) for synthesis.\n",
      "\n",
      "\n",
      "Variable(s): WBC, RBC, Plat, RNA.Base, RNA.4, RNA.12, RNA.EOT, RNA.EF, Gender, Fever, Nausea.Vomting, Headache, Diarrhea, Fatigue...generalized.bone.ache, Jaundice, Epigastric.pain, b_class numeric but with only 3 or fewer distinct values turned into factor(s) for synthesis.\n",
      "\n"
     ]
    },
    {
     "name": "stderr",
     "output_type": "stream",
     "text": [
      "Find out more at https://www.synthpop.org.uk/\n"
     ]
    },
    {
     "name": "stdout",
     "output_type": "stream",
     "text": [
      "\n",
      "Variable(s): WBC, RBC, Plat, RNA.Base, RNA.4, RNA.12, RNA.EOT, RNA.EF, Gender, Fever, Nausea.Vomting, Headache, Diarrhea, Fatigue...generalized.bone.ache, Jaundice, Epigastric.pain, b_class numeric but with only 3 or fewer distinct values turned into factor(s) for synthesis.\n",
      "\n"
     ]
    },
    {
     "name": "stderr",
     "output_type": "stream",
     "text": [
      "Find out more at https://www.synthpop.org.uk/\n",
      "Find out more at https://www.synthpop.org.uk/\n",
      "Find out more at https://www.synthpop.org.uk/\n"
     ]
    },
    {
     "name": "stdout",
     "output_type": "stream",
     "text": [
      "\n",
      "Variable(s): WBC, RBC, Plat, RNA.Base, RNA.4, RNA.12, RNA.EOT, RNA.EF, Gender, Fever, Nausea.Vomting, Headache, Diarrhea, Fatigue...generalized.bone.ache, Jaundice, Epigastric.pain, b_class numeric but with only 3 or fewer distinct values turned into factor(s) for synthesis.\n",
      "\n",
      "\n",
      "Variable(s): WBC, RBC, Plat, RNA.Base, RNA.4, RNA.12, RNA.EOT, RNA.EF, Gender, Fever, Nausea.Vomting, Headache, Diarrhea, Fatigue...generalized.bone.ache, Jaundice, Epigastric.pain, b_class numeric but with only 3 or fewer distinct values turned into factor(s) for synthesis.\n",
      "\n",
      "\n",
      "Variable(s): WBC, RBC, Plat, RNA.Base, RNA.4, RNA.12, RNA.EOT, RNA.EF, Gender, Fever, Nausea.Vomting, Headache, Diarrhea, Fatigue...generalized.bone.ache, Jaundice, Epigastric.pain, b_class numeric but with only 3 or fewer distinct values turned into factor(s) for synthesis.\n",
      "\n",
      "Synthetic data exported as csv file(s).\n",
      "Information on synthetic data written to\n",
      "  /home/lautrup/repositories/disjoint-synthetic-data-generation/synthesis_info_synthpop_temp_10_synthpop.txt \n",
      "Synthetic data exported as csv file(s).\n",
      "Information on synthetic data written to\n",
      "  /home/lautrup/repositories/disjoint-synthetic-data-generation/synthesis_info_synthpop_temp_90_synthpop.txt \n",
      "Synthetic data exported as csv file(s).\n",
      "Information on synthetic data written to\n",
      "  /home/lautrup/repositories/disjoint-synthetic-data-generation/synthesis_info_synthpop_temp_20_synthpop.txt \n",
      "Synthetic data exported as csv file(s).\n",
      "Information on synthetic data written to\n",
      "  /home/lautrup/repositories/disjoint-synthetic-data-generation/synthesis_info_synthpop_temp_0_synthpop.txt \n",
      "Synthetic data exported as csv file(s).\n",
      "Information on synthetic data written to\n",
      "  /home/lautrup/repositories/disjoint-synthetic-data-generation/synthesis_info_synthpop_temp_50_synthpop.txt \n",
      "Synthetic data exported as csv file(s).\n",
      "Information on synthetic data written to\n",
      "  /home/lautrup/repositories/disjoint-synthetic-data-generation/synthesis_info_synthpop_temp_30_synthpop.txt \n",
      "Synthetic data exported as csv file(s).\n",
      "Information on synthetic data written to\n",
      "  /home/lautrup/repositories/disjoint-synthetic-data-generation/synthesis_info_synthpop_temp_60_synthpop.txt \n",
      "Synthetic data exported as csv file(s).\n",
      "Information on synthetic data written to\n",
      "  /home/lautrup/repositories/disjoint-synthetic-data-generation/synthesis_info_synthpop_temp_70_synthpop.txt \n",
      "Synthetic data exported as csv file(s).\n",
      "Information on synthetic data written to\n",
      "  /home/lautrup/repositories/disjoint-synthetic-data-generation/synthesis_info_synthpop_temp_40_synthpop.txt \n",
      "Synthetic data exported as csv file(s).\n",
      "Information on synthetic data written to\n",
      "  /home/lautrup/repositories/disjoint-synthetic-data-generation/synthesis_info_synthpop_temp_80_synthpop.txt \n"
     ]
    },
    {
     "name": "stderr",
     "output_type": "stream",
     "text": [
      "[2024-12-17T13:29:10.720301+0100][3596716][CRITICAL] module disabled: /home/lautrup/sdg_env/lib/python3.10/site-packages/synthcity/plugins/generic/plugin_goggle.py\n",
      "[2024-12-17T13:29:10.759538+0100][3596726][CRITICAL] module disabled: /home/lautrup/sdg_env/lib/python3.10/site-packages/synthcity/plugins/generic/plugin_goggle.py\n",
      "[2024-12-17T13:29:10.806817+0100][3596729][CRITICAL] module disabled: /home/lautrup/sdg_env/lib/python3.10/site-packages/synthcity/plugins/generic/plugin_goggle.py\n",
      "[2024-12-17T13:29:10.872424+0100][3596706][CRITICAL] module disabled: /home/lautrup/sdg_env/lib/python3.10/site-packages/synthcity/plugins/generic/plugin_goggle.py\n",
      "[2024-12-17T13:29:10.888156+0100][3596732][CRITICAL] module disabled: /home/lautrup/sdg_env/lib/python3.10/site-packages/synthcity/plugins/generic/plugin_goggle.py\n",
      "[2024-12-17T13:29:10.922759+0100][3596719][CRITICAL] module disabled: /home/lautrup/sdg_env/lib/python3.10/site-packages/synthcity/plugins/generic/plugin_goggle.py\n",
      "[2024-12-17T13:29:11.060038+0100][3596733][CRITICAL] module disabled: /home/lautrup/sdg_env/lib/python3.10/site-packages/synthcity/plugins/generic/plugin_goggle.py\n",
      "[2024-12-17T13:29:11.408326+0100][3596731][CRITICAL] module disabled: /home/lautrup/sdg_env/lib/python3.10/site-packages/synthcity/plugins/generic/plugin_goggle.py\n",
      "[2024-12-17T13:29:11.461393+0100][3596730][CRITICAL] module disabled: /home/lautrup/sdg_env/lib/python3.10/site-packages/synthcity/plugins/generic/plugin_goggle.py\n",
      "[2024-12-17T13:29:11.596260+0100][3596728][CRITICAL] module disabled: /home/lautrup/sdg_env/lib/python3.10/site-packages/synthcity/plugins/generic/plugin_goggle.py\n",
      " 15%|█▍        | 299/2000 [03:13<18:19,  1.55it/s]  \n",
      " 14%|█▍        | 285/2000 [03:21<18:32,  1.54it/s]"
     ]
    },
    {
     "name": "stdout",
     "output_type": "stream",
     "text": [
      "Final size of synthetic data: 3263\n"
     ]
    },
    {
     "name": "stderr",
     "output_type": "stream",
     "text": [
      " 17%|█▋        | 349/2000 [04:05<19:21,  1.42it/s]\n",
      " 17%|█▋        | 349/2000 [04:07<19:29,  1.41it/s]\n",
      " 17%|█▋        | 349/2000 [04:08<19:37,  1.40it/s]\n",
      " 18%|█▊        | 365/2000 [04:13<14:26,  1.89it/s]"
     ]
    },
    {
     "name": "stdout",
     "output_type": "stream",
     "text": [
      "Final size of synthetic data: 2998\n"
     ]
    },
    {
     "name": "stderr",
     "output_type": "stream",
     "text": [
      " 19%|█▉        | 376/2000 [04:17<13:37,  1.99it/s]"
     ]
    },
    {
     "name": "stdout",
     "output_type": "stream",
     "text": [
      "Final size of synthetic data: 2456\n"
     ]
    },
    {
     "name": "stderr",
     "output_type": "stream",
     "text": [
      " 19%|█▊        | 371/2000 [04:16<14:12,  1.91it/s]"
     ]
    },
    {
     "name": "stdout",
     "output_type": "stream",
     "text": [
      "Final size of synthetic data: 2521\n"
     ]
    },
    {
     "name": "stderr",
     "output_type": "stream",
     "text": [
      " 20%|█▉        | 399/2000 [04:28<17:56,  1.49it/s]\n",
      " 21%|██        | 415/2000 [04:34<12:28,  2.12it/s]"
     ]
    },
    {
     "name": "stdout",
     "output_type": "stream",
     "text": [
      "Final size of synthetic data: 1668\n"
     ]
    },
    {
     "name": "stderr",
     "output_type": "stream",
     "text": [
      " 20%|█▉        | 399/2000 [04:34<18:19,  1.46it/s]\n",
      " 20%|█▉        | 399/2000 [04:36<18:30,  1.44it/s]\n",
      " 21%|██▏       | 425/2000 [04:38<12:20,  2.13it/s]"
     ]
    },
    {
     "name": "stdout",
     "output_type": "stream",
     "text": [
      "Final size of synthetic data: 4876\n"
     ]
    },
    {
     "name": "stderr",
     "output_type": "stream",
     "text": [
      " 21%|██        | 422/2000 [04:42<12:02,  2.19it/s]"
     ]
    },
    {
     "name": "stdout",
     "output_type": "stream",
     "text": [
      "Final size of synthetic data: 2833\n"
     ]
    },
    {
     "name": "stderr",
     "output_type": "stream",
     "text": [
      " 25%|██▍       | 499/2000 [05:22<16:09,  1.55it/s]\n",
      " 25%|██▌       | 505/2000 [05:25<13:10,  1.89it/s]"
     ]
    },
    {
     "name": "stdout",
     "output_type": "stream",
     "text": [
      "Final size of synthetic data: 774\n"
     ]
    },
    {
     "name": "stderr",
     "output_type": "stream",
     "text": [
      " 35%|███▍      | 699/2000 [07:01<13:04,  1.66it/s]\n",
      " 36%|███▌      | 719/2000 [07:05<09:34,  2.23it/s]"
     ]
    },
    {
     "name": "stdout",
     "output_type": "stream",
     "text": [
      "Final size of synthetic data: 791\n"
     ]
    },
    {
     "name": "stderr",
     "output_type": "stream",
     "text": [
      " 42%|████▏     | 849/2000 [08:09<11:03,  1.73it/s]\n"
     ]
    },
    {
     "name": "stdout",
     "output_type": "stream",
     "text": [
      "Final size of synthetic data: 2733\n"
     ]
    },
    {
     "name": "stderr",
     "output_type": "stream",
     "text": [
      "/tmp/ipykernel_3532716/3897106037.py:26: PerformanceWarning: dropping on a non-lexsorted multi-index without a level parameter may impact performance.\n",
      "  res = res.drop(columns=['rank', 'u_rank', 'p_rank'])\n"
     ]
    }
   ],
   "source": [
    "df_dgms = mixed_model_experiment(df_train, df_test, 'synthpop', 'dpgan', cat_atts, num_atts, label, metrics)\n",
    "df_dgms.to_csv('experiments/results/mixed_model_results/hepatitis_case_study_adapt/synthpop_dpgan.csv')\n",
    "#~9 mins"
   ]
  },
  {
   "cell_type": "code",
   "execution_count": null,
   "metadata": {},
   "outputs": [
    {
     "name": "stderr",
     "output_type": "stream",
     "text": [
      "[2024-12-17T13:39:10.860933+0100][3596733][CRITICAL] module disabled: /home/lautrup/sdg_env/lib/python3.10/site-packages/synthcity/plugins/generic/plugin_goggle.py\n"
     ]
    },
    {
     "name": "stdout",
     "output_type": "stream",
     "text": [
      "================ Constructing Bayesian Network (BN) ================\n",
      "Adding ROOT RNA 4\n",
      "================ Constructing Bayesian Network (BN) ================\n",
      "Adding ROOT RBC\n",
      "================ Constructing Bayesian Network (BN) ================\n",
      "Adding ROOT RNA Base\n",
      "================ Constructing Bayesian Network (BN) ================\n",
      "Adding ROOT RNA EOT\n",
      "================ Constructing Bayesian Network (BN) ================\n",
      "Adding ROOT Fever\n",
      "================ Constructing Bayesian Network (BN) ================\n",
      "Adding ROOT Epigastric pain\n",
      "================ Constructing Bayesian Network (BN) ================\n",
      "Adding ROOT Jaundice\n",
      "================ Constructing Bayesian Network (BN) ================\n",
      "Adding ROOT Diarrhea\n",
      "================ Constructing Bayesian Network (BN) ================\n",
      "Adding ROOT Gender\n",
      "================ Constructing Bayesian Network (BN) ================\n",
      "Adding ROOT Fever\n"
     ]
    },
    {
     "name": "stderr",
     "output_type": "stream",
     "text": [
      "Exception ignored in: <function release_locks at 0x7f34b845d3f0>\n",
      "Traceback (most recent call last):\n",
      "  File \"/home/lautrup/sdg_env/lib/python3.10/site-packages/loguru/_locks_machinery.py\", line 31, in release_locks\n",
      "Exception ignored in: <function release_locks at 0x7f34b845d3f0>\n",
      "Traceback (most recent call last):\n",
      "  File \"/home/lautrup/sdg_env/lib/python3.10/site-packages/loguru/_locks_machinery.py\", line 31, in release_locks\n",
      "    lock.release()\n",
      "RuntimeError: release unlocked lock\n",
      "    lock.release()\n",
      "RuntimeError: release unlocked lock\n",
      "Exception ignored in: <function release_locks at 0x7fe5e0551240>\n",
      "Traceback (most recent call last):\n",
      "  File \"/home/lautrup/sdg_env/lib/python3.10/site-packages/loguru/_locks_machinery.py\", line 31, in release_locks\n",
      "    lock.release()\n",
      "RuntimeError: release unlocked lock\n",
      "Exception ignored in: Exception ignored in: Exception ignored in: <function release_locks at 0x7efc70169240>\n",
      "Traceback (most recent call last):\n",
      "  File \"/home/lautrup/sdg_env/lib/python3.10/site-packages/loguru/_locks_machinery.py\", line 31, in release_locks\n",
      "    lock.release()\n",
      "RuntimeError: release unlocked lock\n",
      "<function release_locks at 0x7fe5e0551240>\n",
      "Traceback (most recent call last):\n",
      "  File \"/home/lautrup/sdg_env/lib/python3.10/site-packages/loguru/_locks_machinery.py\", line 31, in release_locks\n",
      "    lock.release()\n",
      "RuntimeError: release unlocked lock\n",
      "<function release_locks at 0x7efc70169240>\n",
      "Traceback (most recent call last):\n",
      "  File \"/home/lautrup/sdg_env/lib/python3.10/site-packages/loguru/_locks_machinery.py\", line 31, in release_locks\n",
      "    lock.release()\n",
      "RuntimeError: release unlocked lock\n"
     ]
    },
    {
     "name": "stdout",
     "output_type": "stream",
     "text": [
      "Adding attribute b_class\n",
      "Adding attribute WBC\n",
      "Adding attribute RNA EF\n",
      "Adding attribute Gender\n",
      "Adding attribute WBC\n",
      "Adding attribute Plat\n",
      "Adding attribute RNA 12\n",
      "Adding attribute WBC\n",
      "Adding attribute RNA 12\n",
      "Adding attribute RNA EOT\n",
      "Adding attribute RNA 12\n",
      "Adding attribute Plat\n",
      "Adding attribute RNA 12\n",
      "Adding attribute Fatigue & generalized bone ache\n",
      "Adding attribute Jaundice\n",
      "Adding attribute WBC\n",
      "Adding attribute RNA EOT\n"
     ]
    },
    {
     "name": "stderr",
     "output_type": "stream",
     "text": [
      "  0%|          | 0/2000 [00:00<?, ?it/s]"
     ]
    },
    {
     "name": "stdout",
     "output_type": "stream",
     "text": [
      "Adding attribute Nausea/Vomting\n",
      "Adding attribute RNA EOT\n"
     ]
    },
    {
     "name": "stderr",
     "output_type": "stream",
     "text": [
      "  0%|          | 5/2000 [00:02<14:38,  2.27it/s]"
     ]
    },
    {
     "name": "stdout",
     "output_type": "stream",
     "text": [
      "Adding attribute RNA EF\n"
     ]
    },
    {
     "name": "stderr",
     "output_type": "stream",
     "text": [
      "  0%|          | 6/2000 [00:03<25:41,  1.29it/s]"
     ]
    },
    {
     "name": "stdout",
     "output_type": "stream",
     "text": [
      "Adding attribute Headache\n"
     ]
    },
    {
     "name": "stderr",
     "output_type": "stream",
     "text": [
      "  0%|          | 7/2000 [00:05<42:16,  1.27s/it]"
     ]
    },
    {
     "name": "stdout",
     "output_type": "stream",
     "text": [
      "Adding attribute RNA EOT\n",
      "Adding attribute RNA 4\n"
     ]
    },
    {
     "name": "stderr",
     "output_type": "stream",
     "text": [
      "  0%|          | 9/2000 [00:10<55:08,  1.66s/it]  "
     ]
    },
    {
     "name": "stdout",
     "output_type": "stream",
     "text": [
      "Adding attribute Diarrhea\n",
      "Adding attribute Plat\n"
     ]
    },
    {
     "name": "stderr",
     "output_type": "stream",
     "text": [
      "  0%|          | 10/2000 [00:11<48:02,  1.45s/it]"
     ]
    },
    {
     "name": "stdout",
     "output_type": "stream",
     "text": [
      "Adding attribute Jaundice\n"
     ]
    },
    {
     "name": "stderr",
     "output_type": "stream",
     "text": [
      "  1%|          | 11/2000 [00:11<41:09,  1.24s/it]"
     ]
    },
    {
     "name": "stdout",
     "output_type": "stream",
     "text": [
      "Adding attribute RNA EF\n"
     ]
    },
    {
     "name": "stderr",
     "output_type": "stream",
     "text": [
      "  1%|          | 12/2000 [00:12<34:59,  1.06s/it]"
     ]
    },
    {
     "name": "stdout",
     "output_type": "stream",
     "text": [
      "Adding attribute RNA EF\n"
     ]
    },
    {
     "name": "stderr",
     "output_type": "stream",
     "text": [
      "  1%|          | 13/2000 [00:13<31:53,  1.04it/s]"
     ]
    },
    {
     "name": "stdout",
     "output_type": "stream",
     "text": [
      "Adding attribute Plat\n"
     ]
    },
    {
     "name": "stderr",
     "output_type": "stream",
     "text": [
      "  1%|          | 17/2000 [00:16<29:43,  1.11it/s]"
     ]
    },
    {
     "name": "stdout",
     "output_type": "stream",
     "text": [
      "Adding attribute RNA 12\n"
     ]
    },
    {
     "name": "stderr",
     "output_type": "stream",
     "text": [
      "[2024-12-17T13:39:49.281831+0100][3607347][CRITICAL] module disabled: /home/lautrup/sdg_env/lib/python3.10/site-packages/synthcity/plugins/generic/plugin_goggle.py\n",
      "[2024-12-17T13:39:49.597326+0100][3607342][CRITICAL] module disabled: /home/lautrup/sdg_env/lib/python3.10/site-packages/synthcity/plugins/generic/plugin_goggle.py\n"
     ]
    },
    {
     "name": "stdout",
     "output_type": "stream",
     "text": [
      "Adding attribute RNA 12\n"
     ]
    },
    {
     "name": "stderr",
     "output_type": "stream",
     "text": [
      "  1%|          | 18/2000 [00:19<42:35,  1.29s/it]"
     ]
    },
    {
     "name": "stdout",
     "output_type": "stream",
     "text": [
      "Adding attribute Gender\n",
      "Adding attribute RNA EF\n"
     ]
    },
    {
     "name": "stderr",
     "output_type": "stream",
     "text": [
      "  1%|          | 19/2000 [00:22<1:07:28,  2.04s/it][2024-12-17T13:39:54.520725+0100][3607343][CRITICAL] module disabled: /home/lautrup/sdg_env/lib/python3.10/site-packages/synthcity/plugins/generic/plugin_goggle.py\n"
     ]
    },
    {
     "name": "stdout",
     "output_type": "stream",
     "text": [
      "Adding attribute Plat\n",
      "Adding attribute Headache\n"
     ]
    },
    {
     "name": "stderr",
     "output_type": "stream",
     "text": [
      "  1%|          | 20/2000 [00:26<1:24:59,  2.58s/it]"
     ]
    },
    {
     "name": "stdout",
     "output_type": "stream",
     "text": [
      "Adding attribute RNA 4\n",
      "Adding attribute Headache\n",
      "Adding attribute RNA 4\n"
     ]
    },
    {
     "name": "stderr",
     "output_type": "stream",
     "text": [
      "  1%|          | 22/2000 [00:29<1:04:36,  1.96s/it]"
     ]
    },
    {
     "name": "stdout",
     "output_type": "stream",
     "text": [
      "Adding attribute Jaundice\n"
     ]
    },
    {
     "name": "stderr",
     "output_type": "stream",
     "text": [
      "  1%|▏         | 26/2000 [00:33<40:06,  1.22s/it]  "
     ]
    },
    {
     "name": "stdout",
     "output_type": "stream",
     "text": [
      "Adding attribute RNA EOT\n"
     ]
    },
    {
     "name": "stderr",
     "output_type": "stream",
     "text": [
      "  1%|▏         | 27/2000 [00:34<41:59,  1.28s/it]"
     ]
    },
    {
     "name": "stdout",
     "output_type": "stream",
     "text": [
      "Adding attribute Epigastric pain\n"
     ]
    },
    {
     "name": "stderr",
     "output_type": "stream",
     "text": [
      "  2%|▏         | 30/2000 [00:37<32:28,  1.01it/s]"
     ]
    },
    {
     "name": "stdout",
     "output_type": "stream",
     "text": [
      "Adding attribute RNA 4\n",
      "Adding attribute Gender\n"
     ]
    },
    {
     "name": "stderr",
     "output_type": "stream",
     "text": [
      "  2%|▏         | 31/2000 [00:39<39:51,  1.21s/it][2024-12-17T13:40:10.886282+0100][3607340][CRITICAL] module disabled: /home/lautrup/sdg_env/lib/python3.10/site-packages/synthcity/plugins/generic/plugin_goggle.py\n",
      "[2024-12-17T13:40:11.538139+0100][3607346][CRITICAL] module disabled: /home/lautrup/sdg_env/lib/python3.10/site-packages/synthcity/plugins/generic/plugin_goggle.py\n",
      "Exception ignored in: <function release_locks at 0x7ffb3c75d240>\n",
      "Traceback (most recent call last):\n",
      "  File \"/home/lautrup/sdg_env/lib/python3.10/site-packages/loguru/_locks_machinery.py\", line 34, in release_locks\n",
      "    lock.release()\n",
      "RuntimeError: release unlocked lock\n"
     ]
    },
    {
     "name": "stdout",
     "output_type": "stream",
     "text": [
      "Adding attribute Fever\n",
      "Adding attribute RNA 12\n"
     ]
    },
    {
     "name": "stderr",
     "output_type": "stream",
     "text": [
      "[2024-12-17T13:40:14.227435+0100][3607344][CRITICAL] module disabled: /home/lautrup/sdg_env/lib/python3.10/site-packages/synthcity/plugins/generic/plugin_goggle.py\n",
      "  2%|▏         | 32/2000 [00:43<1:14:21,  2.27s/it][2024-12-17T13:40:15.036609+0100][3607341][CRITICAL] module disabled: /home/lautrup/sdg_env/lib/python3.10/site-packages/synthcity/plugins/generic/plugin_goggle.py\n",
      "[2024-12-17T13:40:16.749591+0100][3607339][CRITICAL] module disabled: /home/lautrup/sdg_env/lib/python3.10/site-packages/synthcity/plugins/generic/plugin_goggle.py\n"
     ]
    },
    {
     "name": "stdout",
     "output_type": "stream",
     "text": [
      "Adding attribute Gender\n",
      "Adding attribute Gender\n"
     ]
    },
    {
     "name": "stderr",
     "output_type": "stream",
     "text": [
      "[2024-12-17T13:40:18.553786+0100][3607345][CRITICAL] module disabled: /home/lautrup/sdg_env/lib/python3.10/site-packages/synthcity/plugins/generic/plugin_goggle.py\n"
     ]
    },
    {
     "name": "stdout",
     "output_type": "stream",
     "text": [
      "Adding attribute RNA 12\n",
      "Adding attribute RNA EF\n"
     ]
    },
    {
     "name": "stderr",
     "output_type": "stream",
     "text": [
      "  2%|▏         | 33/2000 [00:48<1:40:36,  3.07s/it]"
     ]
    },
    {
     "name": "stdout",
     "output_type": "stream",
     "text": [
      "Adding attribute Headache\n"
     ]
    },
    {
     "name": "stderr",
     "output_type": "stream",
     "text": [
      "  2%|▏         | 34/2000 [00:51<1:41:28,  3.10s/it]"
     ]
    },
    {
     "name": "stdout",
     "output_type": "stream",
     "text": [
      "Adding attribute Plat\n"
     ]
    },
    {
     "name": "stderr",
     "output_type": "stream",
     "text": [
      "  2%|▏         | 36/2000 [00:53<1:05:46,  2.01s/it]"
     ]
    },
    {
     "name": "stdout",
     "output_type": "stream",
     "text": [
      "Adding attribute Plat\n"
     ]
    },
    {
     "name": "stderr",
     "output_type": "stream",
     "text": [
      "  0%|          | 5/2000 [00:05<29:04,  1.14it/s]]  "
     ]
    },
    {
     "name": "stdout",
     "output_type": "stream",
     "text": [
      "Adding attribute WBC\n"
     ]
    },
    {
     "name": "stderr",
     "output_type": "stream",
     "text": [
      "  0%|          | 6/2000 [00:06<25:13,  1.32it/s]]"
     ]
    },
    {
     "name": "stdout",
     "output_type": "stream",
     "text": [
      "Adding attribute RNA EOT\n"
     ]
    },
    {
     "name": "stderr",
     "output_type": "stream",
     "text": [
      "  0%|          | 9/2000 [00:07<20:51,  1.59it/s]]"
     ]
    },
    {
     "name": "stdout",
     "output_type": "stream",
     "text": [
      "Adding attribute RNA 4\n"
     ]
    },
    {
     "name": "stderr",
     "output_type": "stream",
     "text": [
      "  2%|▏         | 43/2000 [01:01<38:21,  1.18s/it]"
     ]
    },
    {
     "name": "stdout",
     "output_type": "stream",
     "text": [
      "Adding attribute Epigastric pain\n"
     ]
    },
    {
     "name": "stderr",
     "output_type": "stream",
     "text": [
      "  1%|          | 11/2000 [00:14<1:07:47,  2.05s/it]"
     ]
    },
    {
     "name": "stdout",
     "output_type": "stream",
     "text": [
      "Adding attribute RNA EOT\n",
      "Adding attribute Epigastric pain\n"
     ]
    },
    {
     "name": "stderr",
     "output_type": "stream",
     "text": [
      "  1%|          | 13/2000 [00:17<59:33,  1.80s/it]  "
     ]
    },
    {
     "name": "stdout",
     "output_type": "stream",
     "text": [
      "Adding attribute Epigastric pain\n"
     ]
    },
    {
     "name": "stderr",
     "output_type": "stream",
     "text": [
      "  0%|          | 0/2000 [00:00<?, ?it/s]1.45s/it]"
     ]
    },
    {
     "name": "stdout",
     "output_type": "stream",
     "text": [
      "Adding attribute RNA 12\n"
     ]
    },
    {
     "name": "stderr",
     "output_type": "stream",
     "text": [
      "  2%|▏         | 46/2000 [01:15<1:58:47,  3.65s/it]"
     ]
    },
    {
     "name": "stdout",
     "output_type": "stream",
     "text": [
      "Adding attribute WBC\n"
     ]
    },
    {
     "name": "stderr",
     "output_type": "stream",
     "text": [
      "  1%|          | 19/2000 [00:22<31:18,  1.05it/s]"
     ]
    },
    {
     "name": "stdout",
     "output_type": "stream",
     "text": [
      "Adding attribute WBC\n",
      "Adding attribute Jaundice\n"
     ]
    },
    {
     "name": "stderr",
     "output_type": "stream",
     "text": [
      "  2%|▏         | 47/2000 [01:17<1:40:20,  3.08s/it]"
     ]
    },
    {
     "name": "stdout",
     "output_type": "stream",
     "text": [
      "Adding attribute Epigastric pain\n"
     ]
    },
    {
     "name": "stderr",
     "output_type": "stream",
     "text": [
      "  2%|▏         | 48/2000 [01:18<1:20:08,  2.46s/it]"
     ]
    },
    {
     "name": "stdout",
     "output_type": "stream",
     "text": [
      "Adding attribute RNA EF\n"
     ]
    },
    {
     "name": "stderr",
     "output_type": "stream",
     "text": [
      "  1%|▏         | 27/2000 [00:36<1:07:44,  2.06s/it]"
     ]
    },
    {
     "name": "stdout",
     "output_type": "stream",
     "text": [
      "Adding attribute Plat\n",
      "Adding attribute RNA EF\n"
     ]
    },
    {
     "name": "stderr",
     "output_type": "stream",
     "text": [
      "  0%|          | 2/2000 [00:16<4:00:04,  7.21s/it] "
     ]
    },
    {
     "name": "stdout",
     "output_type": "stream",
     "text": [
      "Adding attribute Plat\n"
     ]
    },
    {
     "name": "stderr",
     "output_type": "stream",
     "text": [
      "  0%|          | 10/2000 [00:21<51:04,  1.54s/it] "
     ]
    },
    {
     "name": "stdout",
     "output_type": "stream",
     "text": [
      "Adding attribute Plat\n"
     ]
    },
    {
     "name": "stderr",
     "output_type": "stream",
     "text": [
      "  0%|          | 3/2000 [00:17<2:27:58,  4.45s/it]"
     ]
    },
    {
     "name": "stdout",
     "output_type": "stream",
     "text": [
      "Adding attribute RNA EOT\n"
     ]
    },
    {
     "name": "stderr",
     "output_type": "stream",
     "text": [
      "  0%|          | 9/2000 [00:22<32:35,  1.02it/s]] "
     ]
    },
    {
     "name": "stdout",
     "output_type": "stream",
     "text": [
      "Adding attribute Headache\n"
     ]
    },
    {
     "name": "stderr",
     "output_type": "stream",
     "text": [
      "  2%|▏         | 35/2000 [00:46<33:24,  1.02s/it]"
     ]
    },
    {
     "name": "stdout",
     "output_type": "stream",
     "text": [
      "Adding attribute Jaundice\n"
     ]
    },
    {
     "name": "stderr",
     "output_type": "stream",
     "text": [
      "  1%|          | 11/2000 [00:23<24:25,  1.36it/s]"
     ]
    },
    {
     "name": "stdout",
     "output_type": "stream",
     "text": [
      "Adding attribute b_class\n"
     ]
    },
    {
     "name": "stderr",
     "output_type": "stream",
     "text": [
      "  2%|▏         | 36/2000 [00:46<30:48,  1.06it/s]"
     ]
    },
    {
     "name": "stdout",
     "output_type": "stream",
     "text": [
      "Adding attribute RNA 4\n",
      "Adding attribute Jaundice\n"
     ]
    },
    {
     "name": "stderr",
     "output_type": "stream",
     "text": [
      "  0%|          | 3/2000 [00:04<39:23,  1.18s/it]it]"
     ]
    },
    {
     "name": "stdout",
     "output_type": "stream",
     "text": [
      "Adding attribute Fatigue & generalized bone ache\n",
      "Adding attribute Fatigue & generalized bone ache\n"
     ]
    },
    {
     "name": "stderr",
     "output_type": "stream",
     "text": [
      "  2%|▏         | 41/2000 [00:59<1:04:48,  1.98s/it]"
     ]
    },
    {
     "name": "stdout",
     "output_type": "stream",
     "text": [
      "Adding attribute RNA 4\n"
     ]
    },
    {
     "name": "stderr",
     "output_type": "stream",
     "text": [
      "  3%|▎         | 52/2000 [01:57<3:29:38,  6.46s/it]"
     ]
    },
    {
     "name": "stdout",
     "output_type": "stream",
     "text": [
      "Adding attribute WBC\n"
     ]
    },
    {
     "name": "stderr",
     "output_type": "stream",
     "text": [
      "  0%|          | 8/2000 [00:14<38:56,  1.17s/it]it]"
     ]
    },
    {
     "name": "stdout",
     "output_type": "stream",
     "text": [
      "Adding attribute RNA EF\n"
     ]
    },
    {
     "name": "stderr",
     "output_type": "stream",
     "text": [
      "  1%|          | 11/2000 [00:22<35:29,  1.07s/it] ]"
     ]
    },
    {
     "name": "stdout",
     "output_type": "stream",
     "text": [
      "Adding attribute Diarrhea\n"
     ]
    },
    {
     "name": "stderr",
     "output_type": "stream",
     "text": [
      "  0%|          | 7/2000 [00:16<43:27,  1.31s/it]]  "
     ]
    },
    {
     "name": "stdout",
     "output_type": "stream",
     "text": [
      "Adding attribute RNA 12\n"
     ]
    },
    {
     "name": "stderr",
     "output_type": "stream",
     "text": [
      "  2%|▏         | 32/2000 [00:51<25:51,  1.27it/s]t]"
     ]
    },
    {
     "name": "stdout",
     "output_type": "stream",
     "text": [
      "Adding attribute Headache\n",
      "Adding attribute Epigastric pain\n"
     ]
    },
    {
     "name": "stderr",
     "output_type": "stream",
     "text": [
      "  0%|          | 7/2000 [00:22<1:21:43,  2.46s/it]]"
     ]
    },
    {
     "name": "stdout",
     "output_type": "stream",
     "text": [
      "Adding attribute Headache\n",
      "Adding attribute WBC\n"
     ]
    },
    {
     "name": "stderr",
     "output_type": "stream",
     "text": [
      "  2%|▏         | 34/2000 [01:00<1:38:18,  3.00s/it]"
     ]
    },
    {
     "name": "stdout",
     "output_type": "stream",
     "text": [
      "Adding attribute WBC\n"
     ]
    },
    {
     "name": "stderr",
     "output_type": "stream",
     "text": [
      "  1%|          | 13/2000 [00:28<1:20:26,  2.43s/it]"
     ]
    },
    {
     "name": "stdout",
     "output_type": "stream",
     "text": [
      "Adding attribute Epigastric pain\n"
     ]
    },
    {
     "name": "stderr",
     "output_type": "stream",
     "text": [
      "  1%|          | 19/2000 [00:40<1:06:25,  2.01s/it]"
     ]
    },
    {
     "name": "stdout",
     "output_type": "stream",
     "text": [
      "Adding attribute Jaundice\n"
     ]
    },
    {
     "name": "stderr",
     "output_type": "stream",
     "text": [
      "  1%|          | 24/2000 [00:47<44:11,  1.34s/it]"
     ]
    },
    {
     "name": "stdout",
     "output_type": "stream",
     "text": [
      "Adding attribute Nausea/Vomting\n"
     ]
    },
    {
     "name": "stderr",
     "output_type": "stream",
     "text": [
      "  1%|▏         | 27/2000 [00:42<1:25:36,  2.60s/it]"
     ]
    },
    {
     "name": "stdout",
     "output_type": "stream",
     "text": [
      "Adding attribute Nausea/Vomting\n"
     ]
    },
    {
     "name": "stderr",
     "output_type": "stream",
     "text": [
      "  1%|▏         | 28/2000 [00:43<1:09:43,  2.12s/it]"
     ]
    },
    {
     "name": "stdout",
     "output_type": "stream",
     "text": [
      "Adding attribute b_class\n"
     ]
    },
    {
     "name": "stderr",
     "output_type": "stream",
     "text": [
      "  1%|          | 21/2000 [00:43<54:03,  1.64s/it]  "
     ]
    },
    {
     "name": "stdout",
     "output_type": "stream",
     "text": [
      "Adding attribute RNA EOT\n",
      "Adding attribute RNA 4\n"
     ]
    },
    {
     "name": "stderr",
     "output_type": "stream",
     "text": [
      "  4%|▍         | 75/2000 [01:38<58:46,  1.83s/it]t]"
     ]
    },
    {
     "name": "stdout",
     "output_type": "stream",
     "text": [
      "Adding attribute Jaundice\n"
     ]
    },
    {
     "name": "stderr",
     "output_type": "stream",
     "text": [
      "  1%|▏         | 28/2000 [00:54<1:08:47,  2.09s/it]"
     ]
    },
    {
     "name": "stdout",
     "output_type": "stream",
     "text": [
      "Adding attribute Jaundice\n"
     ]
    },
    {
     "name": "stderr",
     "output_type": "stream",
     "text": [
      "  2%|▏         | 33/2000 [00:50<46:44,  1.43s/it]t]"
     ]
    },
    {
     "name": "stdout",
     "output_type": "stream",
     "text": [
      "Adding attribute b_class\n",
      "Adding attribute Diarrhea\n"
     ]
    },
    {
     "name": "stderr",
     "output_type": "stream",
     "text": [
      "  2%|▏         | 38/2000 [01:03<1:13:58,  2.26s/it]"
     ]
    },
    {
     "name": "stdout",
     "output_type": "stream",
     "text": [
      "Adding attribute Gender\n"
     ]
    },
    {
     "name": "stderr",
     "output_type": "stream",
     "text": [
      "  4%|▍         | 89/2000 [01:58<1:05:43,  2.06s/it]"
     ]
    },
    {
     "name": "stdout",
     "output_type": "stream",
     "text": [
      "Adding attribute b_class\n"
     ]
    },
    {
     "name": "stderr",
     "output_type": "stream",
     "text": [
      "  2%|▏         | 42/2000 [01:09<49:59,  1.53s/it]t]"
     ]
    },
    {
     "name": "stdout",
     "output_type": "stream",
     "text": [
      "Adding attribute Diarrhea\n"
     ]
    },
    {
     "name": "stderr",
     "output_type": "stream",
     "text": [
      "  2%|▏         | 36/2000 [01:08<1:03:07,  1.93s/it]"
     ]
    },
    {
     "name": "stdout",
     "output_type": "stream",
     "text": [
      "Adding attribute Headache\n"
     ]
    },
    {
     "name": "stderr",
     "output_type": "stream",
     "text": [
      "  2%|▏         | 44/2000 [01:11<38:30,  1.18s/it]  "
     ]
    },
    {
     "name": "stdout",
     "output_type": "stream",
     "text": [
      "Adding attribute Headache\n",
      "Adding attribute Epigastric pain\n"
     ]
    },
    {
     "name": "stderr",
     "output_type": "stream",
     "text": [
      "  4%|▍         | 90/2000 [02:02<1:20:52,  2.54s/it]"
     ]
    },
    {
     "name": "stdout",
     "output_type": "stream",
     "text": [
      "Adding attribute Headache\n"
     ]
    },
    {
     "name": "stderr",
     "output_type": "stream",
     "text": [
      "  2%|▏         | 49/2000 [01:40<31:50,  1.02it/s]  "
     ]
    },
    {
     "name": "stdout",
     "output_type": "stream",
     "text": [
      "Adding attribute RNA EF\n"
     ]
    },
    {
     "name": "stderr",
     "output_type": "stream",
     "text": [
      "  3%|▎         | 53/2000 [01:42<21:35,  1.50it/s]t]"
     ]
    },
    {
     "name": "stdout",
     "output_type": "stream",
     "text": [
      "Adding attribute Nausea/Vomting\n",
      "Adding attribute Nausea/Vomting\n"
     ]
    },
    {
     "name": "stderr",
     "output_type": "stream",
     "text": [
      "  5%|▍         | 99/2000 [02:13<35:39,  1.13s/it]t]"
     ]
    },
    {
     "name": "stdout",
     "output_type": "stream",
     "text": [
      "Adding attribute Fatigue & generalized bone ache\n",
      "Adding attribute Diarrhea\n"
     ]
    },
    {
     "name": "stderr",
     "output_type": "stream",
     "text": [
      "  2%|▏         | 43/2000 [01:35<1:32:18,  2.83s/it]"
     ]
    },
    {
     "name": "stdout",
     "output_type": "stream",
     "text": [
      "Adding attribute Nausea/Vomting\n"
     ]
    },
    {
     "name": "stderr",
     "output_type": "stream",
     "text": [
      "  3%|▎         | 63/2000 [01:30<24:05,  1.34it/s]t]"
     ]
    },
    {
     "name": "stdout",
     "output_type": "stream",
     "text": [
      "Adding attribute Nausea/Vomting\n",
      "Adding attribute Nausea/Vomting\n",
      "Adding attribute Nausea/Vomting\n"
     ]
    },
    {
     "name": "stderr",
     "output_type": "stream",
     "text": [
      "  5%|▍         | 96/2000 [03:17<40:08,  1.26s/it]t]"
     ]
    },
    {
     "name": "stdout",
     "output_type": "stream",
     "text": [
      "Adding attribute b_class\n",
      "Adding attribute Gender\n"
     ]
    },
    {
     "name": "stderr",
     "output_type": "stream",
     "text": [
      "  3%|▎         | 58/2000 [02:02<1:20:32,  2.49s/it]"
     ]
    },
    {
     "name": "stdout",
     "output_type": "stream",
     "text": [
      "Adding attribute RNA 4\n"
     ]
    },
    {
     "name": "stderr",
     "output_type": "stream",
     "text": [
      "  3%|▎         | 64/2000 [02:06<25:30,  1.26it/s]t]"
     ]
    },
    {
     "name": "stdout",
     "output_type": "stream",
     "text": [
      "Adding attribute Gender\n"
     ]
    },
    {
     "name": "stderr",
     "output_type": "stream",
     "text": [
      "  3%|▎         | 61/2000 [01:41<46:26,  1.44s/it]t]"
     ]
    },
    {
     "name": "stdout",
     "output_type": "stream",
     "text": [
      "Adding attribute Fever\n"
     ]
    },
    {
     "name": "stderr",
     "output_type": "stream",
     "text": [
      "  2%|▎         | 50/2000 [01:40<1:48:32,  3.34s/it]"
     ]
    },
    {
     "name": "stdout",
     "output_type": "stream",
     "text": [
      "Adding attribute Fatigue & generalized bone ache\n"
     ]
    },
    {
     "name": "stderr",
     "output_type": "stream",
     "text": [
      "  5%|▍         | 99/2000 [03:29<1:22:45,  2.61s/it]"
     ]
    },
    {
     "name": "stdout",
     "output_type": "stream",
     "text": [
      "Adding attribute b_class\n"
     ]
    },
    {
     "name": "stderr",
     "output_type": "stream",
     "text": [
      "  3%|▎         | 51/2000 [01:46<1:37:19,  3.00s/it]"
     ]
    },
    {
     "name": "stdout",
     "output_type": "stream",
     "text": [
      "Adding attribute Fatigue & generalized bone ache\n"
     ]
    },
    {
     "name": "stderr",
     "output_type": "stream",
     "text": [
      "  3%|▎         | 68/2000 [02:21<1:16:52,  2.39s/it]"
     ]
    },
    {
     "name": "stdout",
     "output_type": "stream",
     "text": [
      "Adding attribute b_class\n"
     ]
    },
    {
     "name": "stderr",
     "output_type": "stream",
     "text": [
      "  3%|▎         | 69/2000 [02:21<1:00:20,  1.88s/it]"
     ]
    },
    {
     "name": "stdout",
     "output_type": "stream",
     "text": [
      "Adding attribute b_class\n"
     ]
    },
    {
     "name": "stderr",
     "output_type": "stream",
     "text": [
      "  3%|▎         | 69/2000 [01:55<1:35:31,  2.97s/it]"
     ]
    },
    {
     "name": "stdout",
     "output_type": "stream",
     "text": [
      "Adding attribute Gender\n"
     ]
    },
    {
     "name": "stderr",
     "output_type": "stream",
     "text": [
      "  3%|▎         | 59/2000 [02:02<56:21,  1.74s/it]  ]"
     ]
    },
    {
     "name": "stdout",
     "output_type": "stream",
     "text": [
      "Adding attribute Fatigue & generalized bone ache\n"
     ]
    },
    {
     "name": "stderr",
     "output_type": "stream",
     "text": [
      "  5%|▍         | 99/2000 [02:31<30:35,  1.04it/s]it]"
     ]
    },
    {
     "name": "stdout",
     "output_type": "stream",
     "text": [
      "Adding attribute Diarrhea\n",
      "Adding attribute Epigastric pain\n"
     ]
    },
    {
     "name": "stderr",
     "output_type": "stream",
     "text": [
      "  5%|▌         | 105/2000 [02:50<1:12:17,  2.29s/it]"
     ]
    },
    {
     "name": "stdout",
     "output_type": "stream",
     "text": [
      "Adding attribute RBC\n"
     ]
    },
    {
     "name": "stderr",
     "output_type": "stream",
     "text": [
      "  3%|▎         | 61/2000 [01:59<1:28:28,  2.74s/it]"
     ]
    },
    {
     "name": "stdout",
     "output_type": "stream",
     "text": [
      "Adding attribute Fever\n"
     ]
    },
    {
     "name": "stderr",
     "output_type": "stream",
     "text": [
      "  4%|▍         | 77/2000 [02:02<22:08,  1.45it/s]t]]"
     ]
    },
    {
     "name": "stdout",
     "output_type": "stream",
     "text": [
      "Adding attribute Fever\n"
     ]
    },
    {
     "name": "stderr",
     "output_type": "stream",
     "text": [
      "  4%|▍         | 79/2000 [02:02<1:28:03,  2.75s/it]"
     ]
    },
    {
     "name": "stdout",
     "output_type": "stream",
     "text": [
      "Adding attribute Diarrhea\n"
     ]
    },
    {
     "name": "stderr",
     "output_type": "stream",
     "text": [
      "  3%|▎         | 63/2000 [02:08<1:08:02,  2.11s/it] "
     ]
    },
    {
     "name": "stdout",
     "output_type": "stream",
     "text": [
      "Adding attribute Diarrhea\n"
     ]
    },
    {
     "name": "stderr",
     "output_type": "stream",
     "text": [
      "  4%|▍         | 81/2000 [02:40<44:10,  1.38s/it]t]"
     ]
    },
    {
     "name": "stdout",
     "output_type": "stream",
     "text": [
      "Adding attribute Diarrhea\n",
      "Adding attribute Fatigue & generalized bone ache\n"
     ]
    },
    {
     "name": "stderr",
     "output_type": "stream",
     "text": [
      "  4%|▍         | 82/2000 [02:13<43:16,  1.35s/it]] "
     ]
    },
    {
     "name": "stdout",
     "output_type": "stream",
     "text": [
      "Adding attribute RNA Base\n",
      "========================== BN constructed ==========================\n"
     ]
    },
    {
     "name": "stderr",
     "output_type": "stream",
     "text": [
      "  6%|▌         | 118/2000 [03:07<26:31,  1.18it/s]]"
     ]
    },
    {
     "name": "stdout",
     "output_type": "stream",
     "text": [
      "Adding attribute RBC\n",
      "Adding attribute Fever\n"
     ]
    },
    {
     "name": "stderr",
     "output_type": "stream",
     "text": [
      "  4%|▍         | 88/2000 [02:16<21:53,  1.46it/s]] "
     ]
    },
    {
     "name": "stdout",
     "output_type": "stream",
     "text": [
      "Adding attribute b_class\n",
      "Adding attribute RBC\n",
      "Adding attribute Fatigue & generalized bone ache\n"
     ]
    },
    {
     "name": "stderr",
     "output_type": "stream",
     "text": [
      "  6%|▋         | 127/2000 [03:10<12:04,  2.58it/s] "
     ]
    },
    {
     "name": "stdout",
     "output_type": "stream",
     "text": [
      "Adding attribute RBC\n"
     ]
    },
    {
     "name": "stderr",
     "output_type": "stream",
     "text": [
      "  4%|▎         | 72/2000 [02:20<51:01,  1.59s/it]]t]"
     ]
    },
    {
     "name": "stdout",
     "output_type": "stream",
     "text": [
      "Adding attribute RBC\n"
     ]
    },
    {
     "name": "stderr",
     "output_type": "stream",
     "text": [
      "  5%|▍         | 94/2000 [02:55<27:28,  1.16it/s]]t]"
     ]
    },
    {
     "name": "stdout",
     "output_type": "stream",
     "text": [
      "Adding attribute RNA Base\n",
      "========================== BN constructed ==========================\n"
     ]
    },
    {
     "name": "stderr",
     "output_type": "stream",
     "text": [
      "  4%|▍         | 82/2000 [02:26<23:38,  1.35it/s]] ]"
     ]
    },
    {
     "name": "stdout",
     "output_type": "stream",
     "text": [
      "Adding attribute Fatigue & generalized bone ache\n"
     ]
    },
    {
     "name": "stderr",
     "output_type": "stream",
     "text": [
      "  5%|▍         | 94/2000 [02:27<32:53,  1.04s/it]]t]"
     ]
    },
    {
     "name": "stdout",
     "output_type": "stream",
     "text": [
      "Adding attribute RBC\n"
     ]
    },
    {
     "name": "stderr",
     "output_type": "stream",
     "text": [
      "  5%|▌         | 107/2000 [03:02<42:06,  1.33s/it]  "
     ]
    },
    {
     "name": "stdout",
     "output_type": "stream",
     "text": [
      "Adding attribute RNA Base\n",
      "========================== BN constructed ==========================\n"
     ]
    },
    {
     "name": "stderr",
     "output_type": "stream",
     "text": [
      "  5%|▌         | 109/2000 [03:03<28:05,  1.12it/s] "
     ]
    },
    {
     "name": "stdout",
     "output_type": "stream",
     "text": [
      "Adding attribute Fever\n"
     ]
    },
    {
     "name": "stderr",
     "output_type": "stream",
     "text": [
      "  6%|▌         | 112/2000 [03:04<17:26,  1.80it/s]"
     ]
    },
    {
     "name": "stdout",
     "output_type": "stream",
     "text": [
      "Adding attribute Nausea/Vomting\n"
     ]
    },
    {
     "name": "stderr",
     "output_type": "stream",
     "text": [
      "  4%|▍         | 79/2000 [02:29<26:55,  1.19it/s]it]"
     ]
    },
    {
     "name": "stdout",
     "output_type": "stream",
     "text": [
      "Adding attribute RNA Base\n",
      "========================== BN constructed ==========================\n"
     ]
    },
    {
     "name": "stderr",
     "output_type": "stream",
     "text": [
      "  4%|▍         | 80/2000 [02:30<22:13,  1.44it/s]]"
     ]
    },
    {
     "name": "stdout",
     "output_type": "stream",
     "text": [
      "Adding attribute RNA Base\n",
      "========================== BN constructed ==========================\n"
     ]
    },
    {
     "name": "stderr",
     "output_type": "stream",
     "text": [
      "  4%|▍         | 87/2000 [02:31<37:40,  1.18s/it]]"
     ]
    },
    {
     "name": "stdout",
     "output_type": "stream",
     "text": [
      "Adding attribute Fever\n"
     ]
    },
    {
     "name": "stderr",
     "output_type": "stream",
     "text": [
      "  6%|▋         | 125/2000 [03:08<11:31,  2.71it/s]t]"
     ]
    },
    {
     "name": "stdout",
     "output_type": "stream",
     "text": [
      "Adding attribute RNA Base\n",
      "========================== BN constructed ==========================\n"
     ]
    },
    {
     "name": "stderr",
     "output_type": "stream",
     "text": [
      "  5%|▍         | 93/2000 [02:36<20:01,  1.59it/s]]t]"
     ]
    },
    {
     "name": "stdout",
     "output_type": "stream",
     "text": [
      "Adding attribute Fever\n"
     ]
    },
    {
     "name": "stderr",
     "output_type": "stream",
     "text": [
      "  8%|▊         | 158/2000 [03:29<14:50,  2.07it/s]  "
     ]
    },
    {
     "name": "stdout",
     "output_type": "stream",
     "text": [
      "Adding attribute RBC\n",
      "========================== BN constructed ==========================\n"
     ]
    },
    {
     "name": "stderr",
     "output_type": "stream",
     "text": [
      "  4%|▍         | 88/2000 [02:44<21:33,  1.48it/s]]"
     ]
    },
    {
     "name": "stdout",
     "output_type": "stream",
     "text": [
      "Adding attribute RNA Base\n",
      "========================== BN constructed ==========================\n"
     ]
    },
    {
     "name": "stderr",
     "output_type": "stream",
     "text": [
      "  8%|▊         | 162/2000 [03:30<12:15,  2.50it/s]"
     ]
    },
    {
     "name": "stdout",
     "output_type": "stream",
     "text": [
      "Adding attribute RBC\n"
     ]
    },
    {
     "name": "stderr",
     "output_type": "stream",
     "text": [
      "  4%|▍         | 88/2000 [02:41<39:56,  1.25s/it]]  "
     ]
    },
    {
     "name": "stdout",
     "output_type": "stream",
     "text": [
      "Adding attribute RBC\n"
     ]
    },
    {
     "name": "stderr",
     "output_type": "stream",
     "text": [
      "  5%|▌         | 100/2000 [02:44<53:02,  1.67s/it]"
     ]
    },
    {
     "name": "stdout",
     "output_type": "stream",
     "text": [
      "Adding attribute RNA Base\n",
      "========================== BN constructed ==========================\n"
     ]
    },
    {
     "name": "stderr",
     "output_type": "stream",
     "text": [
      "  5%|▍         | 97/2000 [02:46<14:52,  2.13it/s]]"
     ]
    },
    {
     "name": "stdout",
     "output_type": "stream",
     "text": [
      "Adding attribute RNA Base\n",
      "========================== BN constructed ==========================\n"
     ]
    },
    {
     "name": "stderr",
     "output_type": "stream",
     "text": [
      " 25%|██▍       | 499/2000 [06:13<18:44,  1.33it/s]\n",
      " 27%|██▋       | 546/2000 [06:15<10:19,  2.35it/s]"
     ]
    },
    {
     "name": "stdout",
     "output_type": "stream",
     "text": [
      "Final size of synthetic data: 4439\n"
     ]
    },
    {
     "name": "stderr",
     "output_type": "stream",
     "text": [
      " 30%|██▉       | 599/2000 [06:42<15:41,  1.49it/s]\n",
      " 31%|███       | 614/2000 [07:20<09:28,  2.44it/s]"
     ]
    },
    {
     "name": "stdout",
     "output_type": "stream",
     "text": [
      "Final size of synthetic data: 4021\n"
     ]
    },
    {
     "name": "stderr",
     "output_type": "stream",
     "text": [
      " 40%|███▉      | 799/2000 [08:47<13:13,  1.51it/s]\n",
      " 40%|████      | 806/2000 [08:26<09:46,  2.04it/s]"
     ]
    },
    {
     "name": "stdout",
     "output_type": "stream",
     "text": [
      "Final size of synthetic data: 4046\n"
     ]
    },
    {
     "name": "stderr",
     "output_type": "stream",
     "text": [
      " 42%|████▏     | 849/2000 [08:38<11:43,  1.64it/s]\n",
      " 44%|████▍     | 877/2000 [10:31<06:45,  2.77it/s]"
     ]
    },
    {
     "name": "stdout",
     "output_type": "stream",
     "text": [
      "Final size of synthetic data: 3735\n"
     ]
    },
    {
     "name": "stderr",
     "output_type": "stream",
     "text": [
      " 47%|████▋     | 949/2000 [11:02<12:13,  1.43it/s]\n",
      " 47%|████▋     | 936/2000 [09:23<06:14,  2.84it/s]"
     ]
    },
    {
     "name": "stdout",
     "output_type": "stream",
     "text": [
      "Final size of synthetic data: 3560\n"
     ]
    },
    {
     "name": "stderr",
     "output_type": "stream",
     "text": [
      " 50%|████▉     | 999/2000 [10:19<10:21,  1.61it/s]\n",
      " 47%|████▋     | 949/2000 [09:31<10:32,  1.66it/s]\n",
      " 49%|████▉     | 979/2000 [09:36<05:41,  2.99it/s]"
     ]
    },
    {
     "name": "stdout",
     "output_type": "stream",
     "text": [
      "Final size of synthetic data: 4201\n"
     ]
    },
    {
     "name": "stderr",
     "output_type": "stream",
     "text": [
      " 49%|████▉     | 984/2000 [10:14<05:54,  2.87it/s]"
     ]
    },
    {
     "name": "stdout",
     "output_type": "stream",
     "text": [
      "Final size of synthetic data: 3606\n"
     ]
    },
    {
     "name": "stderr",
     "output_type": "stream",
     "text": [
      " 52%|█████▏    | 1049/2000 [10:03<09:07,  1.74it/s]\n",
      " 52%|█████▏    | 1049/2000 [10:43<09:43,  1.63it/s]\n",
      " 54%|█████▎    | 1071/2000 [10:12<05:01,  3.08it/s]"
     ]
    },
    {
     "name": "stdout",
     "output_type": "stream",
     "text": [
      "Final size of synthetic data: 4494\n"
     ]
    },
    {
     "name": "stderr",
     "output_type": "stream",
     "text": [
      " 54%|█████▍    | 1089/2000 [10:17<04:52,  3.11it/s]"
     ]
    },
    {
     "name": "stdout",
     "output_type": "stream",
     "text": [
      "Final size of synthetic data: 4357\n"
     ]
    },
    {
     "name": "stderr",
     "output_type": "stream",
     "text": [
      " 67%|██████▋   | 1349/2000 [11:54<05:44,  1.89it/s]\n"
     ]
    },
    {
     "name": "stdout",
     "output_type": "stream",
     "text": [
      "Final size of synthetic data: 3974\n"
     ]
    },
    {
     "name": "stderr",
     "output_type": "stream",
     "text": [
      "/tmp/ipykernel_3532716/2612257873.py:26: PerformanceWarning: dropping on a non-lexsorted multi-index without a level parameter may impact performance.\n",
      "  res = res.drop(columns=['rank', 'u_rank', 'p_rank'])\n"
     ]
    }
   ],
   "source": [
    "df_dgms = mixed_model_experiment(df_train, df_test, 'datasynthesizer', 'ctgan', cat_atts, num_atts, label, metrics)\n",
    "df_dgms.to_csv('experiments/results/mixed_model_results/hepatitis_case_study_adapt/datasynthesizer_ctgan.csv')\n",
    "#~14 mins"
   ]
  },
  {
   "cell_type": "code",
   "execution_count": 19,
   "metadata": {},
   "outputs": [
    {
     "name": "stdout",
     "output_type": "stream",
     "text": [
      "================ Constructing Bayesian Network (BN) ================\n",
      "Adding ROOT Diarrhea\n",
      "================ Constructing Bayesian Network (BN) ================\n",
      "Adding ROOT Epigastric pain\n",
      "================ Constructing Bayesian Network (BN) ================\n",
      "Adding ROOT RBC\n",
      "================ Constructing Bayesian Network (BN) ================\n",
      "Adding ROOT Jaundice\n",
      "================ Constructing Bayesian Network (BN) ================\n",
      "Adding ROOT RNA EOT\n",
      "================ Constructing Bayesian Network (BN) ================\n",
      "Adding ROOT RNA Base\n",
      "================ Constructing Bayesian Network (BN) ================\n",
      "Adding ROOT Fever\n",
      "================ Constructing Bayesian Network (BN) ================\n",
      "Adding ROOT RNA 4\n",
      "================ Constructing Bayesian Network (BN) ================\n",
      "Adding ROOT Fever\n",
      "================ Constructing Bayesian Network (BN) ================\n",
      "Adding ROOT Gender\n"
     ]
    },
    {
     "name": "stderr",
     "output_type": "stream",
     "text": [
      "Exception ignored in: <built-in method release of _thread.lock object at 0x7fdd58745100>\n",
      "Traceback (most recent call last):\n",
      "  File \"/home/lautrup/sdg_env/lib/python3.10/site-packages/joblib/externals/loky/backend/fork_exec.py\", line 38, in fork_exec\n",
      "    pid = os.fork()\n",
      "RuntimeError: release unlocked lock\n",
      "Exception ignored in: <function release_locks at 0x7fdd5866d2d0>\n",
      "Traceback (most recent call last):\n",
      "  File \"/home/lautrup/sdg_env/lib/python3.10/site-packages/loguru/_locks_machinery.py\", line 31, in release_locks\n",
      "    lock.release()\n",
      "RuntimeError: release unlocked lock\n",
      "Exception ignored in: <function release_locks at 0x7fdd5866d2d0>\n",
      "Traceback (most recent call last):\n",
      "  File \"/home/lautrup/sdg_env/lib/python3.10/site-packages/loguru/_locks_machinery.py\", line 31, in release_locks\n",
      "    lock.release()\n",
      "RuntimeError: release unlocked lock\n"
     ]
    },
    {
     "name": "stdout",
     "output_type": "stream",
     "text": [
      "Adding attribute Plat\n",
      "Adding attribute b_class\n",
      "Adding attribute Gender\n",
      "Adding attribute WBC\n",
      "Adding attribute RNA 12\n",
      "Adding attribute WBC\n",
      "Adding attribute RNA EF\n",
      "Adding attribute RNA EOT\n",
      "Adding attribute RNA 12\n",
      "Adding attribute WBC\n",
      "Adding attribute WBC\n",
      "Adding attribute RNA 12\n",
      "Adding attribute Jaundice\n",
      "Adding attribute Plat\n",
      "Adding attribute RNA EOT\n",
      "Adding attribute RNA EF\n",
      "Adding attribute Nausea/Vomting\n",
      "Adding attribute RNA 12\n",
      "Adding attribute Fatigue & generalized bone ache\n",
      "Adding attribute RNA EOT\n",
      "Adding attribute RNA EOT\n",
      "Adding attribute Jaundice\n",
      "Adding attribute Plat\n",
      "Adding attribute RNA EF\n",
      "Adding attribute Headache\n"
     ]
    },
    {
     "name": "stderr",
     "output_type": "stream",
     "text": [
      "[2024-12-17T14:01:03.818251+0100][3657048][CRITICAL] module disabled: /home/lautrup/sdg_env/lib/python3.10/site-packages/synthcity/plugins/generic/plugin_goggle.py\n"
     ]
    },
    {
     "name": "stdout",
     "output_type": "stream",
     "text": [
      "Adding attribute Plat\n",
      "Adding attribute RNA EF\n",
      "Adding attribute RNA 12Adding attribute Diarrhea\n",
      "\n",
      "Adding attribute Headache\n",
      "Adding attribute RNA 4\n",
      "Adding attribute RNA EF\n",
      "Adding attribute Headache\n",
      "Adding attribute RNA 12Adding attribute RNA 4\n",
      "\n",
      "Adding attribute RNA 4\n",
      "Adding attribute Jaundice\n"
     ]
    },
    {
     "name": "stderr",
     "output_type": "stream",
     "text": [
      "[2024-12-17T14:01:19.560315+0100][3657038][CRITICAL] module disabled: /home/lautrup/sdg_env/lib/python3.10/site-packages/synthcity/plugins/generic/plugin_goggle.py\n"
     ]
    },
    {
     "name": "stdout",
     "output_type": "stream",
     "text": [
      "Adding attribute RNA 12\n",
      "Adding attribute Plat\n",
      "Adding attribute Gender\n",
      "Adding attribute RNA 4\n"
     ]
    },
    {
     "name": "stderr",
     "output_type": "stream",
     "text": [
      "[2024-12-17T14:01:22.693788+0100][3657050][CRITICAL] module disabled: /home/lautrup/sdg_env/lib/python3.10/site-packages/synthcity/plugins/generic/plugin_goggle.py\n"
     ]
    },
    {
     "name": "stdout",
     "output_type": "stream",
     "text": [
      "Adding attribute Gender\n"
     ]
    },
    {
     "name": "stderr",
     "output_type": "stream",
     "text": [
      "  0%|          | 3/10000 [00:03<2:24:36,  1.15it/s][2024-12-17T14:01:31.598272+0100][3657046][CRITICAL] module disabled: /home/lautrup/sdg_env/lib/python3.10/site-packages/synthcity/plugins/generic/plugin_goggle.py\n",
      "  0%|          | 4/10000 [00:03<1:45:21,  1.58it/s][2024-12-17T14:01:32.374963+0100][3657051][CRITICAL] module disabled: /home/lautrup/sdg_env/lib/python3.10/site-packages/synthcity/plugins/generic/plugin_goggle.py\n",
      "  0%|          | 5/10000 [00:04<1:43:50,  1.60it/s]"
     ]
    },
    {
     "name": "stdout",
     "output_type": "stream",
     "text": [
      "Adding attribute Plat\n"
     ]
    },
    {
     "name": "stderr",
     "output_type": "stream",
     "text": [
      "[2024-12-17T14:01:35.439783+0100][3657039][CRITICAL] module disabled: /home/lautrup/sdg_env/lib/python3.10/site-packages/synthcity/plugins/generic/plugin_goggle.py\n",
      "  0%|          | 6/10000 [00:07<4:04:36,  1.47s/it]"
     ]
    },
    {
     "name": "stdout",
     "output_type": "stream",
     "text": [
      "Adding attribute RNA 12\n"
     ]
    },
    {
     "name": "stderr",
     "output_type": "stream",
     "text": [
      "[2024-12-17T14:01:35.901607+0100][3657047][CRITICAL] module disabled: /home/lautrup/sdg_env/lib/python3.10/site-packages/synthcity/plugins/generic/plugin_goggle.py\n"
     ]
    },
    {
     "name": "stdout",
     "output_type": "stream",
     "text": [
      "Adding attribute Gender\n",
      "Adding attribute RNA EOT\n",
      "Adding attribute Headache\n",
      "Adding attribute RNA EOT\n"
     ]
    },
    {
     "name": "stderr",
     "output_type": "stream",
     "text": [
      "  0%|          | 7/10000 [00:11<6:06:03,  2.20s/it][2024-12-17T14:01:39.396338+0100][3657045][CRITICAL] module disabled: /home/lautrup/sdg_env/lib/python3.10/site-packages/synthcity/plugins/generic/plugin_goggle.py\n"
     ]
    },
    {
     "name": "stdout",
     "output_type": "stream",
     "text": [
      "Adding attribute Epigastric pain\n"
     ]
    },
    {
     "name": "stderr",
     "output_type": "stream",
     "text": [
      "[2024-12-17T14:01:39.949509+0100][3657052][CRITICAL] module disabled: /home/lautrup/sdg_env/lib/python3.10/site-packages/synthcity/plugins/generic/plugin_goggle.py\n",
      "  0%|          | 8/10000 [00:12<5:25:26,  1.95s/it][2024-12-17T14:01:41.090054+0100][3657049][CRITICAL] module disabled: /home/lautrup/sdg_env/lib/python3.10/site-packages/synthcity/plugins/generic/plugin_goggle.py\n"
     ]
    },
    {
     "name": "stdout",
     "output_type": "stream",
     "text": [
      "Adding attribute Fever\n"
     ]
    },
    {
     "name": "stderr",
     "output_type": "stream",
     "text": [
      "  0%|          | 9/10000 [00:13<4:36:50,  1.66s/it]"
     ]
    },
    {
     "name": "stdout",
     "output_type": "stream",
     "text": [
      "Adding attribute Gender\n",
      "Adding attribute Epigastric pain\n"
     ]
    },
    {
     "name": "stderr",
     "output_type": "stream",
     "text": [
      "  0%|          | 25/10000 [00:23<1:51:50,  1.49it/s]"
     ]
    },
    {
     "name": "stdout",
     "output_type": "stream",
     "text": [
      "Adding attribute WBC\n"
     ]
    },
    {
     "name": "stderr",
     "output_type": "stream",
     "text": [
      "  0%|          | 26/10000 [00:25<2:50:14,  1.02s/it]"
     ]
    },
    {
     "name": "stdout",
     "output_type": "stream",
     "text": [
      "Adding attribute RNA EOT\n",
      "Adding attribute RNA 12\n"
     ]
    },
    {
     "name": "stderr",
     "output_type": "stream",
     "text": [
      "  0%|          | 27/10000 [00:28<4:15:01,  1.53s/it]"
     ]
    },
    {
     "name": "stdout",
     "output_type": "stream",
     "text": [
      "Adding attribute RNA EF\n"
     ]
    },
    {
     "name": "stderr",
     "output_type": "stream",
     "text": [
      "  0%|          | 28/10000 [00:30<4:40:43,  1.69s/it]"
     ]
    },
    {
     "name": "stdout",
     "output_type": "stream",
     "text": [
      "Adding attribute Epigastric pain\n",
      "Adding attribute Plat\n",
      "Adding attribute RNA EF\n"
     ]
    },
    {
     "name": "stderr",
     "output_type": "stream",
     "text": [
      "  0%|          | 33/10000 [00:33<1:59:00,  1.40it/s]"
     ]
    },
    {
     "name": "stdout",
     "output_type": "stream",
     "text": [
      "Adding attribute Epigastric pain\n"
     ]
    },
    {
     "name": "stderr",
     "output_type": "stream",
     "text": [
      "  0%|          | 35/10000 [00:34<1:40:21,  1.65it/s]"
     ]
    },
    {
     "name": "stdout",
     "output_type": "stream",
     "text": [
      "Adding attribute WBC\n"
     ]
    },
    {
     "name": "stderr",
     "output_type": "stream",
     "text": [
      "  0%|          | 41/10000 [00:37<1:19:08,  2.10it/s]"
     ]
    },
    {
     "name": "stdout",
     "output_type": "stream",
     "text": [
      "Adding attribute Plat\n"
     ]
    },
    {
     "name": "stderr",
     "output_type": "stream",
     "text": [
      "  0%|          | 43/10000 [00:38<1:32:45,  1.79it/s]"
     ]
    },
    {
     "name": "stdout",
     "output_type": "stream",
     "text": [
      "Adding attribute Jaundice\n"
     ]
    },
    {
     "name": "stderr",
     "output_type": "stream",
     "text": [
      "  0%|          | 0/10000 [00:00<?, ?it/s] 1.31s/it]]"
     ]
    },
    {
     "name": "stdout",
     "output_type": "stream",
     "text": [
      "Adding attribute RNA 4\n"
     ]
    },
    {
     "name": "stderr",
     "output_type": "stream",
     "text": [
      "  0%|          | 0/10000 [00:00<?, ?it/s] 2.40s/it] "
     ]
    },
    {
     "name": "stdout",
     "output_type": "stream",
     "text": [
      "Adding attribute RNA EOT\n"
     ]
    },
    {
     "name": "stderr",
     "output_type": "stream",
     "text": [
      "  0%|          | 3/10000 [00:03<3:06:04,  1.12s/it]]"
     ]
    },
    {
     "name": "stdout",
     "output_type": "stream",
     "text": [
      "Adding attribute RNA EF\n"
     ]
    },
    {
     "name": "stderr",
     "output_type": "stream",
     "text": [
      "  0%|          | 50/10000 [00:52<3:27:07,  1.25s/it]"
     ]
    },
    {
     "name": "stdout",
     "output_type": "stream",
     "text": [
      "Adding attribute WBC\n"
     ]
    },
    {
     "name": "stderr",
     "output_type": "stream",
     "text": [
      "  0%|          | 3/10000 [00:06<4:39:45,  1.68s/it]]"
     ]
    },
    {
     "name": "stdout",
     "output_type": "stream",
     "text": [
      "Adding attribute Jaundice\n"
     ]
    },
    {
     "name": "stderr",
     "output_type": "stream",
     "text": [
      "  1%|          | 55/10000 [00:55<2:14:42,  1.23it/s]"
     ]
    },
    {
     "name": "stdout",
     "output_type": "stream",
     "text": [
      "Adding attribute Plat\n"
     ]
    },
    {
     "name": "stderr",
     "output_type": "stream",
     "text": [
      "  1%|          | 56/10000 [00:56<2:00:54,  1.37it/s]"
     ]
    },
    {
     "name": "stdout",
     "output_type": "stream",
     "text": [
      "Adding attribute RNA 4\n"
     ]
    },
    {
     "name": "stderr",
     "output_type": "stream",
     "text": [
      "  0%|          | 0/10000 [00:00<?, ?it/s] 1.89s/it]"
     ]
    },
    {
     "name": "stdout",
     "output_type": "stream",
     "text": [
      "Adding attribute Headache\n",
      "Adding attribute Plat\n"
     ]
    },
    {
     "name": "stderr",
     "output_type": "stream",
     "text": [
      "  0%|          | 18/10000 [00:28<2:27:03,  1.13it/s]"
     ]
    },
    {
     "name": "stdout",
     "output_type": "stream",
     "text": [
      "Adding attribute WBC\n"
     ]
    },
    {
     "name": "stderr",
     "output_type": "stream",
     "text": [
      "  0%|          | 1/10000 [00:05<16:11:16,  5.83s/it]"
     ]
    },
    {
     "name": "stdout",
     "output_type": "stream",
     "text": [
      "Adding attribute Epigastric pain\n"
     ]
    },
    {
     "name": "stderr",
     "output_type": "stream",
     "text": [
      "  0%|          | 3/10000 [00:12<9:26:26,  3.40s/it] "
     ]
    },
    {
     "name": "stdout",
     "output_type": "stream",
     "text": [
      "Adding attribute RNA EF\n"
     ]
    },
    {
     "name": "stderr",
     "output_type": "stream",
     "text": [
      "  0%|          | 6/10000 [00:15<6:09:34,  2.22s/it]]"
     ]
    },
    {
     "name": "stdout",
     "output_type": "stream",
     "text": [
      "Adding attribute Jaundice\n"
     ]
    },
    {
     "name": "stderr",
     "output_type": "stream",
     "text": [
      "  1%|          | 65/10000 [01:15<4:05:43,  1.48s/it]"
     ]
    },
    {
     "name": "stdout",
     "output_type": "stream",
     "text": [
      "Adding attribute RNA 4\n"
     ]
    },
    {
     "name": "stderr",
     "output_type": "stream",
     "text": [
      "  0%|          | 7/10000 [00:16<3:50:20,  1.38s/it]]"
     ]
    },
    {
     "name": "stdout",
     "output_type": "stream",
     "text": [
      "Adding attribute Fatigue & generalized bone ache\n"
     ]
    },
    {
     "name": "stderr",
     "output_type": "stream",
     "text": [
      "  1%|          | 74/10000 [01:19<1:15:51,  2.18it/s]"
     ]
    },
    {
     "name": "stdout",
     "output_type": "stream",
     "text": [
      "Adding attribute Epigastric pain\n"
     ]
    },
    {
     "name": "stderr",
     "output_type": "stream",
     "text": [
      "  0%|          | 9/10000 [00:24<3:37:10,  1.30s/it]]"
     ]
    },
    {
     "name": "stdout",
     "output_type": "stream",
     "text": [
      "Adding attribute Headache\n",
      "Adding attribute Diarrhea\n"
     ]
    },
    {
     "name": "stderr",
     "output_type": "stream",
     "text": [
      "  0%|          | 30/10000 [00:47<2:15:10,  1.23it/s]"
     ]
    },
    {
     "name": "stdout",
     "output_type": "stream",
     "text": [
      "Adding attribute Fatigue & generalized bone ache\n"
     ]
    },
    {
     "name": "stderr",
     "output_type": "stream",
     "text": [
      "  0%|          | 33/10000 [00:49<1:56:29,  1.43it/s]"
     ]
    },
    {
     "name": "stdout",
     "output_type": "stream",
     "text": [
      "Adding attribute b_class\n"
     ]
    },
    {
     "name": "stderr",
     "output_type": "stream",
     "text": [
      "  0%|          | 27/10000 [00:40<2:13:34,  1.24it/s]"
     ]
    },
    {
     "name": "stdout",
     "output_type": "stream",
     "text": [
      "Adding attribute Jaundice\n"
     ]
    },
    {
     "name": "stderr",
     "output_type": "stream",
     "text": [
      "  0%|          | 30/10000 [00:41<1:44:47,  1.59it/s]"
     ]
    },
    {
     "name": "stdout",
     "output_type": "stream",
     "text": [
      "Adding attribute Headache\n"
     ]
    },
    {
     "name": "stderr",
     "output_type": "stream",
     "text": [
      "  0%|          | 31/10000 [00:53<1:50:42,  1.50it/s]]"
     ]
    },
    {
     "name": "stdout",
     "output_type": "stream",
     "text": [
      "Adding attribute RNA 4\n"
     ]
    },
    {
     "name": "stderr",
     "output_type": "stream",
     "text": [
      "  0%|          | 32/10000 [01:00<6:37:53,  2.39s/it] "
     ]
    },
    {
     "name": "stdout",
     "output_type": "stream",
     "text": [
      "Adding attribute Epigastric pain\n"
     ]
    },
    {
     "name": "stderr",
     "output_type": "stream",
     "text": [
      "  1%|          | 96/10000 [01:43<1:29:59,  1.83it/s]"
     ]
    },
    {
     "name": "stdout",
     "output_type": "stream",
     "text": [
      "Adding attribute Nausea/Vomting\n"
     ]
    },
    {
     "name": "stderr",
     "output_type": "stream",
     "text": [
      "  0%|          | 27/10000 [00:57<3:39:57,  1.32s/it]]"
     ]
    },
    {
     "name": "stdout",
     "output_type": "stream",
     "text": [
      "Adding attribute WBC\n",
      "Adding attribute WBC\n"
     ]
    },
    {
     "name": "stderr",
     "output_type": "stream",
     "text": [
      "  0%|          | 40/10000 [00:59<2:34:24,  1.08it/s]"
     ]
    },
    {
     "name": "stdout",
     "output_type": "stream",
     "text": [
      "Adding attribute b_class\n",
      "Adding attribute RNA 12\n",
      "Adding attribute Nausea/Vomting\n"
     ]
    },
    {
     "name": "stderr",
     "output_type": "stream",
     "text": [
      "  0%|          | 20/10000 [00:49<6:19:14,  2.28s/it] "
     ]
    },
    {
     "name": "stdout",
     "output_type": "stream",
     "text": [
      "Adding attribute Nausea/Vomting\n"
     ]
    },
    {
     "name": "stderr",
     "output_type": "stream",
     "text": [
      "  0%|          | 21/10000 [00:53<8:24:41,  3.03s/it]"
     ]
    },
    {
     "name": "stdout",
     "output_type": "stream",
     "text": [
      "Adding attribute Headache\n"
     ]
    },
    {
     "name": "stderr",
     "output_type": "stream",
     "text": [
      "  0%|          | 27/10000 [00:59<9:13:55,  3.33s/it]"
     ]
    },
    {
     "name": "stdout",
     "output_type": "stream",
     "text": [
      "Adding attribute Epigastric pain\n"
     ]
    },
    {
     "name": "stderr",
     "output_type": "stream",
     "text": [
      "  0%|          | 49/10000 [01:28<6:37:59,  2.40s/it]"
     ]
    },
    {
     "name": "stdout",
     "output_type": "stream",
     "text": [
      "Adding attribute Gender\n"
     ]
    },
    {
     "name": "stderr",
     "output_type": "stream",
     "text": [
      "  1%|          | 100/10000 [02:09<18:04:30,  6.57s/it]"
     ]
    },
    {
     "name": "stdout",
     "output_type": "stream",
     "text": [
      "Adding attribute b_class\n"
     ]
    },
    {
     "name": "stderr",
     "output_type": "stream",
     "text": [
      "  1%|          | 101/10000 [02:10<13:31:24,  4.92s/it]"
     ]
    },
    {
     "name": "stdout",
     "output_type": "stream",
     "text": [
      "Adding attribute b_class\n"
     ]
    },
    {
     "name": "stderr",
     "output_type": "stream",
     "text": [
      "  0%|          | 35/10000 [01:07<2:09:39,  1.28it/s]"
     ]
    },
    {
     "name": "stdout",
     "output_type": "stream",
     "text": [
      "Adding attribute Jaundice\n"
     ]
    },
    {
     "name": "stderr",
     "output_type": "stream",
     "text": [
      "  1%|          | 102/10000 [02:11<10:12:08,  3.71s/it]"
     ]
    },
    {
     "name": "stdout",
     "output_type": "stream",
     "text": [
      "Adding attribute Jaundice\n"
     ]
    },
    {
     "name": "stderr",
     "output_type": "stream",
     "text": [
      "  0%|          | 22/10000 [01:03<13:22:13,  4.82s/it]"
     ]
    },
    {
     "name": "stdout",
     "output_type": "stream",
     "text": [
      "Adding attribute Diarrhea\n",
      "Adding attribute RNA EOT\n",
      "Adding attribute Gender\n"
     ]
    },
    {
     "name": "stderr",
     "output_type": "stream",
     "text": [
      "  1%|          | 110/10000 [02:16<2:11:29,  1.25it/s] "
     ]
    },
    {
     "name": "stdout",
     "output_type": "stream",
     "text": [
      "Adding attribute Fatigue & generalized bone ache\n"
     ]
    },
    {
     "name": "stderr",
     "output_type": "stream",
     "text": [
      "  0%|          | 30/10000 [01:11<3:05:20,  1.12s/it]]"
     ]
    },
    {
     "name": "stdout",
     "output_type": "stream",
     "text": [
      "Adding attribute b_class\n"
     ]
    },
    {
     "name": "stderr",
     "output_type": "stream",
     "text": [
      "  0%|          | 36/10000 [01:22<9:05:30,  3.28s/it]"
     ]
    },
    {
     "name": "stdout",
     "output_type": "stream",
     "text": [
      "Adding attribute Nausea/Vomting\n"
     ]
    },
    {
     "name": "stderr",
     "output_type": "stream",
     "text": [
      "  1%|          | 67/10000 [01:49<5:01:22,  1.82s/it]"
     ]
    },
    {
     "name": "stdout",
     "output_type": "stream",
     "text": [
      "Adding attribute Diarrhea\n"
     ]
    },
    {
     "name": "stderr",
     "output_type": "stream",
     "text": [
      "  1%|          | 60/10000 [01:46<2:11:27,  1.26it/s]]"
     ]
    },
    {
     "name": "stdout",
     "output_type": "stream",
     "text": [
      "Adding attribute Fatigue & generalized bone ache\n"
     ]
    },
    {
     "name": "stderr",
     "output_type": "stream",
     "text": [
      "  0%|          | 41/10000 [01:34<3:41:29,  1.33s/it]]"
     ]
    },
    {
     "name": "stdout",
     "output_type": "stream",
     "text": [
      "Adding attribute RNA EF\n"
     ]
    },
    {
     "name": "stderr",
     "output_type": "stream",
     "text": [
      "  0%|          | 33/10000 [01:26<12:37:14,  4.56s/it]"
     ]
    },
    {
     "name": "stdout",
     "output_type": "stream",
     "text": [
      "Adding attribute HeadacheAdding attribute Fever\n",
      "\n"
     ]
    },
    {
     "name": "stderr",
     "output_type": "stream",
     "text": [
      "  0%|          | 48/10000 [01:32<2:21:30,  1.17it/s]"
     ]
    },
    {
     "name": "stdout",
     "output_type": "stream",
     "text": [
      "Adding attribute Diarrhea\n",
      "Adding attribute Headache\n"
     ]
    },
    {
     "name": "stderr",
     "output_type": "stream",
     "text": [
      "  1%|          | 78/10000 [01:50<4:05:19,  1.48s/it] "
     ]
    },
    {
     "name": "stdout",
     "output_type": "stream",
     "text": [
      "Adding attribute Nausea/Vomting\n"
     ]
    },
    {
     "name": "stderr",
     "output_type": "stream",
     "text": [
      "  1%|▏         | 125/10000 [02:39<4:29:47,  1.64s/it]"
     ]
    },
    {
     "name": "stdout",
     "output_type": "stream",
     "text": [
      "Adding attribute Fatigue & generalized bone ache\n"
     ]
    },
    {
     "name": "stderr",
     "output_type": "stream",
     "text": [
      "  1%|          | 53/10000 [01:45<7:29:47,  2.71s/it]]"
     ]
    },
    {
     "name": "stdout",
     "output_type": "stream",
     "text": [
      "Adding attribute Diarrhea\n"
     ]
    },
    {
     "name": "stderr",
     "output_type": "stream",
     "text": [
      "  1%|▏         | 136/10000 [02:49<1:59:57,  1.37it/s]"
     ]
    },
    {
     "name": "stdout",
     "output_type": "stream",
     "text": [
      "Adding attribute RBC\n"
     ]
    },
    {
     "name": "stderr",
     "output_type": "stream",
     "text": [
      "  1%|          | 59/10000 [01:55<4:18:36,  1.56s/it]"
     ]
    },
    {
     "name": "stdout",
     "output_type": "stream",
     "text": [
      "Adding attribute b_class\n"
     ]
    },
    {
     "name": "stderr",
     "output_type": "stream",
     "text": [
      "  1%|          | 65/10000 [01:59<1:55:22,  1.44it/s]]"
     ]
    },
    {
     "name": "stdout",
     "output_type": "stream",
     "text": [
      "Adding attribute Fever\n"
     ]
    },
    {
     "name": "stderr",
     "output_type": "stream",
     "text": [
      "  1%|          | 66/10000 [02:00<1:52:15,  1.47it/s]"
     ]
    },
    {
     "name": "stdout",
     "output_type": "stream",
     "text": [
      "Adding attribute RNA 4\n"
     ]
    },
    {
     "name": "stderr",
     "output_type": "stream",
     "text": [
      "  1%|          | 97/10000 [02:11<2:42:22,  1.02it/s]"
     ]
    },
    {
     "name": "stdout",
     "output_type": "stream",
     "text": [
      "Adding attribute Nausea/Vomting\n",
      "Adding attribute Fever\n",
      "Adding attribute Nausea/Vomting\n"
     ]
    },
    {
     "name": "stderr",
     "output_type": "stream",
     "text": [
      "  1%|          | 52/10000 [01:57<4:41:23,  1.70s/it]]"
     ]
    },
    {
     "name": "stdout",
     "output_type": "stream",
     "text": [
      "Adding attribute Nausea/Vomting\n"
     ]
    },
    {
     "name": "stderr",
     "output_type": "stream",
     "text": [
      "  1%|          | 91/10000 [02:24<3:07:23,  1.13s/it]"
     ]
    },
    {
     "name": "stdout",
     "output_type": "stream",
     "text": [
      "Adding attribute Gender\n"
     ]
    },
    {
     "name": "stderr",
     "output_type": "stream",
     "text": [
      "  1%|▏         | 146/10000 [03:02<1:21:23,  2.02it/s]"
     ]
    },
    {
     "name": "stdout",
     "output_type": "stream",
     "text": [
      "Adding attribute RNA Base\n",
      "========================== BN constructed ==========================\n"
     ]
    },
    {
     "name": "stderr",
     "output_type": "stream",
     "text": [
      "  1%|▏         | 148/10000 [03:03<1:38:39,  1.66it/s]"
     ]
    },
    {
     "name": "stdout",
     "output_type": "stream",
     "text": [
      "Adding attribute Fatigue & generalized bone ache\n"
     ]
    },
    {
     "name": "stderr",
     "output_type": "stream",
     "text": [
      "  1%|          | 81/10000 [02:21<4:05:21,  1.48s/it] "
     ]
    },
    {
     "name": "stdout",
     "output_type": "stream",
     "text": [
      "Adding attribute RBC\n"
     ]
    },
    {
     "name": "stderr",
     "output_type": "stream",
     "text": [
      "  1%|          | 65/10000 [02:16<3:20:44,  1.21s/it]]"
     ]
    },
    {
     "name": "stdout",
     "output_type": "stream",
     "text": [
      "Adding attribute Diarrhea\n",
      "Adding attribute Gender\n"
     ]
    },
    {
     "name": "stderr",
     "output_type": "stream",
     "text": [
      "  1%|          | 96/10000 [02:28<1:23:14,  1.98it/s]]"
     ]
    },
    {
     "name": "stdout",
     "output_type": "stream",
     "text": [
      "Adding attribute b_class\n",
      "Adding attribute Epigastric pain\n",
      "Adding attribute b_class\n",
      "Adding attribute RBC\n"
     ]
    },
    {
     "name": "stderr",
     "output_type": "stream",
     "text": [
      "  1%|          | 72/10000 [02:13<2:36:02,  1.06it/s]]"
     ]
    },
    {
     "name": "stdout",
     "output_type": "stream",
     "text": [
      "Adding attribute Fatigue & generalized bone ache\n"
     ]
    },
    {
     "name": "stderr",
     "output_type": "stream",
     "text": [
      "  1%|          | 79/10000 [02:36<7:15:08,  2.63s/it]]"
     ]
    },
    {
     "name": "stdout",
     "output_type": "stream",
     "text": [
      "Adding attribute RNA Base\n",
      "========================== BN constructed ==========================\n"
     ]
    },
    {
     "name": "stderr",
     "output_type": "stream",
     "text": [
      "  1%|          | 65/10000 [02:20<5:18:26,  1.92s/it]] "
     ]
    },
    {
     "name": "stdout",
     "output_type": "stream",
     "text": [
      "Adding attribute Fever\n"
     ]
    },
    {
     "name": "stderr",
     "output_type": "stream",
     "text": [
      "  1%|          | 61/10000 [02:19<3:41:27,  1.34s/it]]"
     ]
    },
    {
     "name": "stdout",
     "output_type": "stream",
     "text": [
      "Adding attribute Fatigue & generalized bone ache\n"
     ]
    },
    {
     "name": "stderr",
     "output_type": "stream",
     "text": [
      "  1%|          | 92/10000 [02:32<2:01:41,  1.36it/s]]"
     ]
    },
    {
     "name": "stdout",
     "output_type": "stream",
     "text": [
      "Adding attribute RNA Base\n",
      "========================== BN constructed ==========================\n",
      "Adding attribute Diarrhea\n"
     ]
    },
    {
     "name": "stderr",
     "output_type": "stream",
     "text": [
      "  1%|          | 95/10000 [02:33<1:27:28,  1.89it/s]]"
     ]
    },
    {
     "name": "stdout",
     "output_type": "stream",
     "text": [
      "Adding attribute Fatigue & generalized bone ache\n"
     ]
    },
    {
     "name": "stderr",
     "output_type": "stream",
     "text": [
      "  1%|          | 123/10000 [02:43<1:10:06,  2.35it/s]"
     ]
    },
    {
     "name": "stdout",
     "output_type": "stream",
     "text": [
      "Adding attribute b_class\n"
     ]
    },
    {
     "name": "stderr",
     "output_type": "stream",
     "text": [
      "  1%|          | 124/10000 [02:44<1:18:14,  2.10it/s]"
     ]
    },
    {
     "name": "stdout",
     "output_type": "stream",
     "text": [
      "Adding attribute Diarrhea\n"
     ]
    },
    {
     "name": "stderr",
     "output_type": "stream",
     "text": [
      "  1%|          | 81/10000 [02:29<2:12:47,  1.24it/s] "
     ]
    },
    {
     "name": "stdout",
     "output_type": "stream",
     "text": [
      "Adding attribute RBC\n"
     ]
    },
    {
     "name": "stderr",
     "output_type": "stream",
     "text": [
      "  1%|          | 100/10000 [02:59<18:54:59,  6.88s/it]"
     ]
    },
    {
     "name": "stdout",
     "output_type": "stream",
     "text": [
      "Adding attribute Fever\n"
     ]
    },
    {
     "name": "stderr",
     "output_type": "stream",
     "text": [
      "  1%|          | 97/10000 [02:41<7:05:05,  2.58s/it]] "
     ]
    },
    {
     "name": "stdout",
     "output_type": "stream",
     "text": [
      "Adding attribute RBC\n"
     ]
    },
    {
     "name": "stderr",
     "output_type": "stream",
     "text": [
      "  1%|          | 66/10000 [02:29<5:01:31,  1.82s/it]]"
     ]
    },
    {
     "name": "stdout",
     "output_type": "stream",
     "text": [
      "Adding attribute Fever\n"
     ]
    },
    {
     "name": "stderr",
     "output_type": "stream",
     "text": [
      "  1%|          | 72/10000 [02:32<2:02:56,  1.35it/s]] "
     ]
    },
    {
     "name": "stdout",
     "output_type": "stream",
     "text": [
      "Adding attribute Nausea/Vomting\n"
     ]
    },
    {
     "name": "stderr",
     "output_type": "stream",
     "text": [
      "  2%|▏         | 206/10000 [03:42<1:42:39,  1.59it/s]"
     ]
    },
    {
     "name": "stdout",
     "output_type": "stream",
     "text": [
      "Adding attribute Fever\n"
     ]
    },
    {
     "name": "stderr",
     "output_type": "stream",
     "text": [
      "  2%|▏         | 207/10000 [03:43<1:35:23,  1.71it/s]"
     ]
    },
    {
     "name": "stdout",
     "output_type": "stream",
     "text": [
      "Adding attribute RBC\n"
     ]
    },
    {
     "name": "stderr",
     "output_type": "stream",
     "text": [
      "  1%|          | 120/10000 [03:09<1:17:03,  2.14it/s]"
     ]
    },
    {
     "name": "stdout",
     "output_type": "stream",
     "text": [
      "Adding attribute RNA Base\n",
      "========================== BN constructed ==========================\n"
     ]
    },
    {
     "name": "stderr",
     "output_type": "stream",
     "text": [
      "  1%|          | 121/10000 [03:09<1:14:06,  2.22it/s]"
     ]
    },
    {
     "name": "stdout",
     "output_type": "stream",
     "text": [
      "Adding attribute RBC\n"
     ]
    },
    {
     "name": "stderr",
     "output_type": "stream",
     "text": [
      "  1%|          | 89/10000 [02:48<2:30:41,  1.10it/s]]"
     ]
    },
    {
     "name": "stdout",
     "output_type": "stream",
     "text": [
      "Adding attribute RNA Base\n",
      "========================== BN constructed ==========================\n"
     ]
    },
    {
     "name": "stderr",
     "output_type": "stream",
     "text": [
      "  2%|▏         | 151/10000 [03:00<4:09:03,  1.52s/it]"
     ]
    },
    {
     "name": "stdout",
     "output_type": "stream",
     "text": [
      "Adding attribute RBC\n",
      "========================== BN constructed ==========================\n"
     ]
    },
    {
     "name": "stderr",
     "output_type": "stream",
     "text": [
      "  2%|▏         | 156/10000 [03:02<1:32:44,  1.77it/s]"
     ]
    },
    {
     "name": "stdout",
     "output_type": "stream",
     "text": [
      "Adding attribute RNA Base\n",
      "========================== BN constructed ==========================\n"
     ]
    },
    {
     "name": "stderr",
     "output_type": "stream",
     "text": [
      "  1%|▏         | 138/10000 [03:15<1:08:32,  2.40it/s]"
     ]
    },
    {
     "name": "stdout",
     "output_type": "stream",
     "text": [
      "Adding attribute RBC\n",
      "Adding attribute RNA Base\n",
      "========================== BN constructed ==========================\n"
     ]
    },
    {
     "name": "stderr",
     "output_type": "stream",
     "text": [
      "  1%|          | 99/10000 [02:50<1:03:37,  2.59it/s]]"
     ]
    },
    {
     "name": "stdout",
     "output_type": "stream",
     "text": [
      "Adding attribute RNA Base\n",
      "========================== BN constructed ==========================\n"
     ]
    },
    {
     "name": "stderr",
     "output_type": "stream",
     "text": [
      "  2%|▏         | 241/10000 [03:55<56:27,  2.88it/s]]] "
     ]
    },
    {
     "name": "stdout",
     "output_type": "stream",
     "text": [
      "Adding attribute RNA Base\n",
      "========================== BN constructed ==========================\n"
     ]
    },
    {
     "name": "stderr",
     "output_type": "stream",
     "text": [
      "  5%|▌         | 549/10000 [07:01<2:00:55,  1.30it/s]\n",
      "  6%|▌         | 601/10000 [07:17<2:42:00,  1.03s/it]"
     ]
    },
    {
     "name": "stdout",
     "output_type": "stream",
     "text": [
      "Final size of synthetic data: 4150\n"
     ]
    },
    {
     "name": "stderr",
     "output_type": "stream",
     "text": [
      "  6%|▌         | 599/10000 [06:57<1:49:15,  1.43it/s]\n",
      "  6%|▌         | 599/10000 [07:11<1:52:47,  1.39it/s]\n",
      "  6%|▌         | 574/10000 [07:00<1:03:01,  2.49it/s]"
     ]
    },
    {
     "name": "stdout",
     "output_type": "stream",
     "text": [
      "Final size of synthetic data: 3860\n"
     ]
    },
    {
     "name": "stderr",
     "output_type": "stream",
     "text": [
      "  6%|▌         | 584/10000 [06:58<1:00:43,  2.58it/s]"
     ]
    },
    {
     "name": "stdout",
     "output_type": "stream",
     "text": [
      "Final size of synthetic data: 4041\n"
     ]
    },
    {
     "name": "stderr",
     "output_type": "stream",
     "text": [
      "  6%|▋         | 649/10000 [07:39<1:50:15,  1.41it/s]\n",
      "  7%|▋         | 699/10000 [07:33<1:40:36,  1.54it/s]\n",
      "  6%|▋         | 639/10000 [07:25<57:13,  2.73it/s]s]"
     ]
    },
    {
     "name": "stdout",
     "output_type": "stream",
     "text": [
      "Final size of synthetic data: 4404\n"
     ]
    },
    {
     "name": "stderr",
     "output_type": "stream",
     "text": [
      "  7%|▋         | 671/10000 [07:27<55:21,  2.81it/s]t]"
     ]
    },
    {
     "name": "stdout",
     "output_type": "stream",
     "text": [
      "Final size of synthetic data: 4184\n"
     ]
    },
    {
     "name": "stderr",
     "output_type": "stream",
     "text": [
      "  6%|▋         | 649/10000 [07:27<1:47:31,  1.45it/s]\n",
      "  7%|▋         | 671/10000 [07:41<57:28,  2.71it/s]  "
     ]
    },
    {
     "name": "stdout",
     "output_type": "stream",
     "text": [
      "Final size of synthetic data: 4101\n"
     ]
    },
    {
     "name": "stderr",
     "output_type": "stream",
     "text": [
      "  8%|▊         | 849/10000 [08:40<1:33:25,  1.63it/s]\n",
      " 10%|▉         | 990/10000 [09:48<50:43,  2.96it/s]s]"
     ]
    },
    {
     "name": "stdout",
     "output_type": "stream",
     "text": [
      "Final size of synthetic data: 3933\n"
     ]
    },
    {
     "name": "stderr",
     "output_type": "stream",
     "text": [
      "  9%|▉         | 899/10000 [09:14<1:33:31,  1.62it/s] \n",
      " 11%|█         | 1091/10000 [10:26<49:36,  2.99it/s]"
     ]
    },
    {
     "name": "stdout",
     "output_type": "stream",
     "text": [
      "Final size of synthetic data: 3987\n"
     ]
    },
    {
     "name": "stderr",
     "output_type": "stream",
     "text": [
      "  9%|▉         | 949/10000 [09:30<1:30:44,  1.66it/s]\n",
      " 11%|█         | 1099/10000 [10:31<1:25:13,  1.74it/s]\n"
     ]
    },
    {
     "name": "stdout",
     "output_type": "stream",
     "text": [
      "Final size of synthetic data: 3669\n",
      "Final size of synthetic data: 3686\n"
     ]
    },
    {
     "name": "stderr",
     "output_type": "stream",
     "text": [
      "/tmp/ipykernel_3532716/2612257873.py:26: PerformanceWarning: dropping on a non-lexsorted multi-index without a level parameter may impact performance.\n",
      "  res = res.drop(columns=['rank', 'u_rank', 'p_rank'])\n"
     ]
    }
   ],
   "source": [
    "df_dgms = mixed_model_experiment(df_train, df_test, 'datasynthesizer', 'adsgan', cat_atts, num_atts, label, metrics)\n",
    "df_dgms.to_csv('experiments/results/mixed_model_results/hepatitis_case_study_adapt/datasynthesizer_adsgan.csv')\n",
    "#~12 mins"
   ]
  },
  {
   "cell_type": "code",
   "execution_count": 5,
   "metadata": {},
   "outputs": [
    {
     "name": "stdout",
     "output_type": "stream",
     "text": [
      "================ Constructing Bayesian Network (BN) ================\n",
      "Adding ROOT RNA Base\n",
      "================ Constructing Bayesian Network (BN) ================\n",
      "Adding ROOT Fever\n",
      "================ Constructing Bayesian Network (BN) ================\n",
      "Adding ROOT Fever\n",
      "================ Constructing Bayesian Network (BN) ================\n",
      "Adding ROOT Gender\n",
      "================ Constructing Bayesian Network (BN) ================\n",
      "Adding ROOT RNA EOT\n",
      "================ Constructing Bayesian Network (BN) ================\n",
      "Adding ROOT Jaundice\n",
      "================ Constructing Bayesian Network (BN) ================\n",
      "Adding ROOT RNA 4\n",
      "================ Constructing Bayesian Network (BN) ================\n",
      "Adding ROOT Diarrhea\n",
      "================ Constructing Bayesian Network (BN) ================\n",
      "Adding ROOT RBC\n",
      "================ Constructing Bayesian Network (BN) ================\n",
      "Adding ROOT Epigastric pain\n"
     ]
    },
    {
     "name": "stderr",
     "output_type": "stream",
     "text": [
      "Exception ignored in: <built-in method release of _thread.lock object at 0x7f3f240e6240>\n",
      "Traceback (most recent call last):\n",
      "  File \"/home/lautrup/sdg_env/lib/python3.10/site-packages/joblib/externals/loky/backend/fork_exec.py\", line 38, in fork_exec\n",
      "    pid = os.fork()\n",
      "RuntimeError: release unlocked lock\n",
      "Exception ignored in: <function release_locks at 0x7f134c66d630>\n",
      "Traceback (most recent call last):\n",
      "  File \"/home/lautrup/sdg_env/lib/python3.10/site-packages/loguru/_locks_machinery.py\", line 31, in release_locks\n",
      "    lock.release()\n",
      "RuntimeError: Exception ignored in: release unlocked lock\n",
      "Exception ignored in: Exception ignored in: <function release_locks at 0x7f68b4179630>\n",
      "Traceback (most recent call last):\n",
      "  File \"/home/lautrup/sdg_env/lib/python3.10/site-packages/loguru/_locks_machinery.py\", line 31, in release_locks\n",
      "    <function release_locks at 0x7f134c66d630><function release_locks at 0x7f68b4179630>\n",
      "Traceback (most recent call last):\n",
      "  File \"/home/lautrup/sdg_env/lib/python3.10/site-packages/loguru/_locks_machinery.py\", line 31, in release_locks\n",
      "\n",
      "Traceback (most recent call last):\n",
      "  File \"/home/lautrup/sdg_env/lib/python3.10/site-packages/loguru/_locks_machinery.py\", line 31, in release_locks\n",
      "    lock.release()\n",
      "RuntimeError: release unlocked lock\n",
      "lock.release()\n",
      "RuntimeError: release unlocked lock\n",
      "    lock.release()\n",
      "RuntimeError: release unlocked lock\n",
      "Exception ignored in: <function release_locks at 0x7fba0816d630>\n",
      "Traceback (most recent call last):\n",
      "  File \"/home/lautrup/sdg_env/lib/python3.10/site-packages/loguru/_locks_machinery.py\", line 31, in release_locks\n",
      "    lock.release()\n",
      "RuntimeError: release unlocked lock\n"
     ]
    },
    {
     "name": "stdout",
     "output_type": "stream",
     "text": [
      "Adding attribute WBC\n",
      "Adding attribute RNA 12\n",
      "Adding attribute Plat\n",
      "Adding attribute RNA EOT\n",
      "Adding attribute RNA 12\n",
      "Adding attribute WBC\n",
      "Adding attribute RNA EF\n",
      "Adding attribute WBC\n",
      "Adding attribute b_class\n",
      "Adding attribute Gender\n",
      "Adding attribute Jaundice\n",
      "Adding attribute RNA EOT\n",
      "Adding attribute WBC\n",
      "Adding attribute RNA EOT\n",
      "Adding attribute Plat\n",
      "Adding attribute RNA 12\n",
      "Adding attribute Fatigue & generalized bone ache\n",
      "Adding attribute Nausea/Vomting\n",
      "Adding attribute RNA EF\n",
      "Adding attribute RNA 12\n",
      "Adding attribute Plat\n",
      "Adding attribute RNA EF\n",
      "Adding attribute RNA EOT\n",
      "Adding attribute Headache\n",
      "Adding attribute Plat\n",
      "Adding attribute Diarrhea\n",
      "Adding attribute RNA EF\n",
      "Adding attribute Jaundice\n",
      "Adding attribute RNA 12\n",
      "Adding attribute RNA 4\n"
     ]
    },
    {
     "name": "stderr",
     "output_type": "stream",
     "text": [
      "[2025-01-14T11:07:45.963969+0100][1934415][CRITICAL] module disabled: /home/lautrup/sdg_env/lib/python3.10/site-packages/synthcity/plugins/generic/plugin_goggle.py\n",
      "[2025-01-14T11:07:46.881789+0100][1934348][CRITICAL] module disabled: /home/lautrup/sdg_env/lib/python3.10/site-packages/synthcity/plugins/generic/plugin_goggle.py\n"
     ]
    },
    {
     "name": "stdout",
     "output_type": "stream",
     "text": [
      "Adding attribute Headache\n",
      "Adding attribute RNA 4\n",
      "Adding attribute RNA EF\n"
     ]
    },
    {
     "name": "stderr",
     "output_type": "stream",
     "text": [
      "[2025-01-14T11:07:56.495659+0100][1934414][CRITICAL] module disabled: /home/lautrup/sdg_env/lib/python3.10/site-packages/synthcity/plugins/generic/plugin_goggle.py\n"
     ]
    },
    {
     "name": "stdout",
     "output_type": "stream",
     "text": [
      "Adding attribute Jaundice\n",
      "Adding attribute RNA 12\n",
      "Adding attribute Plat\n",
      "Adding attribute Headache\n",
      "Adding attribute Gender\n"
     ]
    },
    {
     "name": "stderr",
     "output_type": "stream",
     "text": [
      "[2025-01-14T11:08:01.863799+0100][1934416][CRITICAL] module disabled: /home/lautrup/sdg_env/lib/python3.10/site-packages/synthcity/plugins/generic/plugin_goggle.py\n"
     ]
    },
    {
     "name": "stdout",
     "output_type": "stream",
     "text": [
      "Adding attribute RNA 4\n",
      "Adding attribute Gender\n"
     ]
    },
    {
     "name": "stderr",
     "output_type": "stream",
     "text": [
      "[2025-01-14T11:08:02.700277+0100][1934345][CRITICAL] module disabled: /home/lautrup/sdg_env/lib/python3.10/site-packages/synthcity/plugins/generic/plugin_goggle.py\n"
     ]
    },
    {
     "name": "stdout",
     "output_type": "stream",
     "text": [
      "Adding attribute RNA 12\n",
      "Adding attribute Gender\n"
     ]
    },
    {
     "name": "stderr",
     "output_type": "stream",
     "text": [
      "[2025-01-14T11:08:07.601488+0100][1934417][CRITICAL] module disabled: /home/lautrup/sdg_env/lib/python3.10/site-packages/synthcity/plugins/generic/plugin_goggle.py\n",
      "[2025-01-14T11:08:10.292570+0100][1934350][CRITICAL] module disabled: /home/lautrup/sdg_env/lib/python3.10/site-packages/synthcity/plugins/generic/plugin_goggle.py\n",
      "[2025-01-14T11:08:13.302096+0100][1934349][CRITICAL] module disabled: /home/lautrup/sdg_env/lib/python3.10/site-packages/synthcity/plugins/generic/plugin_goggle.py\n"
     ]
    },
    {
     "name": "stdout",
     "output_type": "stream",
     "text": [
      "Adding attribute Headache\n",
      "Adding attribute RNA 4\n"
     ]
    },
    {
     "name": "stderr",
     "output_type": "stream",
     "text": [
      "[2025-01-14T11:08:14.824928+0100][1934347][CRITICAL] module disabled: /home/lautrup/sdg_env/lib/python3.10/site-packages/synthcity/plugins/generic/plugin_goggle.py\n"
     ]
    },
    {
     "name": "stdout",
     "output_type": "stream",
     "text": [
      "Adding attribute RNA EOT\n",
      "Adding attribute Fever\n"
     ]
    },
    {
     "name": "stderr",
     "output_type": "stream",
     "text": [
      "[2025-01-14T11:08:17.897956+0100][1934346][CRITICAL] module disabled: /home/lautrup/sdg_env/lib/python3.10/site-packages/synthcity/plugins/generic/plugin_goggle.py\n"
     ]
    },
    {
     "name": "stdout",
     "output_type": "stream",
     "text": [
      "Adding attribute Epigastric pain\n",
      "Adding attribute Gender\n",
      "Adding attribute RNA 12\n"
     ]
    },
    {
     "name": "stderr",
     "output_type": "stream",
     "text": [
      "  0%|          | 1/2000 [00:01<53:12,  1.60s/it]"
     ]
    },
    {
     "name": "stdout",
     "output_type": "stream",
     "text": [
      "Adding attribute RNA EOT\n"
     ]
    },
    {
     "name": "stderr",
     "output_type": "stream",
     "text": [
      "  0%|          | 0/2000 [00:00<?, ?it/s].33s/it]"
     ]
    },
    {
     "name": "stdout",
     "output_type": "stream",
     "text": [
      "Adding attribute Epigastric pain\n"
     ]
    },
    {
     "name": "stderr",
     "output_type": "stream",
     "text": [
      "  0%|          | 4/2000 [00:03<31:53,  1.04it/s]"
     ]
    },
    {
     "name": "stdout",
     "output_type": "stream",
     "text": [
      "Adding attribute Epigastric pain\n"
     ]
    },
    {
     "name": "stderr",
     "output_type": "stream",
     "text": [
      "  0%|          | 1/2000 [00:01<47:05,  1.41s/it]t]"
     ]
    },
    {
     "name": "stdout",
     "output_type": "stream",
     "text": [
      "Adding attribute Plat\n"
     ]
    },
    {
     "name": "stderr",
     "output_type": "stream",
     "text": [
      "  0%|          | 2/2000 [00:01<30:47,  1.08it/s]"
     ]
    },
    {
     "name": "stdout",
     "output_type": "stream",
     "text": [
      "Adding attribute RNA 12\n"
     ]
    },
    {
     "name": "stderr",
     "output_type": "stream",
     "text": [
      "  0%|          | 5/2000 [00:03<20:27,  1.62it/s]t]"
     ]
    },
    {
     "name": "stdout",
     "output_type": "stream",
     "text": [
      "Adding attribute RNA EF\n"
     ]
    },
    {
     "name": "stderr",
     "output_type": "stream",
     "text": [
      "  0%|          | 6/2000 [00:04<21:52,  1.52it/s]"
     ]
    },
    {
     "name": "stdout",
     "output_type": "stream",
     "text": [
      "Adding attribute WBC\n"
     ]
    },
    {
     "name": "stderr",
     "output_type": "stream",
     "text": [
      "  0%|          | 8/2000 [00:05<22:56,  1.45it/s]t]"
     ]
    },
    {
     "name": "stdout",
     "output_type": "stream",
     "text": [
      "Adding attribute Epigastric pain\n"
     ]
    },
    {
     "name": "stderr",
     "output_type": "stream",
     "text": [
      "  1%|          | 13/2000 [00:19<26:40,  1.24it/s] "
     ]
    },
    {
     "name": "stdout",
     "output_type": "stream",
     "text": [
      "Adding attribute RNA EOT\n"
     ]
    },
    {
     "name": "stderr",
     "output_type": "stream",
     "text": [
      "  1%|          | 11/2000 [00:17<36:03,  1.09s/it]"
     ]
    },
    {
     "name": "stdout",
     "output_type": "stream",
     "text": [
      "Adding attribute Plat\n",
      "Adding attribute RNA EF\n"
     ]
    },
    {
     "name": "stderr",
     "output_type": "stream",
     "text": [
      "  1%|          | 19/2000 [00:21<19:06,  1.73it/s]]"
     ]
    },
    {
     "name": "stdout",
     "output_type": "stream",
     "text": [
      "Adding attribute Plat\n"
     ]
    },
    {
     "name": "stderr",
     "output_type": "stream",
     "text": [
      "  1%|          | 12/2000 [00:18<1:15:09,  2.27s/it]"
     ]
    },
    {
     "name": "stdout",
     "output_type": "stream",
     "text": [
      "Adding attribute Plat\n"
     ]
    },
    {
     "name": "stderr",
     "output_type": "stream",
     "text": [
      "  1%|          | 19/2000 [00:31<55:51,  1.69s/it]  "
     ]
    },
    {
     "name": "stdout",
     "output_type": "stream",
     "text": [
      "Adding attribute RNA EOT\n"
     ]
    },
    {
     "name": "stderr",
     "output_type": "stream",
     "text": [
      "  1%|          | 21/2000 [00:32<34:35,  1.05s/it]"
     ]
    },
    {
     "name": "stdout",
     "output_type": "stream",
     "text": [
      "Adding attribute WBC\n"
     ]
    },
    {
     "name": "stderr",
     "output_type": "stream",
     "text": [
      "  1%|          | 20/2000 [00:24<20:44,  1.59it/s]t]"
     ]
    },
    {
     "name": "stdout",
     "output_type": "stream",
     "text": [
      "Adding attribute Jaundice\n"
     ]
    },
    {
     "name": "stderr",
     "output_type": "stream",
     "text": [
      "  1%|          | 24/2000 [00:35<30:03,  1.10it/s]"
     ]
    },
    {
     "name": "stdout",
     "output_type": "stream",
     "text": [
      "Adding attribute RNA 4\n"
     ]
    },
    {
     "name": "stderr",
     "output_type": "stream",
     "text": [
      "  1%|▏         | 29/2000 [00:39<29:14,  1.12it/s]  "
     ]
    },
    {
     "name": "stdout",
     "output_type": "stream",
     "text": [
      "Adding attribute RNA 4\n"
     ]
    },
    {
     "name": "stderr",
     "output_type": "stream",
     "text": [
      "  2%|▏         | 30/2000 [00:39<26:51,  1.22it/s]"
     ]
    },
    {
     "name": "stdout",
     "output_type": "stream",
     "text": [
      "Adding attribute Plat\n"
     ]
    },
    {
     "name": "stderr",
     "output_type": "stream",
     "text": [
      "  2%|▏         | 33/2000 [00:41<19:22,  1.69it/s]"
     ]
    },
    {
     "name": "stdout",
     "output_type": "stream",
     "text": [
      "Adding attribute RNA EF\n"
     ]
    },
    {
     "name": "stderr",
     "output_type": "stream",
     "text": [
      "  2%|▏         | 34/2000 [00:41<18:26,  1.78it/s]"
     ]
    },
    {
     "name": "stdout",
     "output_type": "stream",
     "text": [
      "Adding attribute WBC\n"
     ]
    },
    {
     "name": "stderr",
     "output_type": "stream",
     "text": [
      "  2%|▏         | 36/2000 [00:43<20:20,  1.61it/s]"
     ]
    },
    {
     "name": "stdout",
     "output_type": "stream",
     "text": [
      "Adding attribute Fatigue & generalized bone ache\n"
     ]
    },
    {
     "name": "stderr",
     "output_type": "stream",
     "text": [
      "  2%|▏         | 34/2000 [00:41<1:07:52,  2.07s/it]"
     ]
    },
    {
     "name": "stdout",
     "output_type": "stream",
     "text": [
      "Adding attribute RNA EF\n"
     ]
    },
    {
     "name": "stderr",
     "output_type": "stream",
     "text": [
      "  2%|▏         | 36/2000 [00:44<51:40,  1.58s/it]  "
     ]
    },
    {
     "name": "stdout",
     "output_type": "stream",
     "text": [
      "Adding attribute Headache\n"
     ]
    },
    {
     "name": "stderr",
     "output_type": "stream",
     "text": [
      "  2%|▏         | 37/2000 [00:45<43:17,  1.32s/it]"
     ]
    },
    {
     "name": "stdout",
     "output_type": "stream",
     "text": [
      "Adding attribute Jaundice\n",
      "Adding attribute WBC\n"
     ]
    },
    {
     "name": "stderr",
     "output_type": "stream",
     "text": [
      "  2%|▏         | 43/2000 [00:57<27:41,  1.18it/s]"
     ]
    },
    {
     "name": "stdout",
     "output_type": "stream",
     "text": [
      "Adding attribute Epigastric pain\n"
     ]
    },
    {
     "name": "stderr",
     "output_type": "stream",
     "text": [
      "  3%|▎         | 55/2000 [01:05<23:47,  1.36it/s]  "
     ]
    },
    {
     "name": "stdout",
     "output_type": "stream",
     "text": [
      "Adding attribute Epigastric pain\n"
     ]
    },
    {
     "name": "stderr",
     "output_type": "stream",
     "text": [
      "  2%|▏         | 49/2000 [00:55<37:08,  1.14s/it]"
     ]
    },
    {
     "name": "stdout",
     "output_type": "stream",
     "text": [
      "Adding attribute Fatigue & generalized bone ache\n"
     ]
    },
    {
     "name": "stderr",
     "output_type": "stream",
     "text": [
      "  0%|          | 0/2000 [00:00<?, ?it/s]1.40it/s]"
     ]
    },
    {
     "name": "stdout",
     "output_type": "stream",
     "text": [
      "Adding attribute RNA 4\n"
     ]
    },
    {
     "name": "stderr",
     "output_type": "stream",
     "text": [
      "  2%|▎         | 50/2000 [01:06<22:46,  1.43it/s]"
     ]
    },
    {
     "name": "stdout",
     "output_type": "stream",
     "text": [
      "Adding attribute Jaundice\n"
     ]
    },
    {
     "name": "stderr",
     "output_type": "stream",
     "text": [
      "  0%|          | 2/2000 [00:16<4:06:06,  7.39s/it]"
     ]
    },
    {
     "name": "stdout",
     "output_type": "stream",
     "text": [
      "Adding attribute WBC\n"
     ]
    },
    {
     "name": "stderr",
     "output_type": "stream",
     "text": [
      "  3%|▎         | 60/2000 [01:15<48:52,  1.51s/it]]"
     ]
    },
    {
     "name": "stdout",
     "output_type": "stream",
     "text": [
      "Adding attribute RNA 4\n"
     ]
    },
    {
     "name": "stderr",
     "output_type": "stream",
     "text": [
      "  3%|▎         | 58/2000 [01:12<39:38,  1.22s/it]"
     ]
    },
    {
     "name": "stdout",
     "output_type": "stream",
     "text": [
      "Adding attribute RNA 12\n"
     ]
    },
    {
     "name": "stderr",
     "output_type": "stream",
     "text": [
      "  0%|          | 1/2000 [00:07<4:13:04,  7.60s/it]"
     ]
    },
    {
     "name": "stdout",
     "output_type": "stream",
     "text": [
      "Adding attribute Headache\n"
     ]
    },
    {
     "name": "stderr",
     "output_type": "stream",
     "text": [
      "  0%|          | 9/2000 [00:24<41:37,  1.25s/it]t]]"
     ]
    },
    {
     "name": "stdout",
     "output_type": "stream",
     "text": [
      "Adding attribute b_class\n"
     ]
    },
    {
     "name": "stderr",
     "output_type": "stream",
     "text": [
      "  3%|▎         | 69/2000 [01:21<24:30,  1.31it/s]"
     ]
    },
    {
     "name": "stdout",
     "output_type": "stream",
     "text": [
      "Adding attribute b_class\n",
      "Adding attribute Jaundice\n"
     ]
    },
    {
     "name": "stderr",
     "output_type": "stream",
     "text": [
      "  0%|          | 4/2000 [00:10<1:14:25,  2.24s/it]]"
     ]
    },
    {
     "name": "stdout",
     "output_type": "stream",
     "text": [
      "Adding attribute Headache\n",
      "Adding attribute Epigastric pain\n"
     ]
    },
    {
     "name": "stderr",
     "output_type": "stream",
     "text": [
      "  4%|▎         | 74/2000 [01:31<26:36,  1.21it/s]]]"
     ]
    },
    {
     "name": "stdout",
     "output_type": "stream",
     "text": [
      "Adding attribute Jaundice\n"
     ]
    },
    {
     "name": "stderr",
     "output_type": "stream",
     "text": [
      "  4%|▍         | 86/2000 [01:39<15:55,  2.00it/s] ]"
     ]
    },
    {
     "name": "stdout",
     "output_type": "stream",
     "text": [
      "Adding attribute RNA EOT\n",
      "Adding attribute Epigastric pain\n"
     ]
    },
    {
     "name": "stderr",
     "output_type": "stream",
     "text": [
      "  4%|▍         | 87/2000 [01:40<19:12,  1.66it/s]]"
     ]
    },
    {
     "name": "stdout",
     "output_type": "stream",
     "text": [
      "Adding attribute Diarrhea\n",
      "Adding attribute WBC\n"
     ]
    },
    {
     "name": "stderr",
     "output_type": "stream",
     "text": [
      "  0%|          | 9/2000 [00:30<58:47,  1.77s/it]  ]"
     ]
    },
    {
     "name": "stdout",
     "output_type": "stream",
     "text": [
      "Adding attribute Diarrhea\n"
     ]
    },
    {
     "name": "stderr",
     "output_type": "stream",
     "text": [
      "  4%|▍         | 83/2000 [01:43<24:37,  1.30it/s]t]"
     ]
    },
    {
     "name": "stdout",
     "output_type": "stream",
     "text": [
      "Adding attribute Headache\n"
     ]
    },
    {
     "name": "stderr",
     "output_type": "stream",
     "text": [
      "  4%|▍         | 88/2000 [01:46<18:42,  1.70it/s]t]"
     ]
    },
    {
     "name": "stdout",
     "output_type": "stream",
     "text": [
      "Adding attribute Diarrhea\n"
     ]
    },
    {
     "name": "stderr",
     "output_type": "stream",
     "text": [
      "  0%|          | 9/2000 [00:29<1:26:11,  2.60s/it]"
     ]
    },
    {
     "name": "stdout",
     "output_type": "stream",
     "text": [
      "Adding attribute Headache\n"
     ]
    },
    {
     "name": "stderr",
     "output_type": "stream",
     "text": [
      "  5%|▍         | 95/2000 [01:56<29:40,  1.07it/s]t]"
     ]
    },
    {
     "name": "stdout",
     "output_type": "stream",
     "text": [
      "Adding attribute b_class\n"
     ]
    },
    {
     "name": "stderr",
     "output_type": "stream",
     "text": [
      "  1%|          | 18/2000 [00:47<57:29,  1.74s/it]  "
     ]
    },
    {
     "name": "stdout",
     "output_type": "stream",
     "text": [
      "Adding attribute Nausea/Vomting\n"
     ]
    },
    {
     "name": "stderr",
     "output_type": "stream",
     "text": [
      "  1%|          | 19/2000 [00:47<49:50,  1.51s/it]t]"
     ]
    },
    {
     "name": "stdout",
     "output_type": "stream",
     "text": [
      "Adding attribute RNA EF\n"
     ]
    },
    {
     "name": "stderr",
     "output_type": "stream",
     "text": [
      "  5%|▌         | 101/2000 [01:59<20:47,  1.52it/s]]"
     ]
    },
    {
     "name": "stdout",
     "output_type": "stream",
     "text": [
      "Adding attribute b_class\n"
     ]
    },
    {
     "name": "stderr",
     "output_type": "stream",
     "text": [
      "  3%|▎         | 60/2000 [01:49<2:47:13,  5.17s/it]"
     ]
    },
    {
     "name": "stdout",
     "output_type": "stream",
     "text": [
      "Adding attribute Nausea/Vomting\n"
     ]
    },
    {
     "name": "stderr",
     "output_type": "stream",
     "text": [
      "  1%|          | 19/2000 [00:54<47:25,  1.44s/it]t]]"
     ]
    },
    {
     "name": "stdout",
     "output_type": "stream",
     "text": [
      "Adding attribute Nausea/Vomting\n",
      "Adding attribute Nausea/Vomting\n"
     ]
    },
    {
     "name": "stderr",
     "output_type": "stream",
     "text": [
      "  1%|          | 15/2000 [00:48<2:01:54,  3.68s/it]]"
     ]
    },
    {
     "name": "stdout",
     "output_type": "stream",
     "text": [
      "Adding attribute Jaundice\n"
     ]
    },
    {
     "name": "stderr",
     "output_type": "stream",
     "text": [
      "  1%|          | 18/2000 [00:53<1:16:32,  2.32s/it]]"
     ]
    },
    {
     "name": "stdout",
     "output_type": "stream",
     "text": [
      "Adding attribute Nausea/Vomting\n"
     ]
    },
    {
     "name": "stderr",
     "output_type": "stream",
     "text": [
      "  1%|▏         | 27/2000 [01:19<1:00:20,  1.83s/it]"
     ]
    },
    {
     "name": "stdout",
     "output_type": "stream",
     "text": [
      "Adding attribute Gender\n"
     ]
    },
    {
     "name": "stderr",
     "output_type": "stream",
     "text": [
      "  1%|▏         | 26/2000 [01:05<1:09:25,  2.11s/it]]"
     ]
    },
    {
     "name": "stdout",
     "output_type": "stream",
     "text": [
      "Adding attribute Nausea/Vomting\n"
     ]
    },
    {
     "name": "stderr",
     "output_type": "stream",
     "text": [
      "  1%|          | 22/2000 [00:58<50:16,  1.52s/it]it]"
     ]
    },
    {
     "name": "stdout",
     "output_type": "stream",
     "text": [
      "Adding attribute Nausea/Vomting\n"
     ]
    },
    {
     "name": "stderr",
     "output_type": "stream",
     "text": [
      "  1%|          | 18/2000 [01:00<1:59:19,  3.61s/it] "
     ]
    },
    {
     "name": "stdout",
     "output_type": "stream",
     "text": [
      "Adding attribute RNA 4\n"
     ]
    },
    {
     "name": "stderr",
     "output_type": "stream",
     "text": [
      "  5%|▌         | 109/2000 [02:18<22:30,  1.40it/s] "
     ]
    },
    {
     "name": "stdout",
     "output_type": "stream",
     "text": [
      "Adding attribute Diarrhea\n"
     ]
    },
    {
     "name": "stderr",
     "output_type": "stream",
     "text": [
      "  1%|          | 23/2000 [01:02<1:11:24,  2.17s/it]"
     ]
    },
    {
     "name": "stdout",
     "output_type": "stream",
     "text": [
      "Adding attribute b_class\n"
     ]
    },
    {
     "name": "stderr",
     "output_type": "stream",
     "text": [
      "  1%|          | 23/2000 [01:12<1:34:27,  2.87s/it]]"
     ]
    },
    {
     "name": "stdout",
     "output_type": "stream",
     "text": [
      "Adding attribute b_class\n"
     ]
    },
    {
     "name": "stderr",
     "output_type": "stream",
     "text": [
      "  2%|▏         | 32/2000 [01:20<1:26:47,  2.65s/it] "
     ]
    },
    {
     "name": "stdout",
     "output_type": "stream",
     "text": [
      "Adding attribute Gender\n"
     ]
    },
    {
     "name": "stderr",
     "output_type": "stream",
     "text": [
      "  6%|▋         | 128/2000 [02:31<23:44,  1.31it/s]]"
     ]
    },
    {
     "name": "stdout",
     "output_type": "stream",
     "text": [
      "Adding attribute Fatigue & generalized bone ache\n"
     ]
    },
    {
     "name": "stderr",
     "output_type": "stream",
     "text": [
      "  6%|▌         | 123/2000 [02:34<20:00,  1.56it/s]] "
     ]
    },
    {
     "name": "stdout",
     "output_type": "stream",
     "text": [
      "Adding attribute b_class\n"
     ]
    },
    {
     "name": "stderr",
     "output_type": "stream",
     "text": [
      "  7%|▋         | 131/2000 [02:39<55:06,  1.77s/it]  "
     ]
    },
    {
     "name": "stdout",
     "output_type": "stream",
     "text": [
      "Adding attribute Gender\n"
     ]
    },
    {
     "name": "stderr",
     "output_type": "stream",
     "text": [
      "  7%|▋         | 132/2000 [02:40<44:09,  1.42s/it]"
     ]
    },
    {
     "name": "stdout",
     "output_type": "stream",
     "text": [
      "Adding attribute Diarrhea\n"
     ]
    },
    {
     "name": "stderr",
     "output_type": "stream",
     "text": [
      "  7%|▋         | 135/2000 [02:41<23:49,  1.31it/s]]"
     ]
    },
    {
     "name": "stdout",
     "output_type": "stream",
     "text": [
      "Adding attribute Epigastric pain\n"
     ]
    },
    {
     "name": "stderr",
     "output_type": "stream",
     "text": [
      "  2%|▏         | 38/2000 [01:32<1:13:56,  2.26s/it]"
     ]
    },
    {
     "name": "stdout",
     "output_type": "stream",
     "text": [
      "Adding attribute Fatigue & generalized bone ache\n"
     ]
    },
    {
     "name": "stderr",
     "output_type": "stream",
     "text": [
      "  1%|▏         | 27/2000 [01:22<1:45:31,  3.21s/it]"
     ]
    },
    {
     "name": "stdout",
     "output_type": "stream",
     "text": [
      "Adding attribute Fever\n"
     ]
    },
    {
     "name": "stderr",
     "output_type": "stream",
     "text": [
      "  2%|▏         | 38/2000 [01:47<51:23,  1.57s/it]  "
     ]
    },
    {
     "name": "stdout",
     "output_type": "stream",
     "text": [
      "Adding attribute Gender\n"
     ]
    },
    {
     "name": "stderr",
     "output_type": "stream",
     "text": [
      "  6%|▋         | 127/2000 [02:41<1:01:01,  1.95s/it]"
     ]
    },
    {
     "name": "stdout",
     "output_type": "stream",
     "text": [
      "Adding attribute Headache\n"
     ]
    },
    {
     "name": "stderr",
     "output_type": "stream",
     "text": [
      "  2%|▏         | 39/2000 [01:37<1:36:38,  2.96s/it]"
     ]
    },
    {
     "name": "stdout",
     "output_type": "stream",
     "text": [
      "Adding attribute Diarrhea\n"
     ]
    },
    {
     "name": "stderr",
     "output_type": "stream",
     "text": [
      "  2%|▏         | 34/2000 [01:38<1:16:29,  2.33s/it]]"
     ]
    },
    {
     "name": "stdout",
     "output_type": "stream",
     "text": [
      "Adding attribute RBC\n"
     ]
    },
    {
     "name": "stderr",
     "output_type": "stream",
     "text": [
      "  2%|▏         | 46/2000 [01:47<45:09,  1.39s/it]]]]"
     ]
    },
    {
     "name": "stdout",
     "output_type": "stream",
     "text": [
      "Adding attribute RBC\n",
      "========================== BN constructed ==========================\n"
     ]
    },
    {
     "name": "stderr",
     "output_type": "stream",
     "text": [
      "  8%|▊         | 151/2000 [02:57<24:40,  1.25it/s]]"
     ]
    },
    {
     "name": "stdout",
     "output_type": "stream",
     "text": [
      "Adding attribute Fever\n"
     ]
    },
    {
     "name": "stderr",
     "output_type": "stream",
     "text": [
      "  2%|▏         | 40/2000 [01:38<45:30,  1.39s/it]t] "
     ]
    },
    {
     "name": "stdout",
     "output_type": "stream",
     "text": [
      "Adding attribute b_class\n"
     ]
    },
    {
     "name": "stderr",
     "output_type": "stream",
     "text": [
      "  2%|▏         | 32/2000 [01:39<1:18:07,  2.38s/it]"
     ]
    },
    {
     "name": "stdout",
     "output_type": "stream",
     "text": [
      "Adding attribute Fatigue & generalized bone ache\n"
     ]
    },
    {
     "name": "stderr",
     "output_type": "stream",
     "text": [
      "  7%|▋         | 142/2000 [02:57<24:27,  1.27it/s]]"
     ]
    },
    {
     "name": "stdout",
     "output_type": "stream",
     "text": [
      "Adding attribute Diarrhea\n",
      "Adding attribute Fatigue & generalized bone ache\n",
      "Adding attribute RNA Base\n",
      "========================== BN constructed ==========================\n"
     ]
    },
    {
     "name": "stderr",
     "output_type": "stream",
     "text": [
      "  2%|▏         | 48/2000 [02:05<29:05,  1.12it/s]]]"
     ]
    },
    {
     "name": "stdout",
     "output_type": "stream",
     "text": [
      "Adding attribute Fatigue & generalized bone ache\n"
     ]
    },
    {
     "name": "stderr",
     "output_type": "stream",
     "text": [
      "  2%|▎         | 50/2000 [01:56<1:08:24,  2.10s/it]"
     ]
    },
    {
     "name": "stdout",
     "output_type": "stream",
     "text": [
      "Adding attribute Nausea/Vomting\n"
     ]
    },
    {
     "name": "stderr",
     "output_type": "stream",
     "text": [
      "  2%|▏         | 46/2000 [01:49<50:10,  1.54s/it]  "
     ]
    },
    {
     "name": "stdout",
     "output_type": "stream",
     "text": [
      "Adding attribute RBC\n"
     ]
    },
    {
     "name": "stderr",
     "output_type": "stream",
     "text": [
      "  9%|▉         | 178/2000 [03:11<16:37,  1.83it/s] "
     ]
    },
    {
     "name": "stdout",
     "output_type": "stream",
     "text": [
      "Adding attribute Nausea/Vomting\n"
     ]
    },
    {
     "name": "stderr",
     "output_type": "stream",
     "text": [
      "  2%|▏         | 41/2000 [01:51<31:14,  1.05it/s]it]"
     ]
    },
    {
     "name": "stdout",
     "output_type": "stream",
     "text": [
      "Adding attribute Fatigue & generalized bone ache\n"
     ]
    },
    {
     "name": "stderr",
     "output_type": "stream",
     "text": [
      "  3%|▎         | 55/2000 [02:04<1:04:54,  2.00s/it]"
     ]
    },
    {
     "name": "stdout",
     "output_type": "stream",
     "text": [
      "Adding attribute Fever\n"
     ]
    },
    {
     "name": "stderr",
     "output_type": "stream",
     "text": [
      "  8%|▊         | 152/2000 [03:10<50:31,  1.64s/it]  "
     ]
    },
    {
     "name": "stdout",
     "output_type": "stream",
     "text": [
      "Adding attribute Fatigue & generalized bone ache\n"
     ]
    },
    {
     "name": "stderr",
     "output_type": "stream",
     "text": [
      "  4%|▍         | 84/2000 [03:06<1:45:15,  3.30s/it]"
     ]
    },
    {
     "name": "stdout",
     "output_type": "stream",
     "text": [
      "Adding attribute Fever\n",
      "Adding attribute Fever\n"
     ]
    },
    {
     "name": "stderr",
     "output_type": "stream",
     "text": [
      "  3%|▎         | 62/2000 [02:08<1:18:49,  2.44s/it]"
     ]
    },
    {
     "name": "stdout",
     "output_type": "stream",
     "text": [
      "Adding attribute RNA Base\n",
      "========================== BN constructed ==========================\n"
     ]
    },
    {
     "name": "stderr",
     "output_type": "stream",
     "text": [
      "  2%|▏         | 42/2000 [02:00<1:44:05,  3.19s/it]"
     ]
    },
    {
     "name": "stdout",
     "output_type": "stream",
     "text": [
      "Adding attribute b_class\n"
     ]
    },
    {
     "name": "stderr",
     "output_type": "stream",
     "text": [
      "  2%|▏         | 46/2000 [02:03<39:00,  1.20s/it]] "
     ]
    },
    {
     "name": "stdout",
     "output_type": "stream",
     "text": [
      "Adding attribute RNA Base\n",
      "========================== BN constructed ==========================\n"
     ]
    },
    {
     "name": "stderr",
     "output_type": "stream",
     "text": [
      "  3%|▎         | 67/2000 [02:15<20:05,  1.60it/s]]]"
     ]
    },
    {
     "name": "stdout",
     "output_type": "stream",
     "text": [
      "Adding attribute Fever\n",
      "Adding attribute RBC\n"
     ]
    },
    {
     "name": "stderr",
     "output_type": "stream",
     "text": [
      "  9%|▉         | 181/2000 [03:24<15:40,  1.93it/s]]"
     ]
    },
    {
     "name": "stdout",
     "output_type": "stream",
     "text": [
      "Adding attribute Fever\n"
     ]
    },
    {
     "name": "stderr",
     "output_type": "stream",
     "text": [
      "  3%|▎         | 55/2000 [02:16<36:09,  1.12s/it]]  "
     ]
    },
    {
     "name": "stdout",
     "output_type": "stream",
     "text": [
      "Adding attribute RBC\n"
     ]
    },
    {
     "name": "stderr",
     "output_type": "stream",
     "text": [
      "  3%|▎         | 56/2000 [02:08<1:12:19,  2.23s/it]"
     ]
    },
    {
     "name": "stdout",
     "output_type": "stream",
     "text": [
      "Adding attribute RBC\n"
     ]
    },
    {
     "name": "stderr",
     "output_type": "stream",
     "text": [
      "  3%|▎         | 57/2000 [02:10<1:09:16,  2.14s/it]"
     ]
    },
    {
     "name": "stdout",
     "output_type": "stream",
     "text": [
      "Adding attribute Diarrhea\n"
     ]
    },
    {
     "name": "stderr",
     "output_type": "stream",
     "text": [
      "  4%|▍         | 84/2000 [02:21<16:46,  1.90it/s]  "
     ]
    },
    {
     "name": "stdout",
     "output_type": "stream",
     "text": [
      "Adding attribute RNA Base\n",
      "========================== BN constructed ==========================\n"
     ]
    },
    {
     "name": "stderr",
     "output_type": "stream",
     "text": [
      " 11%|█         | 211/2000 [03:33<15:47,  1.89it/s]"
     ]
    },
    {
     "name": "stdout",
     "output_type": "stream",
     "text": [
      "Adding attribute RBC\n"
     ]
    },
    {
     "name": "stderr",
     "output_type": "stream",
     "text": [
      " 10%|▉         | 198/2000 [03:33<16:27,  1.82it/s] "
     ]
    },
    {
     "name": "stdout",
     "output_type": "stream",
     "text": [
      "Adding attribute RNA Base\n",
      "========================== BN constructed ==========================\n"
     ]
    },
    {
     "name": "stderr",
     "output_type": "stream",
     "text": [
      "  5%|▍         | 92/2000 [02:25<17:08,  1.85it/s]"
     ]
    },
    {
     "name": "stdout",
     "output_type": "stream",
     "text": [
      "Adding attribute RNA Base\n",
      "========================== BN constructed ==========================\n"
     ]
    },
    {
     "name": "stderr",
     "output_type": "stream",
     "text": [
      "  3%|▎         | 52/2000 [02:16<46:33,  1.43s/it]]"
     ]
    },
    {
     "name": "stdout",
     "output_type": "stream",
     "text": [
      "Adding attribute RBC\n"
     ]
    },
    {
     "name": "stderr",
     "output_type": "stream",
     "text": [
      "  3%|▎         | 66/2000 [02:42<30:33,  1.05it/s]t]"
     ]
    },
    {
     "name": "stdout",
     "output_type": "stream",
     "text": [
      "Adding attribute RBC\n"
     ]
    },
    {
     "name": "stderr",
     "output_type": "stream",
     "text": [
      "  3%|▎         | 68/2000 [02:43<23:12,  1.39it/s]] "
     ]
    },
    {
     "name": "stdout",
     "output_type": "stream",
     "text": [
      "Adding attribute RNA Base\n",
      "========================== BN constructed ==========================\n"
     ]
    },
    {
     "name": "stderr",
     "output_type": "stream",
     "text": [
      "  4%|▍         | 77/2000 [02:22<15:21,  2.09it/s]t]"
     ]
    },
    {
     "name": "stdout",
     "output_type": "stream",
     "text": [
      "Adding attribute RNA Base\n",
      "========================== BN constructed ==========================\n"
     ]
    },
    {
     "name": "stderr",
     "output_type": "stream",
     "text": [
      "  4%|▎         | 72/2000 [02:32<17:58,  1.79it/s]]  "
     ]
    },
    {
     "name": "stdout",
     "output_type": "stream",
     "text": [
      "Adding attribute RNA Base\n",
      "========================== BN constructed ==========================\n"
     ]
    },
    {
     "name": "stderr",
     "output_type": "stream",
     "text": [
      " 25%|██▍       | 499/2000 [06:58<20:59,  1.19it/s]  \n",
      " 19%|█▉        | 378/2000 [06:48<13:30,  2.00it/s]"
     ]
    },
    {
     "name": "stdout",
     "output_type": "stream",
     "text": [
      "Threshold auto-set to: 0.45\n"
     ]
    },
    {
     "name": "stderr",
     "output_type": "stream",
     "text": [
      " 20%|█▉        | 399/2000 [07:04<28:22,  1.06s/it]\n",
      " 18%|█▊        | 361/2000 [05:55<17:52,  1.53it/s]"
     ]
    },
    {
     "name": "stdout",
     "output_type": "stream",
     "text": [
      "Threshold auto-set to: 0.43\n"
     ]
    },
    {
     "name": "stderr",
     "output_type": "stream",
     "text": [
      " 20%|█▉        | 399/2000 [06:11<24:50,  1.07it/s]\n",
      " 19%|█▊        | 371/2000 [06:00<14:53,  1.82it/s]"
     ]
    },
    {
     "name": "stdout",
     "output_type": "stream",
     "text": [
      "Threshold auto-set to: 0.455\n"
     ]
    },
    {
     "name": "stderr",
     "output_type": "stream",
     "text": [
      " 25%|██▍       | 499/2000 [07:18<21:59,  1.14it/s]\n",
      " 19%|█▊        | 373/2000 [06:25<14:35,  1.86it/s]"
     ]
    },
    {
     "name": "stdout",
     "output_type": "stream",
     "text": [
      "Threshold auto-set to: 0.47\n"
     ]
    },
    {
     "name": "stderr",
     "output_type": "stream",
     "text": [
      " 20%|█▉        | 399/2000 [06:21<25:32,  1.04it/s]\n",
      " 18%|█▊        | 370/2000 [06:13<13:38,  1.99it/s]"
     ]
    },
    {
     "name": "stdout",
     "output_type": "stream",
     "text": [
      "Threshold auto-set to: 0.46\n"
     ]
    },
    {
     "name": "stderr",
     "output_type": "stream",
     "text": [
      " 20%|█▉        | 399/2000 [06:18<25:17,  1.06it/s]\n",
      " 22%|██▏       | 436/2000 [06:26<12:19,  2.12it/s]"
     ]
    },
    {
     "name": "stdout",
     "output_type": "stream",
     "text": [
      "Threshold auto-set to: 0.47\n"
     ]
    },
    {
     "name": "stderr",
     "output_type": "stream",
     "text": [
      " 27%|██▋       | 549/2000 [07:27<19:42,  1.23it/s]\n",
      " 25%|██▍       | 497/2000 [07:18<11:37,  2.15it/s]"
     ]
    },
    {
     "name": "stdout",
     "output_type": "stream",
     "text": [
      "Threshold auto-set to: 0.47\n"
     ]
    },
    {
     "name": "stderr",
     "output_type": "stream",
     "text": [
      " 27%|██▋       | 549/2000 [07:28<19:45,  1.22it/s]\n",
      " 27%|██▋       | 541/2000 [07:52<10:56,  2.22it/s]"
     ]
    },
    {
     "name": "stdout",
     "output_type": "stream",
     "text": [
      "Threshold auto-set to: 0.44\n"
     ]
    },
    {
     "name": "stderr",
     "output_type": "stream",
     "text": [
      " 27%|██▋       | 549/2000 [07:46<20:32,  1.18it/s]\n",
      " 29%|██▉       | 577/2000 [08:11<10:04,  2.35it/s]"
     ]
    },
    {
     "name": "stdout",
     "output_type": "stream",
     "text": [
      "Threshold auto-set to: 0.42\n"
     ]
    },
    {
     "name": "stderr",
     "output_type": "stream",
     "text": [
      " 30%|██▉       | 599/2000 [08:23<19:37,  1.19it/s]\n"
     ]
    },
    {
     "name": "stdout",
     "output_type": "stream",
     "text": [
      "Threshold auto-set to: 0.4\n"
     ]
    },
    {
     "name": "stderr",
     "output_type": "stream",
     "text": [
      "/tmp/ipykernel_1761055/1192720783.py:26: PerformanceWarning: dropping on a non-lexsorted multi-index without a level parameter may impact performance.\n",
      "  res = res.drop(columns=['rank', 'u_rank', 'p_rank', 'f_rank'])\n"
     ]
    }
   ],
   "source": [
    "df_dgms = mixed_model_experiment(df_train, df_test, 'datasynthesizer', 'dpgan', cat_atts, num_atts, label, metrics)\n",
    "df_dgms.to_csv('experiments/results/mixed_model_results/hepatitis_case_study_adapt/datasynthesizer_dpgan.csv')\n",
    "#~11 mins"
   ]
  },
  {
   "cell_type": "code",
   "execution_count": 4,
   "metadata": {},
   "outputs": [],
   "source": [
    "### Read all the results and present them in a joint dataframe\n",
    "\n",
    "res_dfs = {\n",
    "    'sp': pd.read_csv('experiments/results/mixed_model_results/hepatitis_case_study_adapt/synthpop.csv', index_col=0),\n",
    "    'ds': pd.read_csv('experiments/results/mixed_model_results/hepatitis_case_study_adapt/datasynthesizer.csv', index_col=0),\n",
    "    'ct': pd.read_csv('experiments/results/mixed_model_results/hepatitis_case_study_adapt/ctgan.csv', index_col=0),\n",
    "    'ad': pd.read_csv('experiments/results/mixed_model_results/hepatitis_case_study_adapt/adsgan.csv', index_col=0),\n",
    "    'dp': pd.read_csv('experiments/results/mixed_model_results/hepatitis_case_study_adapt/dpgan.csv', index_col=0),\n",
    "    'sp_ct': pd.read_csv('experiments/results/mixed_model_results/hepatitis_case_study_adapt/synthpop_ctgan.csv', index_col=0),\n",
    "    'sp_ad': pd.read_csv('experiments/results/mixed_model_results/hepatitis_case_study_adapt/synthpop_adsgan.csv', index_col=0),\n",
    "    'sp_dp': pd.read_csv('experiments/results/mixed_model_results/hepatitis_case_study_adapt/synthpop_dpgan.csv', index_col=0),\n",
    "    'ds_ct': pd.read_csv('experiments/results/mixed_model_results/hepatitis_case_study_adapt/datasynthesizer_ctgan.csv', index_col=0),\n",
    "    'ds_ad': pd.read_csv('experiments/results/mixed_model_results/hepatitis_case_study_adapt/datasynthesizer_adsgan.csv', index_col=0),\n",
    "    'ds_dp': pd.read_csv('experiments/results/mixed_model_results/hepatitis_case_study_adapt/datasynthesizer_dpgan.csv', index_col=0),\n",
    "}"
   ]
  },
  {
   "cell_type": "code",
   "execution_count": 5,
   "metadata": {},
   "outputs": [
    {
     "data": {
      "text/html": [
       "<div>\n",
       "<style scoped>\n",
       "    .dataframe tbody tr th:only-of-type {\n",
       "        vertical-align: middle;\n",
       "    }\n",
       "\n",
       "    .dataframe tbody tr th {\n",
       "        vertical-align: top;\n",
       "    }\n",
       "\n",
       "    .dataframe thead th {\n",
       "        text-align: right;\n",
       "    }\n",
       "</style>\n",
       "<table border=\"1\" class=\"dataframe\">\n",
       "  <thead>\n",
       "    <tr style=\"text-align: right;\">\n",
       "      <th></th>\n",
       "      <th></th>\n",
       "      <th>pca_eigval_diff</th>\n",
       "      <th>pca_eigvec_ang</th>\n",
       "      <th>avg_h_dist</th>\n",
       "      <th>corr_mat_diff</th>\n",
       "      <th>auroc</th>\n",
       "      <th>cls_F1_diff</th>\n",
       "      <th>cls_F1_diff_hout</th>\n",
       "      <th>eps_identif_risk</th>\n",
       "      <th>priv_loss_eps</th>\n",
       "      <th>median_DCR</th>\n",
       "      <th>mia_recall</th>\n",
       "      <th>mia_precision</th>\n",
       "    </tr>\n",
       "  </thead>\n",
       "  <tbody>\n",
       "    <tr>\n",
       "      <th rowspan=\"2\" valign=\"top\">sp</th>\n",
       "      <th>mean</th>\n",
       "      <td>0.019252</td>\n",
       "      <td>0.302412</td>\n",
       "      <td>0.006135</td>\n",
       "      <td>0.385228</td>\n",
       "      <td>0.030020</td>\n",
       "      <td>0.021546</td>\n",
       "      <td>0.014096</td>\n",
       "      <td>0.565611</td>\n",
       "      <td>0.364615</td>\n",
       "      <td>0.953044</td>\n",
       "      <td>0.507536</td>\n",
       "      <td>0.519813</td>\n",
       "    </tr>\n",
       "    <tr>\n",
       "      <th>sem</th>\n",
       "      <td>0.002000</td>\n",
       "      <td>0.024042</td>\n",
       "      <td>0.000351</td>\n",
       "      <td>0.009788</td>\n",
       "      <td>0.008167</td>\n",
       "      <td>0.001931</td>\n",
       "      <td>0.003346</td>\n",
       "      <td>0.003518</td>\n",
       "      <td>0.003654</td>\n",
       "      <td>0.002404</td>\n",
       "      <td>0.010464</td>\n",
       "      <td>0.007689</td>\n",
       "    </tr>\n",
       "    <tr>\n",
       "      <th rowspan=\"2\" valign=\"top\">ds</th>\n",
       "      <th>mean</th>\n",
       "      <td>0.013639</td>\n",
       "      <td>0.592059</td>\n",
       "      <td>0.009862</td>\n",
       "      <td>0.401531</td>\n",
       "      <td>0.030105</td>\n",
       "      <td>0.016785</td>\n",
       "      <td>0.010932</td>\n",
       "      <td>0.610679</td>\n",
       "      <td>0.405701</td>\n",
       "      <td>0.978224</td>\n",
       "      <td>0.507536</td>\n",
       "      <td>0.510354</td>\n",
       "    </tr>\n",
       "    <tr>\n",
       "      <th>sem</th>\n",
       "      <td>0.001394</td>\n",
       "      <td>0.081888</td>\n",
       "      <td>0.000479</td>\n",
       "      <td>0.006635</td>\n",
       "      <td>0.005860</td>\n",
       "      <td>0.001429</td>\n",
       "      <td>0.001742</td>\n",
       "      <td>0.007522</td>\n",
       "      <td>0.006844</td>\n",
       "      <td>0.001516</td>\n",
       "      <td>0.008472</td>\n",
       "      <td>0.004800</td>\n",
       "    </tr>\n",
       "    <tr>\n",
       "      <th rowspan=\"2\" valign=\"top\">ct</th>\n",
       "      <th>mean</th>\n",
       "      <td>0.021003</td>\n",
       "      <td>0.684742</td>\n",
       "      <td>0.012902</td>\n",
       "      <td>0.749031</td>\n",
       "      <td>0.021945</td>\n",
       "      <td>0.016291</td>\n",
       "      <td>0.020439</td>\n",
       "      <td>0.487421</td>\n",
       "      <td>0.285430</td>\n",
       "      <td>0.981027</td>\n",
       "      <td>0.326957</td>\n",
       "      <td>0.511681</td>\n",
       "    </tr>\n",
       "    <tr>\n",
       "      <th>sem</th>\n",
       "      <td>0.002019</td>\n",
       "      <td>0.080113</td>\n",
       "      <td>0.001027</td>\n",
       "      <td>0.017997</td>\n",
       "      <td>0.004339</td>\n",
       "      <td>0.002010</td>\n",
       "      <td>0.002215</td>\n",
       "      <td>0.005687</td>\n",
       "      <td>0.005301</td>\n",
       "      <td>0.002958</td>\n",
       "      <td>0.011216</td>\n",
       "      <td>0.009856</td>\n",
       "    </tr>\n",
       "    <tr>\n",
       "      <th rowspan=\"2\" valign=\"top\">ad</th>\n",
       "      <th>mean</th>\n",
       "      <td>0.023197</td>\n",
       "      <td>0.618843</td>\n",
       "      <td>0.012913</td>\n",
       "      <td>0.711759</td>\n",
       "      <td>0.032212</td>\n",
       "      <td>0.023743</td>\n",
       "      <td>0.021591</td>\n",
       "      <td>0.490045</td>\n",
       "      <td>0.289321</td>\n",
       "      <td>0.983680</td>\n",
       "      <td>0.346377</td>\n",
       "      <td>0.503636</td>\n",
       "    </tr>\n",
       "    <tr>\n",
       "      <th>sem</th>\n",
       "      <td>0.002175</td>\n",
       "      <td>0.047018</td>\n",
       "      <td>0.000606</td>\n",
       "      <td>0.026300</td>\n",
       "      <td>0.007911</td>\n",
       "      <td>0.002509</td>\n",
       "      <td>0.002474</td>\n",
       "      <td>0.002953</td>\n",
       "      <td>0.003440</td>\n",
       "      <td>0.002415</td>\n",
       "      <td>0.007487</td>\n",
       "      <td>0.007173</td>\n",
       "    </tr>\n",
       "    <tr>\n",
       "      <th rowspan=\"2\" valign=\"top\">dp</th>\n",
       "      <th>mean</th>\n",
       "      <td>0.293979</td>\n",
       "      <td>0.778371</td>\n",
       "      <td>0.282178</td>\n",
       "      <td>2.664352</td>\n",
       "      <td>0.018182</td>\n",
       "      <td>0.203000</td>\n",
       "      <td>0.218502</td>\n",
       "      <td>0.024796</td>\n",
       "      <td>0.006878</td>\n",
       "      <td>1.993198</td>\n",
       "      <td>0.001159</td>\n",
       "      <td>0.060000</td>\n",
       "    </tr>\n",
       "    <tr>\n",
       "      <th>sem</th>\n",
       "      <td>0.030328</td>\n",
       "      <td>0.071143</td>\n",
       "      <td>0.009695</td>\n",
       "      <td>0.020058</td>\n",
       "      <td>0.004409</td>\n",
       "      <td>0.012782</td>\n",
       "      <td>0.012599</td>\n",
       "      <td>0.007098</td>\n",
       "      <td>0.002617</td>\n",
       "      <td>0.028640</td>\n",
       "      <td>0.000886</td>\n",
       "      <td>0.042687</td>\n",
       "    </tr>\n",
       "    <tr>\n",
       "      <th rowspan=\"2\" valign=\"top\">sp_ct</th>\n",
       "      <th>mean</th>\n",
       "      <td>0.041156</td>\n",
       "      <td>0.617996</td>\n",
       "      <td>0.014475</td>\n",
       "      <td>0.630407</td>\n",
       "      <td>0.033440</td>\n",
       "      <td>0.019534</td>\n",
       "      <td>0.018105</td>\n",
       "      <td>0.454842</td>\n",
       "      <td>0.262715</td>\n",
       "      <td>0.952824</td>\n",
       "      <td>0.279420</td>\n",
       "      <td>0.505079</td>\n",
       "    </tr>\n",
       "    <tr>\n",
       "      <th>sem</th>\n",
       "      <td>0.002247</td>\n",
       "      <td>0.051512</td>\n",
       "      <td>0.000938</td>\n",
       "      <td>0.019687</td>\n",
       "      <td>0.008339</td>\n",
       "      <td>0.002156</td>\n",
       "      <td>0.002218</td>\n",
       "      <td>0.005093</td>\n",
       "      <td>0.004007</td>\n",
       "      <td>0.003176</td>\n",
       "      <td>0.007103</td>\n",
       "      <td>0.008808</td>\n",
       "    </tr>\n",
       "    <tr>\n",
       "      <th rowspan=\"2\" valign=\"top\">sp_ad</th>\n",
       "      <th>mean</th>\n",
       "      <td>0.039517</td>\n",
       "      <td>0.584647</td>\n",
       "      <td>0.013370</td>\n",
       "      <td>0.616504</td>\n",
       "      <td>0.012416</td>\n",
       "      <td>0.020790</td>\n",
       "      <td>0.024526</td>\n",
       "      <td>0.472127</td>\n",
       "      <td>0.277014</td>\n",
       "      <td>0.950683</td>\n",
       "      <td>0.338261</td>\n",
       "      <td>0.495421</td>\n",
       "    </tr>\n",
       "    <tr>\n",
       "      <th>sem</th>\n",
       "      <td>0.003411</td>\n",
       "      <td>0.045858</td>\n",
       "      <td>0.000788</td>\n",
       "      <td>0.018185</td>\n",
       "      <td>0.003371</td>\n",
       "      <td>0.000953</td>\n",
       "      <td>0.004084</td>\n",
       "      <td>0.005035</td>\n",
       "      <td>0.005426</td>\n",
       "      <td>0.002921</td>\n",
       "      <td>0.011260</td>\n",
       "      <td>0.013161</td>\n",
       "    </tr>\n",
       "    <tr>\n",
       "      <th rowspan=\"2\" valign=\"top\">sp_dp</th>\n",
       "      <th>mean</th>\n",
       "      <td>0.296602</td>\n",
       "      <td>0.826771</td>\n",
       "      <td>0.054575</td>\n",
       "      <td>1.378945</td>\n",
       "      <td>0.034391</td>\n",
       "      <td>0.030587</td>\n",
       "      <td>0.045761</td>\n",
       "      <td>0.031855</td>\n",
       "      <td>0.009593</td>\n",
       "      <td>0.980446</td>\n",
       "      <td>0.006377</td>\n",
       "      <td>0.274000</td>\n",
       "    </tr>\n",
       "    <tr>\n",
       "      <th>sem</th>\n",
       "      <td>0.024598</td>\n",
       "      <td>0.055339</td>\n",
       "      <td>0.001879</td>\n",
       "      <td>0.077149</td>\n",
       "      <td>0.007709</td>\n",
       "      <td>0.005337</td>\n",
       "      <td>0.009398</td>\n",
       "      <td>0.004828</td>\n",
       "      <td>0.002433</td>\n",
       "      <td>0.018554</td>\n",
       "      <td>0.001718</td>\n",
       "      <td>0.040239</td>\n",
       "    </tr>\n",
       "    <tr>\n",
       "      <th rowspan=\"2\" valign=\"top\">ds_ct</th>\n",
       "      <th>mean</th>\n",
       "      <td>0.039161</td>\n",
       "      <td>0.670823</td>\n",
       "      <td>0.012825</td>\n",
       "      <td>0.598665</td>\n",
       "      <td>0.031022</td>\n",
       "      <td>0.023426</td>\n",
       "      <td>0.020513</td>\n",
       "      <td>0.448869</td>\n",
       "      <td>0.260000</td>\n",
       "      <td>0.973517</td>\n",
       "      <td>0.262609</td>\n",
       "      <td>0.491967</td>\n",
       "    </tr>\n",
       "    <tr>\n",
       "      <th>sem</th>\n",
       "      <td>0.002245</td>\n",
       "      <td>0.049928</td>\n",
       "      <td>0.001198</td>\n",
       "      <td>0.012481</td>\n",
       "      <td>0.007082</td>\n",
       "      <td>0.002461</td>\n",
       "      <td>0.004130</td>\n",
       "      <td>0.012292</td>\n",
       "      <td>0.010893</td>\n",
       "      <td>0.002448</td>\n",
       "      <td>0.012892</td>\n",
       "      <td>0.008697</td>\n",
       "    </tr>\n",
       "    <tr>\n",
       "      <th rowspan=\"2\" valign=\"top\">ds_ad</th>\n",
       "      <th>mean</th>\n",
       "      <td>0.040224</td>\n",
       "      <td>0.659892</td>\n",
       "      <td>0.013285</td>\n",
       "      <td>0.599734</td>\n",
       "      <td>0.025740</td>\n",
       "      <td>0.019792</td>\n",
       "      <td>0.021821</td>\n",
       "      <td>0.464163</td>\n",
       "      <td>0.272398</td>\n",
       "      <td>0.977541</td>\n",
       "      <td>0.328696</td>\n",
       "      <td>0.517661</td>\n",
       "    </tr>\n",
       "    <tr>\n",
       "      <th>sem</th>\n",
       "      <td>0.002632</td>\n",
       "      <td>0.061018</td>\n",
       "      <td>0.000943</td>\n",
       "      <td>0.007808</td>\n",
       "      <td>0.005101</td>\n",
       "      <td>0.002223</td>\n",
       "      <td>0.002625</td>\n",
       "      <td>0.003890</td>\n",
       "      <td>0.003724</td>\n",
       "      <td>0.002696</td>\n",
       "      <td>0.012827</td>\n",
       "      <td>0.009993</td>\n",
       "    </tr>\n",
       "    <tr>\n",
       "      <th rowspan=\"2\" valign=\"top\">ds_dp</th>\n",
       "      <th>mean</th>\n",
       "      <td>0.279960</td>\n",
       "      <td>0.801992</td>\n",
       "      <td>0.053954</td>\n",
       "      <td>1.543279</td>\n",
       "      <td>0.019184</td>\n",
       "      <td>0.026126</td>\n",
       "      <td>0.040952</td>\n",
       "      <td>0.032217</td>\n",
       "      <td>0.010498</td>\n",
       "      <td>1.003361</td>\n",
       "      <td>0.003768</td>\n",
       "      <td>0.140000</td>\n",
       "    </tr>\n",
       "    <tr>\n",
       "      <th>sem</th>\n",
       "      <td>0.010220</td>\n",
       "      <td>0.081386</td>\n",
       "      <td>0.003716</td>\n",
       "      <td>0.117489</td>\n",
       "      <td>0.003032</td>\n",
       "      <td>0.004600</td>\n",
       "      <td>0.005502</td>\n",
       "      <td>0.008490</td>\n",
       "      <td>0.003505</td>\n",
       "      <td>0.028053</td>\n",
       "      <td>0.001620</td>\n",
       "      <td>0.059587</td>\n",
       "    </tr>\n",
       "  </tbody>\n",
       "</table>\n",
       "</div>"
      ],
      "text/plain": [
       "            pca_eigval_diff  pca_eigvec_ang  avg_h_dist  corr_mat_diff  \\\n",
       "sp    mean         0.019252        0.302412    0.006135       0.385228   \n",
       "      sem          0.002000        0.024042    0.000351       0.009788   \n",
       "ds    mean         0.013639        0.592059    0.009862       0.401531   \n",
       "      sem          0.001394        0.081888    0.000479       0.006635   \n",
       "ct    mean         0.021003        0.684742    0.012902       0.749031   \n",
       "      sem          0.002019        0.080113    0.001027       0.017997   \n",
       "ad    mean         0.023197        0.618843    0.012913       0.711759   \n",
       "      sem          0.002175        0.047018    0.000606       0.026300   \n",
       "dp    mean         0.293979        0.778371    0.282178       2.664352   \n",
       "      sem          0.030328        0.071143    0.009695       0.020058   \n",
       "sp_ct mean         0.041156        0.617996    0.014475       0.630407   \n",
       "      sem          0.002247        0.051512    0.000938       0.019687   \n",
       "sp_ad mean         0.039517        0.584647    0.013370       0.616504   \n",
       "      sem          0.003411        0.045858    0.000788       0.018185   \n",
       "sp_dp mean         0.296602        0.826771    0.054575       1.378945   \n",
       "      sem          0.024598        0.055339    0.001879       0.077149   \n",
       "ds_ct mean         0.039161        0.670823    0.012825       0.598665   \n",
       "      sem          0.002245        0.049928    0.001198       0.012481   \n",
       "ds_ad mean         0.040224        0.659892    0.013285       0.599734   \n",
       "      sem          0.002632        0.061018    0.000943       0.007808   \n",
       "ds_dp mean         0.279960        0.801992    0.053954       1.543279   \n",
       "      sem          0.010220        0.081386    0.003716       0.117489   \n",
       "\n",
       "               auroc  cls_F1_diff  cls_F1_diff_hout  eps_identif_risk  \\\n",
       "sp    mean  0.030020     0.021546          0.014096          0.565611   \n",
       "      sem   0.008167     0.001931          0.003346          0.003518   \n",
       "ds    mean  0.030105     0.016785          0.010932          0.610679   \n",
       "      sem   0.005860     0.001429          0.001742          0.007522   \n",
       "ct    mean  0.021945     0.016291          0.020439          0.487421   \n",
       "      sem   0.004339     0.002010          0.002215          0.005687   \n",
       "ad    mean  0.032212     0.023743          0.021591          0.490045   \n",
       "      sem   0.007911     0.002509          0.002474          0.002953   \n",
       "dp    mean  0.018182     0.203000          0.218502          0.024796   \n",
       "      sem   0.004409     0.012782          0.012599          0.007098   \n",
       "sp_ct mean  0.033440     0.019534          0.018105          0.454842   \n",
       "      sem   0.008339     0.002156          0.002218          0.005093   \n",
       "sp_ad mean  0.012416     0.020790          0.024526          0.472127   \n",
       "      sem   0.003371     0.000953          0.004084          0.005035   \n",
       "sp_dp mean  0.034391     0.030587          0.045761          0.031855   \n",
       "      sem   0.007709     0.005337          0.009398          0.004828   \n",
       "ds_ct mean  0.031022     0.023426          0.020513          0.448869   \n",
       "      sem   0.007082     0.002461          0.004130          0.012292   \n",
       "ds_ad mean  0.025740     0.019792          0.021821          0.464163   \n",
       "      sem   0.005101     0.002223          0.002625          0.003890   \n",
       "ds_dp mean  0.019184     0.026126          0.040952          0.032217   \n",
       "      sem   0.003032     0.004600          0.005502          0.008490   \n",
       "\n",
       "            priv_loss_eps  median_DCR  mia_recall  mia_precision  \n",
       "sp    mean       0.364615    0.953044    0.507536       0.519813  \n",
       "      sem        0.003654    0.002404    0.010464       0.007689  \n",
       "ds    mean       0.405701    0.978224    0.507536       0.510354  \n",
       "      sem        0.006844    0.001516    0.008472       0.004800  \n",
       "ct    mean       0.285430    0.981027    0.326957       0.511681  \n",
       "      sem        0.005301    0.002958    0.011216       0.009856  \n",
       "ad    mean       0.289321    0.983680    0.346377       0.503636  \n",
       "      sem        0.003440    0.002415    0.007487       0.007173  \n",
       "dp    mean       0.006878    1.993198    0.001159       0.060000  \n",
       "      sem        0.002617    0.028640    0.000886       0.042687  \n",
       "sp_ct mean       0.262715    0.952824    0.279420       0.505079  \n",
       "      sem        0.004007    0.003176    0.007103       0.008808  \n",
       "sp_ad mean       0.277014    0.950683    0.338261       0.495421  \n",
       "      sem        0.005426    0.002921    0.011260       0.013161  \n",
       "sp_dp mean       0.009593    0.980446    0.006377       0.274000  \n",
       "      sem        0.002433    0.018554    0.001718       0.040239  \n",
       "ds_ct mean       0.260000    0.973517    0.262609       0.491967  \n",
       "      sem        0.010893    0.002448    0.012892       0.008697  \n",
       "ds_ad mean       0.272398    0.977541    0.328696       0.517661  \n",
       "      sem        0.003724    0.002696    0.012827       0.009993  \n",
       "ds_dp mean       0.010498    1.003361    0.003768       0.140000  \n",
       "      sem        0.003505    0.028053    0.001620       0.059587  "
      ]
     },
     "execution_count": 5,
     "metadata": {},
     "output_type": "execute_result"
    }
   ],
   "source": [
    "### Create a joint dataframe with all the results\n",
    "\n",
    "df_results = pd.concat(res_dfs, axis=1)\n",
    "df_results.T"
   ]
  },
  {
   "cell_type": "markdown",
   "metadata": {},
   "source": [
    "## Results for other datasets\n",
    "We repeated the additional datasets using the DataSynthesizer-DPGAN DGM. The results are shown in the figure."
   ]
  },
  {
   "cell_type": "code",
   "execution_count": 1,
   "metadata": {},
   "outputs": [
    {
     "name": "stderr",
     "output_type": "stream",
     "text": [
      "/home/lautrup/repositories/disjoint-synthetic-data-generation/experiments/auxiliaries/plotting.py:64: FutureWarning: \n",
      "\n",
      "The `errwidth` parameter is deprecated. And will be removed in v0.15.0. Pass `err_kws={'linewidth': 1}` instead.\n",
      "\n",
      "  sns.pointplot(\n",
      "/home/lautrup/sdg_env/lib/python3.10/site-packages/seaborn/_base.py:948: FutureWarning: When grouping with a length-1 list-like, you will need to pass a length-1 tuple to get_group in a future version of pandas. Pass `(name,)` instead of `name` to silence this warning.\n",
      "  data_subset = grouped_data.get_group(pd_key)\n",
      "/home/lautrup/sdg_env/lib/python3.10/site-packages/seaborn/_base.py:948: FutureWarning: When grouping with a length-1 list-like, you will need to pass a length-1 tuple to get_group in a future version of pandas. Pass `(name,)` instead of `name` to silence this warning.\n",
      "  data_subset = grouped_data.get_group(pd_key)\n",
      "/home/lautrup/sdg_env/lib/python3.10/site-packages/seaborn/_base.py:948: FutureWarning: When grouping with a length-1 list-like, you will need to pass a length-1 tuple to get_group in a future version of pandas. Pass `(name,)` instead of `name` to silence this warning.\n",
      "  data_subset = grouped_data.get_group(pd_key)\n",
      "/home/lautrup/sdg_env/lib/python3.10/site-packages/seaborn/_base.py:948: FutureWarning: When grouping with a length-1 list-like, you will need to pass a length-1 tuple to get_group in a future version of pandas. Pass `(name,)` instead of `name` to silence this warning.\n",
      "  data_subset = grouped_data.get_group(pd_key)\n",
      "/home/lautrup/sdg_env/lib/python3.10/site-packages/seaborn/_base.py:948: FutureWarning: When grouping with a length-1 list-like, you will need to pass a length-1 tuple to get_group in a future version of pandas. Pass `(name,)` instead of `name` to silence this warning.\n",
      "  data_subset = grouped_data.get_group(pd_key)\n",
      "/home/lautrup/sdg_env/lib/python3.10/site-packages/seaborn/_base.py:948: FutureWarning: When grouping with a length-1 list-like, you will need to pass a length-1 tuple to get_group in a future version of pandas. Pass `(name,)` instead of `name` to silence this warning.\n",
      "  data_subset = grouped_data.get_group(pd_key)\n",
      "/home/lautrup/repositories/disjoint-synthetic-data-generation/experiments/auxiliaries/plotting.py:73: FutureWarning: \n",
      "\n",
      "The `errwidth` parameter is deprecated. And will be removed in v0.15.0. Pass `err_kws={'linewidth': 1}` instead.\n",
      "\n",
      "  sns.pointplot(\n",
      "/home/lautrup/sdg_env/lib/python3.10/site-packages/seaborn/_base.py:948: FutureWarning: When grouping with a length-1 list-like, you will need to pass a length-1 tuple to get_group in a future version of pandas. Pass `(name,)` instead of `name` to silence this warning.\n",
      "  data_subset = grouped_data.get_group(pd_key)\n",
      "/home/lautrup/sdg_env/lib/python3.10/site-packages/seaborn/_base.py:948: FutureWarning: When grouping with a length-1 list-like, you will need to pass a length-1 tuple to get_group in a future version of pandas. Pass `(name,)` instead of `name` to silence this warning.\n",
      "  data_subset = grouped_data.get_group(pd_key)\n",
      "/home/lautrup/sdg_env/lib/python3.10/site-packages/seaborn/_base.py:948: FutureWarning: When grouping with a length-1 list-like, you will need to pass a length-1 tuple to get_group in a future version of pandas. Pass `(name,)` instead of `name` to silence this warning.\n",
      "  data_subset = grouped_data.get_group(pd_key)\n",
      "/home/lautrup/sdg_env/lib/python3.10/site-packages/seaborn/_base.py:948: FutureWarning: When grouping with a length-1 list-like, you will need to pass a length-1 tuple to get_group in a future version of pandas. Pass `(name,)` instead of `name` to silence this warning.\n",
      "  data_subset = grouped_data.get_group(pd_key)\n",
      "/home/lautrup/sdg_env/lib/python3.10/site-packages/seaborn/_base.py:948: FutureWarning: When grouping with a length-1 list-like, you will need to pass a length-1 tuple to get_group in a future version of pandas. Pass `(name,)` instead of `name` to silence this warning.\n",
      "  data_subset = grouped_data.get_group(pd_key)\n",
      "/home/lautrup/sdg_env/lib/python3.10/site-packages/seaborn/_base.py:948: FutureWarning: When grouping with a length-1 list-like, you will need to pass a length-1 tuple to get_group in a future version of pandas. Pass `(name,)` instead of `name` to silence this warning.\n",
      "  data_subset = grouped_data.get_group(pd_key)\n",
      "/home/lautrup/repositories/disjoint-synthetic-data-generation/experiments/auxiliaries/plotting.py:78: FutureWarning: \n",
      "\n",
      "The `errwidth` parameter is deprecated. And will be removed in v0.15.0. Pass `err_kws={'linewidth': 1}` instead.\n",
      "\n",
      "  sns.pointplot(\n",
      "/home/lautrup/sdg_env/lib/python3.10/site-packages/seaborn/_base.py:948: FutureWarning: When grouping with a length-1 list-like, you will need to pass a length-1 tuple to get_group in a future version of pandas. Pass `(name,)` instead of `name` to silence this warning.\n",
      "  data_subset = grouped_data.get_group(pd_key)\n",
      "/home/lautrup/sdg_env/lib/python3.10/site-packages/seaborn/_base.py:948: FutureWarning: When grouping with a length-1 list-like, you will need to pass a length-1 tuple to get_group in a future version of pandas. Pass `(name,)` instead of `name` to silence this warning.\n",
      "  data_subset = grouped_data.get_group(pd_key)\n",
      "/home/lautrup/sdg_env/lib/python3.10/site-packages/seaborn/_base.py:948: FutureWarning: When grouping with a length-1 list-like, you will need to pass a length-1 tuple to get_group in a future version of pandas. Pass `(name,)` instead of `name` to silence this warning.\n",
      "  data_subset = grouped_data.get_group(pd_key)\n",
      "/home/lautrup/sdg_env/lib/python3.10/site-packages/seaborn/_base.py:948: FutureWarning: When grouping with a length-1 list-like, you will need to pass a length-1 tuple to get_group in a future version of pandas. Pass `(name,)` instead of `name` to silence this warning.\n",
      "  data_subset = grouped_data.get_group(pd_key)\n",
      "/home/lautrup/sdg_env/lib/python3.10/site-packages/seaborn/_base.py:948: FutureWarning: When grouping with a length-1 list-like, you will need to pass a length-1 tuple to get_group in a future version of pandas. Pass `(name,)` instead of `name` to silence this warning.\n",
      "  data_subset = grouped_data.get_group(pd_key)\n",
      "/home/lautrup/sdg_env/lib/python3.10/site-packages/seaborn/_base.py:948: FutureWarning: When grouping with a length-1 list-like, you will need to pass a length-1 tuple to get_group in a future version of pandas. Pass `(name,)` instead of `name` to silence this warning.\n",
      "  data_subset = grouped_data.get_group(pd_key)\n"
     ]
    },
    {
     "data": {
      "image/png": "[encoded data removed]",
      "text/plain": [
       "<Figure size 1200x400 with 1 Axes>"
      ]
     },
     "metadata": {},
     "output_type": "display_data"
    }
   ],
   "source": [
    "from experiments.auxiliaries.plotting import make_relative_derviation_histogram\n",
    "\n",
    "datasets = ['al', 'bc', 'cc', 'hd', 'kd', 'st']\n",
    "make_relative_derviation_histogram(datasets, models=['datasynthesizer', 'dpgan'])"
   ]
  },
  {
   "cell_type": "markdown",
   "metadata": {},
   "source": [
    "## Comparison of results with strict and adapive validators\n",
    "\n",
    "Quickly calculate the percentage difference in results and measure z-scores"
   ]
  },
  {
   "cell_type": "code",
   "execution_count": 20,
   "metadata": {},
   "outputs": [
    {
     "name": "stdout",
     "output_type": "stream",
     "text": [
      "datasynthesizer_ctgan\n",
      "                     adapt    strict     diff %   z_score   p_value\n",
      "avg_h_dist        0.012825  0.016411  27.964807  2.520255  0.011727\n",
      "corr_mat_diff     0.598665  0.685781  14.551717  3.891990  0.000099\n",
      "auroc             0.031022  0.019819 -36.113688 -1.275894  0.201993\n",
      "cls_F1_diff       0.023426  0.027228  16.229446  0.899271  0.368509\n",
      "cls_F1_diff_hout  0.020513  0.030941  50.836434  1.907478  0.056459\n",
      "eps_identif_risk  0.448869  0.429231  -4.375000 -1.449314  0.147250\n",
      "priv_loss_eps     0.260000  0.249502  -4.037591 -0.885688  0.375786\n",
      "median_DCR        0.973517  0.977280   0.386557  0.869725  0.384451\n",
      "mia_recall        0.262609  0.264348   0.662252  0.109423  0.912867\n",
      "mia_precision     0.491967  0.514394   4.558636  1.862199  0.062575\n",
      "datasynthesizer_adsgan\n",
      "                     adapt    strict     diff %   z_score       p_value\n",
      "avg_h_dist        0.013285  0.019571  47.313848  4.566601  4.956956e-06\n",
      "corr_mat_diff     0.599734  0.701595  16.984379  6.796172  1.074363e-11\n",
      "auroc             0.025740  0.029317  13.898220  0.458128  6.468603e-01\n",
      "cls_F1_diff       0.019792  0.024182  22.178557  0.964009  3.350413e-01\n",
      "cls_F1_diff_hout  0.021821  0.017836 -18.261795 -0.856429  3.917607e-01\n",
      "eps_identif_risk  0.464163  0.442262  -4.718269 -3.928631  8.543072e-05\n",
      "priv_loss_eps     0.272398  0.251222  -7.774086 -3.655259  2.569229e-04\n",
      "median_DCR        0.977541  0.971853  -0.581900 -1.000454  3.170907e-01\n",
      "mia_recall        0.328696  0.302609  -7.936508 -1.318596  1.873043e-01\n",
      "mia_precision     0.517661  0.498579  -3.686189 -1.376054  1.688050e-01\n",
      "datasynthesizer_dpgan\n",
      "                     adapt    strict      diff %   z_score   p_value\n",
      "avg_h_dist        0.053954  0.069660   29.111401  3.426336  0.000612\n",
      "corr_mat_diff     1.543279  1.320259  -14.451029 -1.503954  0.132593\n",
      "auroc             0.019184  0.039425  105.513501  2.670795  0.007567\n",
      "cls_F1_diff       0.026126  0.023549   -9.861556 -0.415221  0.677980\n",
      "cls_F1_diff_hout  0.040952  0.048643   18.782148  0.759282  0.447684\n",
      "eps_identif_risk  0.032217  0.029774   -7.584270 -0.212898  0.831407\n",
      "priv_loss_eps     0.010498  0.010407   -0.862069 -0.018820  0.984984\n",
      "median_DCR        1.003361  0.962430   -4.079371 -1.034432  0.300934\n",
      "mia_recall        0.003768  0.006087   61.538462  0.941357  0.346522\n",
      "mia_precision     0.140000  0.316667  126.190476  1.876310  0.060613\n",
      "synthpop_ctgan\n",
      "                     adapt    strict     diff %   z_score   p_value\n",
      "avg_h_dist        0.014475  0.018780  29.740930  2.967164  0.003006\n",
      "corr_mat_diff     0.630407  0.684128   8.521668  1.749951  0.080127\n",
      "auroc             0.033440  0.023927 -28.448166 -0.897908  0.369234\n",
      "cls_F1_diff       0.019534  0.028580  46.309593  2.054171  0.039959\n",
      "cls_F1_diff_hout  0.018105  0.028451  57.144038  3.099976  0.001935\n",
      "eps_identif_risk  0.454842  0.447149  -1.691206 -0.701511  0.482984\n",
      "priv_loss_eps     0.262715  0.263620   0.344471  0.112067  0.910770\n",
      "median_DCR        0.952824  0.949890  -0.307906 -0.506560  0.612463\n",
      "mia_recall        0.279420  0.273913  -1.970954 -0.474852  0.634893\n",
      "mia_precision     0.505079  0.507032   0.386672  0.144891  0.884797\n",
      "synthpop_adsgan\n",
      "                     adapt    strict      diff %   z_score   p_value\n",
      "avg_h_dist        0.013370  0.021328   59.526680  4.239257  0.000022\n",
      "corr_mat_diff     0.616504  0.728429   18.154819  4.388834  0.000011\n",
      "auroc             0.012416  0.025868  108.345600  1.917098  0.055225\n",
      "cls_F1_diff       0.020790  0.031078   49.481259  2.876647  0.004019\n",
      "cls_F1_diff_hout  0.024526  0.021781  -11.191593 -0.538301  0.590370\n",
      "eps_identif_risk  0.472127  0.457557   -3.086065 -1.870394  0.061429\n",
      "priv_loss_eps     0.277014  0.268507   -3.070892 -1.074412  0.282638\n",
      "median_DCR        0.950683  0.946229   -0.468526 -0.607533  0.543497\n",
      "mia_recall        0.338261  0.315942   -6.598115 -1.331440  0.183044\n",
      "mia_precision     0.495421  0.517389    4.434180  1.273318  0.202905\n",
      "synthpop_dpgan\n",
      "                     adapt    strict     diff %   z_score   p_value\n",
      "avg_h_dist        0.054575  0.068620  25.733703  3.294991  0.000984\n",
      "corr_mat_diff     1.378945  1.738413  26.068408  2.930352  0.003386\n",
      "auroc             0.034391  0.032768  -4.720257 -0.150309  0.880521\n",
      "cls_F1_diff       0.030587  0.032599   6.578482  0.269341  0.787667\n",
      "cls_F1_diff_hout  0.045761  0.047611   4.042010  0.142772  0.886470\n",
      "eps_identif_risk  0.031855  0.032941   3.409091  0.132500  0.894589\n",
      "priv_loss_eps     0.009593  0.013032  35.849057  0.965270  0.334410\n",
      "median_DCR        0.980446  0.939301  -4.196637 -1.576924  0.114813\n",
      "mia_recall        0.006377  0.009275  45.454545  1.040063  0.298311\n",
      "mia_precision     0.274000  0.428333  56.326034  1.583755  0.113250\n"
     ]
    }
   ],
   "source": [
    "import numpy as np\n",
    "\n",
    "from scipy.stats import norm\n",
    "\n",
    "models_to_check = ['datasynthesizer_ctgan', 'datasynthesizer_adsgan', 'datasynthesizer_dpgan', 'synthpop_ctgan', 'synthpop_adsgan', 'synthpop_dpgan']\n",
    "\n",
    "for model in models_to_check:\n",
    "    print(model)\n",
    "    \n",
    "    res_adapt = pd.read_csv(f'experiments/results/mixed_model_results/hepatitis_case_study_adapt/{model}.csv', index_col=0)\n",
    "    res_strict = pd.read_csv(f'experiments/results/mixed_model_results/hepatitis_case_study_strict/{model}.csv', index_col=0)\n",
    "\n",
    "    # drop the pca rows \n",
    "    res_adapt = res_adapt.drop(index=['pca_eigval_diff'])\n",
    "    res_adapt = res_adapt.drop(index=['pca_eigvec_ang'])\n",
    "\n",
    "    # calculate percentage difference\n",
    "    res_diff = (res_strict['mean'] -res_adapt['mean']) / res_adapt['mean'] * 100\n",
    "\n",
    "    # calculate the z-score for the difference\n",
    "    z_score = (res_strict['mean'] - res_adapt['mean']) / np.sqrt(res_adapt['sem']**2+res_strict['sem']**2)\n",
    "\n",
    "    # get p-values\n",
    "    p_values = 2 * (1 - norm.cdf(np.abs(z_score)))\n",
    "    p_values = pd.Series(p_values, index=res_adapt.index)\n",
    "\n",
    "    res = pd.concat([res_adapt['mean'], res_strict['mean'], res_diff, z_score, p_values], axis=1, keys=['adapt', 'strict', 'diff %', 'z_score', 'p_value'])\n",
    "    print(res)\n",
    "    "
   ]
  }
 ],
 "metadata": {
  "kernelspec": {
   "display_name": "sdg_env",
   "language": "python",
   "name": "python3"
  },
  "language_info": {
   "codemirror_mode": {
    "name": "ipython",
    "version": 3
   },
   "file_extension": ".py",
   "mimetype": "text/x-python",
   "name": "python",
   "nbconvert_exporter": "python",
   "pygments_lexer": "ipython3",
   "version": "3.10.12"
  }
 },
 "nbformat": 4,
 "nbformat_minor": 2
}
